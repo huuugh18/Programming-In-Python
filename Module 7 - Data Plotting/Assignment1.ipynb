{
 "metadata": {
  "language_info": {
   "codemirror_mode": {
    "name": "ipython",
    "version": 3
   },
   "file_extension": ".py",
   "mimetype": "text/x-python",
   "name": "python",
   "nbconvert_exporter": "python",
   "pygments_lexer": "ipython3",
   "version": "3.9.1"
  },
  "orig_nbformat": 2,
  "kernelspec": {
   "name": "python391jvsc74a57bd0ac59ebe37160ed0dfa835113d9b8498d9f09ceb179beaac4002f036b9467c963",
   "display_name": "Python 3.9.1 64-bit"
  },
  "metadata": {
   "interpreter": {
    "hash": "ac59ebe37160ed0dfa835113d9b8498d9f09ceb179beaac4002f036b9467c963"
   }
  }
 },
 "nbformat": 4,
 "nbformat_minor": 2,
 "cells": [
  {
   "cell_type": "code",
   "execution_count": 1,
   "metadata": {},
   "outputs": [],
   "source": [
    "# You will need to install the `matplotlib` python package\\n\", \n",
    "import matplotlib.pyplot as plt\n",
    "from matplotlib import rc\n",
    "import pandas as pd\n",
    "from mpl_toolkits.mplot3d import Axes3D\n",
    "%matplotlib inline\n",
    "plt.style.use('ggplot')\n",
    "# This defines an aesthetic style"
   ]
  },
  {
   "cell_type": "code",
   "execution_count": null,
   "metadata": {},
   "outputs": [],
   "source": [
    "This is a common dataset about Iris flowers\n",
    "df = pd.read_csv('./IRIS.csv', header=0, index_col=None)\n",
    "odf = df.copy()\n",
    "df\n",
    "\n"
   ]
  },
  {
   "source": [
    "Add a column to the dataframe about that is an integer-represented version of the `species` column. For example where species == 'setosa', the new column should be 0, and where species == 'virginica' the new colum should would be 1\n",
    "\n",
    "Create a scatter plot with Sepal Length, Sepal Width on the spatial dimensions and colored points for the species\n",
    "\n",
    "You may want to create a integer-type column for species\n",
    "If you use the integer species column (which has values 0 - 2) you can index this array of color names:   \n",
    "`mycolors = ['red','blue','green']`"
   ],
   "cell_type": "markdown",
   "metadata": {}
  },
  {
   "cell_type": "code",
   "execution_count": null,
   "metadata": {},
   "outputs": [],
   "source": []
  },
  {
   "source": [
    "But there are a lot more than two dimensions (+ species) in the data\n",
    "\n",
    "Let's try a 3D plot with matplotlib\n",
    "\n",
    "See [https://matplotlib.org/mpl_toolkits/mplot3d/tutorial.html](https://matplotlib.org/mpl_toolkits/mplot3d/tutorial.html)\n",
    "\n",
    "Create a 3D scatter plot of the sepal width , sepal length and petal length\n",
    "You can pass a color vector like you (hopefully) did with 2D scatter()\n",
    "\n",
    "You also may want to render the same plot from different angles."
   ],
   "cell_type": "markdown",
   "metadata": {}
  },
  {
   "cell_type": "code",
   "execution_count": 4,
   "metadata": {},
   "outputs": [],
   "source": [
    "import seaborn as sns"
   ]
  },
  {
   "source": [
    " Use the Seaborn package (https://seaborn.pydata.org/) \n",
    " to visualize joint distributions between sepal and petal properties\n",
    "\n",
    " Specifically, use the `jointplot()` function to visualize petal properties  \n",
    " Note that this function may take a few seconds to run.\n",
    "\n",
    " Question: adding the argument `kind='reg'` adds information to the plot looking at the documentation, what is this information?\n",
    " \n"
   ],
   "cell_type": "markdown",
   "metadata": {}
  },
  {
   "source": [
    "Use seaborn's `pairplot()` function to plot All The Dimensions at once  \n",
    "You may want to use the original dataframe (without the integer species column) without the added columns\n",
    "\n",
    "Try adding `kind='reg',diag_kind='kde'` to pairplot()\n",
    "\n",
    "Which representation do you like better? why?"
   ],
   "cell_type": "markdown",
   "metadata": {}
  }
 ]
}