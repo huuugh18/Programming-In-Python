{
 "metadata": {
  "language_info": {
   "codemirror_mode": {
    "name": "ipython",
    "version": 3
   },
   "file_extension": ".py",
   "mimetype": "text/x-python",
   "name": "python",
   "nbconvert_exporter": "python",
   "pygments_lexer": "ipython3",
   "version": 3
  },
  "orig_nbformat": 2
 },
 "nbformat": 4,
 "nbformat_minor": 2,
 "cells": [
  {
   "source": [
    "# 6.4 - Preprocessing\n",
    "\n",
    "Raw (unprocessed) vs. Pristine (processed) Data\n",
    "\n",
    "## Data Provenance\n",
    "- concept of knowing where something has been\n",
    "- should know what data looked like at all stages of the analysis\n",
    "    - copy of raw data\n",
    "    - log of transformations\n",
    "    - copy of cleaned (pristine) data\n",
    "\n",
    "## Sharing Pristine Data\n",
    "- data in the format algorithms can read\n",
    "- Tabular Format:\n",
    "    - variables in columns\n",
    "    - observations / instances in rows\n",
    "- Include header with variable names\n",
    "    - Keep them intuitive and descriptive, don't shorthand\n",
    "- Keep different kinds of observations in different tables / files\n",
    "- **Instructions**:\n",
    "    - Whata data is in general\n",
    "    - Meaning of each variable\n",
    "    - How it is coded: (eg. 1 pass, 2 fail)\n",
    "    - Who to contact with questions\n",
    "    - Licensing / sharing info\n",
    "    - **Format Schema**:\n",
    "        - XML: XSD or DTD\n",
    "        - JSON: JSON schema or Hyper-Schema\n",
    "        - Relational Database (SQL): E/R Diagram\n",
    "\n",
    "## File Formats\n",
    "### CSV\n",
    "### XML\n",
    "- human readable\n",
    "- shares info across networks\n",
    "    - Markup\n",
    "    - Content\n",
    "- More flexible than CSVs\n",
    "### JSON\n",
    "- lightweight and human readable\n",
    "- less ambiguous than XML\n",
    "- common in apis\n",
    "- generally more popular now than XML\n",
    "### HDF5\n",
    "- designed for large datasets and variety of data types\n",
    "\n",
    "# Standardisation  (Centering, z-scores)\n",
    "- type of regularisation\n",
    "- rescales data so mean = 0 and variance = 1\n",
    "- values now z-scores\n",
    "- makes comparing variables with diffferent units / scales\n",
    "- units are standard deviations\n",
    "\n"
   ],
   "cell_type": "markdown",
   "metadata": {}
  },
  {
   "cell_type": "code",
   "execution_count": null,
   "metadata": {},
   "outputs": [],
   "source": []
  }
 ]
}