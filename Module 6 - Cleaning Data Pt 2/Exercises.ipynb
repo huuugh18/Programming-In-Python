{
 "cells": [
  {
   "cell_type": "markdown",
   "metadata": {},
   "source": [
    "## Part 1: Restructuring Data\n",
    "\n",
    "In the first part of this programming exercise, your goal is to recover the original format of the Pima Indian Diabetes dataset. Here, you are given the same data, but in a much less manageable form. You should use the Numpy, Scipy and / or Pandas packages to implement a modular (ie. function-based) pipeline for restructuring the data. The final result should be identical to the downloadble data.\n",
    "\n",
    "You may have to look back at the data in pima-indians-diabetes.csv to figure out the format of the messy version here.\n",
    "\n",
    "Avoid using outside tools like a text editor or a spreadsheet program. Instead, all your transformations should be done programmatically in a way that can be tested in Part 2."
   ]
  },
  {
   "cell_type": "code",
   "execution_count": 219,
   "metadata": {},
   "outputs": [],
   "source": [
    "import pandas as pd\n",
    "import numpy as np"
   ]
  },
  {
   "cell_type": "code",
   "execution_count": 220,
   "metadata": {},
   "outputs": [
    {
     "output_type": "execute_result",
     "data": {
      "text/plain": [
       "   times_pregnant  plasma_glucose_concentration  diastolic_blood_pressure  \\\n",
       "0               6                           148                        72   \n",
       "1               1                            85                        66   \n",
       "2               8                           183                        64   \n",
       "3               1                            89                        66   \n",
       "4               0                           137                        40   \n",
       "\n",
       "   triceps_thickness  2-hour_serum_insulin   BMI  diabetes_pedigreen  age  \\\n",
       "0                 35                     0  33.6               0.627   50   \n",
       "1                 29                     0  26.6               0.351   31   \n",
       "2                  0                     0  23.3               0.672   32   \n",
       "3                 23                    94  28.1               0.167   21   \n",
       "4                 35                   168  43.1               2.288   33   \n",
       "\n",
       "   diabetes  \n",
       "0         1  \n",
       "1         0  \n",
       "2         1  \n",
       "3         0  \n",
       "4         1  "
      ],
      "text/html": "<div>\n<style scoped>\n    .dataframe tbody tr th:only-of-type {\n        vertical-align: middle;\n    }\n\n    .dataframe tbody tr th {\n        vertical-align: top;\n    }\n\n    .dataframe thead th {\n        text-align: right;\n    }\n</style>\n<table border=\"1\" class=\"dataframe\">\n  <thead>\n    <tr style=\"text-align: right;\">\n      <th></th>\n      <th>times_pregnant</th>\n      <th>plasma_glucose_concentration</th>\n      <th>diastolic_blood_pressure</th>\n      <th>triceps_thickness</th>\n      <th>2-hour_serum_insulin</th>\n      <th>BMI</th>\n      <th>diabetes_pedigreen</th>\n      <th>age</th>\n      <th>diabetes</th>\n    </tr>\n  </thead>\n  <tbody>\n    <tr>\n      <th>0</th>\n      <td>6</td>\n      <td>148</td>\n      <td>72</td>\n      <td>35</td>\n      <td>0</td>\n      <td>33.6</td>\n      <td>0.627</td>\n      <td>50</td>\n      <td>1</td>\n    </tr>\n    <tr>\n      <th>1</th>\n      <td>1</td>\n      <td>85</td>\n      <td>66</td>\n      <td>29</td>\n      <td>0</td>\n      <td>26.6</td>\n      <td>0.351</td>\n      <td>31</td>\n      <td>0</td>\n    </tr>\n    <tr>\n      <th>2</th>\n      <td>8</td>\n      <td>183</td>\n      <td>64</td>\n      <td>0</td>\n      <td>0</td>\n      <td>23.3</td>\n      <td>0.672</td>\n      <td>32</td>\n      <td>1</td>\n    </tr>\n    <tr>\n      <th>3</th>\n      <td>1</td>\n      <td>89</td>\n      <td>66</td>\n      <td>23</td>\n      <td>94</td>\n      <td>28.1</td>\n      <td>0.167</td>\n      <td>21</td>\n      <td>0</td>\n    </tr>\n    <tr>\n      <th>4</th>\n      <td>0</td>\n      <td>137</td>\n      <td>40</td>\n      <td>35</td>\n      <td>168</td>\n      <td>43.1</td>\n      <td>2.288</td>\n      <td>33</td>\n      <td>1</td>\n    </tr>\n  </tbody>\n</table>\n</div>"
     },
     "metadata": {},
     "execution_count": 220
    }
   ],
   "source": [
    "\n",
    "# You should read in this data and restructure it to make it identical to the\n",
    "# pima-indians-diabetes.csv introduced in the previous topic.\n",
    "original_data = pd.read_csv('./data/pima-indians-diabetes.csv', header=0, index_col=None)\n",
    "messy_data = \"./data/messy-pima-indians-diabetes.csv\"\n",
    "\n",
    "original_data.head()\n"
   ]
  },
  {
   "source": [
    "**Split data into diabetic and non-diabetic**\n",
    "Non-Diabetic = own set of data up to where it says Diabetic \n",
    "    - 0 for non-diabetic\n",
    "    - 1 for diabetic\n",
    "\n",
    "all values are the label followed by the value with no Split\n",
    "need to use regex for first non alpha character to get float\n",
    "each row is also bookend by times_pregnent  \n",
    "\n",
    "1. times_pregnant6.0000  \n",
    "2. plasma_glucose_concentration148.0000  \n",
    "3. diastolic_blood_pressure72.0000  \n",
    "4. triceps_thickness35.0000  \n",
    "4. 2_hour_serum_insulin0.0000  \n",
    "4. BMI33.6000  \n",
    "4. diabetes_pedigreen0.6270  \n",
    "4. age50.0000  \n",
    "4. diabetes1.0000  **here diabetes 1 means non-diabetic**\n",
    "10. times_pregnant6.0000  \n",
    "\n",
    "** Issue: there are 10 values per dataset but there is 2 left over at end so likely that missing 8 values somewhere in the dataset**  \n",
    "Otherwise would have a multiple of 10\n",
    "\n",
    "**Procedure: **  \n",
    "1. Remove 'Non-diabetic' and 'Diabetic' headers in data  \n",
    "2. Remove 'Particpants' datapoints\n",
    "2. Split remaining column into chunks of 10 - list of lists containing each data entry  \n",
    "    - This doesn't work because assumes a complete dataset\n",
    "    - Need to split it into array with start and end being times_pregnant\n",
    "    - OR do this procedure still then search for value that doesn't match in the df column\n",
    "3. Convert this into a dataframe  \n",
    "4. Remove duplicate times_pregnant column  \n",
    "5. reverse diabetic column 0 -> 1 and 1 -> 0   \n"
   ],
   "cell_type": "markdown",
   "metadata": {}
  },
  {
   "cell_type": "code",
   "execution_count": 221,
   "metadata": {},
   "outputs": [
    {
     "output_type": "execute_result",
     "data": {
      "text/plain": [
       "                                         0\n",
       "0                             Non-diabetic\n",
       "1                     times_pregnant6.0000\n",
       "2     plasma_glucose_concentration148.0000\n",
       "3          diastolic_blood_pressure72.0000\n",
       "4                 triceps_thickness35.0000\n",
       "...                                    ...\n",
       "7829                            BMI30.4000\n",
       "7830              diabetes_pedigreen0.3150\n",
       "7831                            age23.0000\n",
       "7832                        diabetes0.0000\n",
       "7833                  times_pregnant1.0000\n",
       "\n",
       "[7834 rows x 1 columns]"
      ],
      "text/html": "<div>\n<style scoped>\n    .dataframe tbody tr th:only-of-type {\n        vertical-align: middle;\n    }\n\n    .dataframe tbody tr th {\n        vertical-align: top;\n    }\n\n    .dataframe thead th {\n        text-align: right;\n    }\n</style>\n<table border=\"1\" class=\"dataframe\">\n  <thead>\n    <tr style=\"text-align: right;\">\n      <th></th>\n      <th>0</th>\n    </tr>\n  </thead>\n  <tbody>\n    <tr>\n      <th>0</th>\n      <td>Non-diabetic</td>\n    </tr>\n    <tr>\n      <th>1</th>\n      <td>times_pregnant6.0000</td>\n    </tr>\n    <tr>\n      <th>2</th>\n      <td>plasma_glucose_concentration148.0000</td>\n    </tr>\n    <tr>\n      <th>3</th>\n      <td>diastolic_blood_pressure72.0000</td>\n    </tr>\n    <tr>\n      <th>4</th>\n      <td>triceps_thickness35.0000</td>\n    </tr>\n    <tr>\n      <th>...</th>\n      <td>...</td>\n    </tr>\n    <tr>\n      <th>7829</th>\n      <td>BMI30.4000</td>\n    </tr>\n    <tr>\n      <th>7830</th>\n      <td>diabetes_pedigreen0.3150</td>\n    </tr>\n    <tr>\n      <th>7831</th>\n      <td>age23.0000</td>\n    </tr>\n    <tr>\n      <th>7832</th>\n      <td>diabetes0.0000</td>\n    </tr>\n    <tr>\n      <th>7833</th>\n      <td>times_pregnant1.0000</td>\n    </tr>\n  </tbody>\n</table>\n<p>7834 rows × 1 columns</p>\n</div>"
     },
     "metadata": {},
     "execution_count": 221
    }
   ],
   "source": [
    "\n",
    "df = pd.read_csv(messy_data, header=None, delimiter='\\n')\n",
    "df"
   ]
  },
  {
   "cell_type": "code",
   "execution_count": 223,
   "metadata": {},
   "outputs": [
    {
     "output_type": "execute_result",
     "data": {
      "text/plain": [
       "154"
      ]
     },
     "metadata": {},
     "execution_count": 223
    }
   ],
   "source": [
    "# find and remove Non-diabetic / Diabetic rows\n",
    "def remove_string_data(df):\n",
    "    a = df[df[0] == 'Non-diabetic'].index[0]\n",
    "    b = df[df[0] == 'Diabetic'].index[0]\n",
    "\n",
    "    df = df.drop([a,b])\n",
    "    df = df.drop(df[df[0].str.startswith('Participants')].index)\n",
    "    # # new_df = new_df.drop[b]\n",
    "    return df\n",
    "\n",
    "new_df = remove_string_data(df)\n",
    "\n",
    "df.shape[0] - new_df.shape[0]"
   ]
  },
  {
   "cell_type": "code",
   "execution_count": 224,
   "metadata": {},
   "outputs": [
    {
     "output_type": "execute_result",
     "data": {
      "text/plain": [
       "         times_pregnant          plasma_glucose_concentration  \\\n",
       "0  times_pregnant6.0000  plasma_glucose_concentration148.0000   \n",
       "1  times_pregnant8.0000  plasma_glucose_concentration183.0000   \n",
       "2  times_pregnant0.0000  plasma_glucose_concentration137.0000   \n",
       "3  times_pregnant3.0000   plasma_glucose_concentration78.0000   \n",
       "4  times_pregnant2.0000  plasma_glucose_concentration197.0000   \n",
       "\n",
       "          diastolic_blood_pressure         triceps_thickness  \\\n",
       "0  diastolic_blood_pressure72.0000  triceps_thickness35.0000   \n",
       "1  diastolic_blood_pressure64.0000   triceps_thickness0.0000   \n",
       "2  diastolic_blood_pressure40.0000  triceps_thickness35.0000   \n",
       "3  diastolic_blood_pressure50.0000  triceps_thickness32.0000   \n",
       "4  diastolic_blood_pressure70.0000  triceps_thickness45.0000   \n",
       "\n",
       "           2_hour_serum_insulin         BMI        diabetes_pedigreen  \\\n",
       "0    2_hour_serum_insulin0.0000  BMI33.6000  diabetes_pedigreen0.6270   \n",
       "1    2_hour_serum_insulin0.0000  BMI23.3000  diabetes_pedigreen0.6720   \n",
       "2  2_hour_serum_insulin168.0000  BMI43.1000  diabetes_pedigreen2.2880   \n",
       "3   2_hour_serum_insulin88.0000  BMI31.0000  diabetes_pedigreen0.2480   \n",
       "4  2_hour_serum_insulin543.0000  BMI30.5000  diabetes_pedigreen0.1580   \n",
       "\n",
       "          age        diabetes duplicate_times_pregnant  \n",
       "0  age50.0000  diabetes1.0000     times_pregnant6.0000  \n",
       "1  age32.0000  diabetes1.0000     times_pregnant8.0000  \n",
       "2  age33.0000  diabetes1.0000     times_pregnant0.0000  \n",
       "3  age26.0000  diabetes1.0000     times_pregnant3.0000  \n",
       "4  age53.0000  diabetes1.0000     times_pregnant2.0000  "
      ],
      "text/html": "<div>\n<style scoped>\n    .dataframe tbody tr th:only-of-type {\n        vertical-align: middle;\n    }\n\n    .dataframe tbody tr th {\n        vertical-align: top;\n    }\n\n    .dataframe thead th {\n        text-align: right;\n    }\n</style>\n<table border=\"1\" class=\"dataframe\">\n  <thead>\n    <tr style=\"text-align: right;\">\n      <th></th>\n      <th>times_pregnant</th>\n      <th>plasma_glucose_concentration</th>\n      <th>diastolic_blood_pressure</th>\n      <th>triceps_thickness</th>\n      <th>2_hour_serum_insulin</th>\n      <th>BMI</th>\n      <th>diabetes_pedigreen</th>\n      <th>age</th>\n      <th>diabetes</th>\n      <th>duplicate_times_pregnant</th>\n    </tr>\n  </thead>\n  <tbody>\n    <tr>\n      <th>0</th>\n      <td>times_pregnant6.0000</td>\n      <td>plasma_glucose_concentration148.0000</td>\n      <td>diastolic_blood_pressure72.0000</td>\n      <td>triceps_thickness35.0000</td>\n      <td>2_hour_serum_insulin0.0000</td>\n      <td>BMI33.6000</td>\n      <td>diabetes_pedigreen0.6270</td>\n      <td>age50.0000</td>\n      <td>diabetes1.0000</td>\n      <td>times_pregnant6.0000</td>\n    </tr>\n    <tr>\n      <th>1</th>\n      <td>times_pregnant8.0000</td>\n      <td>plasma_glucose_concentration183.0000</td>\n      <td>diastolic_blood_pressure64.0000</td>\n      <td>triceps_thickness0.0000</td>\n      <td>2_hour_serum_insulin0.0000</td>\n      <td>BMI23.3000</td>\n      <td>diabetes_pedigreen0.6720</td>\n      <td>age32.0000</td>\n      <td>diabetes1.0000</td>\n      <td>times_pregnant8.0000</td>\n    </tr>\n    <tr>\n      <th>2</th>\n      <td>times_pregnant0.0000</td>\n      <td>plasma_glucose_concentration137.0000</td>\n      <td>diastolic_blood_pressure40.0000</td>\n      <td>triceps_thickness35.0000</td>\n      <td>2_hour_serum_insulin168.0000</td>\n      <td>BMI43.1000</td>\n      <td>diabetes_pedigreen2.2880</td>\n      <td>age33.0000</td>\n      <td>diabetes1.0000</td>\n      <td>times_pregnant0.0000</td>\n    </tr>\n    <tr>\n      <th>3</th>\n      <td>times_pregnant3.0000</td>\n      <td>plasma_glucose_concentration78.0000</td>\n      <td>diastolic_blood_pressure50.0000</td>\n      <td>triceps_thickness32.0000</td>\n      <td>2_hour_serum_insulin88.0000</td>\n      <td>BMI31.0000</td>\n      <td>diabetes_pedigreen0.2480</td>\n      <td>age26.0000</td>\n      <td>diabetes1.0000</td>\n      <td>times_pregnant3.0000</td>\n    </tr>\n    <tr>\n      <th>4</th>\n      <td>times_pregnant2.0000</td>\n      <td>plasma_glucose_concentration197.0000</td>\n      <td>diastolic_blood_pressure70.0000</td>\n      <td>triceps_thickness45.0000</td>\n      <td>2_hour_serum_insulin543.0000</td>\n      <td>BMI30.5000</td>\n      <td>diabetes_pedigreen0.1580</td>\n      <td>age53.0000</td>\n      <td>diabetes1.0000</td>\n      <td>times_pregnant2.0000</td>\n    </tr>\n  </tbody>\n</table>\n</div>"
     },
     "metadata": {},
     "execution_count": 224
    }
   ],
   "source": [
    "data = np.array(new_df.values)\n",
    "data = data.flatten()\n",
    "\n",
    "data.shape\n",
    "\n",
    "reshaped = np.reshape(data, (-1,10))\n",
    "\n",
    "columns = ['times_pregnant', 'plasma_glucose_concentration', 'diastolic_blood_pressure', 'triceps_thickness', '2_hour_serum_insulin', 'BMI', 'diabetes_pedigreen', 'age', 'diabetes', 'duplicate_times_pregnant']\n",
    "\n",
    "df = pd.DataFrame(reshaped, columns=columns)\n",
    "df.head()\n",
    "\n"
   ]
  },
  {
   "cell_type": "code",
   "execution_count": 225,
   "metadata": {},
   "outputs": [
    {
     "output_type": "execute_result",
     "data": {
      "text/plain": [
       "(768, 768)"
      ]
     },
     "metadata": {},
     "execution_count": 225
    }
   ],
   "source": [
    "# check to make sure all columns start with times_pregnant to know no missing values\n",
    "a = df['times_pregnant'].str.startswith('times', na=False)\n",
    "df.shape[0], a.sum()"
   ]
  },
  {
   "cell_type": "code",
   "execution_count": 226,
   "metadata": {},
   "outputs": [],
   "source": [
    "# remove extra pregnant category\n",
    "df = df.drop(columns=['duplicate_times_pregnant'])\n",
    "\n"
   ]
  },
  {
   "cell_type": "code",
   "execution_count": 166,
   "metadata": {},
   "outputs": [
    {
     "output_type": "execute_result",
     "data": {
      "text/plain": [
       "['times_pregnant',\n",
       " 'plasma_glucose_concentration',\n",
       " 'diastolic_blood_pressure',\n",
       " 'triceps_thickness',\n",
       " '2_hour_serum_insulin',\n",
       " 'BMI',\n",
       " 'diabetes_pedigreen',\n",
       " 'age',\n",
       " 'diabetes']"
      ]
     },
     "metadata": {},
     "execution_count": 166
    }
   ],
   "source": []
  },
  {
   "cell_type": "code",
   "execution_count": 227,
   "metadata": {},
   "outputs": [
    {
     "output_type": "execute_result",
     "data": {
      "text/plain": [
       "  times_pregnant plasma_glucose_concentration diastolic_blood_pressure  \\\n",
       "0         6.0000                     148.0000                  72.0000   \n",
       "1         8.0000                     183.0000                  64.0000   \n",
       "2         0.0000                     137.0000                  40.0000   \n",
       "3         3.0000                      78.0000                  50.0000   \n",
       "4         2.0000                     197.0000                  70.0000   \n",
       "\n",
       "  triceps_thickness 2_hour_serum_insulin      BMI diabetes_pedigreen      age  \\\n",
       "0           35.0000               0.0000  33.6000             0.6270  50.0000   \n",
       "1            0.0000               0.0000  23.3000             0.6720  32.0000   \n",
       "2           35.0000             168.0000  43.1000             2.2880  33.0000   \n",
       "3           32.0000              88.0000  31.0000             0.2480  26.0000   \n",
       "4           45.0000             543.0000  30.5000             0.1580  53.0000   \n",
       "\n",
       "  diabetes  \n",
       "0   1.0000  \n",
       "1   1.0000  \n",
       "2   1.0000  \n",
       "3   1.0000  \n",
       "4   1.0000  "
      ],
      "text/html": "<div>\n<style scoped>\n    .dataframe tbody tr th:only-of-type {\n        vertical-align: middle;\n    }\n\n    .dataframe tbody tr th {\n        vertical-align: top;\n    }\n\n    .dataframe thead th {\n        text-align: right;\n    }\n</style>\n<table border=\"1\" class=\"dataframe\">\n  <thead>\n    <tr style=\"text-align: right;\">\n      <th></th>\n      <th>times_pregnant</th>\n      <th>plasma_glucose_concentration</th>\n      <th>diastolic_blood_pressure</th>\n      <th>triceps_thickness</th>\n      <th>2_hour_serum_insulin</th>\n      <th>BMI</th>\n      <th>diabetes_pedigreen</th>\n      <th>age</th>\n      <th>diabetes</th>\n    </tr>\n  </thead>\n  <tbody>\n    <tr>\n      <th>0</th>\n      <td>6.0000</td>\n      <td>148.0000</td>\n      <td>72.0000</td>\n      <td>35.0000</td>\n      <td>0.0000</td>\n      <td>33.6000</td>\n      <td>0.6270</td>\n      <td>50.0000</td>\n      <td>1.0000</td>\n    </tr>\n    <tr>\n      <th>1</th>\n      <td>8.0000</td>\n      <td>183.0000</td>\n      <td>64.0000</td>\n      <td>0.0000</td>\n      <td>0.0000</td>\n      <td>23.3000</td>\n      <td>0.6720</td>\n      <td>32.0000</td>\n      <td>1.0000</td>\n    </tr>\n    <tr>\n      <th>2</th>\n      <td>0.0000</td>\n      <td>137.0000</td>\n      <td>40.0000</td>\n      <td>35.0000</td>\n      <td>168.0000</td>\n      <td>43.1000</td>\n      <td>2.2880</td>\n      <td>33.0000</td>\n      <td>1.0000</td>\n    </tr>\n    <tr>\n      <th>3</th>\n      <td>3.0000</td>\n      <td>78.0000</td>\n      <td>50.0000</td>\n      <td>32.0000</td>\n      <td>88.0000</td>\n      <td>31.0000</td>\n      <td>0.2480</td>\n      <td>26.0000</td>\n      <td>1.0000</td>\n    </tr>\n    <tr>\n      <th>4</th>\n      <td>2.0000</td>\n      <td>197.0000</td>\n      <td>70.0000</td>\n      <td>45.0000</td>\n      <td>543.0000</td>\n      <td>30.5000</td>\n      <td>0.1580</td>\n      <td>53.0000</td>\n      <td>1.0000</td>\n    </tr>\n  </tbody>\n</table>\n</div>"
     },
     "metadata": {},
     "execution_count": 227
    }
   ],
   "source": [
    "for col in list(df.columns):\n",
    "    df[col] = df[col].str.replace(col, '')\n",
    "\n",
    "df.head()"
   ]
  },
  {
   "cell_type": "code",
   "execution_count": 244,
   "metadata": {},
   "outputs": [
    {
     "output_type": "execute_result",
     "data": {
      "text/plain": [
       "   times_pregnant  plasma_glucose_concentration  diastolic_blood_pressure  \\\n",
       "0               6                           148                        72   \n",
       "1               1                            85                        66   \n",
       "2               8                           183                        64   \n",
       "3               1                            89                        66   \n",
       "4               0                           137                        40   \n",
       "\n",
       "   triceps_thickness  2-hour_serum_insulin   BMI  diabetes_pedigreen  age  \\\n",
       "0                 35                     0  33.6               0.627   50   \n",
       "1                 29                     0  26.6               0.351   31   \n",
       "2                  0                     0  23.3               0.672   32   \n",
       "3                 23                    94  28.1               0.167   21   \n",
       "4                 35                   168  43.1               2.288   33   \n",
       "\n",
       "   diabetes  \n",
       "0         1  \n",
       "1         0  \n",
       "2         1  \n",
       "3         0  \n",
       "4         1  "
      ],
      "text/html": "<div>\n<style scoped>\n    .dataframe tbody tr th:only-of-type {\n        vertical-align: middle;\n    }\n\n    .dataframe tbody tr th {\n        vertical-align: top;\n    }\n\n    .dataframe thead th {\n        text-align: right;\n    }\n</style>\n<table border=\"1\" class=\"dataframe\">\n  <thead>\n    <tr style=\"text-align: right;\">\n      <th></th>\n      <th>times_pregnant</th>\n      <th>plasma_glucose_concentration</th>\n      <th>diastolic_blood_pressure</th>\n      <th>triceps_thickness</th>\n      <th>2-hour_serum_insulin</th>\n      <th>BMI</th>\n      <th>diabetes_pedigreen</th>\n      <th>age</th>\n      <th>diabetes</th>\n    </tr>\n  </thead>\n  <tbody>\n    <tr>\n      <th>0</th>\n      <td>6</td>\n      <td>148</td>\n      <td>72</td>\n      <td>35</td>\n      <td>0</td>\n      <td>33.6</td>\n      <td>0.627</td>\n      <td>50</td>\n      <td>1</td>\n    </tr>\n    <tr>\n      <th>1</th>\n      <td>1</td>\n      <td>85</td>\n      <td>66</td>\n      <td>29</td>\n      <td>0</td>\n      <td>26.6</td>\n      <td>0.351</td>\n      <td>31</td>\n      <td>0</td>\n    </tr>\n    <tr>\n      <th>2</th>\n      <td>8</td>\n      <td>183</td>\n      <td>64</td>\n      <td>0</td>\n      <td>0</td>\n      <td>23.3</td>\n      <td>0.672</td>\n      <td>32</td>\n      <td>1</td>\n    </tr>\n    <tr>\n      <th>3</th>\n      <td>1</td>\n      <td>89</td>\n      <td>66</td>\n      <td>23</td>\n      <td>94</td>\n      <td>28.1</td>\n      <td>0.167</td>\n      <td>21</td>\n      <td>0</td>\n    </tr>\n    <tr>\n      <th>4</th>\n      <td>0</td>\n      <td>137</td>\n      <td>40</td>\n      <td>35</td>\n      <td>168</td>\n      <td>43.1</td>\n      <td>2.288</td>\n      <td>33</td>\n      <td>1</td>\n    </tr>\n  </tbody>\n</table>\n</div>"
     },
     "metadata": {},
     "execution_count": 244
    }
   ],
   "source": [
    "original_data.head()"
   ]
  },
  {
   "cell_type": "code",
   "execution_count": 243,
   "metadata": {},
   "outputs": [
    {
     "output_type": "stream",
     "name": "stdout",
     "text": [
      "1.0    500\n0.0    268\nName: diabetes, dtype: int64 0.0    500\n1.0    268\nName: diabetes, dtype: int64\n"
     ]
    },
    {
     "output_type": "execute_result",
     "data": {
      "text/plain": [
       "  times_pregnant plasma_glucose_concentration diastolic_blood_pressure  \\\n",
       "0         6.0000                     148.0000                  72.0000   \n",
       "1         8.0000                     183.0000                  64.0000   \n",
       "2         0.0000                     137.0000                  40.0000   \n",
       "3         3.0000                      78.0000                  50.0000   \n",
       "4         2.0000                     197.0000                  70.0000   \n",
       "\n",
       "  triceps_thickness 2_hour_serum_insulin      BMI diabetes_pedigreen      age  \\\n",
       "0           35.0000               0.0000  33.6000             0.6270  50.0000   \n",
       "1            0.0000               0.0000  23.3000             0.6720  32.0000   \n",
       "2           35.0000             168.0000  43.1000             2.2880  33.0000   \n",
       "3           32.0000              88.0000  31.0000             0.2480  26.0000   \n",
       "4           45.0000             543.0000  30.5000             0.1580  53.0000   \n",
       "\n",
       "   diabetes  \n",
       "0       1.0  \n",
       "1       1.0  \n",
       "2       1.0  \n",
       "3       1.0  \n",
       "4       1.0  "
      ],
      "text/html": "<div>\n<style scoped>\n    .dataframe tbody tr th:only-of-type {\n        vertical-align: middle;\n    }\n\n    .dataframe tbody tr th {\n        vertical-align: top;\n    }\n\n    .dataframe thead th {\n        text-align: right;\n    }\n</style>\n<table border=\"1\" class=\"dataframe\">\n  <thead>\n    <tr style=\"text-align: right;\">\n      <th></th>\n      <th>times_pregnant</th>\n      <th>plasma_glucose_concentration</th>\n      <th>diastolic_blood_pressure</th>\n      <th>triceps_thickness</th>\n      <th>2_hour_serum_insulin</th>\n      <th>BMI</th>\n      <th>diabetes_pedigreen</th>\n      <th>age</th>\n      <th>diabetes</th>\n    </tr>\n  </thead>\n  <tbody>\n    <tr>\n      <th>0</th>\n      <td>6.0000</td>\n      <td>148.0000</td>\n      <td>72.0000</td>\n      <td>35.0000</td>\n      <td>0.0000</td>\n      <td>33.6000</td>\n      <td>0.6270</td>\n      <td>50.0000</td>\n      <td>1.0</td>\n    </tr>\n    <tr>\n      <th>1</th>\n      <td>8.0000</td>\n      <td>183.0000</td>\n      <td>64.0000</td>\n      <td>0.0000</td>\n      <td>0.0000</td>\n      <td>23.3000</td>\n      <td>0.6720</td>\n      <td>32.0000</td>\n      <td>1.0</td>\n    </tr>\n    <tr>\n      <th>2</th>\n      <td>0.0000</td>\n      <td>137.0000</td>\n      <td>40.0000</td>\n      <td>35.0000</td>\n      <td>168.0000</td>\n      <td>43.1000</td>\n      <td>2.2880</td>\n      <td>33.0000</td>\n      <td>1.0</td>\n    </tr>\n    <tr>\n      <th>3</th>\n      <td>3.0000</td>\n      <td>78.0000</td>\n      <td>50.0000</td>\n      <td>32.0000</td>\n      <td>88.0000</td>\n      <td>31.0000</td>\n      <td>0.2480</td>\n      <td>26.0000</td>\n      <td>1.0</td>\n    </tr>\n    <tr>\n      <th>4</th>\n      <td>2.0000</td>\n      <td>197.0000</td>\n      <td>70.0000</td>\n      <td>45.0000</td>\n      <td>543.0000</td>\n      <td>30.5000</td>\n      <td>0.1580</td>\n      <td>53.0000</td>\n      <td>1.0</td>\n    </tr>\n  </tbody>\n</table>\n</div>"
     },
     "metadata": {},
     "execution_count": 243
    }
   ],
   "source": [
    "#convert diabetes values\n",
    "# new_df = df['diabetes'].map(lambda x: dict(1=0, 0=1)[x], )\n",
    "def convert_diabetes(x):\n",
    "    if x == 1.0:\n",
    "        return 0.0\n",
    "    else:\n",
    "        return 1.0\n",
    "\n",
    "original_counts = df['diabetes'].value_counts()\n",
    "df['diabetes'] = df['diabetes'].astype('float').apply(convert_diabetes)\n",
    "  \n",
    "print(original_counts, df['diabetes'].value_counts())\n",
    "df.head()"
   ]
  },
  {
   "cell_type": "markdown",
   "metadata": {},
   "source": [
    "## Part 2: Unit Testing\n",
    "\n",
    "Below, are a series of simple arithmetic functions. Define class of test-cases for these functions that will adequately assure you they are working properly.\n",
    "\n",
    "Hopefully you implemented Part 1 using a pipeline of functions. Here, you should design and implement unit tests for each function. Be sure to test edge-cases with values not neccesarily observed in the dataset. You may have to refer to the Python unittest package documentations: https://docs.python.org/3/library/unittest.html"
   ]
  },
  {
   "cell_type": "code",
   "execution_count": 266,
   "metadata": {},
   "outputs": [],
   "source": [
    "import unittest\n",
    "# Implement your tests here for the functions in the following cell.\n",
    "\n",
    "\n",
    "class myTest(unittest.TestCase):\n",
    "    def test_incr(self):\n",
    "        self.assertEqual(incr(1), 2)\n",
    "        self.assertEqual(incr(-1), 0)\n",
    "\n",
    "    def test_decr(self):\n",
    "        self.assertEqual(decr(1), 0)\n",
    "        self.assertEqual(decr(-10), -11)\n",
    "    \n",
    "    def test_add(self):\n",
    "        self.assertEqual(add(2,4), 6)\n",
    "\n",
    "    def test_subt(self):\n",
    "        self.assertEqual(subt(4), 3)\n",
    "    \n",
    "    def test_mult(self):\n",
    "        self.assertEqual(mult(4,8), 32)\n",
    "    \n",
    "    def test_divi(self):\n",
    "        self.assertEqual(divi(8,4), 2)\n",
    "        with self.assertRaises(TypeError):\n",
    "            divi('hello', 2)\n",
    "    \n",
    "        \n",
    "# Should you want to delete a test case from within Jupyter notebook,\n",
    "# you can run the following code to remove the class from the set of\n",
    "# global variables: \n",
    "#\n",
    "# `del IncrTestCast`"
   ]
  },
  {
   "cell_type": "code",
   "execution_count": 267,
   "metadata": {},
   "outputs": [
    {
     "output_type": "stream",
     "name": "stderr",
     "text": [
      "test_add (__main__.myTest) ... ok\n",
      "test_decr (__main__.myTest) ... ok\n",
      "test_divi (__main__.myTest) ... ok\n",
      "test_incr (__main__.myTest) ... ok\n",
      "test_mult (__main__.myTest) ... ok\n",
      "test_subt (__main__.myTest) ... ok\n",
      "\n",
      "----------------------------------------------------------------------\n",
      "Ran 6 tests in 0.009s\n",
      "\n",
      "OK\n"
     ]
    }
   ],
   "source": [
    "def incr(x):\n",
    "    return x + 1\n",
    "\n",
    "def decr(x):\n",
    "    return x - 1\n",
    "\n",
    "def add(x,y):\n",
    "    return x + y\n",
    "\n",
    "def subt(x):\n",
    "    return x - 1\n",
    "\n",
    "def mult(x,y):\n",
    "    return x * y\n",
    "\n",
    "def divi(x,y):\n",
    "    return x / y\n",
    "    \n",
    "\n",
    "# This strange Python simulates running your code as if it were executed\n",
    "# from the command-line, instead of within a Notebook. All it does is \n",
    "# call the automatically generated main() function (which is usually\n",
    "# wrapped in Jupyter) with an explicit argument array with one value.\n",
    "if __name__ == '__main__':\n",
    "    unittest.main(argv=[''], exit=False,verbosity=2)"
   ]
  },
  {
   "cell_type": "code",
   "execution_count": null,
   "metadata": {},
   "outputs": [],
   "source": []
  }
 ],
 "metadata": {
  "kernelspec": {
   "name": "python391jvsc74a57bd0ac59ebe37160ed0dfa835113d9b8498d9f09ceb179beaac4002f036b9467c963",
   "display_name": "Python 3.9.1 64-bit"
  },
  "language_info": {
   "codemirror_mode": {
    "name": "ipython",
    "version": 3
   },
   "file_extension": ".py",
   "mimetype": "text/x-python",
   "name": "python",
   "nbconvert_exporter": "python",
   "pygments_lexer": "ipython3",
   "version": "3.9.1"
  },
  "metadata": {
   "interpreter": {
    "hash": "ac59ebe37160ed0dfa835113d9b8498d9f09ceb179beaac4002f036b9467c963"
   }
  }
 },
 "nbformat": 4,
 "nbformat_minor": 2
}