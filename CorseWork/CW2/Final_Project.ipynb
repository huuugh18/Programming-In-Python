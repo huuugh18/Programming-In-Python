{
 "cells": [
  {
   "cell_type": "markdown",
   "source": [
    "## **Introduction**\r\n",
    "\r\n",
    "For this project I will be analysing punting and field goal data for the Canadian Football League with the aim of determining some insights about the kicking game. One particular interest is the effect of kicking indoors vs outdoors. In the CFL there is one indoor stadium located in Vancouver, British Columbia (BC). Indoor stadiums have no adverse elements such as wind or rain, or in the latter parts of the year, snow, and could potentially have a positive effect on the performance of kickers and punters in the stadium. Using data gathered from the CFL website containing stats of four seasons of kicking data, I will investigate this to see if there is a significant difference in the productivity of the kicking game indoors vs outdoors. There are three types of kicking in the CFL for which stats are available: kick offs, punts, and field goals. The two I am most interested in are field goals and punting as they would be most affected by adverse conditions. Field goals are where the kicker attempts to kick the ball from the ground through the uprights to score points and punting is when the ball is kicked out of the hand of the punter to give the ball back to the opposing team in the hopes of making the opposing team start as far back as possible.  \r\n",
    "\r\n",
    "I will first just look at general performances in each stadium to see if there are any differences but seeing that different players have different abilities, I believe it would make sense to analyse the data based on individual kicker’s performance both indoors and outdoors. It may also be that from year to year a kicker’s ability may change so in order to analyse the data each data point will be a kicker’s performance for each season played. Possible ways to extend this analysis is to look at which stadiums have the best and worst performance results. When it comes to punting, sometimes very windy stadiums can actually work in the favour of the punter as this can make it difficult for the returner to successfully catch the ball in the air. As a current punter and kicker in the league, this data is of particular interest to me. I have played in all 9 of the stadiums over the years and have formed opinions from these experiences as to which stadiums are easier or more difficult to perform in. I would like to know if there is any data to back up what I believe or if these are merely perceived advantages and disadvantages. There does not appear to be any literature or in depth statistical analysis of punting and kicking performances and extremely unlikely that there has been any analysis done by a player. As a player I have a particularly in depth knowledge of the limitations of the data available and some of the nuances of the kicking game itself in the CFL. \r\n",
    " \r\n",
    "\r\n",
    "## **Data Details**\r\n",
    "\r\n",
    "The data obtained for this analysis is obtained directly from the cfl.ca website where statistics are for the public to view. The data was obtained using web scraping the data directly from the site in the form of a json document. The website gives the user the ability to set parameters for the statistics that they want including the what years, where the games were played, who the opponent was, and filtering the data by game, season, or player. Knowing how the url is constructed based on these parameters and filters, I built a function to download the datasets I was looking for and would save those datasets immediately to limit the need to re-download the datasets any more than necessary. While the data is public, ethically it is important to not download the data any more times than needed to reduce costs for the hosts of the data as these stats are not designed for high data usage downloading. These stats are for general browsing to fans of the league. The data obtained was for the four seasons from 2016 to 2019.\r\n",
    "\r\n",
    "One challenge in the data acquiring process is that the downloaded data did not actually contain the stadium location data in the results. However the website allowed you to query the stats to limit the results based on the location of the games. My approach was to create a function to download a dataset for each stadium location and put this into a list. Once in the list I then could append the location to the dataset downloaded and then combine all the datasets for each location, with the data of the location included, into a final complete dataset.\r\n",
    "The dataset had a lot of other categories not needed so they were removed as well as both the punt average and field goal percentage needed to be converted to a float from an object . \r\n",
    "\r\n",
    "The punting dataset contains the year, punter’s name, the location, the number of punts, total punt yards, and punt average. The field goal dataset contains the year, kicker’s name, field goals attempted, field goals made, accuracy, a breakdown of distances of the field goals made distances, and converts made and attempted. Converts are a special field goal that is attempted after a touchdown that is a specific distance. These are only worth one point so are kept as a separate statistic. \r\n",
    "\r\n",
    "While the names of the players are included in the dataset, this does not pose any ethical dillemas as player data is readily available for the public to view. The nature of the profession is to perform in public and that performance statstics are recorded to be analysed by commentators and fans alike. \r\n",
    "\r\n",
    "\r\n",
    "## **Import Packages**"
   ],
   "metadata": {}
  },
  {
   "cell_type": "code",
   "execution_count": 2,
   "source": [
    "import requests\r\n",
    "import json\r\n",
    "import pandas as pd \r\n",
    "import numpy as np\r\n",
    "from bs4 import BeautifulSoup\r\n",
    "from sklearn.linear_model import LinearRegression\r\n",
    "import unittest\r\n",
    "import os\r\n",
    "import unittest\r\n"
   ],
   "outputs": [],
   "metadata": {}
  },
  {
   "cell_type": "markdown",
   "source": [
    "## **Data Retrieval**\r\n",
    "## Web Scraping\r\n",
    "\r\n",
    "For each team code create the url to retrieve the appropriate data set.  \r\n",
    "This is equal to the `base url + filter location = team code`  \r\n",
    "If the `include_home` parameter is set to `True`, results will include the home kicker for each location as well.  \r\n",
    "The `kick_category` parameter is to set whether to rertieve punting, field goal, or kickoff data. "
   ],
   "metadata": {}
  },
  {
   "cell_type": "code",
   "execution_count": 3,
   "source": [
    "# list of all the team location acronyms for data retrieval\r\n",
    "team_codes = ['bc', 'edm', 'cgy', 'ssk', 'wpg', 'ham', 'tor', 'ott', 'mtl']\r\n",
    "\r\n",
    "def get_site_json(url):\r\n",
    "   try: \r\n",
    "      response = requests.get(url)\r\n",
    "      response.raise_for_status()\r\n",
    "   except requests.HTTPError as exception:\r\n",
    "      print('Exception: ', exception)\r\n",
    "   else: \r\n",
    "      soup = BeautifulSoup(response.content, 'html.parser')\r\n",
    "      site_json = json.loads(soup.text)\r\n",
    "      return site_json\r\n",
    "\r\n",
    "def get_base_url(kick_category):\r\n",
    "   if kick_category == 'punt':\r\n",
    "      return 'https://www.cfl.ca/wp-content/themes/cfl.ca/inc/admin-ajax.php?action=get_league_stats&stat_category=punting&filter[season][ge]=2016&filter[punts][ge]=1&filter[location][eq]='\r\n",
    "   elif kick_category == 'kickoff':\r\n",
    "      return 'https://www.cfl.ca/wp-content/themes/cfl.ca/inc/admin-ajax.php?action=get_league_stats&stat_category=punting&filter[season][ge]=2016&filter[kicks][ge]=1&filter[location][eq]='\r\n",
    "   elif kick_category == 'field_goal':\r\n",
    "      return 'https://www.cfl.ca/wp-content/themes/cfl.ca/inc/admin-ajax.php?action=get_league_stats&stat_category=field_goals&filter[season][ge]=2016&filter[location][eq]='\r\n",
    "   else:\r\n",
    "      return None\r\n",
    "\r\n",
    "def get_url(include_home, team, base_url):\r\n",
    "   if include_home:\r\n",
    "      return base_url + team + '&group_by=player'\r\n",
    "   else:\r\n",
    "      # if only want to include players away games (no home advantage)\r\n",
    "      # set filter so that opposing team = team location so home player data not included\r\n",
    "      return base_url + team + '&filter[opponent_team_abbreviation][eq]=' + team + '&group_by=player'\r\n",
    "   \r\n",
    "\r\n",
    "def get_game_data(team_codes, kick_category, include_home):\r\n",
    "   # if category is punting and kickoff - add a filter so that a minumum of 1 punts is returned\r\n",
    "   # otherwise CFL returns a dataset including every player on the roster for the game instead of just the players who had a punt\r\n",
    "   # same issue doesn't exist for field goals so this filter not needed\r\n",
    "   base_url = get_base_url(kick_category)\r\n",
    "   if base_url == None:\r\n",
    "      print('Incorrect kick category supplied')\r\n",
    "      return\r\n",
    "   json_data = []\r\n",
    "   for team in team_codes:\r\n",
    "      url = get_url(include_home, team, base_url)\r\n",
    "      site_json = get_site_json(url)\r\n",
    "      json_data.append(site_json)\r\n",
    "   return json_data"
   ],
   "outputs": [],
   "metadata": {}
  },
  {
   "cell_type": "code",
   "execution_count": 15,
   "source": [
    "# UNIT TESTS FOR WEB SCRAPING DATA FUNCTIONS\r\n",
    "\r\n",
    "class TestImportGameData(unittest.TestCase):\r\n",
    "   def test_kick_cat_fail(self):\r\n",
    "      res = get_base_url('something')\r\n",
    "      self.assertIsNone(res)\r\n",
    "   def test_kick_cat_punt(self):\r\n",
    "      res = get_base_url('punt')\r\n",
    "      self.assertEqual(res, 'https://www.cfl.ca/wp-content/themes/cfl.ca/inc/admin-ajax.php?action=get_league_stats&stat_category=punting&filter[season][ge]=2016&filter[punts][ge]=1&filter[location][eq]=')\r\n",
    "   def test_get_url_home(self):\r\n",
    "      res = get_url(True, 'ott', 'https://www.cfl.ca/')\r\n",
    "      self.assertEqual(res, 'https://www.cfl.ca/ott&group_by=player')\r\n",
    "   def test_get_url_away(self):\r\n",
    "      res = get_url(False, 'ott', 'http://google.ca/')\r\n",
    "      self.assertEqual(res, 'http://google.ca/ott&filter[opponent_team_abbreviation][eq]=ott&group_by=player')\r\n"
   ],
   "outputs": [],
   "metadata": {}
  },
  {
   "cell_type": "markdown",
   "source": [
    "## !! Download all the datasets !!\r\n",
    "### Do this minimal times to reduce the load on webservers"
   ],
   "metadata": {}
  },
  {
   "cell_type": "code",
   "execution_count": null,
   "source": [
    "home_game_data_punt = get_game_data(team_codes, 'punt', True)\r\n",
    "away_game_data_punt = get_game_data(team_codes, 'punt', False)"
   ],
   "outputs": [],
   "metadata": {}
  },
  {
   "cell_type": "code",
   "execution_count": null,
   "source": [
    "home_game_data_fg = get_game_data(team_codes, 'field_goal', True)\r\n",
    "away_game_data_fg = get_game_data(team_codes, 'field_goal', False)"
   ],
   "outputs": [],
   "metadata": {}
  },
  {
   "cell_type": "code",
   "execution_count": null,
   "source": [
    "home_game_data_ko = get_game_data(team_codes, 'kickoff', True)\r\n",
    "away_game_data_ko = get_game_data(team_codes, 'kickoff', False)"
   ],
   "outputs": [],
   "metadata": {}
  },
  {
   "cell_type": "markdown",
   "source": [
    "## Save Retrieved Data to file\r\n",
    "### *Warning this will write to disk and overwrite any data in file location*\r\n",
    "The data is saved to disk so that it does not to be downloaded again unnecessarily. "
   ],
   "metadata": {}
  },
  {
   "cell_type": "code",
   "execution_count": null,
   "source": [
    "def save_json_to_file(data, name):\r\n",
    "   with open(name, 'w', encoding='utf-8') as f:\r\n",
    "      return json.dump(data, f, ensure_ascii=False, indent=3)\r\n",
    "\r\n",
    "save_json_to_file(home_game_data_punt, 'home_game_data_punt.json')\r\n",
    "save_json_to_file(away_game_data_punt, 'away_game_data_punt.json')\r\n",
    "save_json_to_file(home_game_data_fg, 'home_game_data_fg.json')\r\n",
    "save_json_to_file(away_game_data_fg, 'away_game_data_fg.json')\r\n",
    "save_json_to_file(home_game_data_ko, 'home_game_data_ko.json')\r\n",
    "save_json_to_file(away_game_data_ko, 'away_game_data_ko.json')\r\n"
   ],
   "outputs": [],
   "metadata": {}
  },
  {
   "cell_type": "markdown",
   "source": [
    "## Create DataFrames and add Locations to the datasets\r\n",
    "The downloaded data can be filtered by location but doesn't include the location in the data itself so must be added manually  \r\n",
    "This is needed only for the datasets obtained via the cfl webpage and webscraping  \r\n",
    "The data obtained in an excel sheet already has location data included."
   ],
   "metadata": {}
  },
  {
   "cell_type": "code",
   "execution_count": 6,
   "source": [
    "def getDFFromJson(data):\r\n",
    "   df = pd.DataFrame(data['data'])\r\n",
    "   return df\r\n",
    "\r\n",
    "\r\n",
    "# Column headers for punt df and field goal df\r\n",
    "punt_ko_columns = ['YEAR', 'NAME', 'LOCATION', 'URL', 'TEAM', 'GAMES_PLAYED', 'NUMBER_OF_PUNTS', 'PUNT_YDS', 'PUNT_AVG', 'PUNT_LONG', 'PUNT_SINGLES', 'NUMBER_OF_KICKOFFS', 'KO_YDS', 'KO_AVG', 'KO_LG', 'KO_S']\r\n",
    "fg_columns = ['YEAR', 'NAME', 'LOCATION', 'URL', 'TEAM', 'GAMES_PLAYED', 'FG_ATTEMPTS', 'FG_MADE', 'ACCURACY', 'LONG', 'S', 'lt_20', '20_29', '30_39', '40_49', 'gte_50', 'C1_ATT', 'C1_MADE']\r\n",
    "\r\n",
    "def open_json_file(file_name):\r\n",
    "   with open(file_name) as f:\r\n",
    "      data = json.load(f)\r\n",
    "      return data\r\n",
    "\r\n",
    "def build_dataframe(team_codes, column_names, data):\r\n",
    "   dn = []\r\n",
    "   for i, team in enumerate(team_codes):\r\n",
    "      #create df from data[i]\r\n",
    "      df = getDFFromJson(data[i])\r\n",
    "      #add location of game to df\r\n",
    "      df.insert(2, 'LOCATION', team)\r\n",
    "      #add df to df list\r\n",
    "      dn.append(df)\r\n",
    "   # create new df with all location dfs combined\r\n",
    "   dn = pd.concat(dn, axis=0, )\r\n",
    "   # add column names to df\r\n",
    "   \r\n",
    "   dn.columns = column_names\r\n",
    "   return dn\r\n",
    "\r\n",
    "def createDFwLocationFromFile(file_name, team_codes, column_names):\r\n",
    "   #check if length of data = length of team_codes\r\n",
    "   data = open_json_file(file_name)\r\n",
    "   if(len(data) != len(team_codes)):\r\n",
    "      print('Data Error: file data length does not match team code length')\r\n",
    "      return \r\n",
    "   # empty array to put each stadium dfs in\r\n",
    "   dn = build_dataframe(team_codes, column_names, data)\r\n",
    "   return dn\r\n",
    "      \r\n"
   ],
   "outputs": [],
   "metadata": {}
  },
  {
   "cell_type": "code",
   "execution_count": 7,
   "source": [
    "df_away_punt = createDFwLocationFromFile('away_game_data_punt.json', team_codes, punt_ko_columns)\r\n",
    "df_home_punt = createDFwLocationFromFile('home_game_data_punt.json', team_codes, punt_ko_columns)\r\n",
    "df_away_fg = createDFwLocationFromFile('away_game_data_fg.json', team_codes, fg_columns)\r\n",
    "df_home_fg = createDFwLocationFromFile('home_game_data_fg.json', team_codes, fg_columns)\r\n",
    "df_away_ko = createDFwLocationFromFile('away_game_data_ko.json', team_codes, punt_ko_columns)\r\n",
    "df_home_ko = createDFwLocationFromFile('home_game_data_ko.json', team_codes, punt_ko_columns)\r\n"
   ],
   "outputs": [],
   "metadata": {}
  },
  {
   "cell_type": "code",
   "execution_count": 8,
   "source": [
    "class TestDFCreationFromJsonFile(unittest.TestCase):\r\n",
    "   def test_open_json_file_exists(self):\r\n",
    "      self.assertIsNotNone(open_json_file)\r\n",
    "   def test_open_json_file(self):\r\n",
    "      res = open_json_file('test_file.json')\r\n",
    "      self.assertEqual(len(res), 3)\r\n",
    "   def test_createDF_exists(self):\r\n",
    "      self.assertIsNotNone(createDFwLocationFromFile)\r\n",
    "   def test_build_df_exists(self):\r\n",
    "      self.assertIsNotNone(build_dataframe)\r\n",
    "   def test_build_df(self):\r\n",
    "      data = open_json_file('test_file.json')\r\n",
    "      res = build_dataframe(['ott','bc','ham'], fg_columns,  data)\r\n",
    "      self.assertEqual(len(res.index), 3)\r\n",
    "      self.assertEqual(res.shape, (3,18))\r\n",
    "      self.assertEqual(res.columns[2], 'LOCATION')\r\n",
    "      self.assertEqual(len(res.columns), 18)      \r\n",
    "   \r\n",
    "\r\n"
   ],
   "outputs": [],
   "metadata": {}
  },
  {
   "cell_type": "markdown",
   "source": [
    "# ** Do DATA VALIDATION HERE!!\r\n",
    "## Make sure every value in ko df has at least one ko\r\n",
    "## Make sure every value in pnut df has at least two  punt - removed quick kick entries\r\n",
    "## Something to do with FG validation in dataset\r\n",
    "## check all the dataframes - seperate checks for excel sources\r\n",
    "\r\n",
    "NumPy.testing\r\n",
    "np.testing.assert_array_equal()\r\n",
    "np.testing.assert_array_close()\r\n",
    "works with py.test\r\n",
    "takes numpy arrays not pd dfs - have to convert with DataFrame.values\r\n",
    "\r\n",
    "break down into small functions\r\n",
    "supply fake data\r\n",
    "run stats - df.describe() see if what expect\r\n",
    "are observations unique\r\n",
    "columns of expected type and range\r\n",
    "\r\n",
    "\r\n"
   ],
   "metadata": {}
  },
  {
   "cell_type": "markdown",
   "source": [
    "## Clean up the data contained in the DataFrames\n",
    "### Remove unused columns and fix some dat formatting"
   ],
   "metadata": {}
  },
  {
   "cell_type": "code",
   "execution_count": 9,
   "source": [
    "def clean_df_punt(df):\r\n",
    "   #filter out any rows with punts < 2\r\n",
    "   df = df[df.NUMBER_OF_PUNTS.gt(1)]\r\n",
    "   \r\n",
    "   #remove Kickoff columns and other columns not of interest\r\n",
    "   df = df.drop(['URL', 'GAMES_PLAYED','PUNT_LONG', 'PUNT_SINGLES', 'NUMBER_OF_KICKOFFS', 'KO_YDS', 'KO_AVG', 'KO_LG', 'KO_S'], axis=1)\r\n",
    "\r\n",
    "   # filter out 2021 as not a complete season\r\n",
    "   df = df[df.YEAR.lt(2021)]\r\n",
    "\r\n",
    "   #sort values\r\n",
    "   df = df.sort_values(by=['LOCATION','NAME', 'YEAR'])\r\n",
    "   df['LOCATION'] = df['LOCATION'].str.upper()\r\n",
    "\r\n",
    "   #convert PUNT_AVG type from object to float\r\n",
    "   df['PUNT_AVG'] = df['PUNT_AVG'].astype(float, errors = 'raise')\r\n",
    "   return df\r\n",
    "\r\n",
    "df_away_punt_clean = clean_df_punt(df_away_punt)\r\n",
    "df_home_punt_clean = clean_df_punt(df_home_punt)"
   ],
   "outputs": [],
   "metadata": {}
  },
  {
   "cell_type": "code",
   "execution_count": 10,
   "source": [
    "def clean_df_ko(df):\r\n",
    "   #filter out 2021 season as in progress\r\n",
    "   df = df[df.YEAR.lt(2021)]\r\n",
    "\r\n",
    "   #filter out any rows with kickoffs < 1\r\n",
    "   df = df[df.NUMBER_OF_KICKOFFS.gt(1)]\r\n",
    "\r\n",
    "   #convert KO_AVG type from object to float\r\n",
    "   df['KO_AVG'] = df['KO_AVG'].astype(float, errors = 'raise')\r\n",
    "\r\n",
    "   # remove Punt columns and other columns not of interest\r\n",
    "   df = df.drop(['URL', 'GAMES_PLAYED', 'NUMBER_OF_PUNTS', 'PUNT_YDS', 'PUNT_AVG', 'PUNT_LONG', 'PUNT_SINGLES', 'KO_LG', 'KO_S'], axis=1)\r\n",
    "\r\n",
    "   #filter out any kickoff averages less than 45 yards as there was likely a specialty kick not hit for farthest distance\r\n",
    "   df = df[df.KO_AVG.gt(45)]\r\n",
    "\r\n",
    "   #sort values\r\n",
    "   df = df.sort_values(by=['LOCATION','NAME', 'YEAR'])\r\n",
    "   df['LOCATION'] = df['LOCATION'].str.upper()\r\n",
    "\r\n",
    "   return df\r\n",
    "   \r\n",
    "df_away_ko_clean = clean_df_ko(df_away_ko)\r\n",
    "df_home_ko_clean = clean_df_ko(df_home_ko)\r\n",
    "\r\n",
    "\r\n"
   ],
   "outputs": [],
   "metadata": {}
  },
  {
   "cell_type": "code",
   "execution_count": 11,
   "source": [
    "def clean_df_fg(df):\r\n",
    "   #remove any unused columns \r\n",
    "   df= df.drop(['URL', 'S', 'GAMES_PLAYED', 'LONG', 'S', 'lt_20',\t'20_29',\t'30_39',\t'40_49',\t'gte_50', 'C1_ATT',\t'C1_MADE'], axis=1)\r\n",
    "\r\n",
    "   #filter out 2021 season as in progress\r\n",
    "   df = df[df.YEAR.lt(2021)]    \r\n",
    "   #sort values \r\n",
    "   df = df.sort_values(by=['LOCATION','NAME', 'YEAR'])\r\n",
    "   df['LOCATION'] = df['LOCATION'].str.upper()\r\n",
    "\r\n",
    "   df['ACCURACY'] = df['ACCURACY'].astype(float, errors = 'raise')\r\n",
    "   return df\r\n",
    "\r\n",
    "df_away_fg_clean = clean_df_fg(df_away_fg)\r\n",
    "df_home_fg_clean = clean_df_fg(df_home_fg)"
   ],
   "outputs": [],
   "metadata": {}
  },
  {
   "cell_type": "code",
   "execution_count": 12,
   "source": [
    "def clean_df_ko(df):\r\n",
    "   #filter out 2021 season as in progress\r\n",
    "   df = df[df.YEAR.lt(2021)]\r\n",
    "\r\n",
    "   #filter out any rows with kickoffs < 1\r\n",
    "   df = df[df.NUMBER_OF_KICKOFFS.gt(1)]\r\n",
    "\r\n",
    "   #convert KO_AVG type from object to float\r\n",
    "   df['KO_AVG'] = df['KO_AVG'].astype(float, errors = 'raise')\r\n",
    "\r\n",
    "   # remove Punt columns and other columns not of interest\r\n",
    "   df = df.drop(['URL', 'GAMES_PLAYED', 'NUMBER_OF_PUNTS', 'PUNT_YDS', 'PUNT_AVG', 'PUNT_LONG', 'PUNT_SINGLES', 'KO_LG', 'KO_S'], axis=1)\r\n",
    "\r\n",
    "   #filter out any kickoff averages less than 45 yards as there was likely a specialty kick not hit for farthest distance\r\n",
    "   df = df[df.KO_AVG.gt(45)]\r\n",
    "\r\n",
    "   #sort values\r\n",
    "   df = df.sort_values(by=['LOCATION','NAME', 'YEAR'])\r\n",
    "   df['LOCATION'] = df['LOCATION'].str.upper()\r\n",
    "\r\n",
    "   return df\r\n",
    "   \r\n",
    "df_away_ko_clean = clean_df_ko(df_away_ko)\r\n",
    "df_home_ko_clean = clean_df_ko(df_home_ko)\r\n",
    "\r\n",
    "\r\n"
   ],
   "outputs": [],
   "metadata": {}
  },
  {
   "cell_type": "markdown",
   "source": [
    "## Data Limitations\r\n",
    "\r\n",
    "The limitations of the punt data is that punt average has limitations as a punting performance metric. The total punt yards per punt is calculated from the line of scrimmage where the play starts to where the ball is caught or picked up by the returner. If the ball lands on the ground at 30 yards which is a  punt, and gets a favourable bounce and goes an extra 30 yards, this would be recorded as a 60 yard punt or a very good punt if it was kicked exceptionally. This is where a particularly windy game can possibly have favourable results for the punter’s statistics as the wind can make it very challenging for the returner to catch the ball in the air resulting in short punts that bounce past the returner for a long punt recorded in the statistics. \r\n",
    "\r\n",
    "The limitations of the field goal data is that field goal accuracy depends a lot on the distance of the attempt. With punts, generally the desired outcome is to kick the ball as far as possible each time and the chance of success is not determined by where the punter is on the field. Field goals however are highly dependent on the position of the attempt. A 10 yard field goal has essentially a 100% success rate while a 55 yard attempt would be significantly lower. The data obtained from the website categorizes the successful field goalsby distance but does not show the distances of the missed attempts. This makes it difficult to account for the accuracy from different ranges which would be a more useful statistic for comparison. Even in unfavourable weather conditions outdoors, a short range field goal will likely be made every time. The longer the field goal, the greater the chance for the kick to be affected by poor weather conditions \r\n",
    "outdoors. \r\n",
    "\r\n",
    "\r\n",
    "## Get aggregate punt and kickoff averages, and field goal accuracies for each stadium\r\n",
    "#### This is done by aggregating all field goal and punt data\r\n",
    "\r\n",
    "For field goals all field goal attempts are summed as well as all field goals made then accuracy is calculated from these results.  \r\n",
    "\r\n",
    "With punts the total yards punted summed is divided by the total punts to get the overall avearage.  \r\n",
    "\r\n",
    "If I was to just take the average of the accuracy and punt averages already calculated a one punt game of 70 yards would have the same weight as a 10 punt game with an average of 45 so it is important to do it this way or else that data would be inaccurate. \r\n"
   ],
   "metadata": {}
  },
  {
   "cell_type": "code",
   "execution_count": 38,
   "source": [
    "def get_location_punt_averages(df, group_by_column):\r\n",
    "   total_punts = df['NUMBER_OF_PUNTS'].groupby(df[group_by_column]).sum()\r\n",
    "   total_punt_yards = df['PUNT_YDS'].groupby(df[group_by_column]).sum()\r\n",
    "   averages =  (total_punt_yards / total_punts).round(1)\r\n",
    "   df = pd.DataFrame(averages, columns=['PUNT_AVG'])\r\n",
    "   df[group_by_column] = df.index\r\n",
    "   return df\r\n",
    "\r\n",
    "def get_location_fg_accuracies(df, group_by_column):\r\n",
    "   total_attempts = df['FG_ATTEMPTS'].groupby(df[group_by_column]).sum()\r\n",
    "   total_made = df['FG_MADE'].groupby(df[group_by_column]).sum()\r\n",
    "   accuracies = (total_made / total_attempts * 100).round(1)\r\n",
    "   df = pd.DataFrame(accuracies, columns=['ACCURACY'])\r\n",
    "   df[group_by_column] = df.index\r\n",
    "   return df\r\n",
    "\r\n",
    "def get_location_ko_averages(df, group_by_column):\r\n",
    "   total_kos = df['NUMBER_OF_KICKOFFS'].groupby(df[group_by_column]).sum()\r\n",
    "   total_ko_yards = df['KO_YDS'].groupby(df[group_by_column]).sum()\r\n",
    "   averages =  (total_ko_yards / total_kos).round(1)\r\n",
    "   df = pd.DataFrame(averages, columns=['KO_AVG'])\r\n",
    "   df[group_by_column] = df.index\r\n",
    "   return df\r\n",
    "\r\n",
    "    \r\n",
    "away_punt_avgs = get_location_punt_averages(df_away_punt_clean, 'LOCATION')\r\n",
    "home_punt_avgs = get_location_punt_averages(df_home_punt_clean, 'LOCATION')\r\n",
    "\r\n",
    "home_fg_accuracies = get_location_fg_accuracies(df_home_fg_clean, 'LOCATION')\r\n",
    "away_fg_accuracies = get_location_fg_accuracies(df_away_fg_clean, 'LOCATION')\r\n",
    "\r\n",
    "away_ko_avgs = get_location_ko_averages(df_away_ko_clean, 'LOCATION')\r\n",
    "home_ko_avgs = get_location_ko_averages(df_home_ko_clean, 'LOCATION')\r\n",
    "\r\n"
   ],
   "outputs": [],
   "metadata": {}
  },
  {
   "cell_type": "markdown",
   "source": [
    "## Dataframe Validation\r\n",
    "Test the data cleaning processes.  \r\n",
    "Validate the data making sure that after it has been cleaned it is within valid ranges.\r\n",
    "There are seperate test runners for each of the kick types: punt, field goals and kickoffs as each has they're own unique data properties."
   ],
   "metadata": {}
  },
  {
   "cell_type": "code",
   "execution_count": 40,
   "source": [
    "\r\n",
    "class DFTestsKickoff(unittest.TestCase):\r\n",
    "   def setUp(self):\r\n",
    "      try:\r\n",
    "         data = createDFwLocationFromFile('home_game_data_ko.json', team_codes, punt_ko_columns)\r\n",
    "         clean_data = clean_df_ko(data)\r\n",
    "         self.fixture = clean_data\r\n",
    "      except IOError as e:\r\n",
    "         print('Error:', e)\r\n",
    "\r\n",
    "   def test_years(self):\r\n",
    "      years = set([2016, 2017, 2018, 2019])\r\n",
    "      df_years = self.fixture['YEAR']\r\n",
    "      self.assertTrue(all([i in years for i in df_years]))\r\n",
    "   \r\n",
    "   def test_locations(self):\r\n",
    "      teams = set(x.upper() for x in team_codes)\r\n",
    "      df_locations = self.fixture['LOCATION']\r\n",
    "      self.assertTrue(all([i in teams for i in df_locations]))\r\n",
    "   \r\n",
    "   def test_ko_quantity(self):\r\n",
    "      df_ko_quantity = self.fixture['NUMBER_OF_KICKOFFS']\r\n",
    "      self.assertFalse((df_ko_quantity < 1).any())\r\n",
    "      self.assertFalse((df_ko_quantity > 100).any())\r\n",
    "   \r\n",
    "   def test_ko_avgs(self):\r\n",
    "      df_ko_avgs = self.fixture['KO_AVG']\r\n",
    "      self.assertFalse((df_ko_avgs < 40).any())\r\n",
    "      self.assertFalse((df_ko_avgs > 90).any())\r\n",
    "   \r\n",
    "   def test_col_names(self):\r\n",
    "      self.assertListEqual(list(self.fixture.columns), ['YEAR', 'NAME', 'LOCATION', 'TEAM', 'NUMBER_OF_KICKOFFS', 'KO_YDS', 'KO_AVG'])\r\n",
    "\r\n",
    "   def test_agg_ko_df(self):\r\n",
    "      res = get_location_ko_averages(self.fixture, 'LOCATION')\r\n",
    "      res_avgs = res['KO_AVG']\r\n",
    "      self.assertTrue((res['KO_AVG'] > 55).all())\r\n",
    "      self.assertTrue((res['KO_AVG'] < 75).all())\r\n",
    "      self.assertListEqual(list(res.columns), ['KO_AVG','LOCATION'])\r\n",
    "      \r\n",
    "   \r\n",
    "class DFTestsPunt(unittest.TestCase):\r\n",
    "   def setUp(self):\r\n",
    "      try:\r\n",
    "         data = createDFwLocationFromFile('away_game_data_punt.json', team_codes, punt_ko_columns)\r\n",
    "         clean_data = clean_df_punt(data)\r\n",
    "         self.fixture = clean_data\r\n",
    "      except IOError as e:\r\n",
    "         print('Error:', e)\r\n",
    "\r\n",
    "   def test_years(self):\r\n",
    "      years = set([2016, 2017, 2018, 2019])\r\n",
    "      df_years = self.fixture['YEAR']\r\n",
    "      self.assertTrue(all([i in years for i in df_years]))\r\n",
    "   \r\n",
    "   def test_locations(self):\r\n",
    "      teams = set(x.upper() for x in team_codes)\r\n",
    "      df_locations = self.fixture['LOCATION']\r\n",
    "      self.assertTrue(all([i in teams for i in df_locations]))\r\n",
    "   \r\n",
    "   def test_punt_quantity(self):\r\n",
    "      df_punt_quantity = self.fixture['NUMBER_OF_PUNTS']\r\n",
    "      self.assertFalse((df_punt_quantity < 1).any())\r\n",
    "      self.assertFalse((df_punt_quantity > 200).any())\r\n",
    "   def test_punt_avgs(self):\r\n",
    "      df_punt_avgs = self.fixture['PUNT_AVG']\r\n",
    "      self.assertFalse((df_punt_avgs < 20).any())\r\n",
    "      self.assertFalse((df_punt_avgs > 80).any())\r\n",
    "   def test_col_names(self):\r\n",
    "      self.assertListEqual(list(self.fixture.columns), ['YEAR', 'NAME', 'LOCATION', 'TEAM', 'NUMBER_OF_PUNTS', 'PUNT_YDS', 'PUNT_AVG'])\r\n",
    "   def test_agg_punt_df(self):\r\n",
    "      res = get_location_punt_averages(self.fixture, 'LOCATION')\r\n",
    "      res_avgs = res['PUNT_AVG']\r\n",
    "      self.assertTrue((res['PUNT_AVG'] > 35).all())\r\n",
    "      self.assertTrue((res['PUNT_AVG'] < 65).all())\r\n",
    "      self.assertListEqual(list(res.columns), ['PUNT_AVG','LOCATION'])\r\n",
    "\r\n",
    "class DFTestsFG(unittest.TestCase):\r\n",
    "   def setUp(self):\r\n",
    "      try:\r\n",
    "         data = createDFwLocationFromFile('away_game_data_fg.json', team_codes, fg_columns)\r\n",
    "         clean_data = clean_df_fg(data)\r\n",
    "         self.fixture = clean_data\r\n",
    "      except IOError as e:\r\n",
    "         print('Error:', e)\r\n",
    "\r\n",
    "   def test_years(self):\r\n",
    "      years = set([2016, 2017, 2018, 2019])\r\n",
    "      df_years = self.fixture['YEAR']\r\n",
    "      self.assertTrue(all([i in years for i in df_years]))\r\n",
    "   \r\n",
    "   def test_locations(self):\r\n",
    "      teams = set(x.upper() for x in team_codes)\r\n",
    "      df_locations = self.fixture['LOCATION']\r\n",
    "      self.assertTrue(all([i in teams for i in df_locations]))\r\n",
    "   \r\n",
    "   def test_attempts(self):\r\n",
    "      df_fg_attempts = self.fixture['FG_ATTEMPTS']\r\n",
    "      self.assertTrue((df_fg_attempts > 0).all())\r\n",
    "      self.assertTrue((df_fg_attempts < 100).all())\r\n",
    "   def test_col_names(self):\r\n",
    "      self.assertListEqual(list(self.fixture.columns), ['YEAR', 'NAME', 'LOCATION', 'TEAM', 'FG_ATTEMPTS', 'FG_MADE', 'ACCURACY'])\r\n",
    "   def test_agg_fg_df(self):\r\n",
    "      res = get_location_fg_accuracies(self.fixture, 'LOCATION')\r\n",
    "      res_avgs = res['ACCURACY']\r\n",
    "      self.assertTrue((res['ACCURACY'] > 60).all())\r\n",
    "      self.assertTrue((res['ACCURACY'] < 100).all())\r\n",
    "      self.assertListEqual(list(res.columns), ['ACCURACY','LOCATION'])\r\n",
    "\r\n",
    "        \r\n",
    "unittest.main(argv=['ingored', '-v'], exit=False)"
   ],
   "outputs": [
    {
     "output_type": "stream",
     "name": "stderr",
     "text": [
      "test_agg_fg_df (__main__.DFTestsFG) ... ok\n",
      "test_attempts (__main__.DFTestsFG) ... ok\n",
      "test_col_names (__main__.DFTestsFG) ... ok\n",
      "test_locations (__main__.DFTestsFG) ... ok\n",
      "test_years (__main__.DFTestsFG) ... ok\n",
      "test_agg_ko_df (__main__.DFTestsKickoff) ... ok\n",
      "test_col_names (__main__.DFTestsKickoff) ... ok\n",
      "test_ko_avgs (__main__.DFTestsKickoff) ... ok\n",
      "test_ko_quantity (__main__.DFTestsKickoff) ... ok\n",
      "test_locations (__main__.DFTestsKickoff) ... ok\n",
      "test_years (__main__.DFTestsKickoff) ... ok\n",
      "test_agg_punt_df (__main__.DFTestsPunt) ... ok\n",
      "test_col_names (__main__.DFTestsPunt) ... ok\n",
      "test_locations (__main__.DFTestsPunt) ... ok\n",
      "test_punt_avgs (__main__.DFTestsPunt) ... ok\n",
      "test_punt_quantity (__main__.DFTestsPunt) ... ok\n",
      "test_years (__main__.DFTestsPunt) ... ok\n",
      "test_build_df (__main__.TestDFCreationFromJsonFile) ... ok\n",
      "test_build_df_exists (__main__.TestDFCreationFromJsonFile) ... ok\n",
      "test_createDF_exists (__main__.TestDFCreationFromJsonFile) ... ok\n",
      "test_open_json_file (__main__.TestDFCreationFromJsonFile) ... ok\n",
      "test_open_json_file_exists (__main__.TestDFCreationFromJsonFile) ... ok\n",
      "test_get_url_away (__main__.TestImportGameData) ... ok\n",
      "test_get_url_home (__main__.TestImportGameData) ... ok\n",
      "test_kick_cat_fail (__main__.TestImportGameData) ... ok\n",
      "test_kick_cat_punt (__main__.TestImportGameData) ... ok\n",
      "\n",
      "----------------------------------------------------------------------\n",
      "Ran 26 tests in 0.582s\n",
      "\n",
      "OK\n"
     ]
    },
    {
     "output_type": "execute_result",
     "data": {
      "text/plain": [
       "<unittest.main.TestProgram at 0x18e148b70d0>"
      ]
     },
     "metadata": {},
     "execution_count": 40
    }
   ],
   "metadata": {}
  },
  {
   "cell_type": "markdown",
   "source": [
    "## Preliminary visualizations and data analyis \r\n",
    "\r\n",
    "Plot each location with boxplots showing each year seperately.  "
   ],
   "metadata": {}
  },
  {
   "cell_type": "code",
   "execution_count": 41,
   "source": [
    "import seaborn as sns\r\n",
    "import matplotlib.pyplot as plt\r\n",
    "from sklearn import preprocessing"
   ],
   "outputs": [],
   "metadata": {}
  },
  {
   "cell_type": "code",
   "execution_count": 64,
   "source": [
    "c = sns.catplot(x='LOCATION', y='PUNT_AVG', hue='YEAR', data=df_home_punt_clean, kind='box', aspect=5).set(title='Punt Averages by Year and Location')\r\n",
    "d = sns.catplot(x='LOCATION', y='ACCURACY', hue='YEAR', data=df_home_fg_clean, kind='box', aspect=5).set(title='Field Goal Accuracy by Year and Location')\r\n",
    "e = sns.catplot(x='LOCATION', y='KO_AVG', hue='YEAR', data=df_home_ko_clean, kind='box', aspect=5).set(title='Kickoff Averages by Year and Loaction')"
   ],
   "outputs": [
    {
     "output_type": "display_data",
     "data": {
      "text/plain": [
       "<Figure size 1861.38x360 with 1 Axes>"
      ],
      "image/png": "[encoded data removed]"
     },
     "metadata": {
      "needs_background": "light"
     }
    },
    {
     "output_type": "display_data",
     "data": {
      "text/plain": [
       "<Figure size 1861.38x360 with 1 Axes>"
      ],
      "image/png": "[encoded data removed]"
     },
     "metadata": {
      "needs_background": "light"
     }
    },
    {
     "output_type": "display_data",
     "data": {
      "text/plain": [
       "<Figure size 1861.38x360 with 1 Axes>"
      ],
      "image/png": "[encoded data removed]"
     },
     "metadata": {
      "needs_background": "light"
     }
    }
   ],
   "metadata": {}
  },
  {
   "cell_type": "code",
   "execution_count": 42,
   "source": [
    "check1 = df_home_fg_clean[df_home_fg_clean.YEAR.eq(2017) & df_home_fg_clean.LOCATION.eq('SSK')]\r\n",
    "check2 = df_home_fg_clean[df_home_fg_clean.YEAR.eq(2017) & df_home_fg_clean.LOCATION.eq('CGY')]\r\n",
    "\r\n",
    "check1['ACCURACY'], check2['ACCURACY']\r\n"
   ],
   "outputs": [
    {
     "output_type": "execute_result",
     "data": {
      "text/plain": [
       "(29    100.0\n",
       " 1      84.6\n",
       " 23    100.0\n",
       " 27    100.0\n",
       " 5     100.0\n",
       " 9     100.0\n",
       " 28    100.0\n",
       " 25    100.0\n",
       " Name: ACCURACY, dtype: float64,\n",
       " 27    100.0\n",
       " 13    100.0\n",
       " 8     100.0\n",
       " 11    100.0\n",
       " 16    100.0\n",
       " 23    100.0\n",
       " 3      95.7\n",
       " Name: ACCURACY, dtype: float64)"
      ]
     },
     "metadata": {},
     "execution_count": 42
    }
   ],
   "metadata": {}
  },
  {
   "cell_type": "markdown",
   "source": [
    "After plotting the data with boxplots showing the different performances in year and location, overall there is no way visually to tell if any particular location has better overall performance than any other. Field goal accuracy in particular is not not well represented with a boxplot as the data has a max of 100 as it is a percentage. You can see however that in Calgary in 2017, Saskatchewan 2017, and Winnipeg 2018 there is no box indicating no variance. Looked more closely at the data and saw that most kickers didn’t miss a single field goal in those locations for that season. The field goal data shows some outliers where accuracy was 0%. Box plots just looking at field goal accuracy don't take into account the amount of kicks so are not a great visual tool for field goals where a game where a kicker went 1 for 1 is scored equal weight to a game where a kicker went 4 for 4.  Overall however not much can be interpreted visually from these plots where each season is separated so going forward the locations seasons will all be combined and aggregated.  \r\n",
    "  \r\n",
    "  \r\n",
    "  \r\n",
    "## **Combine Seasons and Plot Data**\r\n"
   ],
   "metadata": {}
  },
  {
   "cell_type": "code",
   "execution_count": 43,
   "source": [
    "a = sns.catplot(x='LOCATION', y='PUNT_AVG', data=df_home_punt_clean, kind='box', aspect=2).set(title='Punt Averages By Location')\r\n",
    "b = sns.catplot(x='LOCATION', y='ACCURACY', data=df_home_fg_clean, kind='box', aspect=2).set(title='Field Goal Accuracy By Location')\r\n",
    "c = sns.catplot(x='LOCATION', y='KO_AVG', data=df_home_ko_clean, kind='box', aspect=2).set(title='Kickoff Average By Location')\r\n",
    "\r\n"
   ],
   "outputs": [
    {
     "output_type": "display_data",
     "data": {
      "text/plain": [
       "<Figure size 720x360 with 1 Axes>"
      ],
      "image/png": "[encoded data removed]"
     },
     "metadata": {
      "needs_background": "light"
     }
    },
    {
     "output_type": "display_data",
     "data": {
      "text/plain": [
       "<Figure size 720x360 with 1 Axes>"
      ],
      "image/png": "[encoded data removed]"
     },
     "metadata": {
      "needs_background": "light"
     }
    },
    {
     "output_type": "display_data",
     "data": {
      "text/plain": [
       "<Figure size 720x360 with 1 Axes>"
      ],
      "image/png": "[encoded data removed]"
     },
     "metadata": {
      "needs_background": "light"
     }
    }
   ],
   "metadata": {}
  },
  {
   "cell_type": "markdown",
   "source": [
    "After combining the seasons together and replotting, the graphs become easier to interpret. Looking at gross punt averages by location, we can see that Calgary and Ottawa appear to have the greatest averages and BC is somewhere in the middle. Field goal accuracy is again hard to interpret as a boxplot but we can see tah Calgary again appears to have the greatest accuracy as it has the smallest box around 100% accuracy. Kickoff average appears pretty even across locations except for Calgary stands out as the highest overall performer in this category. \r\n",
    "\r\n",
    "## Home Field Advantage\r\n",
    "\r\n",
    "One issue I wanted to address with this  data is that the local team kicker or punter statistics in their home stadiums would have a great weighting on that location’s results. They play at home 9 games a year, so their particular abilities could have the potential of skewing the results towards their individual ability because they will generally have about 9 times more data points then the other kickers in the league that compete at that staidum. The most a visiting team will play in an opposing stadium is twice a year while most players will only pay in that stadium once. Excluding the home players results from the data and only including the visiting kickers results in the stadium would result in more evenly weighted data. To account for this I created a second dataset that excluded all kicks and punts from the home team kicker in their respective stadiums so that the results could be compared. \r\n",
    "\r\n",
    "\r\n"
   ],
   "metadata": {}
  },
  {
   "cell_type": "code",
   "execution_count": 23,
   "source": [
    "dn = [home_punt_avgs, away_punt_avgs, home_fg_accuracies, away_fg_accuracies, home_ko_avgs, away_ko_avgs]\r\n",
    "\r\n",
    "dn = pd.concat(dn, axis=1)\r\n",
    "dn = dn.drop(['LOCATION'], axis=1)\r\n",
    "dn.columns = ['PUNT_AVG_ALL', 'PUNT_AVG_AWAY', 'FG_ACCURACY_ALL', 'FG_ACCURACY_AWAY', 'KO_AVG_ALL', 'KO_AVG_AWAY']\r\n",
    "\r\n",
    "dn"
   ],
   "outputs": [
    {
     "output_type": "execute_result",
     "data": {
      "text/plain": [
       "          PUNT_AVG_ALL  PUNT_AVG_AWAY  FG_ACCURACY_ALL  FG_ACCURACY_AWAY  \\\n",
       "LOCATION                                                                   \n",
       "BC                45.8           44.0             85.1              83.8   \n",
       "CGY               45.9           45.8             89.9              89.6   \n",
       "EDM               43.9           43.6             86.4              81.9   \n",
       "HAM               44.4           43.6             83.1              81.0   \n",
       "MTL               44.0           43.9             82.1              84.0   \n",
       "OTT               45.6           45.0             83.3              81.2   \n",
       "SSK               44.9           44.2             84.9              88.3   \n",
       "TOR               44.6           44.1             81.0              80.9   \n",
       "WPG               45.0           45.5             87.2              88.1   \n",
       "\n",
       "          KO_AVG_ALL  KO_AVG_AWAY  \n",
       "LOCATION                           \n",
       "BC              61.8         61.8  \n",
       "CGY             66.7         66.0  \n",
       "EDM             61.4         62.5  \n",
       "HAM             63.5         63.9  \n",
       "MTL             65.7         62.7  \n",
       "OTT             64.9         65.5  \n",
       "SSK             64.4         66.0  \n",
       "TOR             63.3         64.4  \n",
       "WPG             64.9         62.3  "
      ],
      "text/html": [
       "<div>\n",
       "<style scoped>\n",
       "    .dataframe tbody tr th:only-of-type {\n",
       "        vertical-align: middle;\n",
       "    }\n",
       "\n",
       "    .dataframe tbody tr th {\n",
       "        vertical-align: top;\n",
       "    }\n",
       "\n",
       "    .dataframe thead th {\n",
       "        text-align: right;\n",
       "    }\n",
       "</style>\n",
       "<table border=\"1\" class=\"dataframe\">\n",
       "  <thead>\n",
       "    <tr style=\"text-align: right;\">\n",
       "      <th></th>\n",
       "      <th>PUNT_AVG_ALL</th>\n",
       "      <th>PUNT_AVG_AWAY</th>\n",
       "      <th>FG_ACCURACY_ALL</th>\n",
       "      <th>FG_ACCURACY_AWAY</th>\n",
       "      <th>KO_AVG_ALL</th>\n",
       "      <th>KO_AVG_AWAY</th>\n",
       "    </tr>\n",
       "    <tr>\n",
       "      <th>LOCATION</th>\n",
       "      <th></th>\n",
       "      <th></th>\n",
       "      <th></th>\n",
       "      <th></th>\n",
       "      <th></th>\n",
       "      <th></th>\n",
       "    </tr>\n",
       "  </thead>\n",
       "  <tbody>\n",
       "    <tr>\n",
       "      <th>BC</th>\n",
       "      <td>45.8</td>\n",
       "      <td>44.0</td>\n",
       "      <td>85.1</td>\n",
       "      <td>83.8</td>\n",
       "      <td>61.8</td>\n",
       "      <td>61.8</td>\n",
       "    </tr>\n",
       "    <tr>\n",
       "      <th>CGY</th>\n",
       "      <td>45.9</td>\n",
       "      <td>45.8</td>\n",
       "      <td>89.9</td>\n",
       "      <td>89.6</td>\n",
       "      <td>66.7</td>\n",
       "      <td>66.0</td>\n",
       "    </tr>\n",
       "    <tr>\n",
       "      <th>EDM</th>\n",
       "      <td>43.9</td>\n",
       "      <td>43.6</td>\n",
       "      <td>86.4</td>\n",
       "      <td>81.9</td>\n",
       "      <td>61.4</td>\n",
       "      <td>62.5</td>\n",
       "    </tr>\n",
       "    <tr>\n",
       "      <th>HAM</th>\n",
       "      <td>44.4</td>\n",
       "      <td>43.6</td>\n",
       "      <td>83.1</td>\n",
       "      <td>81.0</td>\n",
       "      <td>63.5</td>\n",
       "      <td>63.9</td>\n",
       "    </tr>\n",
       "    <tr>\n",
       "      <th>MTL</th>\n",
       "      <td>44.0</td>\n",
       "      <td>43.9</td>\n",
       "      <td>82.1</td>\n",
       "      <td>84.0</td>\n",
       "      <td>65.7</td>\n",
       "      <td>62.7</td>\n",
       "    </tr>\n",
       "    <tr>\n",
       "      <th>OTT</th>\n",
       "      <td>45.6</td>\n",
       "      <td>45.0</td>\n",
       "      <td>83.3</td>\n",
       "      <td>81.2</td>\n",
       "      <td>64.9</td>\n",
       "      <td>65.5</td>\n",
       "    </tr>\n",
       "    <tr>\n",
       "      <th>SSK</th>\n",
       "      <td>44.9</td>\n",
       "      <td>44.2</td>\n",
       "      <td>84.9</td>\n",
       "      <td>88.3</td>\n",
       "      <td>64.4</td>\n",
       "      <td>66.0</td>\n",
       "    </tr>\n",
       "    <tr>\n",
       "      <th>TOR</th>\n",
       "      <td>44.6</td>\n",
       "      <td>44.1</td>\n",
       "      <td>81.0</td>\n",
       "      <td>80.9</td>\n",
       "      <td>63.3</td>\n",
       "      <td>64.4</td>\n",
       "    </tr>\n",
       "    <tr>\n",
       "      <th>WPG</th>\n",
       "      <td>45.0</td>\n",
       "      <td>45.5</td>\n",
       "      <td>87.2</td>\n",
       "      <td>88.1</td>\n",
       "      <td>64.9</td>\n",
       "      <td>62.3</td>\n",
       "    </tr>\n",
       "  </tbody>\n",
       "</table>\n",
       "</div>"
      ]
     },
     "metadata": {},
     "execution_count": 23
    }
   ],
   "metadata": {}
  },
  {
   "cell_type": "markdown",
   "source": [
    "### Plot all performances vs exclusively away games"
   ],
   "metadata": {}
  },
  {
   "cell_type": "code",
   "execution_count": 44,
   "source": [
    "dn_loc = dn.copy()\r\n",
    "dn_loc['LOCATION'] = dn.index\r\n",
    "\r\n",
    "ax1 = dn_loc.plot.bar(x='LOCATION', y=['PUNT_AVG_ALL', 'PUNT_AVG_AWAY'], title='Punt Averages')\r\n",
    "ax1.set_ylim(42, 48)\r\n",
    "ax1.legend(labels=['All Punters', 'Visting Punters'])\r\n"
   ],
   "outputs": [
    {
     "output_type": "execute_result",
     "data": {
      "text/plain": [
       "<matplotlib.legend.Legend at 0x18e14a77940>"
      ]
     },
     "metadata": {},
     "execution_count": 44
    },
    {
     "output_type": "display_data",
     "data": {
      "text/plain": [
       "<Figure size 432x288 with 1 Axes>"
      ],
      "image/png": "[encoded data removed]"
     },
     "metadata": {
      "needs_background": "light"
     }
    }
   ],
   "metadata": {}
  },
  {
   "cell_type": "code",
   "execution_count": 27,
   "source": [
    "ax2 = dn_loc.plot.bar(x='LOCATION', y=['FG_ACCURACY_ALL', 'FG_ACCURACY_AWAY'], title='Field Goal Accuracy')\r\n",
    "ax2.set_ylim(78, 92)\r\n",
    "ax2.legend(labels=['All Kickers', 'Visiting Kickers'])"
   ],
   "outputs": [
    {
     "output_type": "execute_result",
     "data": {
      "text/plain": [
       "<matplotlib.legend.Legend at 0x18e1286afd0>"
      ]
     },
     "metadata": {},
     "execution_count": 27
    },
    {
     "output_type": "display_data",
     "data": {
      "text/plain": [
       "<Figure size 432x288 with 1 Axes>"
      ],
      "image/png": "[encoded data removed]"
     },
     "metadata": {
      "needs_background": "light"
     }
    }
   ],
   "metadata": {}
  },
  {
   "cell_type": "code",
   "execution_count": 30,
   "source": [
    "\r\n",
    "ax3 = dn_loc.plot.bar(x='LOCATION', y=['KO_AVG_ALL',\t'KO_AVG_AWAY'], title='Kickoff Average')\r\n",
    "ax3.set_ylim(60, 68)\r\n",
    "ax3.legend(labels=['All Kickers', 'Visiting Kickers'])"
   ],
   "outputs": [
    {
     "output_type": "execute_result",
     "data": {
      "text/plain": [
       "<matplotlib.legend.Legend at 0x18e139763a0>"
      ]
     },
     "metadata": {},
     "execution_count": 30
    },
    {
     "output_type": "display_data",
     "data": {
      "text/plain": [
       "<Figure size 432x288 with 1 Axes>"
      ],
      "image/png": "[encoded data removed]"
     },
     "metadata": {
      "needs_background": "light"
     }
    }
   ],
   "metadata": {}
  },
  {
   "cell_type": "markdown",
   "source": [
    "When we compare all games played to only including away games, the most notable difference in punting average is actually in BC where the home punters results have significantly affected the average upwards from 44.0 to 45.8 yards. Field goal accuracy shows a slight drop in accuarcy in BC when removing the home kickers performance. The most notable diffences are in Edmonton (EDM) where the home kickers boost the accuarcy from 81.9% to 86.4% but in Saskatchewan (SSK) the home kickers performances drops the accuarcy from 88.3% to 84.9%. This shows that including the home players performance in the results can have a large impact on the overall results so it makes sense to exclude them going forward or at least keep them seperate. Otherwise we may be interpreting results that are actually just the result of a particularly strong or weak home town player's performaces over a few seasons as opposed to the affect of the location itself. When analyzing the kickoff average results, we can see in Montreal and Winnipeg the home kicker drastically brings up the average at those stadiums. The rest of the stadiums are more similar in their performances but there are still significant differences, whether positive or negative, after removing the home team kicker from the data. \r\n",
    "\r\n",
    "# **COULD YOU DO SOMETHING WITH THE WEIGHTS OF HOME KICKERS TO CHANGE THEM - DIVIDE BY 9 SORT OF THING**\r\n",
    "\r\n",
    "# Remove Home Kickers results from Data\r\n"
   ],
   "metadata": {}
  },
  {
   "cell_type": "code",
   "execution_count": 31,
   "source": [
    "# drop the columns that include the home players in the data\r\n",
    "dn_away_only = dn.drop(['PUNT_AVG_ALL', 'FG_ACCURACY_ALL', 'KO_AVG_ALL'], axis=1)\r\n",
    "dn_away_only"
   ],
   "outputs": [
    {
     "output_type": "execute_result",
     "data": {
      "text/plain": [
       "          PUNT_AVG_AWAY  FG_ACCURACY_AWAY  KO_AVG_AWAY\n",
       "LOCATION                                              \n",
       "BC                 44.0              83.8         61.8\n",
       "CGY                45.8              89.6         66.0\n",
       "EDM                43.6              81.9         62.5\n",
       "HAM                43.6              81.0         63.9\n",
       "MTL                43.9              84.0         62.7\n",
       "OTT                45.0              81.2         65.5\n",
       "SSK                44.2              88.3         66.0\n",
       "TOR                44.1              80.9         64.4\n",
       "WPG                45.5              88.1         62.3"
      ],
      "text/html": [
       "<div>\n",
       "<style scoped>\n",
       "    .dataframe tbody tr th:only-of-type {\n",
       "        vertical-align: middle;\n",
       "    }\n",
       "\n",
       "    .dataframe tbody tr th {\n",
       "        vertical-align: top;\n",
       "    }\n",
       "\n",
       "    .dataframe thead th {\n",
       "        text-align: right;\n",
       "    }\n",
       "</style>\n",
       "<table border=\"1\" class=\"dataframe\">\n",
       "  <thead>\n",
       "    <tr style=\"text-align: right;\">\n",
       "      <th></th>\n",
       "      <th>PUNT_AVG_AWAY</th>\n",
       "      <th>FG_ACCURACY_AWAY</th>\n",
       "      <th>KO_AVG_AWAY</th>\n",
       "    </tr>\n",
       "    <tr>\n",
       "      <th>LOCATION</th>\n",
       "      <th></th>\n",
       "      <th></th>\n",
       "      <th></th>\n",
       "    </tr>\n",
       "  </thead>\n",
       "  <tbody>\n",
       "    <tr>\n",
       "      <th>BC</th>\n",
       "      <td>44.0</td>\n",
       "      <td>83.8</td>\n",
       "      <td>61.8</td>\n",
       "    </tr>\n",
       "    <tr>\n",
       "      <th>CGY</th>\n",
       "      <td>45.8</td>\n",
       "      <td>89.6</td>\n",
       "      <td>66.0</td>\n",
       "    </tr>\n",
       "    <tr>\n",
       "      <th>EDM</th>\n",
       "      <td>43.6</td>\n",
       "      <td>81.9</td>\n",
       "      <td>62.5</td>\n",
       "    </tr>\n",
       "    <tr>\n",
       "      <th>HAM</th>\n",
       "      <td>43.6</td>\n",
       "      <td>81.0</td>\n",
       "      <td>63.9</td>\n",
       "    </tr>\n",
       "    <tr>\n",
       "      <th>MTL</th>\n",
       "      <td>43.9</td>\n",
       "      <td>84.0</td>\n",
       "      <td>62.7</td>\n",
       "    </tr>\n",
       "    <tr>\n",
       "      <th>OTT</th>\n",
       "      <td>45.0</td>\n",
       "      <td>81.2</td>\n",
       "      <td>65.5</td>\n",
       "    </tr>\n",
       "    <tr>\n",
       "      <th>SSK</th>\n",
       "      <td>44.2</td>\n",
       "      <td>88.3</td>\n",
       "      <td>66.0</td>\n",
       "    </tr>\n",
       "    <tr>\n",
       "      <th>TOR</th>\n",
       "      <td>44.1</td>\n",
       "      <td>80.9</td>\n",
       "      <td>64.4</td>\n",
       "    </tr>\n",
       "    <tr>\n",
       "      <th>WPG</th>\n",
       "      <td>45.5</td>\n",
       "      <td>88.1</td>\n",
       "      <td>62.3</td>\n",
       "    </tr>\n",
       "  </tbody>\n",
       "</table>\n",
       "</div>"
      ]
     },
     "metadata": {},
     "execution_count": 31
    }
   ],
   "metadata": {}
  },
  {
   "cell_type": "markdown",
   "source": [
    "## Scale the Data and Visualize\r\n",
    "By scaling the data, this will make comparison across all three kicking types easier to interpret.  Scaling transforms the data so that the newly scaled data will all be within the same range, in this case 0-1. \r\n",
    "The min-max scaler takes each data sets min and max values and converts those to the range of 0-1. Looking at the results where punt distance, field goal accuracy, and kickoff distance are all scaled it becomes obvious that Calgary has the max for all three categories and Saskatchewan ties Calgary in kickoff distance. Edmonton and Hamilton are the worst locations for punt, Toronto for field goal accuracy and BC for kickoff distance. By stacking the results we can see overall how each location stacks up with all three categories considered. In this case again Calgary leads in performance which is no surprise after seeing they were the top in each category individually as well. Next best was Saskatchewan with very strong field goal and kickoff performance carrying the load. From this plot we see that there are three bottom performers in BC, Edmonton, and Hamilton with Edmonton appearing to be the worst overall. "
   ],
   "metadata": {}
  },
  {
   "cell_type": "code",
   "execution_count": 72,
   "source": [
    "## Minmax Scaler\r\n",
    "\r\n",
    "scaler = preprocessing.MinMaxScaler()\r\n",
    "dn_scaled = pd.DataFrame(scaler.fit_transform(dn_away_only), columns=dn_away_only.columns)\r\n",
    "# add location back \r\n",
    "dn_scaled['LOCATION'] = dn.index\r\n",
    "ax3 = dn_scaled.plot.bar(x='LOCATION', title='Min Max Scaled Performance by Location')\r\n",
    "ax3.legend(labels=['Punt', 'Field Goal', 'Kickoff'])\r\n",
    "ax4 = dn_scaled.plot.bar(x='LOCATION', title='Min Max Scaled Performance by Location', stacked=True, sort_columns=True)\r\n",
    "ax4.legend(labels=['Punt', 'Field Goal', 'Kickoff'])\r\n"
   ],
   "outputs": [
    {
     "output_type": "execute_result",
     "data": {
      "text/plain": [
       "<matplotlib.legend.Legend at 0x19a0fbb1700>"
      ]
     },
     "metadata": {},
     "execution_count": 72
    },
    {
     "output_type": "display_data",
     "data": {
      "text/plain": [
       "<Figure size 432x288 with 1 Axes>"
      ],
      "image/png": "[encoded data removed]"
     },
     "metadata": {
      "needs_background": "light"
     }
    },
    {
     "output_type": "display_data",
     "data": {
      "text/plain": [
       "<Figure size 432x288 with 1 Axes>"
      ],
      "image/png": "[encoded data removed]"
     },
     "metadata": {
      "needs_background": "light"
     }
    }
   ],
   "metadata": {}
  },
  {
   "cell_type": "markdown",
   "source": [
    "Using sklearn's standard scaler helps to visualize which locations were above and below average in each discipline and by how much. The standard scaler \"standarizes features by removing the mean and scaling to unit variance\". We can now look at the plot and see that while Calgary was top in all three categories, punting held the greatest advantage over the rest of the stadiums. It's noticable how poorly kickoff performance in BC was.  BC Edmonton and Montreal were the only three stadiums to be below average in all three disciplines while calgary was the only stadium to be above average in all three. Only three stadiums were above the mean in field goal performance, Calgary, Saskatchewan nad Winnipeg and they were all quite significantly above the average. Again only three stadiums, Calgary, Ottawa and Winnipeg, were above average in punting with the rest below. From these plots the front runners for best stadiums to play in for kicking performance would be Calgary, Saskatchewan, Winnipeg and Ottawa. The hardest stadiums to perform in look to be Edmonton, BC, Hamilton and Toronto and then Montreal.  "
   ],
   "metadata": {}
  },
  {
   "cell_type": "code",
   "execution_count": 73,
   "source": [
    "# Standard Scaler\r\n",
    "standard_scaler = preprocessing.StandardScaler()\r\n",
    "dn_standard_scaled = pd.DataFrame(standard_scaler.fit_transform(dn_away_only), columns=dn_away_only.columns)\r\n",
    "dn_standard_scaled['LOCATION'] = dn_away_only.index\r\n",
    "ax5 = dn_standard_scaled.plot.bar(x='LOCATION', title='Standard Scaled Performance by Location')\r\n",
    "ax5.legend(labels=['Punt', 'Field Goal', 'Kickoff'])"
   ],
   "outputs": [
    {
     "output_type": "execute_result",
     "data": {
      "text/plain": [
       "<matplotlib.legend.Legend at 0x19a0fcff070>"
      ]
     },
     "metadata": {},
     "execution_count": 73
    },
    {
     "output_type": "display_data",
     "data": {
      "text/plain": [
       "<Figure size 432x288 with 1 Axes>"
      ],
      "image/png": "[encoded data removed]"
     },
     "metadata": {
      "needs_background": "light"
     }
    }
   ],
   "metadata": {}
  },
  {
   "cell_type": "markdown",
   "source": [
    "## Compare Outdoor vs Indoor (BC) Data\r\n",
    "\r\n",
    "Now I will compare BC to all the other outdoor stadiums. In order to compare the indoor vs outdoor data, a column of the combined performances of all outdoor locations (not BC) will be added to the dataset. This will requiring aggregating all the data from the other locations, mainly field goal attempts and attempts made, then punt yards and number of punts. The location will be labeled as 'OUT' for outdoors."
   ],
   "metadata": {}
  },
  {
   "cell_type": "code",
   "execution_count": 63,
   "source": [
    "def add_outdoor_column(df):\r\n",
    "   df['IN_OUT'] = np.where(df['LOCATION'] == 'BC', 'IN','OUT')\r\n",
    "   return df\r\n",
    "\r\n",
    "df_away_punt_inout = add_outdoor_column(df_away_punt_clean)\r\n",
    "df_away_fg_inout = add_outdoor_column(df_away_fg_clean)\r\n",
    "df_away_ko_inout = add_outdoor_column(df_away_ko_clean)\r\n",
    "\r\n"
   ],
   "outputs": [],
   "metadata": {}
  },
  {
   "cell_type": "markdown",
   "source": [
    "## Visualizations of Indoors (BC) vs Outdoors"
   ],
   "metadata": {}
  },
  {
   "cell_type": "code",
   "execution_count": 66,
   "source": [
    "p = sns.catplot(\r\n",
    "      x='IN_OUT', \r\n",
    "      y='ACCURACY', \r\n",
    "      data=df_away_fg_inout, \r\n",
    "      kind='box'\r\n",
    "   ).set(title='Outdoor Vs Indoor Field Goal Accuracy')\r\n",
    "\r\n",
    "o = sns.catplot(\r\n",
    "      x='IN_OUT',\r\n",
    "      y='PUNT_AVG',\r\n",
    "      data=df_away_punt_inout,\r\n",
    "      kind='box'\r\n",
    "   ).set(title='Outdoor Vs Indoor Punt Average')\r\n",
    "\r\n",
    "q = sns.catplot(\r\n",
    "      x='IN_OUT',\r\n",
    "      y='KO_AVG',\r\n",
    "      data=df_away_ko_inout,\r\n",
    "      kind='box'\r\n",
    "   ).set(title='Outdoor Vs Indoor Kickoff Average')"
   ],
   "outputs": [
    {
     "output_type": "display_data",
     "data": {
      "text/plain": [
       "<Figure size 360x360 with 1 Axes>"
      ],
      "image/png": "[encoded data removed]"
     },
     "metadata": {
      "needs_background": "light"
     }
    },
    {
     "output_type": "display_data",
     "data": {
      "text/plain": [
       "<Figure size 360x360 with 1 Axes>"
      ],
      "image/png": "[encoded data removed]"
     },
     "metadata": {
      "needs_background": "light"
     }
    },
    {
     "output_type": "display_data",
     "data": {
      "text/plain": [
       "<Figure size 360x360 with 1 Axes>"
      ],
      "image/png": "[encoded data removed]"
     },
     "metadata": {
      "needs_background": "light"
     }
    }
   ],
   "metadata": {}
  },
  {
   "cell_type": "markdown",
   "source": [
    "## Get Outdoor Overall Punt Average, Kickoff Average and Field Goal Accuracy\r\n",
    "\r\n",
    "Use previously defined function to get aggregate averages and accuracies but this time have the aggregates grouped on the newly created `IN_OUT` column."
   ],
   "metadata": {}
  },
  {
   "cell_type": "code",
   "execution_count": 92,
   "source": [
    "df_away_punt_inout_agg = get_location_punt_averages(df_away_punt_inout, 'IN_OUT')\r\n",
    "df_away_fg_inout_agg = get_location_fg_accuracies(df_away_fg_inout, 'IN_OUT')\r\n",
    "df_away_ko_inout_agg = get_location_ko_averages(df_away_ko_inout, 'IN_OUT')\r\n",
    "\r\n",
    "\r\n",
    "df_in_out_agg = pd.concat([df_away_fg_inout_agg, df_away_punt_inout_agg, df_away_ko_inout_agg], axis=1)\r\n",
    "df_in_out_agg = df_in_out_agg.loc[:,~df_in_out_agg.columns.duplicated()]\r\n",
    "\r\n",
    "df_in_out_agg\r\n"
   ],
   "outputs": [
    {
     "output_type": "execute_result",
     "data": {
      "text/plain": [
       "        ACCURACY IN_OUT  PUNT_AVG  KO_AVG\n",
       "IN_OUT                                   \n",
       "IN          83.8     IN      44.0    61.8\n",
       "OUT         84.1    OUT      44.5    64.1"
      ],
      "text/html": [
       "<div>\n",
       "<style scoped>\n",
       "    .dataframe tbody tr th:only-of-type {\n",
       "        vertical-align: middle;\n",
       "    }\n",
       "\n",
       "    .dataframe tbody tr th {\n",
       "        vertical-align: top;\n",
       "    }\n",
       "\n",
       "    .dataframe thead th {\n",
       "        text-align: right;\n",
       "    }\n",
       "</style>\n",
       "<table border=\"1\" class=\"dataframe\">\n",
       "  <thead>\n",
       "    <tr style=\"text-align: right;\">\n",
       "      <th></th>\n",
       "      <th>ACCURACY</th>\n",
       "      <th>IN_OUT</th>\n",
       "      <th>PUNT_AVG</th>\n",
       "      <th>KO_AVG</th>\n",
       "    </tr>\n",
       "    <tr>\n",
       "      <th>IN_OUT</th>\n",
       "      <th></th>\n",
       "      <th></th>\n",
       "      <th></th>\n",
       "      <th></th>\n",
       "    </tr>\n",
       "  </thead>\n",
       "  <tbody>\n",
       "    <tr>\n",
       "      <th>IN</th>\n",
       "      <td>83.8</td>\n",
       "      <td>IN</td>\n",
       "      <td>44.0</td>\n",
       "      <td>61.8</td>\n",
       "    </tr>\n",
       "    <tr>\n",
       "      <th>OUT</th>\n",
       "      <td>84.1</td>\n",
       "      <td>OUT</td>\n",
       "      <td>44.5</td>\n",
       "      <td>64.1</td>\n",
       "    </tr>\n",
       "  </tbody>\n",
       "</table>\n",
       "</div>"
      ]
     },
     "metadata": {},
     "execution_count": 92
    }
   ],
   "metadata": {}
  },
  {
   "cell_type": "code",
   "execution_count": 105,
   "source": [
    "ax12 = df_in_out_agg.plot.bar(\r\n",
    "      title='Indoor Vs Outdoor Performance',\r\n",
    "      x='IN_OUT', \r\n",
    "      y=['ACCURACY','PUNT_AVG','KO_AVG']\r\n",
    "   )\r\n",
    "ax12.set_ylim(35, 90)\r\n",
    "ax12.legend(\r\n",
    "      bbox_to_anchor=(1.05, 1),\r\n",
    "      loc='upper left',\r\n",
    "      borderaxespad=0.,\r\n",
    "      labels=['Field Goal','Punt','Kickoff']\r\n",
    "   )\r\n",
    "for container in ax12.containers:\r\n",
    "   ax12.bar_label(container)"
   ],
   "outputs": [
    {
     "output_type": "display_data",
     "data": {
      "text/plain": [
       "<Figure size 432x288 with 1 Axes>"
      ],
      "image/png": "[encoded data removed]"
     },
     "metadata": {
      "needs_background": "light"
     }
    }
   ],
   "metadata": {}
  },
  {
   "cell_type": "code",
   "execution_count": 5,
   "source": [
    "fg_detailed_df = pd.read_excel('fg_data.xlsx', engine='openpyxl')\r\n",
    "punt_net_df = pd.read_excel('punt_net_data.xlsx', engine='openpyxl')"
   ],
   "outputs": [],
   "metadata": {}
  },
  {
   "cell_type": "markdown",
   "source": [
    "When we aggregate all the outdoor stadiums data to compare to the indoor stadium in BC we find that the punting average for away only games is actually below outdoor stadiums. Punters averaged 44.0 yards per punt in BC while outdoors the average was 44.5 yards so players performanced better overall outdoors than indoors in BC but these are rather close. When looking at the aggregate of field goal accuracy, they are extremely close. Overall field goal accuracy was very similar in BC place compared to outdoor stadiums. Over the 4 seasons visiting kickers accuarcy was 83.8% while visiting kicker's accuracy in outdoor stadiums totalled 84.1%. While both field goal accuracy and punt average are very close indoors vs outdoors, kickoff average is quite a bit different with indoors being 61.8 yards and outdoors 64.1 yards per kickoff. A difference of 2.3 yards in favour of kicking outdoors vs indoors. \r\n",
    "\r\n",
    "## Individual Performances\r\n",
    "\r\n",
    "In the future of this project I will analyze the results of indivudal players performances across stadiums. For the purposes of this preliminary report I will organize the data in order to show a proof of concept and display some basic plots that could be used in the full report going forward."
   ],
   "metadata": {}
  },
  {
   "cell_type": "code",
   "execution_count": 127,
   "source": [
    "df_away_punt_clean.head()"
   ],
   "outputs": [
    {
     "output_type": "execute_result",
     "data": {
      "text/plain": [
       "    YEAR          NAME LOCATION TEAM  NUMBER_OF_PUNTS  PUNT_YDS  PUNT_AVG  \\\n",
       "11  2016  BARTEL, Josh       BC  SSK                7       335      47.9   \n",
       "13  2017  BARTEL, Josh       BC  SSK                7       316      45.1   \n",
       "12  2018  BARTEL, Josh       BC  SSK                8       317      39.6   \n",
       "26  2017   BEDE, Boris       BC  MTL                5       210      42.0   \n",
       "5   2018   BEDE, Boris       BC  MTL                9       378      42.0   \n",
       "\n",
       "   IN_OUT  \n",
       "11     IN  \n",
       "13     IN  \n",
       "12     IN  \n",
       "26     IN  \n",
       "5      IN  "
      ],
      "text/html": [
       "<div>\n",
       "<style scoped>\n",
       "    .dataframe tbody tr th:only-of-type {\n",
       "        vertical-align: middle;\n",
       "    }\n",
       "\n",
       "    .dataframe tbody tr th {\n",
       "        vertical-align: top;\n",
       "    }\n",
       "\n",
       "    .dataframe thead th {\n",
       "        text-align: right;\n",
       "    }\n",
       "</style>\n",
       "<table border=\"1\" class=\"dataframe\">\n",
       "  <thead>\n",
       "    <tr style=\"text-align: right;\">\n",
       "      <th></th>\n",
       "      <th>YEAR</th>\n",
       "      <th>NAME</th>\n",
       "      <th>LOCATION</th>\n",
       "      <th>TEAM</th>\n",
       "      <th>NUMBER_OF_PUNTS</th>\n",
       "      <th>PUNT_YDS</th>\n",
       "      <th>PUNT_AVG</th>\n",
       "      <th>IN_OUT</th>\n",
       "    </tr>\n",
       "  </thead>\n",
       "  <tbody>\n",
       "    <tr>\n",
       "      <th>11</th>\n",
       "      <td>2016</td>\n",
       "      <td>BARTEL, Josh</td>\n",
       "      <td>BC</td>\n",
       "      <td>SSK</td>\n",
       "      <td>7</td>\n",
       "      <td>335</td>\n",
       "      <td>47.9</td>\n",
       "      <td>IN</td>\n",
       "    </tr>\n",
       "    <tr>\n",
       "      <th>13</th>\n",
       "      <td>2017</td>\n",
       "      <td>BARTEL, Josh</td>\n",
       "      <td>BC</td>\n",
       "      <td>SSK</td>\n",
       "      <td>7</td>\n",
       "      <td>316</td>\n",
       "      <td>45.1</td>\n",
       "      <td>IN</td>\n",
       "    </tr>\n",
       "    <tr>\n",
       "      <th>12</th>\n",
       "      <td>2018</td>\n",
       "      <td>BARTEL, Josh</td>\n",
       "      <td>BC</td>\n",
       "      <td>SSK</td>\n",
       "      <td>8</td>\n",
       "      <td>317</td>\n",
       "      <td>39.6</td>\n",
       "      <td>IN</td>\n",
       "    </tr>\n",
       "    <tr>\n",
       "      <th>26</th>\n",
       "      <td>2017</td>\n",
       "      <td>BEDE, Boris</td>\n",
       "      <td>BC</td>\n",
       "      <td>MTL</td>\n",
       "      <td>5</td>\n",
       "      <td>210</td>\n",
       "      <td>42.0</td>\n",
       "      <td>IN</td>\n",
       "    </tr>\n",
       "    <tr>\n",
       "      <th>5</th>\n",
       "      <td>2018</td>\n",
       "      <td>BEDE, Boris</td>\n",
       "      <td>BC</td>\n",
       "      <td>MTL</td>\n",
       "      <td>9</td>\n",
       "      <td>378</td>\n",
       "      <td>42.0</td>\n",
       "      <td>IN</td>\n",
       "    </tr>\n",
       "  </tbody>\n",
       "</table>\n",
       "</div>"
      ]
     },
     "metadata": {},
     "execution_count": 127
    }
   ],
   "metadata": {}
  },
  {
   "cell_type": "code",
   "execution_count": 236,
   "source": [
    "\r\n",
    "df_ind_punt_pivot = pd.pivot_table(df_away_punt_clean, values=['NUMBER_OF_PUNTS', 'PUNT_YDS'], index=['NAME'], columns=['LOCATION'], fill_value=0, aggfunc=np.sum)\r\n",
    "df_ind_punt_pivot\r\n",
    "\r\n",
    "#FILTER OUT PUNTERS WITH LESS THAN 20 TOTAL PUNTS\r\n",
    "df_ind_punt_pivot['TOTAL_PUNTS'] = df_ind_punt_pivot.loc[:, ['NUMBER_OF_PUNTS']].iloc[:, :].sum(axis=1)\r\n",
    "df_ind_punt_filtered = df_ind_punt_pivot[df_ind_punt_pivot.TOTAL_PUNTS.gt(25)]\r\n",
    "\r\n",
    "df_ind_punt_filtered.head()\r\n"
   ],
   "outputs": [
    {
     "output_type": "execute_result",
     "data": {
      "text/plain": [
       "                  NUMBER_OF_PUNTS                                 PUNT_YDS  \\\n",
       "LOCATION                       BC CGY EDM HAM MTL OTT SSK TOR WPG       BC   \n",
       "NAME                                                                         \n",
       "BARTEL, Josh                   22  26  37  24  24  24   3  17  38      968   \n",
       "BEDE, Boris                    20  30  16  22   0  26  23  33  23      842   \n",
       "CASTILLO, Sergio                6  23   7   0   0   7   4  15   0      257   \n",
       "HAJRULLAHU, Lirim              23  27  20  15  21  38  27  14  21     1018   \n",
       "LEONE, Richie                  16  20  19  26  19   7  32  30  21      795   \n",
       "\n",
       "                                                                  TOTAL_PUNTS  \n",
       "LOCATION            CGY   EDM   HAM   MTL   OTT   SSK   TOR   WPG              \n",
       "NAME                                                                           \n",
       "BARTEL, Josh       1113  1606   990  1008  1044   122   759  1573         215  \n",
       "BEDE, Boris        1320   747   927     0  1194   990  1503  1034         193  \n",
       "CASTILLO, Sergio   1075   317     0     0   294   181   656     0          62  \n",
       "HAJRULLAHU, Lirim  1243   854   628   845  1698  1189   621   930         206  \n",
       "LEONE, Richie      1069   854  1204   899   383  1516  1381   995         190  "
      ],
      "text/html": [
       "<div>\n",
       "<style scoped>\n",
       "    .dataframe tbody tr th:only-of-type {\n",
       "        vertical-align: middle;\n",
       "    }\n",
       "\n",
       "    .dataframe tbody tr th {\n",
       "        vertical-align: top;\n",
       "    }\n",
       "\n",
       "    .dataframe thead tr th {\n",
       "        text-align: left;\n",
       "    }\n",
       "\n",
       "    .dataframe thead tr:last-of-type th {\n",
       "        text-align: right;\n",
       "    }\n",
       "</style>\n",
       "<table border=\"1\" class=\"dataframe\">\n",
       "  <thead>\n",
       "    <tr>\n",
       "      <th></th>\n",
       "      <th colspan=\"9\" halign=\"left\">NUMBER_OF_PUNTS</th>\n",
       "      <th colspan=\"9\" halign=\"left\">PUNT_YDS</th>\n",
       "      <th>TOTAL_PUNTS</th>\n",
       "    </tr>\n",
       "    <tr>\n",
       "      <th>LOCATION</th>\n",
       "      <th>BC</th>\n",
       "      <th>CGY</th>\n",
       "      <th>EDM</th>\n",
       "      <th>HAM</th>\n",
       "      <th>MTL</th>\n",
       "      <th>OTT</th>\n",
       "      <th>SSK</th>\n",
       "      <th>TOR</th>\n",
       "      <th>WPG</th>\n",
       "      <th>BC</th>\n",
       "      <th>CGY</th>\n",
       "      <th>EDM</th>\n",
       "      <th>HAM</th>\n",
       "      <th>MTL</th>\n",
       "      <th>OTT</th>\n",
       "      <th>SSK</th>\n",
       "      <th>TOR</th>\n",
       "      <th>WPG</th>\n",
       "      <th></th>\n",
       "    </tr>\n",
       "    <tr>\n",
       "      <th>NAME</th>\n",
       "      <th></th>\n",
       "      <th></th>\n",
       "      <th></th>\n",
       "      <th></th>\n",
       "      <th></th>\n",
       "      <th></th>\n",
       "      <th></th>\n",
       "      <th></th>\n",
       "      <th></th>\n",
       "      <th></th>\n",
       "      <th></th>\n",
       "      <th></th>\n",
       "      <th></th>\n",
       "      <th></th>\n",
       "      <th></th>\n",
       "      <th></th>\n",
       "      <th></th>\n",
       "      <th></th>\n",
       "      <th></th>\n",
       "    </tr>\n",
       "  </thead>\n",
       "  <tbody>\n",
       "    <tr>\n",
       "      <th>BARTEL, Josh</th>\n",
       "      <td>22</td>\n",
       "      <td>26</td>\n",
       "      <td>37</td>\n",
       "      <td>24</td>\n",
       "      <td>24</td>\n",
       "      <td>24</td>\n",
       "      <td>3</td>\n",
       "      <td>17</td>\n",
       "      <td>38</td>\n",
       "      <td>968</td>\n",
       "      <td>1113</td>\n",
       "      <td>1606</td>\n",
       "      <td>990</td>\n",
       "      <td>1008</td>\n",
       "      <td>1044</td>\n",
       "      <td>122</td>\n",
       "      <td>759</td>\n",
       "      <td>1573</td>\n",
       "      <td>215</td>\n",
       "    </tr>\n",
       "    <tr>\n",
       "      <th>BEDE, Boris</th>\n",
       "      <td>20</td>\n",
       "      <td>30</td>\n",
       "      <td>16</td>\n",
       "      <td>22</td>\n",
       "      <td>0</td>\n",
       "      <td>26</td>\n",
       "      <td>23</td>\n",
       "      <td>33</td>\n",
       "      <td>23</td>\n",
       "      <td>842</td>\n",
       "      <td>1320</td>\n",
       "      <td>747</td>\n",
       "      <td>927</td>\n",
       "      <td>0</td>\n",
       "      <td>1194</td>\n",
       "      <td>990</td>\n",
       "      <td>1503</td>\n",
       "      <td>1034</td>\n",
       "      <td>193</td>\n",
       "    </tr>\n",
       "    <tr>\n",
       "      <th>CASTILLO, Sergio</th>\n",
       "      <td>6</td>\n",
       "      <td>23</td>\n",
       "      <td>7</td>\n",
       "      <td>0</td>\n",
       "      <td>0</td>\n",
       "      <td>7</td>\n",
       "      <td>4</td>\n",
       "      <td>15</td>\n",
       "      <td>0</td>\n",
       "      <td>257</td>\n",
       "      <td>1075</td>\n",
       "      <td>317</td>\n",
       "      <td>0</td>\n",
       "      <td>0</td>\n",
       "      <td>294</td>\n",
       "      <td>181</td>\n",
       "      <td>656</td>\n",
       "      <td>0</td>\n",
       "      <td>62</td>\n",
       "    </tr>\n",
       "    <tr>\n",
       "      <th>HAJRULLAHU, Lirim</th>\n",
       "      <td>23</td>\n",
       "      <td>27</td>\n",
       "      <td>20</td>\n",
       "      <td>15</td>\n",
       "      <td>21</td>\n",
       "      <td>38</td>\n",
       "      <td>27</td>\n",
       "      <td>14</td>\n",
       "      <td>21</td>\n",
       "      <td>1018</td>\n",
       "      <td>1243</td>\n",
       "      <td>854</td>\n",
       "      <td>628</td>\n",
       "      <td>845</td>\n",
       "      <td>1698</td>\n",
       "      <td>1189</td>\n",
       "      <td>621</td>\n",
       "      <td>930</td>\n",
       "      <td>206</td>\n",
       "    </tr>\n",
       "    <tr>\n",
       "      <th>LEONE, Richie</th>\n",
       "      <td>16</td>\n",
       "      <td>20</td>\n",
       "      <td>19</td>\n",
       "      <td>26</td>\n",
       "      <td>19</td>\n",
       "      <td>7</td>\n",
       "      <td>32</td>\n",
       "      <td>30</td>\n",
       "      <td>21</td>\n",
       "      <td>795</td>\n",
       "      <td>1069</td>\n",
       "      <td>854</td>\n",
       "      <td>1204</td>\n",
       "      <td>899</td>\n",
       "      <td>383</td>\n",
       "      <td>1516</td>\n",
       "      <td>1381</td>\n",
       "      <td>995</td>\n",
       "      <td>190</td>\n",
       "    </tr>\n",
       "  </tbody>\n",
       "</table>\n",
       "</div>"
      ]
     },
     "metadata": {},
     "execution_count": 236
    }
   ],
   "metadata": {}
  },
  {
   "cell_type": "code",
   "execution_count": 274,
   "source": [
    "\r\n",
    "df_ind_fg = pd.pivot_table(df_away_fg_clean, values=['FG_MADE','FG_ATTEMPTS'], index=['NAME'], columns=['LOCATION'], fill_value=0, aggfunc=np.sum)\r\n",
    "df_ind_fg['TOTAL_ATTEMPTS'] = df_ind_fg.loc[:, ['FG_ATTEMPTS']].iloc[:, :].sum(axis=1)\r\n",
    "\r\n",
    "# FILTER OUT ANY KICKERS WITH LESS THAN 15 ATTEMPTS\r\n",
    "df_ind_fg_filtered = df_ind_fg[df_ind_fg.TOTAL_ATTEMPTS.gt(15)]\r\n",
    "df_ind_fg_filtered_2 = df_ind_fg[df_ind_fg.TOTAL_ATTEMPTS.gt(40)]\r\n",
    "df_ind_fg_filtered\r\n"
   ],
   "outputs": [
    {
     "output_type": "execute_result",
     "data": {
      "text/plain": [
       "                  FG_ATTEMPTS                                 FG_MADE          \\\n",
       "LOCATION                   BC CGY EDM HAM MTL OTT SSK TOR WPG      BC CGY EDM   \n",
       "NAME                                                                            \n",
       "BEDE, Boris                 5   5   7   3   0  12  11   8  10       3   5   6   \n",
       "CASTILLO, Sergio            5   1  11   0   3   8   6   4   7       3   1   9   \n",
       "CRAPIGNA, Tyler             3   4   6   8   8  10   0   6   1       1   4   5   \n",
       "HAJRULLAHU, Lirim          19   9   9   9  15  17  14   7  10      15   7   6   \n",
       "LAUTHER, Brett              8   8   3   6   2   3   0   6   7       7   7   3   \n",
       "LEONE, Richie               0   2   3   5   7   2   3   3   5       0   1   2   \n",
       "LONG, Ty                    0   9   6   3   5   4   1   6   7       0   9   4   \n",
       "MAHER, Brett                6   5   4   6  12   5   5   8   2       6   5   4   \n",
       "MEDLOCK, Justin            11  10  16  18  16  19  23  11   0       9  10  12   \n",
       "MILO, Christopher           4   5   4   3   9   0   6   4   0       4   5   4   \n",
       "PAREDES, Rene              19   0  11  12  11  18  14  12  11      17   0  10   \n",
       "WARD, Lewis                 3   5   5  12   5   0   5   6   2       3   5   5   \n",
       "WHYTE, Sean                12   8   0   7  10   7  12  10  17      12   6   0   \n",
       "\n",
       "                                          TOTAL_ATTEMPTS  \n",
       "LOCATION          HAM MTL OTT SSK TOR WPG                 \n",
       "NAME                                                      \n",
       "BEDE, Boris         3   0  10  10   3   9             61  \n",
       "CASTILLO, Sergio    0   3   8   6   3   6             45  \n",
       "CRAPIGNA, Tyler     8   5   8   0   6   1             46  \n",
       "HAJRULLAHU, Lirim   7  15  14  13   7   9            109  \n",
       "LAUTHER, Brett      4   2   3   0   5   7             43  \n",
       "LEONE, Richie       3   5   1   1   3   4             30  \n",
       "LONG, Ty            3   4   2   0   6   7             41  \n",
       "MAHER, Brett        6  10   4   3   6   1             53  \n",
       "MEDLOCK, Justin    13  15  16  21   9   0            124  \n",
       "MILO, Christopher   3   6   0   4   3   0             35  \n",
       "PAREDES, Rene       9   9  14  14  11   9            108  \n",
       "WARD, Lewis        12   5   0   5   4   2             43  \n",
       "WHYTE, Sean         7   8   5  11   9  15             83  "
      ],
      "text/html": [
       "<div>\n",
       "<style scoped>\n",
       "    .dataframe tbody tr th:only-of-type {\n",
       "        vertical-align: middle;\n",
       "    }\n",
       "\n",
       "    .dataframe tbody tr th {\n",
       "        vertical-align: top;\n",
       "    }\n",
       "\n",
       "    .dataframe thead tr th {\n",
       "        text-align: left;\n",
       "    }\n",
       "\n",
       "    .dataframe thead tr:last-of-type th {\n",
       "        text-align: right;\n",
       "    }\n",
       "</style>\n",
       "<table border=\"1\" class=\"dataframe\">\n",
       "  <thead>\n",
       "    <tr>\n",
       "      <th></th>\n",
       "      <th colspan=\"9\" halign=\"left\">FG_ATTEMPTS</th>\n",
       "      <th colspan=\"9\" halign=\"left\">FG_MADE</th>\n",
       "      <th>TOTAL_ATTEMPTS</th>\n",
       "    </tr>\n",
       "    <tr>\n",
       "      <th>LOCATION</th>\n",
       "      <th>BC</th>\n",
       "      <th>CGY</th>\n",
       "      <th>EDM</th>\n",
       "      <th>HAM</th>\n",
       "      <th>MTL</th>\n",
       "      <th>OTT</th>\n",
       "      <th>SSK</th>\n",
       "      <th>TOR</th>\n",
       "      <th>WPG</th>\n",
       "      <th>BC</th>\n",
       "      <th>CGY</th>\n",
       "      <th>EDM</th>\n",
       "      <th>HAM</th>\n",
       "      <th>MTL</th>\n",
       "      <th>OTT</th>\n",
       "      <th>SSK</th>\n",
       "      <th>TOR</th>\n",
       "      <th>WPG</th>\n",
       "      <th></th>\n",
       "    </tr>\n",
       "    <tr>\n",
       "      <th>NAME</th>\n",
       "      <th></th>\n",
       "      <th></th>\n",
       "      <th></th>\n",
       "      <th></th>\n",
       "      <th></th>\n",
       "      <th></th>\n",
       "      <th></th>\n",
       "      <th></th>\n",
       "      <th></th>\n",
       "      <th></th>\n",
       "      <th></th>\n",
       "      <th></th>\n",
       "      <th></th>\n",
       "      <th></th>\n",
       "      <th></th>\n",
       "      <th></th>\n",
       "      <th></th>\n",
       "      <th></th>\n",
       "      <th></th>\n",
       "    </tr>\n",
       "  </thead>\n",
       "  <tbody>\n",
       "    <tr>\n",
       "      <th>BEDE, Boris</th>\n",
       "      <td>5</td>\n",
       "      <td>5</td>\n",
       "      <td>7</td>\n",
       "      <td>3</td>\n",
       "      <td>0</td>\n",
       "      <td>12</td>\n",
       "      <td>11</td>\n",
       "      <td>8</td>\n",
       "      <td>10</td>\n",
       "      <td>3</td>\n",
       "      <td>5</td>\n",
       "      <td>6</td>\n",
       "      <td>3</td>\n",
       "      <td>0</td>\n",
       "      <td>10</td>\n",
       "      <td>10</td>\n",
       "      <td>3</td>\n",
       "      <td>9</td>\n",
       "      <td>61</td>\n",
       "    </tr>\n",
       "    <tr>\n",
       "      <th>CASTILLO, Sergio</th>\n",
       "      <td>5</td>\n",
       "      <td>1</td>\n",
       "      <td>11</td>\n",
       "      <td>0</td>\n",
       "      <td>3</td>\n",
       "      <td>8</td>\n",
       "      <td>6</td>\n",
       "      <td>4</td>\n",
       "      <td>7</td>\n",
       "      <td>3</td>\n",
       "      <td>1</td>\n",
       "      <td>9</td>\n",
       "      <td>0</td>\n",
       "      <td>3</td>\n",
       "      <td>8</td>\n",
       "      <td>6</td>\n",
       "      <td>3</td>\n",
       "      <td>6</td>\n",
       "      <td>45</td>\n",
       "    </tr>\n",
       "    <tr>\n",
       "      <th>CRAPIGNA, Tyler</th>\n",
       "      <td>3</td>\n",
       "      <td>4</td>\n",
       "      <td>6</td>\n",
       "      <td>8</td>\n",
       "      <td>8</td>\n",
       "      <td>10</td>\n",
       "      <td>0</td>\n",
       "      <td>6</td>\n",
       "      <td>1</td>\n",
       "      <td>1</td>\n",
       "      <td>4</td>\n",
       "      <td>5</td>\n",
       "      <td>8</td>\n",
       "      <td>5</td>\n",
       "      <td>8</td>\n",
       "      <td>0</td>\n",
       "      <td>6</td>\n",
       "      <td>1</td>\n",
       "      <td>46</td>\n",
       "    </tr>\n",
       "    <tr>\n",
       "      <th>HAJRULLAHU, Lirim</th>\n",
       "      <td>19</td>\n",
       "      <td>9</td>\n",
       "      <td>9</td>\n",
       "      <td>9</td>\n",
       "      <td>15</td>\n",
       "      <td>17</td>\n",
       "      <td>14</td>\n",
       "      <td>7</td>\n",
       "      <td>10</td>\n",
       "      <td>15</td>\n",
       "      <td>7</td>\n",
       "      <td>6</td>\n",
       "      <td>7</td>\n",
       "      <td>15</td>\n",
       "      <td>14</td>\n",
       "      <td>13</td>\n",
       "      <td>7</td>\n",
       "      <td>9</td>\n",
       "      <td>109</td>\n",
       "    </tr>\n",
       "    <tr>\n",
       "      <th>LAUTHER, Brett</th>\n",
       "      <td>8</td>\n",
       "      <td>8</td>\n",
       "      <td>3</td>\n",
       "      <td>6</td>\n",
       "      <td>2</td>\n",
       "      <td>3</td>\n",
       "      <td>0</td>\n",
       "      <td>6</td>\n",
       "      <td>7</td>\n",
       "      <td>7</td>\n",
       "      <td>7</td>\n",
       "      <td>3</td>\n",
       "      <td>4</td>\n",
       "      <td>2</td>\n",
       "      <td>3</td>\n",
       "      <td>0</td>\n",
       "      <td>5</td>\n",
       "      <td>7</td>\n",
       "      <td>43</td>\n",
       "    </tr>\n",
       "    <tr>\n",
       "      <th>LEONE, Richie</th>\n",
       "      <td>0</td>\n",
       "      <td>2</td>\n",
       "      <td>3</td>\n",
       "      <td>5</td>\n",
       "      <td>7</td>\n",
       "      <td>2</td>\n",
       "      <td>3</td>\n",
       "      <td>3</td>\n",
       "      <td>5</td>\n",
       "      <td>0</td>\n",
       "      <td>1</td>\n",
       "      <td>2</td>\n",
       "      <td>3</td>\n",
       "      <td>5</td>\n",
       "      <td>1</td>\n",
       "      <td>1</td>\n",
       "      <td>3</td>\n",
       "      <td>4</td>\n",
       "      <td>30</td>\n",
       "    </tr>\n",
       "    <tr>\n",
       "      <th>LONG, Ty</th>\n",
       "      <td>0</td>\n",
       "      <td>9</td>\n",
       "      <td>6</td>\n",
       "      <td>3</td>\n",
       "      <td>5</td>\n",
       "      <td>4</td>\n",
       "      <td>1</td>\n",
       "      <td>6</td>\n",
       "      <td>7</td>\n",
       "      <td>0</td>\n",
       "      <td>9</td>\n",
       "      <td>4</td>\n",
       "      <td>3</td>\n",
       "      <td>4</td>\n",
       "      <td>2</td>\n",
       "      <td>0</td>\n",
       "      <td>6</td>\n",
       "      <td>7</td>\n",
       "      <td>41</td>\n",
       "    </tr>\n",
       "    <tr>\n",
       "      <th>MAHER, Brett</th>\n",
       "      <td>6</td>\n",
       "      <td>5</td>\n",
       "      <td>4</td>\n",
       "      <td>6</td>\n",
       "      <td>12</td>\n",
       "      <td>5</td>\n",
       "      <td>5</td>\n",
       "      <td>8</td>\n",
       "      <td>2</td>\n",
       "      <td>6</td>\n",
       "      <td>5</td>\n",
       "      <td>4</td>\n",
       "      <td>6</td>\n",
       "      <td>10</td>\n",
       "      <td>4</td>\n",
       "      <td>3</td>\n",
       "      <td>6</td>\n",
       "      <td>1</td>\n",
       "      <td>53</td>\n",
       "    </tr>\n",
       "    <tr>\n",
       "      <th>MEDLOCK, Justin</th>\n",
       "      <td>11</td>\n",
       "      <td>10</td>\n",
       "      <td>16</td>\n",
       "      <td>18</td>\n",
       "      <td>16</td>\n",
       "      <td>19</td>\n",
       "      <td>23</td>\n",
       "      <td>11</td>\n",
       "      <td>0</td>\n",
       "      <td>9</td>\n",
       "      <td>10</td>\n",
       "      <td>12</td>\n",
       "      <td>13</td>\n",
       "      <td>15</td>\n",
       "      <td>16</td>\n",
       "      <td>21</td>\n",
       "      <td>9</td>\n",
       "      <td>0</td>\n",
       "      <td>124</td>\n",
       "    </tr>\n",
       "    <tr>\n",
       "      <th>MILO, Christopher</th>\n",
       "      <td>4</td>\n",
       "      <td>5</td>\n",
       "      <td>4</td>\n",
       "      <td>3</td>\n",
       "      <td>9</td>\n",
       "      <td>0</td>\n",
       "      <td>6</td>\n",
       "      <td>4</td>\n",
       "      <td>0</td>\n",
       "      <td>4</td>\n",
       "      <td>5</td>\n",
       "      <td>4</td>\n",
       "      <td>3</td>\n",
       "      <td>6</td>\n",
       "      <td>0</td>\n",
       "      <td>4</td>\n",
       "      <td>3</td>\n",
       "      <td>0</td>\n",
       "      <td>35</td>\n",
       "    </tr>\n",
       "    <tr>\n",
       "      <th>PAREDES, Rene</th>\n",
       "      <td>19</td>\n",
       "      <td>0</td>\n",
       "      <td>11</td>\n",
       "      <td>12</td>\n",
       "      <td>11</td>\n",
       "      <td>18</td>\n",
       "      <td>14</td>\n",
       "      <td>12</td>\n",
       "      <td>11</td>\n",
       "      <td>17</td>\n",
       "      <td>0</td>\n",
       "      <td>10</td>\n",
       "      <td>9</td>\n",
       "      <td>9</td>\n",
       "      <td>14</td>\n",
       "      <td>14</td>\n",
       "      <td>11</td>\n",
       "      <td>9</td>\n",
       "      <td>108</td>\n",
       "    </tr>\n",
       "    <tr>\n",
       "      <th>WARD, Lewis</th>\n",
       "      <td>3</td>\n",
       "      <td>5</td>\n",
       "      <td>5</td>\n",
       "      <td>12</td>\n",
       "      <td>5</td>\n",
       "      <td>0</td>\n",
       "      <td>5</td>\n",
       "      <td>6</td>\n",
       "      <td>2</td>\n",
       "      <td>3</td>\n",
       "      <td>5</td>\n",
       "      <td>5</td>\n",
       "      <td>12</td>\n",
       "      <td>5</td>\n",
       "      <td>0</td>\n",
       "      <td>5</td>\n",
       "      <td>4</td>\n",
       "      <td>2</td>\n",
       "      <td>43</td>\n",
       "    </tr>\n",
       "    <tr>\n",
       "      <th>WHYTE, Sean</th>\n",
       "      <td>12</td>\n",
       "      <td>8</td>\n",
       "      <td>0</td>\n",
       "      <td>7</td>\n",
       "      <td>10</td>\n",
       "      <td>7</td>\n",
       "      <td>12</td>\n",
       "      <td>10</td>\n",
       "      <td>17</td>\n",
       "      <td>12</td>\n",
       "      <td>6</td>\n",
       "      <td>0</td>\n",
       "      <td>7</td>\n",
       "      <td>8</td>\n",
       "      <td>5</td>\n",
       "      <td>11</td>\n",
       "      <td>9</td>\n",
       "      <td>15</td>\n",
       "      <td>83</td>\n",
       "    </tr>\n",
       "  </tbody>\n",
       "</table>\n",
       "</div>"
      ]
     },
     "metadata": {},
     "execution_count": 274
    }
   ],
   "metadata": {}
  },
  {
   "cell_type": "code",
   "execution_count": 275,
   "source": [
    "# df_ind_fg_acc = \r\n",
    "df_ind_fg_acc = (df_ind_fg_filtered.FG_MADE / df_ind_fg_filtered.FG_ATTEMPTS * 100).round(1)\r\n",
    "df_ind_fg_acc_2 = (df_ind_fg_filtered_2.FG_MADE / df_ind_fg_filtered_2.FG_ATTEMPTS * 100).round(1)\r\n",
    "df_ind_fg_acc\r\n",
    "\r\n",
    "\r\n"
   ],
   "outputs": [
    {
     "output_type": "execute_result",
     "data": {
      "text/plain": [
       "LOCATION              BC    CGY    EDM    HAM    MTL    OTT    SSK    TOR  \\\n",
       "NAME                                                                        \n",
       "BEDE, Boris         60.0  100.0   85.7  100.0    NaN   83.3   90.9   37.5   \n",
       "CASTILLO, Sergio    60.0  100.0   81.8    NaN  100.0  100.0  100.0   75.0   \n",
       "CRAPIGNA, Tyler     33.3  100.0   83.3  100.0   62.5   80.0    NaN  100.0   \n",
       "HAJRULLAHU, Lirim   78.9   77.8   66.7   77.8  100.0   82.4   92.9  100.0   \n",
       "LAUTHER, Brett      87.5   87.5  100.0   66.7  100.0  100.0    NaN   83.3   \n",
       "LEONE, Richie        NaN   50.0   66.7   60.0   71.4   50.0   33.3  100.0   \n",
       "LONG, Ty             NaN  100.0   66.7  100.0   80.0   50.0    0.0  100.0   \n",
       "MAHER, Brett       100.0  100.0  100.0  100.0   83.3   80.0   60.0   75.0   \n",
       "MEDLOCK, Justin     81.8  100.0   75.0   72.2   93.8   84.2   91.3   81.8   \n",
       "MILO, Christopher  100.0  100.0  100.0  100.0   66.7    NaN   66.7   75.0   \n",
       "PAREDES, Rene       89.5    NaN   90.9   75.0   81.8   77.8  100.0   91.7   \n",
       "WARD, Lewis        100.0  100.0  100.0  100.0  100.0    NaN  100.0   66.7   \n",
       "WHYTE, Sean        100.0   75.0    NaN  100.0   80.0   71.4   91.7   90.0   \n",
       "\n",
       "LOCATION             WPG  \n",
       "NAME                      \n",
       "BEDE, Boris         90.0  \n",
       "CASTILLO, Sergio    85.7  \n",
       "CRAPIGNA, Tyler    100.0  \n",
       "HAJRULLAHU, Lirim   90.0  \n",
       "LAUTHER, Brett     100.0  \n",
       "LEONE, Richie       80.0  \n",
       "LONG, Ty           100.0  \n",
       "MAHER, Brett        50.0  \n",
       "MEDLOCK, Justin      NaN  \n",
       "MILO, Christopher    NaN  \n",
       "PAREDES, Rene       81.8  \n",
       "WARD, Lewis        100.0  \n",
       "WHYTE, Sean         88.2  "
      ],
      "text/html": [
       "<div>\n",
       "<style scoped>\n",
       "    .dataframe tbody tr th:only-of-type {\n",
       "        vertical-align: middle;\n",
       "    }\n",
       "\n",
       "    .dataframe tbody tr th {\n",
       "        vertical-align: top;\n",
       "    }\n",
       "\n",
       "    .dataframe thead th {\n",
       "        text-align: right;\n",
       "    }\n",
       "</style>\n",
       "<table border=\"1\" class=\"dataframe\">\n",
       "  <thead>\n",
       "    <tr style=\"text-align: right;\">\n",
       "      <th>LOCATION</th>\n",
       "      <th>BC</th>\n",
       "      <th>CGY</th>\n",
       "      <th>EDM</th>\n",
       "      <th>HAM</th>\n",
       "      <th>MTL</th>\n",
       "      <th>OTT</th>\n",
       "      <th>SSK</th>\n",
       "      <th>TOR</th>\n",
       "      <th>WPG</th>\n",
       "    </tr>\n",
       "    <tr>\n",
       "      <th>NAME</th>\n",
       "      <th></th>\n",
       "      <th></th>\n",
       "      <th></th>\n",
       "      <th></th>\n",
       "      <th></th>\n",
       "      <th></th>\n",
       "      <th></th>\n",
       "      <th></th>\n",
       "      <th></th>\n",
       "    </tr>\n",
       "  </thead>\n",
       "  <tbody>\n",
       "    <tr>\n",
       "      <th>BEDE, Boris</th>\n",
       "      <td>60.0</td>\n",
       "      <td>100.0</td>\n",
       "      <td>85.7</td>\n",
       "      <td>100.0</td>\n",
       "      <td>NaN</td>\n",
       "      <td>83.3</td>\n",
       "      <td>90.9</td>\n",
       "      <td>37.5</td>\n",
       "      <td>90.0</td>\n",
       "    </tr>\n",
       "    <tr>\n",
       "      <th>CASTILLO, Sergio</th>\n",
       "      <td>60.0</td>\n",
       "      <td>100.0</td>\n",
       "      <td>81.8</td>\n",
       "      <td>NaN</td>\n",
       "      <td>100.0</td>\n",
       "      <td>100.0</td>\n",
       "      <td>100.0</td>\n",
       "      <td>75.0</td>\n",
       "      <td>85.7</td>\n",
       "    </tr>\n",
       "    <tr>\n",
       "      <th>CRAPIGNA, Tyler</th>\n",
       "      <td>33.3</td>\n",
       "      <td>100.0</td>\n",
       "      <td>83.3</td>\n",
       "      <td>100.0</td>\n",
       "      <td>62.5</td>\n",
       "      <td>80.0</td>\n",
       "      <td>NaN</td>\n",
       "      <td>100.0</td>\n",
       "      <td>100.0</td>\n",
       "    </tr>\n",
       "    <tr>\n",
       "      <th>HAJRULLAHU, Lirim</th>\n",
       "      <td>78.9</td>\n",
       "      <td>77.8</td>\n",
       "      <td>66.7</td>\n",
       "      <td>77.8</td>\n",
       "      <td>100.0</td>\n",
       "      <td>82.4</td>\n",
       "      <td>92.9</td>\n",
       "      <td>100.0</td>\n",
       "      <td>90.0</td>\n",
       "    </tr>\n",
       "    <tr>\n",
       "      <th>LAUTHER, Brett</th>\n",
       "      <td>87.5</td>\n",
       "      <td>87.5</td>\n",
       "      <td>100.0</td>\n",
       "      <td>66.7</td>\n",
       "      <td>100.0</td>\n",
       "      <td>100.0</td>\n",
       "      <td>NaN</td>\n",
       "      <td>83.3</td>\n",
       "      <td>100.0</td>\n",
       "    </tr>\n",
       "    <tr>\n",
       "      <th>LEONE, Richie</th>\n",
       "      <td>NaN</td>\n",
       "      <td>50.0</td>\n",
       "      <td>66.7</td>\n",
       "      <td>60.0</td>\n",
       "      <td>71.4</td>\n",
       "      <td>50.0</td>\n",
       "      <td>33.3</td>\n",
       "      <td>100.0</td>\n",
       "      <td>80.0</td>\n",
       "    </tr>\n",
       "    <tr>\n",
       "      <th>LONG, Ty</th>\n",
       "      <td>NaN</td>\n",
       "      <td>100.0</td>\n",
       "      <td>66.7</td>\n",
       "      <td>100.0</td>\n",
       "      <td>80.0</td>\n",
       "      <td>50.0</td>\n",
       "      <td>0.0</td>\n",
       "      <td>100.0</td>\n",
       "      <td>100.0</td>\n",
       "    </tr>\n",
       "    <tr>\n",
       "      <th>MAHER, Brett</th>\n",
       "      <td>100.0</td>\n",
       "      <td>100.0</td>\n",
       "      <td>100.0</td>\n",
       "      <td>100.0</td>\n",
       "      <td>83.3</td>\n",
       "      <td>80.0</td>\n",
       "      <td>60.0</td>\n",
       "      <td>75.0</td>\n",
       "      <td>50.0</td>\n",
       "    </tr>\n",
       "    <tr>\n",
       "      <th>MEDLOCK, Justin</th>\n",
       "      <td>81.8</td>\n",
       "      <td>100.0</td>\n",
       "      <td>75.0</td>\n",
       "      <td>72.2</td>\n",
       "      <td>93.8</td>\n",
       "      <td>84.2</td>\n",
       "      <td>91.3</td>\n",
       "      <td>81.8</td>\n",
       "      <td>NaN</td>\n",
       "    </tr>\n",
       "    <tr>\n",
       "      <th>MILO, Christopher</th>\n",
       "      <td>100.0</td>\n",
       "      <td>100.0</td>\n",
       "      <td>100.0</td>\n",
       "      <td>100.0</td>\n",
       "      <td>66.7</td>\n",
       "      <td>NaN</td>\n",
       "      <td>66.7</td>\n",
       "      <td>75.0</td>\n",
       "      <td>NaN</td>\n",
       "    </tr>\n",
       "    <tr>\n",
       "      <th>PAREDES, Rene</th>\n",
       "      <td>89.5</td>\n",
       "      <td>NaN</td>\n",
       "      <td>90.9</td>\n",
       "      <td>75.0</td>\n",
       "      <td>81.8</td>\n",
       "      <td>77.8</td>\n",
       "      <td>100.0</td>\n",
       "      <td>91.7</td>\n",
       "      <td>81.8</td>\n",
       "    </tr>\n",
       "    <tr>\n",
       "      <th>WARD, Lewis</th>\n",
       "      <td>100.0</td>\n",
       "      <td>100.0</td>\n",
       "      <td>100.0</td>\n",
       "      <td>100.0</td>\n",
       "      <td>100.0</td>\n",
       "      <td>NaN</td>\n",
       "      <td>100.0</td>\n",
       "      <td>66.7</td>\n",
       "      <td>100.0</td>\n",
       "    </tr>\n",
       "    <tr>\n",
       "      <th>WHYTE, Sean</th>\n",
       "      <td>100.0</td>\n",
       "      <td>75.0</td>\n",
       "      <td>NaN</td>\n",
       "      <td>100.0</td>\n",
       "      <td>80.0</td>\n",
       "      <td>71.4</td>\n",
       "      <td>91.7</td>\n",
       "      <td>90.0</td>\n",
       "      <td>88.2</td>\n",
       "    </tr>\n",
       "  </tbody>\n",
       "</table>\n",
       "</div>"
      ]
     },
     "metadata": {},
     "execution_count": 275
    }
   ],
   "metadata": {}
  },
  {
   "cell_type": "code",
   "execution_count": 226,
   "source": [
    "df_ind_punt_avg = (df_ind_punt_filtered.PUNT_YDS / df_ind_punt_filtered.NUMBER_OF_PUNTS).round(1)\r\n",
    "df_ind_punt_avg"
   ],
   "outputs": [
    {
     "output_type": "execute_result",
     "data": {
      "text/plain": [
       "LOCATION             BC   CGY   EDM   HAM   MTL   OTT   SSK   TOR   WPG\n",
       "NAME                                                                   \n",
       "BARTEL, Josh       44.0  42.8  43.4  41.2  42.0  43.5  40.7  44.6  41.4\n",
       "BEDE, Boris        42.1  44.0  46.7  42.1   NaN  45.9  43.0  45.5  45.0\n",
       "CASTILLO, Sergio   42.8  46.7  45.3   NaN   NaN  42.0  45.2  43.7   NaN\n",
       "HAJRULLAHU, Lirim  44.3  46.0  42.7  41.9  40.2  44.7  44.0  44.4  44.3\n",
       "LEONE, Richie      49.7  53.4  44.9  46.3  47.3  54.7  47.4  46.0  47.4\n",
       "LONG, Ty            NaN  49.9  46.2  45.1  50.3  47.3  44.9  42.1  49.0\n",
       "MAHER, Brett       40.5  41.0  48.5  44.2  48.5  44.3  44.5  44.8  51.5\n",
       "MAVER, Rob         42.7   NaN  43.9  45.2  44.4  43.5  42.8  41.7  46.1\n",
       "MEDEIROS, Zackary  42.5  39.8  41.0  43.1  43.3  41.5  45.9  37.3  42.1\n",
       "MEDLOCK, Justin    40.4  43.6  41.6  46.0  42.2  42.6  43.2  43.5   NaN\n",
       "O'NEILL, Hugh      44.6  48.3   NaN  44.6  40.5  47.2  44.9  45.4  43.6\n",
       "PFEFFER, Ronald    49.0   NaN  38.0  39.4  40.3  48.0  48.4   NaN  51.8\n",
       "RYAN, Jonathan     49.5  52.8  34.6  45.6  52.1  48.3   NaN  44.5  46.9\n",
       "SHAW, Grant        47.5  48.9   NaN  43.0  37.4  39.5  48.0  42.0  44.5"
      ],
      "text/html": [
       "<div>\n",
       "<style scoped>\n",
       "    .dataframe tbody tr th:only-of-type {\n",
       "        vertical-align: middle;\n",
       "    }\n",
       "\n",
       "    .dataframe tbody tr th {\n",
       "        vertical-align: top;\n",
       "    }\n",
       "\n",
       "    .dataframe thead th {\n",
       "        text-align: right;\n",
       "    }\n",
       "</style>\n",
       "<table border=\"1\" class=\"dataframe\">\n",
       "  <thead>\n",
       "    <tr style=\"text-align: right;\">\n",
       "      <th>LOCATION</th>\n",
       "      <th>BC</th>\n",
       "      <th>CGY</th>\n",
       "      <th>EDM</th>\n",
       "      <th>HAM</th>\n",
       "      <th>MTL</th>\n",
       "      <th>OTT</th>\n",
       "      <th>SSK</th>\n",
       "      <th>TOR</th>\n",
       "      <th>WPG</th>\n",
       "    </tr>\n",
       "    <tr>\n",
       "      <th>NAME</th>\n",
       "      <th></th>\n",
       "      <th></th>\n",
       "      <th></th>\n",
       "      <th></th>\n",
       "      <th></th>\n",
       "      <th></th>\n",
       "      <th></th>\n",
       "      <th></th>\n",
       "      <th></th>\n",
       "    </tr>\n",
       "  </thead>\n",
       "  <tbody>\n",
       "    <tr>\n",
       "      <th>BARTEL, Josh</th>\n",
       "      <td>44.0</td>\n",
       "      <td>42.8</td>\n",
       "      <td>43.4</td>\n",
       "      <td>41.2</td>\n",
       "      <td>42.0</td>\n",
       "      <td>43.5</td>\n",
       "      <td>40.7</td>\n",
       "      <td>44.6</td>\n",
       "      <td>41.4</td>\n",
       "    </tr>\n",
       "    <tr>\n",
       "      <th>BEDE, Boris</th>\n",
       "      <td>42.1</td>\n",
       "      <td>44.0</td>\n",
       "      <td>46.7</td>\n",
       "      <td>42.1</td>\n",
       "      <td>NaN</td>\n",
       "      <td>45.9</td>\n",
       "      <td>43.0</td>\n",
       "      <td>45.5</td>\n",
       "      <td>45.0</td>\n",
       "    </tr>\n",
       "    <tr>\n",
       "      <th>CASTILLO, Sergio</th>\n",
       "      <td>42.8</td>\n",
       "      <td>46.7</td>\n",
       "      <td>45.3</td>\n",
       "      <td>NaN</td>\n",
       "      <td>NaN</td>\n",
       "      <td>42.0</td>\n",
       "      <td>45.2</td>\n",
       "      <td>43.7</td>\n",
       "      <td>NaN</td>\n",
       "    </tr>\n",
       "    <tr>\n",
       "      <th>HAJRULLAHU, Lirim</th>\n",
       "      <td>44.3</td>\n",
       "      <td>46.0</td>\n",
       "      <td>42.7</td>\n",
       "      <td>41.9</td>\n",
       "      <td>40.2</td>\n",
       "      <td>44.7</td>\n",
       "      <td>44.0</td>\n",
       "      <td>44.4</td>\n",
       "      <td>44.3</td>\n",
       "    </tr>\n",
       "    <tr>\n",
       "      <th>LEONE, Richie</th>\n",
       "      <td>49.7</td>\n",
       "      <td>53.4</td>\n",
       "      <td>44.9</td>\n",
       "      <td>46.3</td>\n",
       "      <td>47.3</td>\n",
       "      <td>54.7</td>\n",
       "      <td>47.4</td>\n",
       "      <td>46.0</td>\n",
       "      <td>47.4</td>\n",
       "    </tr>\n",
       "    <tr>\n",
       "      <th>LONG, Ty</th>\n",
       "      <td>NaN</td>\n",
       "      <td>49.9</td>\n",
       "      <td>46.2</td>\n",
       "      <td>45.1</td>\n",
       "      <td>50.3</td>\n",
       "      <td>47.3</td>\n",
       "      <td>44.9</td>\n",
       "      <td>42.1</td>\n",
       "      <td>49.0</td>\n",
       "    </tr>\n",
       "    <tr>\n",
       "      <th>MAHER, Brett</th>\n",
       "      <td>40.5</td>\n",
       "      <td>41.0</td>\n",
       "      <td>48.5</td>\n",
       "      <td>44.2</td>\n",
       "      <td>48.5</td>\n",
       "      <td>44.3</td>\n",
       "      <td>44.5</td>\n",
       "      <td>44.8</td>\n",
       "      <td>51.5</td>\n",
       "    </tr>\n",
       "    <tr>\n",
       "      <th>MAVER, Rob</th>\n",
       "      <td>42.7</td>\n",
       "      <td>NaN</td>\n",
       "      <td>43.9</td>\n",
       "      <td>45.2</td>\n",
       "      <td>44.4</td>\n",
       "      <td>43.5</td>\n",
       "      <td>42.8</td>\n",
       "      <td>41.7</td>\n",
       "      <td>46.1</td>\n",
       "    </tr>\n",
       "    <tr>\n",
       "      <th>MEDEIROS, Zackary</th>\n",
       "      <td>42.5</td>\n",
       "      <td>39.8</td>\n",
       "      <td>41.0</td>\n",
       "      <td>43.1</td>\n",
       "      <td>43.3</td>\n",
       "      <td>41.5</td>\n",
       "      <td>45.9</td>\n",
       "      <td>37.3</td>\n",
       "      <td>42.1</td>\n",
       "    </tr>\n",
       "    <tr>\n",
       "      <th>MEDLOCK, Justin</th>\n",
       "      <td>40.4</td>\n",
       "      <td>43.6</td>\n",
       "      <td>41.6</td>\n",
       "      <td>46.0</td>\n",
       "      <td>42.2</td>\n",
       "      <td>42.6</td>\n",
       "      <td>43.2</td>\n",
       "      <td>43.5</td>\n",
       "      <td>NaN</td>\n",
       "    </tr>\n",
       "    <tr>\n",
       "      <th>O'NEILL, Hugh</th>\n",
       "      <td>44.6</td>\n",
       "      <td>48.3</td>\n",
       "      <td>NaN</td>\n",
       "      <td>44.6</td>\n",
       "      <td>40.5</td>\n",
       "      <td>47.2</td>\n",
       "      <td>44.9</td>\n",
       "      <td>45.4</td>\n",
       "      <td>43.6</td>\n",
       "    </tr>\n",
       "    <tr>\n",
       "      <th>PFEFFER, Ronald</th>\n",
       "      <td>49.0</td>\n",
       "      <td>NaN</td>\n",
       "      <td>38.0</td>\n",
       "      <td>39.4</td>\n",
       "      <td>40.3</td>\n",
       "      <td>48.0</td>\n",
       "      <td>48.4</td>\n",
       "      <td>NaN</td>\n",
       "      <td>51.8</td>\n",
       "    </tr>\n",
       "    <tr>\n",
       "      <th>RYAN, Jonathan</th>\n",
       "      <td>49.5</td>\n",
       "      <td>52.8</td>\n",
       "      <td>34.6</td>\n",
       "      <td>45.6</td>\n",
       "      <td>52.1</td>\n",
       "      <td>48.3</td>\n",
       "      <td>NaN</td>\n",
       "      <td>44.5</td>\n",
       "      <td>46.9</td>\n",
       "    </tr>\n",
       "    <tr>\n",
       "      <th>SHAW, Grant</th>\n",
       "      <td>47.5</td>\n",
       "      <td>48.9</td>\n",
       "      <td>NaN</td>\n",
       "      <td>43.0</td>\n",
       "      <td>37.4</td>\n",
       "      <td>39.5</td>\n",
       "      <td>48.0</td>\n",
       "      <td>42.0</td>\n",
       "      <td>44.5</td>\n",
       "    </tr>\n",
       "  </tbody>\n",
       "</table>\n",
       "</div>"
      ]
     },
     "metadata": {},
     "execution_count": 226
    }
   ],
   "metadata": {}
  },
  {
   "cell_type": "markdown",
   "source": [
    "In order to compare each kicker to their own performances across stadiums I aggregated each kickers results across all seasons to have enough data for each kicker and punter. Earlier we found through visual analysis that comparing results across each season was not a useful tool to see what was going on and this limits the amount of data available for each location if it is split up by season as well. For punters and kickers I got the total amount of punts or field goals each had and decided to remove those that fell below a certain amount. I determined this by looking at the data and using an amount that would keep the most kickers in that had data across the majority of stadiums, removing those that had only a few kicks or punts in some stadiums and none in many others. There are kickers and punters who may have only played a handful of games and therfore didn't have data across all stadiums so this way we can limit the results to kickers and punters with data in all the stadiums. However this is away data only so there are data points that are NaN (not a number) as that kicker would have data in those stadiums but this is excluded as that was their home stadium. It is not 0% accuracy or 0 yard average so it is recorded as NaN so it is not included in any column statistics. For example in the punt dataframe BEDE played all 4 seasons in Montreal so under his column for Montreal it is NaN."
   ],
   "metadata": {}
  },
  {
   "cell_type": "code",
   "execution_count": 234,
   "source": [
    "\r\n",
    "ax15 = df_ind_punt_avg.mean().round(1).plot(\r\n",
    "   kind='bar', \r\n",
    "   ylim=(42.5, 47.5), \r\n",
    "   grid=True, \r\n",
    "   title='Location Means of Individual Punt Performances', \r\n",
    "   ylabel='Punt Average (Yards)'\r\n",
    ")\r\n",
    "ax15.axhline(df_ind_punt_avg.mean().mean(), color='orange')\r\n",
    "for container in ax15.containers:\r\n",
    "   ax15.bar_label(container)\r\n",
    "\r\n"
   ],
   "outputs": [
    {
     "output_type": "display_data",
     "data": {
      "text/plain": [
       "<Figure size 432x288 with 1 Axes>"
      ],
      "image/png": "[encoded data removed]"
     },
     "metadata": {
      "needs_background": "light"
     }
    }
   ],
   "metadata": {}
  },
  {
   "cell_type": "markdown",
   "source": [
    "From this graph we can see that Calgary and Winnipeg are clear leaders in punt average with above 46 yards averaged. Edmonton is the clear bottom with 43.1 yards per punt followed by Toronto, Hamilton and Montreal. Looing at BC, the lone indoor location, we see that individuals performances were right around the mean of all the stadiums. "
   ],
   "metadata": {}
  },
  {
   "cell_type": "code",
   "execution_count": 235,
   "source": [
    "ax16 = df_ind_fg_acc.mean().round(1).plot(\r\n",
    "   kind='bar',\r\n",
    "   ylim=(72,92),\r\n",
    "   grid=True,\r\n",
    "   title='Location Means of Individual Field Goal Accuracies',\r\n",
    "   ylabel='Accuracy (%)'\r\n",
    ")\r\n",
    "ax16.axhline(df_ind_fg_acc.mean().mean(), color='orange')\r\n",
    "for container in ax16.containers:\r\n",
    "   ax16.bar_label(container)\r\n"
   ],
   "outputs": [
    {
     "output_type": "display_data",
     "data": {
      "text/plain": [
       "<Figure size 432x288 with 1 Axes>"
      ],
      "image/png": "[encoded data removed]"
     },
     "metadata": {
      "needs_background": "light"
     }
    }
   ],
   "metadata": {}
  },
  {
   "cell_type": "markdown",
   "source": [
    "From this graph we see that Calgary is the clear leader in field goal accuracy being above 90%, with Winnipeg and Hamilton sharing second place around 87.5% accuracy. Saskatchewan was the worst place for field goal accuracy with  followed by Ottawa. BC is actually the 3rd worst stadium in regards to field goal performance. "
   ],
   "metadata": {}
  },
  {
   "cell_type": "code",
   "execution_count": 266,
   "source": [
    "df_punt_compare = pd.concat([dn_away_only['PUNT_AVG_AWAY'], df_ind_punt_avg.mean()], axis=1).round(1)\r\n",
    "df_punt_compare.columns = ['Aggregate', 'Individual Mean']\r\n",
    "df_punt_compare.plot(kind='bar', ylim=(42, 48), title='Aggregate Punt Average vs Individual Mean')\r\n"
   ],
   "outputs": [
    {
     "output_type": "execute_result",
     "data": {
      "text/plain": [
       "<AxesSubplot:title={'center':'Aggregate Punt Average vs Individual Mean'}, xlabel='LOCATION'>"
      ]
     },
     "metadata": {},
     "execution_count": 266
    },
    {
     "output_type": "display_data",
     "data": {
      "text/plain": [
       "<Figure size 432x288 with 1 Axes>"
      ],
      "image/png": "[encoded data removed]"
     },
     "metadata": {
      "needs_background": "light"
     }
    }
   ],
   "metadata": {}
  },
  {
   "cell_type": "code",
   "execution_count": 268,
   "source": [
    "df_fg_compare = pd.concat([dn_away_only['FG_ACCURACY_AWAY'], df_ind_fg_acc.mean()], axis=1).round(1)\r\n",
    "df_fg_compare.columns = ['Aggregate', 'Individual Mean']\r\n",
    "df_fg_compare.plot(kind='bar', ylim=(72, 92), title='Aggregate Field Goal Accuracy vs Individual Mean')"
   ],
   "outputs": [
    {
     "output_type": "execute_result",
     "data": {
      "text/plain": [
       "<AxesSubplot:title={'center':'Aggregate Field Goal Accuracy vs Individual Mean'}, xlabel='LOCATION'>"
      ]
     },
     "metadata": {},
     "execution_count": 268
    },
    {
     "output_type": "display_data",
     "data": {
      "text/plain": [
       "<Figure size 432x288 with 1 Axes>"
      ],
      "image/png": "[encoded data removed]"
     },
     "metadata": {
      "needs_background": "light"
     }
    }
   ],
   "metadata": {}
  },
  {
   "cell_type": "markdown",
   "source": [
    "By comparing the previously found metrics that was the aggregate of overall punts and overall field goals at each location with the mean of individual performances, we can see some differences in the results. The biggest difference is in Saskatchewan's field goal accuracy, it drops from one of the top performing stadiums to one of the worst when the data is broken up into indivdual performances. Looking closely at the data in this particular case I found there are three extremely poor individual performances that drop the overall average. Each of these data points the kickers are on the lower threshold of total attempts so I will bump up the amount of attempts required. One kicker went 0 for 1 in this stadium putting a 0% into the count which has a large effect on the mean. After increasing the minimum required field goal attempts, we can still in the graph belowthat  Saskatchewan has a fairly significant drop in accuracy but not as severe as before with the outliers included. Hamilton and Edmonton see a boost to accuracy while BC sees a slight drop and otherwise data stays similar.  \r\n",
    "\r\n",
    "Looking at the punt data overall it is fairly similar with slight changes. Calgary and Winnipeg actually increase their lead in performance while Edmonton drops further into last place. BC increases slightly along with Saskatchewan while Toronto also drops.\r\n"
   ],
   "metadata": {}
  },
  {
   "cell_type": "code",
   "execution_count": 277,
   "source": [
    "df_fg_compare_2 = pd.concat([dn_away_only['FG_ACCURACY_AWAY'], df_ind_fg_acc_2.mean()], axis=1).round(1)\r\n",
    "df_fg_compare_2.columns = ['Aggregate', 'Individual Mean']\r\n",
    "df_fg_compare_2.plot(kind='bar', ylim=(72, 92), title='Aggregate Field Goal Accuracy vs Individual Mean (Increased Attempts Threshold)')"
   ],
   "outputs": [
    {
     "output_type": "execute_result",
     "data": {
      "text/plain": [
       "<AxesSubplot:title={'center':'Aggregate Field Goal Accuracy vs Individual Mean (Increased Attempts Threshold)'}, xlabel='LOCATION'>"
      ]
     },
     "metadata": {},
     "execution_count": 277
    },
    {
     "output_type": "display_data",
     "data": {
      "text/plain": [
       "<Figure size 432x288 with 1 Axes>"
      ],
      "image/png": "[encoded data removed]"
     },
     "metadata": {
      "needs_background": "light"
     }
    }
   ],
   "metadata": {}
  },
  {
   "cell_type": "markdown",
   "source": [
    "## Initial Summary and Analysis\r\n",
    "\r\n",
    "Looking at the away performance data, punting performances were the best overall in Calgary, Ottawa (OTT), and Winnipeg (WPG) while the worst punting was in Edmonton, Hamilton (HAM), and Montreal (MTL).  The best field goal performances were in Calgary (CGY), Saskatchewan (SSK), and Winnipeg (WPG) while the worst were in Toronto (TOR), Hamilton (HAM), and Ottawa (OTT). It would appear that Edmonton (EDM), Hamilton (HAM), Montreal (MTL), and Toronto (TOR) have the worst performance outcomes overall. Hamilton, Montreal, and Toronto are all in the Eastern division and possibly more importantly, the Eastern time zone. Studies have shown that travel from West to “East has a greater detrimental effect on sleep, subjective jet lag, fatigue, and motivation” (https://pubmed.ncbi.nlm.nih.gov/28719491/). This could be a possible reason for the subpar performances in this grouping of stadiums. \r\n",
    "\r\n",
    "Looking at the consistent top performance across both field goals and punting in Calgary, it could possibly be a result of the higher elevation of the city. The higher the elevation, the lower the air density and the lower the air density, the less air molecules there are in the path of the ball to slow it down. \"A punted or kicked football will run headlong into a steady barrage of air molecules. Their combined drag will slow it down, sometimes dramatically. But remember, in low density air, molecules are fewer and farther between\" (https://entertainment.howstuffworks.com/physics-and-football-denvers-altitude-affect-field-goals.htm). Calgary’s elevation is 1045m above sea level while the next highest city, Edmonton, is only 645m. BC is located at sea level so this could be a key as well as to why performances don’t increase as much as one would expect being indoors. Toronto, Montreal and Hamilton all have very low elevations as well and had below average performances. However, Ottawa is also a lower elevation city and while it had below average field goal accuracy, it had well above average punting performances.\r\n",
    "\r\n",
    "Another reason why BC may not have the punting performance results as anticipated is how punt distance is measured. Punt yardage is calculated by where the ball is actually picked up, not where it initially lands. In games with tough conditions, these conditions can also be tough for the returner who’s job is to catch the ball. If the returner is unable to catch the ball in the air due to a wild punt in a high wind game, there is a chance the ball can bounce past the returner. The punt is then recorded as a longer distance even though the punter may have not actually hit the ball very well. This poses an interesting idea that it may turn out that while indoor stadiums are favourable to the punter for consistent contact and accuracy, this may also play in favour of the returner for overall easier to catch punts. It would be interesting to see if there was more consistency, or less variance, overall in punting average in BC camparde to the other stadiums."
   ],
   "metadata": {}
  },
  {
   "cell_type": "markdown",
   "source": [
    "# DETAILED KICKING DATA\r\n",
    "Use data that contains individual field goal results. \r\n",
    "Data is for each field goal kicked, includes location, team, distance, whethere it was missed or made.  \r\n",
    "This improves upon the CFL data as the CFL data does not contain detailed information for kicks that were missed.\r\n",
    "This way we can look more closely at mid range to long range field goals where elements will be more of a factor than just mental errors. If a particular stadium has a higher percentage of shorter kicks for whatever reason, this could skew the results to it being a better stadium field goal performance wise when in actuality it is just because there has been a higher proportion of shorter, high percentage field goals. \r\n",
    "\r\n",
    "# DETAILED PUNTING DATA\r\n",
    "Use data that contains individual punt results, in this case net punt data. This is the field position actually obtained from the punt rather than the total distance the punt went. This is more of a team metric than individual punter but could lead to useful insights as well and is worth exploring. \r\n",
    "\r\n",
    "## Import Excel Spreadsheet Data\r\n",
    "This includes data obtained from a reporter in the CFL who has taken data from the CFL stats and aggregated it himself into an excel spreadsheet  \r\n",
    "This data has greater detail for fieldgoals - individual fgs, distance, made or missed  \r\n",
    "Punt data contains net punt so the result of change in field position from the punt\r\n",
    "- talk about all the factors that go into this so not an isolated punt but worth looking at\r\n",
    "- more of a team statistic\r\n"
   ],
   "metadata": {}
  },
  {
   "cell_type": "code",
   "execution_count": 17,
   "source": [
    "fg_data_df = pd.read_excel('fg_data.xlsx', engine='openpyxl')\r\n",
    "punt_data_df = pd.read_excel('punt_net_data.xlsx', engine='openpyxl')"
   ],
   "outputs": [],
   "metadata": {}
  },
  {
   "cell_type": "code",
   "execution_count": 18,
   "source": [
    "fg_data_df.head()"
   ],
   "outputs": [
    {
     "output_type": "execute_result",
     "data": {
      "text/plain": [
       "  Regular/Playoffs Stadium Indoor/Outdoor Home TEAM  Year  Game      Kicker  \\\n",
       "0                R     tor              O  TOR  HAM  2016    10       Maher   \n",
       "1                R     tor              O  TOR  HAM  2016    10       Maher   \n",
       "2                R     tor              O  TOR  HAM  2016    10       Maher   \n",
       "3                R     tor              O  TOR  TOR  2016    10  Hajrullahu   \n",
       "4                R     tor              O  TOR  TOR  2016    10  Hajrullahu   \n",
       "\n",
       "   Distance Made Miss Single H/A  \\\n",
       "0        39    Y  NaN    NaN   A   \n",
       "1        38    Y  NaN    NaN   A   \n",
       "2        50    Y  NaN    NaN   A   \n",
       "3        40    Y  NaN    NaN   H   \n",
       "4        51    Y  NaN    NaN   H   \n",
       "\n",
       "                                  Play by play text  \n",
       "0       (04:41) B. MAHER Field Goal (39 yds),  Good  \n",
       "1       (12:10) B. MAHER Field Goal (38 yds),  Good  \n",
       "2       (08:58) B. MAHER Field Goal (50 yds),  Good  \n",
       "3  (03:37) L. HAJRULLAHU Field Goal (40 yds),  Good  \n",
       "4  (00:04) L. HAJRULLAHU Field Goal (51 yds),  Good  "
      ],
      "text/html": [
       "<div>\n",
       "<style scoped>\n",
       "    .dataframe tbody tr th:only-of-type {\n",
       "        vertical-align: middle;\n",
       "    }\n",
       "\n",
       "    .dataframe tbody tr th {\n",
       "        vertical-align: top;\n",
       "    }\n",
       "\n",
       "    .dataframe thead th {\n",
       "        text-align: right;\n",
       "    }\n",
       "</style>\n",
       "<table border=\"1\" class=\"dataframe\">\n",
       "  <thead>\n",
       "    <tr style=\"text-align: right;\">\n",
       "      <th></th>\n",
       "      <th>Regular/Playoffs</th>\n",
       "      <th>Stadium</th>\n",
       "      <th>Indoor/Outdoor</th>\n",
       "      <th>Home</th>\n",
       "      <th>TEAM</th>\n",
       "      <th>Year</th>\n",
       "      <th>Game</th>\n",
       "      <th>Kicker</th>\n",
       "      <th>Distance</th>\n",
       "      <th>Made</th>\n",
       "      <th>Miss</th>\n",
       "      <th>Single</th>\n",
       "      <th>H/A</th>\n",
       "      <th>Play by play text</th>\n",
       "    </tr>\n",
       "  </thead>\n",
       "  <tbody>\n",
       "    <tr>\n",
       "      <th>0</th>\n",
       "      <td>R</td>\n",
       "      <td>tor</td>\n",
       "      <td>O</td>\n",
       "      <td>TOR</td>\n",
       "      <td>HAM</td>\n",
       "      <td>2016</td>\n",
       "      <td>10</td>\n",
       "      <td>Maher</td>\n",
       "      <td>39</td>\n",
       "      <td>Y</td>\n",
       "      <td>NaN</td>\n",
       "      <td>NaN</td>\n",
       "      <td>A</td>\n",
       "      <td>(04:41) B. MAHER Field Goal (39 yds),  Good</td>\n",
       "    </tr>\n",
       "    <tr>\n",
       "      <th>1</th>\n",
       "      <td>R</td>\n",
       "      <td>tor</td>\n",
       "      <td>O</td>\n",
       "      <td>TOR</td>\n",
       "      <td>HAM</td>\n",
       "      <td>2016</td>\n",
       "      <td>10</td>\n",
       "      <td>Maher</td>\n",
       "      <td>38</td>\n",
       "      <td>Y</td>\n",
       "      <td>NaN</td>\n",
       "      <td>NaN</td>\n",
       "      <td>A</td>\n",
       "      <td>(12:10) B. MAHER Field Goal (38 yds),  Good</td>\n",
       "    </tr>\n",
       "    <tr>\n",
       "      <th>2</th>\n",
       "      <td>R</td>\n",
       "      <td>tor</td>\n",
       "      <td>O</td>\n",
       "      <td>TOR</td>\n",
       "      <td>HAM</td>\n",
       "      <td>2016</td>\n",
       "      <td>10</td>\n",
       "      <td>Maher</td>\n",
       "      <td>50</td>\n",
       "      <td>Y</td>\n",
       "      <td>NaN</td>\n",
       "      <td>NaN</td>\n",
       "      <td>A</td>\n",
       "      <td>(08:58) B. MAHER Field Goal (50 yds),  Good</td>\n",
       "    </tr>\n",
       "    <tr>\n",
       "      <th>3</th>\n",
       "      <td>R</td>\n",
       "      <td>tor</td>\n",
       "      <td>O</td>\n",
       "      <td>TOR</td>\n",
       "      <td>TOR</td>\n",
       "      <td>2016</td>\n",
       "      <td>10</td>\n",
       "      <td>Hajrullahu</td>\n",
       "      <td>40</td>\n",
       "      <td>Y</td>\n",
       "      <td>NaN</td>\n",
       "      <td>NaN</td>\n",
       "      <td>H</td>\n",
       "      <td>(03:37) L. HAJRULLAHU Field Goal (40 yds),  Good</td>\n",
       "    </tr>\n",
       "    <tr>\n",
       "      <th>4</th>\n",
       "      <td>R</td>\n",
       "      <td>tor</td>\n",
       "      <td>O</td>\n",
       "      <td>TOR</td>\n",
       "      <td>TOR</td>\n",
       "      <td>2016</td>\n",
       "      <td>10</td>\n",
       "      <td>Hajrullahu</td>\n",
       "      <td>51</td>\n",
       "      <td>Y</td>\n",
       "      <td>NaN</td>\n",
       "      <td>NaN</td>\n",
       "      <td>H</td>\n",
       "      <td>(00:04) L. HAJRULLAHU Field Goal (51 yds),  Good</td>\n",
       "    </tr>\n",
       "  </tbody>\n",
       "</table>\n",
       "</div>"
      ]
     },
     "metadata": {},
     "execution_count": 18
    }
   ],
   "metadata": {}
  },
  {
   "cell_type": "code",
   "execution_count": 278,
   "source": [
    "punt_data_df.head()"
   ],
   "outputs": [
    {
     "output_type": "execute_result",
     "data": {
      "text/plain": [
       "  I/O TEAM HOME  YEAR        PUNTER  LOS  POST-PUNT  SINGLE  NET  EV OF PUNT  \\\n",
       "0   O  TOR  TOR  2016  L.Hajrullahu   37         41     NaN   32   -1.759234   \n",
       "1   O  TOR  TOR  2016  L.Hajrullahu   48         19     NaN   43   -1.548484   \n",
       "2   O  TOR  TOR  2016  L.Hajrullahu   45         33     NaN   32   -1.543891   \n",
       "3   O  TOR  TOR  2016  L.Hajrullahu   64          6     NaN   40   -1.588132   \n",
       "4   O  TOR  TOR  2016  L.Hajrullahu   27         53     NaN   30   -2.329292   \n",
       "\n",
       "  PLAY-BY-PLAY  \n",
       "0          NaN  \n",
       "1          NaN  \n",
       "2          NaN  \n",
       "3          NaN  \n",
       "4          NaN  "
      ],
      "text/html": [
       "<div>\n",
       "<style scoped>\n",
       "    .dataframe tbody tr th:only-of-type {\n",
       "        vertical-align: middle;\n",
       "    }\n",
       "\n",
       "    .dataframe tbody tr th {\n",
       "        vertical-align: top;\n",
       "    }\n",
       "\n",
       "    .dataframe thead th {\n",
       "        text-align: right;\n",
       "    }\n",
       "</style>\n",
       "<table border=\"1\" class=\"dataframe\">\n",
       "  <thead>\n",
       "    <tr style=\"text-align: right;\">\n",
       "      <th></th>\n",
       "      <th>I/O</th>\n",
       "      <th>TEAM</th>\n",
       "      <th>HOME</th>\n",
       "      <th>YEAR</th>\n",
       "      <th>PUNTER</th>\n",
       "      <th>LOS</th>\n",
       "      <th>POST-PUNT</th>\n",
       "      <th>SINGLE</th>\n",
       "      <th>NET</th>\n",
       "      <th>EV OF PUNT</th>\n",
       "      <th>PLAY-BY-PLAY</th>\n",
       "    </tr>\n",
       "  </thead>\n",
       "  <tbody>\n",
       "    <tr>\n",
       "      <th>0</th>\n",
       "      <td>O</td>\n",
       "      <td>TOR</td>\n",
       "      <td>TOR</td>\n",
       "      <td>2016</td>\n",
       "      <td>L.Hajrullahu</td>\n",
       "      <td>37</td>\n",
       "      <td>41</td>\n",
       "      <td>NaN</td>\n",
       "      <td>32</td>\n",
       "      <td>-1.759234</td>\n",
       "      <td>NaN</td>\n",
       "    </tr>\n",
       "    <tr>\n",
       "      <th>1</th>\n",
       "      <td>O</td>\n",
       "      <td>TOR</td>\n",
       "      <td>TOR</td>\n",
       "      <td>2016</td>\n",
       "      <td>L.Hajrullahu</td>\n",
       "      <td>48</td>\n",
       "      <td>19</td>\n",
       "      <td>NaN</td>\n",
       "      <td>43</td>\n",
       "      <td>-1.548484</td>\n",
       "      <td>NaN</td>\n",
       "    </tr>\n",
       "    <tr>\n",
       "      <th>2</th>\n",
       "      <td>O</td>\n",
       "      <td>TOR</td>\n",
       "      <td>TOR</td>\n",
       "      <td>2016</td>\n",
       "      <td>L.Hajrullahu</td>\n",
       "      <td>45</td>\n",
       "      <td>33</td>\n",
       "      <td>NaN</td>\n",
       "      <td>32</td>\n",
       "      <td>-1.543891</td>\n",
       "      <td>NaN</td>\n",
       "    </tr>\n",
       "    <tr>\n",
       "      <th>3</th>\n",
       "      <td>O</td>\n",
       "      <td>TOR</td>\n",
       "      <td>TOR</td>\n",
       "      <td>2016</td>\n",
       "      <td>L.Hajrullahu</td>\n",
       "      <td>64</td>\n",
       "      <td>6</td>\n",
       "      <td>NaN</td>\n",
       "      <td>40</td>\n",
       "      <td>-1.588132</td>\n",
       "      <td>NaN</td>\n",
       "    </tr>\n",
       "    <tr>\n",
       "      <th>4</th>\n",
       "      <td>O</td>\n",
       "      <td>TOR</td>\n",
       "      <td>TOR</td>\n",
       "      <td>2016</td>\n",
       "      <td>L.Hajrullahu</td>\n",
       "      <td>27</td>\n",
       "      <td>53</td>\n",
       "      <td>NaN</td>\n",
       "      <td>30</td>\n",
       "      <td>-2.329292</td>\n",
       "      <td>NaN</td>\n",
       "    </tr>\n",
       "  </tbody>\n",
       "</table>\n",
       "</div>"
      ]
     },
     "metadata": {},
     "execution_count": 278
    }
   ],
   "metadata": {}
  },
  {
   "cell_type": "code",
   "execution_count": 279,
   "source": [
    "def clean_detailed_fg(df):\r\n",
    "   # drop columns not interested in\r\n",
    "   df = df.drop(['Regular/Playoffs', 'Game', 'Play by play text', 'Single'], axis=1)\r\n",
    "   df = df.rename(columns={'Stadium':'LOCATION', 'Year':'YEAR', 'Distance':'DISTANCE', 'Kicker':'NAME', 'Indoor/Outdoor': 'IN_OUT', 'Home':'HOME', 'Made':'MADE', 'Miss':'MISS', 'H/A':'HOMEAWAY'})\r\n",
    "   # fill in nan values with 0 for Made col\r\n",
    "   df['MADE'] = df['MADE'].fillna(0)\r\n",
    "   df['MISS'] = df['MISS'].fillna(0)\r\n",
    "   # replace Y and y in Made col with 1 to make it a binary column\r\n",
    "   df = df.replace({'MADE': {'Y': 1, 'y': 1}})\r\n",
    "   return df\r\n",
    "\r\n",
    "def clean_detailed_punt(df):\r\n",
    "   df = df.drop(['PLAY-BY-PLAY'], axis=1)\r\n",
    "   df = df.rename(columns={'HOME':'LOCATION'})\r\n",
    "   df['SINGLE'] = df['SINGLE'].fillna(0)\r\n",
    "   return df\r\n",
    "\r\n",
    "fg_data_df_clean = clean_detailed_fg(fg_data_df)\r\n",
    "punt_data_df_clean = clean_detailed_punt(punt_data_df)\r\n"
   ],
   "outputs": [],
   "metadata": {}
  },
  {
   "cell_type": "markdown",
   "source": [
    "# Field Goal Analysis\r\n",
    "Determine at what range field goal accuracy begins to decline significantly. Then will use this range to compare across stadiums.\r\n",
    "Get the overal accuracy at different distances for field goals and plot results.\r\n",
    "\r\n"
   ],
   "metadata": {}
  },
  {
   "cell_type": "code",
   "execution_count": 280,
   "source": [
    "def get_accuracy(df):\r\n",
    "   made_fgs = (df['MADE'] == 1).sum()\r\n",
    "   missed_fgs = (df['MADE'] == 0).sum()\r\n",
    "   accuracy = (made_fgs / (made_fgs + missed_fgs)).round(3)*100\r\n",
    "   return accuracy\r\n",
    "\r\n",
    "def get_distance_accuracies(df):\r\n",
    "   df015_acc = get_accuracy(df.loc[(df['DISTANCE'] >= 0) & (df['DISTANCE'] <= 15)]) \r\n",
    "   df1629_acc = get_accuracy(df.loc[(df['DISTANCE'] >= 16) & (df['DISTANCE'] <= 29)])\r\n",
    "   df3035_acc = get_accuracy(df.loc[(df['DISTANCE'] >= 30) & (df['DISTANCE'] <= 35)])\r\n",
    "   df3640_acc = get_accuracy(df.loc[(df['DISTANCE'] >= 36) & (df['DISTANCE'] <= 40)])\r\n",
    "   df4145_acc = get_accuracy(df.loc[(df['DISTANCE'] >= 41) & (df['DISTANCE'] <= 45)])\r\n",
    "   df4650_acc = get_accuracy(df.loc[(df['DISTANCE'] >= 46) & (df['DISTANCE'] <= 50)])\r\n",
    "   df51_acc = get_accuracy(df.loc[(df['DISTANCE'] >= 51)])\r\n",
    "   accuracies = [df015_acc,df1629_acc, df3035_acc,df3640_acc, df4145_acc, df4650_acc, df51_acc]\r\n",
    "   return(accuracies)\r\n",
    "\r\n",
    "fg_dist_accs = get_distance_accuracies(fg_data_df_clean)\r\n",
    "\r\n",
    "plt.bar(['0-15', '16-29', '30-35', '36-40', '41-45', '46-50','51+'],fg_dist_accs)\r\n",
    "plt.ylim(40,100)\r\n",
    "plt.xlabel('Field Goal Distance (yards)')\r\n",
    "plt.ylabel('Accuracy (%)')\r\n",
    "plt.title('Field Goal Accuarcy by Distance')"
   ],
   "outputs": [
    {
     "output_type": "execute_result",
     "data": {
      "text/plain": [
       "Text(0.5, 1.0, 'Field Goal Accuarcy by Distance')"
      ]
     },
     "metadata": {},
     "execution_count": 280
    },
    {
     "output_type": "display_data",
     "data": {
      "text/plain": [
       "<Figure size 432x288 with 1 Axes>"
      ],
      "image/png": "[encoded data removed]"
     },
     "metadata": {
      "needs_background": "light"
     }
    }
   ],
   "metadata": {}
  },
  {
   "cell_type": "markdown",
   "source": [
    "### See that Accuracies are near 100% up until the 30 yard range when there is a large drop off to about 85%.  \r\n",
    "### So for our FG data going forward we will use only field geals kicked from 30 yards and beyond to eliminate kicks that have little chance of missing.\r\n",
    "### This is so that if one stadium happens to have a higher % of shorter distance fgs this will not skew the data to it being a more accurate stadium."
   ],
   "metadata": {}
  },
  {
   "cell_type": "code",
   "execution_count": 281,
   "source": [
    "def remove_short_fgs(dist, df):\r\n",
    "   new_df = df.loc[df['DISTANCE'] > dist]\r\n",
    "   return new_df\r\n",
    "\r\n",
    "long_fg_data = remove_short_fgs(29, fg_data_df_clean)\r\n",
    "\r\n",
    "print('ALL FG MAKES AND MISSES DATA COUNT: \\n', fg_data_df_clean['MADE'].value_counts())\r\n",
    "print('LONG FG MAKES AND MISSES DATA COUNT: \\n', long_fg_data['MADE'].value_counts())"
   ],
   "outputs": [
    {
     "output_type": "stream",
     "name": "stdout",
     "text": [
      "ALL FG MAKES AND MISSES DATA COUNT: \n",
      " 1    1594\n",
      "0     286\n",
      "Name: MADE, dtype: int64\n",
      "LONG FG MAKES AND MISSES DATA COUNT: \n",
      " 1    939\n",
      "0    272\n",
      "Name: MADE, dtype: int64\n"
     ]
    }
   ],
   "metadata": {}
  },
  {
   "cell_type": "markdown",
   "source": [
    "By eliminating short fieldgoals with a high rate of accuracy, those field goals from 29 yards and in, we have removed 655 made fieldgoals but only 14 misses which is an accuracy rate of 97.9%.   \r\n",
    "Field goal accuracy from 30 and beyond is 78%.   \r\n",
    "Now we will break up the data into locations and look at accuracy in each location from 30 yards and beyond.\r\n",
    "\r\n",
    "\r\n",
    "\r\n",
    "\r\n",
    "\r\n"
   ],
   "metadata": {}
  },
  {
   "cell_type": "code",
   "execution_count": 284,
   "source": [
    "def get_location_fg_accuracies(df):\r\n",
    "   #  total_attempts = df['FG_ATTEMPTS'].groupby(df['LOCATION']).sum()\r\n",
    "   total_makes = (df['MADE'] == 1).groupby(df['LOCATION']).sum()\r\n",
    "   total_misses = (df['MADE'] == 0).groupby(df['LOCATION']).sum()\r\n",
    "   accuracies = (total_makes / (total_misses + total_makes) *100).round(1)\r\n",
    "   new_df = pd.DataFrame(accuracies)\r\n",
    "   return new_df\r\n",
    "    \r\n",
    "def get_location_net_punts(df):\r\n",
    "   total_net = df['NET'].groupby(df['LOCATION']).sum()\r\n",
    "   total_punts = (df['LOCATION']).value_counts()\r\n",
    "   net_ave = (total_net / total_punts).round(2)\r\n",
    "   new_df = pd.DataFrame(net_ave, columns=['NET_PUNT_AVE'])\r\n",
    "   return new_df\r\n",
    "\r\n",
    "\r\n",
    "# home_fg_accuracies = get_location_fg_accuracies(df_home_fg_clean)\r\n",
    "# away_fg_accuracies = get_location_fg_accuracies(df_away_fg_clean)\r\n",
    "long_fg_acc_df = get_location_fg_accuracies(long_fg_data)\r\n",
    "all_fg_acc_df = get_location_fg_accuracies(fg_data_df_clean)\r\n",
    "\r\n",
    "\r\n",
    "away_long_fg_data = long_fg_data[long_fg_data.HOMEAWAY.eq('A')]\r\n",
    "home_long_fg_data = long_fg_data[long_fg_data.HOMEAWAY.eq('H')]\r\n",
    "\r\n",
    "long_fg_acc_away_df = get_location_fg_accuracies(away_long_fg_data)\r\n",
    "long_fg_acc_home_df = get_location_fg_accuracies(home_long_fg_data)\r\n",
    "\r\n",
    "# get_location_net_punts(punt_data_df_clean)"
   ],
   "outputs": [],
   "metadata": {}
  },
  {
   "cell_type": "code",
   "execution_count": 296,
   "source": [
    "# plot these all together, har chart\r\n",
    "df_fg_acc = [all_fg_acc_df, long_fg_acc_df, long_fg_acc_away_df, long_fg_acc_home_df]\r\n",
    "df_fg_acc = pd.concat(df_fg_acc, axis=1)\r\n",
    "# df_fg_acc = df_fg_acc.drop(['LOCATION'], axis =1)\r\n",
    "df_fg_acc.columns = ['ALL_FGS', 'LONG_FGS', 'LONG_AWAY_FGS', 'LONG_HOME_FGS']\r\n",
    "\r\n",
    "df_fg_acc['ACCURACY_CHANGE_REMOVING_SHORT_FGS'] = df_fg_acc['ALL_FGS'] - df_fg_acc['LONG_FGS']\r\n",
    "df_fg_acc['DIFF_REMOVING_HOME_KICKERS'] = df_fg_acc['LONG_AWAY_FGS'] - df_fg_acc['LONG_FGS']\r\n",
    "\r\n",
    "df_fg_acc\r\n",
    "\r\n",
    "# df_fg_acc.plot.bar(subplots=True, layout=(4,2), figsize=(16,8), sharey=True)"
   ],
   "outputs": [
    {
     "output_type": "execute_result",
     "data": {
      "text/plain": [
       "          ALL_FGS  LONG_FGS  LONG_AWAY_FGS  LONG_HOME_FGS  \\\n",
       "LOCATION                                                    \n",
       "bc           85.0      77.7           75.3           80.3   \n",
       "cgy          89.3      82.8           85.7           80.3   \n",
       "edm          85.8      77.7           73.9           82.7   \n",
       "ham          82.9      77.9           76.0           80.0   \n",
       "mtl          83.0      73.6           76.8           68.1   \n",
       "ott          83.4      74.7           69.9           79.5   \n",
       "ssk          85.5      79.0           83.1           75.3   \n",
       "tor          80.9      73.0           74.2           71.7   \n",
       "wpg          87.4      80.8           82.8           79.1   \n",
       "\n",
       "          ACCURACY_CHANGE_REMOVING_SHORT_FGS  DIFF_REMOVING_HOME_KICKERS  \n",
       "LOCATION                                                                  \n",
       "bc                                       7.3                        -2.4  \n",
       "cgy                                      6.5                         2.9  \n",
       "edm                                      8.1                        -3.8  \n",
       "ham                                      5.0                        -1.9  \n",
       "mtl                                      9.4                         3.2  \n",
       "ott                                      8.7                        -4.8  \n",
       "ssk                                      6.5                         4.1  \n",
       "tor                                      7.9                         1.2  \n",
       "wpg                                      6.6                         2.0  "
      ],
      "text/html": [
       "<div>\n",
       "<style scoped>\n",
       "    .dataframe tbody tr th:only-of-type {\n",
       "        vertical-align: middle;\n",
       "    }\n",
       "\n",
       "    .dataframe tbody tr th {\n",
       "        vertical-align: top;\n",
       "    }\n",
       "\n",
       "    .dataframe thead th {\n",
       "        text-align: right;\n",
       "    }\n",
       "</style>\n",
       "<table border=\"1\" class=\"dataframe\">\n",
       "  <thead>\n",
       "    <tr style=\"text-align: right;\">\n",
       "      <th></th>\n",
       "      <th>ALL_FGS</th>\n",
       "      <th>LONG_FGS</th>\n",
       "      <th>LONG_AWAY_FGS</th>\n",
       "      <th>LONG_HOME_FGS</th>\n",
       "      <th>ACCURACY_CHANGE_REMOVING_SHORT_FGS</th>\n",
       "      <th>DIFF_REMOVING_HOME_KICKERS</th>\n",
       "    </tr>\n",
       "    <tr>\n",
       "      <th>LOCATION</th>\n",
       "      <th></th>\n",
       "      <th></th>\n",
       "      <th></th>\n",
       "      <th></th>\n",
       "      <th></th>\n",
       "      <th></th>\n",
       "    </tr>\n",
       "  </thead>\n",
       "  <tbody>\n",
       "    <tr>\n",
       "      <th>bc</th>\n",
       "      <td>85.0</td>\n",
       "      <td>77.7</td>\n",
       "      <td>75.3</td>\n",
       "      <td>80.3</td>\n",
       "      <td>7.3</td>\n",
       "      <td>-2.4</td>\n",
       "    </tr>\n",
       "    <tr>\n",
       "      <th>cgy</th>\n",
       "      <td>89.3</td>\n",
       "      <td>82.8</td>\n",
       "      <td>85.7</td>\n",
       "      <td>80.3</td>\n",
       "      <td>6.5</td>\n",
       "      <td>2.9</td>\n",
       "    </tr>\n",
       "    <tr>\n",
       "      <th>edm</th>\n",
       "      <td>85.8</td>\n",
       "      <td>77.7</td>\n",
       "      <td>73.9</td>\n",
       "      <td>82.7</td>\n",
       "      <td>8.1</td>\n",
       "      <td>-3.8</td>\n",
       "    </tr>\n",
       "    <tr>\n",
       "      <th>ham</th>\n",
       "      <td>82.9</td>\n",
       "      <td>77.9</td>\n",
       "      <td>76.0</td>\n",
       "      <td>80.0</td>\n",
       "      <td>5.0</td>\n",
       "      <td>-1.9</td>\n",
       "    </tr>\n",
       "    <tr>\n",
       "      <th>mtl</th>\n",
       "      <td>83.0</td>\n",
       "      <td>73.6</td>\n",
       "      <td>76.8</td>\n",
       "      <td>68.1</td>\n",
       "      <td>9.4</td>\n",
       "      <td>3.2</td>\n",
       "    </tr>\n",
       "    <tr>\n",
       "      <th>ott</th>\n",
       "      <td>83.4</td>\n",
       "      <td>74.7</td>\n",
       "      <td>69.9</td>\n",
       "      <td>79.5</td>\n",
       "      <td>8.7</td>\n",
       "      <td>-4.8</td>\n",
       "    </tr>\n",
       "    <tr>\n",
       "      <th>ssk</th>\n",
       "      <td>85.5</td>\n",
       "      <td>79.0</td>\n",
       "      <td>83.1</td>\n",
       "      <td>75.3</td>\n",
       "      <td>6.5</td>\n",
       "      <td>4.1</td>\n",
       "    </tr>\n",
       "    <tr>\n",
       "      <th>tor</th>\n",
       "      <td>80.9</td>\n",
       "      <td>73.0</td>\n",
       "      <td>74.2</td>\n",
       "      <td>71.7</td>\n",
       "      <td>7.9</td>\n",
       "      <td>1.2</td>\n",
       "    </tr>\n",
       "    <tr>\n",
       "      <th>wpg</th>\n",
       "      <td>87.4</td>\n",
       "      <td>80.8</td>\n",
       "      <td>82.8</td>\n",
       "      <td>79.1</td>\n",
       "      <td>6.6</td>\n",
       "      <td>2.0</td>\n",
       "    </tr>\n",
       "  </tbody>\n",
       "</table>\n",
       "</div>"
      ]
     },
     "metadata": {},
     "execution_count": 296
    }
   ],
   "metadata": {}
  },
  {
   "cell_type": "code",
   "execution_count": 297,
   "source": [
    "ax0 = df_fg_acc.sort_values(\r\n",
    "      by=['ACCURACY_CHANGE_REMOVING_SHORT_FGS']\r\n",
    "   ).plot.bar(\r\n",
    "      title='Field Goal Accuracy Decrease (Removing Short Fgs < 30 yards)', \r\n",
    "      y=['ACCURACY_CHANGE_REMOVING_SHORT_FGS'],\r\n",
    "      legend=False\r\n",
    "   )\r\n",
    "ax0.set_ylim(4,10)\r\n",
    "ax0.axhline(df_fg_acc['ACCURACY_CHANGE_REMOVING_SHORT_FGS'].mean(), color='orange')\r\n",
    "ax0.invert_yaxis()\r\n",
    "for container in ax0.containers:\r\n",
    "   ax0.bar_label(container)\r\n",
    "\r\n",
    "ax1 = df_fg_acc.sort_values(\r\n",
    "      by=['ALL_FGS']\r\n",
    "   ).plot.bar(\r\n",
    "      title='Field Goal Accuracy All Distances', \r\n",
    "      y=['ALL_FGS'], \r\n",
    "      legend=False\r\n",
    "   )\r\n",
    "ax1.set_ylim(80, 92)\r\n",
    "for container in ax1.containers:\r\n",
    "   ax1.bar_label(container)\r\n",
    "\r\n",
    "ax3 = df_fg_acc.sort_values(\r\n",
    "      by=['LONG_FGS']\r\n",
    "   ).plot.bar(\r\n",
    "      title='Field Goal Accuracy 30+ Yards', \r\n",
    "      y=['LONG_FGS'], \r\n",
    "      legend=False\r\n",
    "   )\r\n",
    "ax3.set_ylim(70, 84)\r\n",
    "for container in ax3.containers:\r\n",
    "   ax3.bar_label(container)\r\n",
    "\r\n"
   ],
   "outputs": [
    {
     "output_type": "display_data",
     "data": {
      "text/plain": [
       "<Figure size 432x288 with 1 Axes>"
      ],
      "image/png": "[encoded data removed]"
     },
     "metadata": {
      "needs_background": "light"
     }
    },
    {
     "output_type": "display_data",
     "data": {
      "text/plain": [
       "<Figure size 432x288 with 1 Axes>"
      ],
      "image/png": "[encoded data removed]"
     },
     "metadata": {
      "needs_background": "light"
     }
    },
    {
     "output_type": "display_data",
     "data": {
      "text/plain": [
       "<Figure size 432x288 with 1 Axes>"
      ],
      "image/png": "[encoded data removed]"
     },
     "metadata": {
      "needs_background": "light"
     }
    }
   ],
   "metadata": {}
  },
  {
   "cell_type": "markdown",
   "source": [
    "After removing short range, high percentage field goals, and plotting the results, we can see that there is a large change in some locations. The average drop in accuracy was around 7.2%, the largest drop was in Montreal where the overall accuracy dropped 9.4% and the lowest drop was in Hamilton with 5%. We can see the relative change in positions in the second and third charts. The removal of short field goals moved Hamiltons overall performance from 8th up to 4th. Edmonton dropped from 3rd to 5th. Calgary retained top spot and Toronto kept last place as well. The rest of the locations stayed in similar ranking moving only one spot at most. Using sklearn's standard scaler helps to visualise the positive and negative changes. Below we can see that Montreal and Ottawa had the biggest drops while Hamilton had the smallest while the rest of the field stayed relatively close to the average. From this change we can infer that Hamilton had the smallest proportion of field goals under 30 yards while Montreal and Ottawa had the highest amount. "
   ],
   "metadata": {}
  },
  {
   "cell_type": "code",
   "execution_count": 298,
   "source": [
    "# Standard Scaler\r\n",
    "standard_scaler = preprocessing.StandardScaler()\r\n",
    "fg_standard_scaled = pd.DataFrame(standard_scaler.fit_transform(df_fg_acc), columns=df_fg_acc.columns)\r\n",
    "fg_standard_scaled['LOCATION'] = df_fg_acc.index\r\n",
    "ax5 = fg_standard_scaled.plot.bar(\r\n",
    "      x='LOCATION',\r\n",
    "      y=['ACCURACY_CHANGE_REMOVING_SHORT_FGS'], \r\n",
    "      title='Standard Scaled FG Accuracy Change by Location',\r\n",
    "      legend=False\r\n",
    "   )\r\n"
   ],
   "outputs": [
    {
     "output_type": "display_data",
     "data": {
      "text/plain": [
       "<Figure size 432x288 with 1 Axes>"
      ],
      "image/png": "[encoded data removed]"
     },
     "metadata": {
      "needs_background": "light"
     }
    }
   ],
   "metadata": {}
  },
  {
   "cell_type": "markdown",
   "source": [
    "# Home vs Away Performance by Location\r\n",
    "With the new detailed data, we can see how each location's home kicker compared to the visiting kickers. This will allow us to analyze how the home kicker can affect the results as presumed in the initial analysis. "
   ],
   "metadata": {}
  },
  {
   "cell_type": "code",
   "execution_count": 299,
   "source": [
    "ax2 = df_fg_acc.sort_values(\r\n",
    "      by=['LONG_HOME_FGS']\r\n",
    "   ).plot.bar(\r\n",
    "      title='Field Goal Accuracy by Location (Home Vs Away)', \r\n",
    "      y=['LONG_HOME_FGS', 'LONG_AWAY_FGS'], \r\n",
    "      width=0.8\r\n",
    "   )\r\n",
    "ax2.set_ylim(65, 90)\r\n",
    "ax2.legend(bbox_to_anchor=(1.05, 1), loc='upper left', borderaxespad=0.)\r\n",
    "\r\n",
    "ax3 = df_fg_acc.plot.bar(\r\n",
    "      title='Field Goal Accuarcy Difference After Removing Home Field Kicks', \r\n",
    "      y=['DIFF_REMOVING_HOME_KICKERS'], \r\n",
    "      legend=False\r\n",
    "   )\r\n",
    "\r\n",
    "for container in ax3.containers:\r\n",
    "   ax3.bar_label(container)\r\n",
    "\r\n"
   ],
   "outputs": [
    {
     "output_type": "display_data",
     "data": {
      "text/plain": [
       "<Figure size 432x288 with 1 Axes>"
      ],
      "image/png": "[encoded data removed]"
     },
     "metadata": {
      "needs_background": "light"
     }
    },
    {
     "output_type": "display_data",
     "data": {
      "text/plain": [
       "<Figure size 432x288 with 1 Axes>"
      ],
      "image/png": "[encoded data removed]"
     },
     "metadata": {
      "needs_background": "light"
     }
    }
   ],
   "metadata": {}
  },
  {
   "cell_type": "markdown",
   "source": [
    "## Results\r\n",
    "Looking at the results of plotting a location's home kicker's results compared to away we can see there can be significant differences. The first graph shows the difference between home field accuracy and away accuracy at each location. Montreal, Toronto, Saskatchewan, Winnipeg, and Calgary all had lower home field accuracy than the vistiing kickers. Ottawa, Hamilton, BC and Edmonton all had higher accuracy from the home field kickers, the most significant being Ottawa and Edmonton. The next plot shows the increase or decrease from overall accuracy at each location once the home kickers stats are removed. We can see that BC, Edmonton, Hamilton, Ottawa kickers all increased the overall accuarcy at their home stadiums. Removing the home field kicker from Ottawa resulted in a decreased accuracy of 4.8% and Edmonton 3.8%. Saskatchewan saw an increase in accuracy of 4.1% and Montreal and Calgary also saw a large increase in accuracy. This shows that the home field kicker can significantly skew the accuracy at a certain location due to their larger amount of attempts. \r\n",
    "\r\n",
    "# Kickoffs: Elevation and Temperature\r\n",
    "After looking at the preliminary plots, the data showed that the longest kickoff averages were in Calgary and shortest were in BC, it made sense to look at whether or not elevation plays a factor in kickoff distance.  Calgary is near the Rocky Mountains and is the highest elevation city in the CFL while BC is located in Vancouver on the coast, having the lowest elevation. Using the current kickoff data and then including the elevation above sea level in the data for each location, we can then see if there is any correlation between elevation and kickoff average. Calgary also showed having the best performance for punting and field goals as well so we will look at these as well.  \r\n",
    "\r\n",
    "Elevations for each stadium were taken from https://en-ca.topographic-map.com/ and are in meters above sea level.  \r\n",
    "\r\n",
    "Weather is collected from https://climate.weather.gc.ca/ and the data for weather is the average daily temperature in September for 1981 - 2010. I chose the month of september as that is the halfway point of the CFL season. "
   ],
   "metadata": {}
  },
  {
   "cell_type": "code",
   "execution_count": 333,
   "source": [
    "df_temp_elevate = dn_away_only.copy()\r\n",
    "elevations = [11, 1102, 662, 89, 70, 72, 580, 82, 232]\r\n",
    "temperatures = [14.9, 11.0, 11.4, 15.8, 14.1, 15.0, 11.8, 17.2, 12.7]\r\n",
    "\r\n",
    "df_temp_elevate['LOCATION'] = df_temp_elevate.index\r\n",
    "\r\n",
    "df_temp_elevate['TEMPERATURE'] = temperatures\r\n",
    "df_temp_elevate['ELEVATION'] = elevations\r\n",
    "\r\n",
    "df_temp_elevate['FG_ACCURACY_AWAY'] = df_fg_acc['LONG_AWAY_FGS'].to_numpy()\r\n",
    "\r\n",
    "df_temp_elevate\r\n"
   ],
   "outputs": [
    {
     "output_type": "execute_result",
     "data": {
      "text/plain": [
       "          PUNT_AVG_AWAY  FG_ACCURACY_AWAY  KO_AVG_AWAY  TEMPERATURE  \\\n",
       "LOCATION                                                              \n",
       "BC                 44.0              75.3         61.8         14.9   \n",
       "CGY                45.8              85.7         66.0         11.0   \n",
       "EDM                43.6              73.9         62.5         11.4   \n",
       "HAM                43.6              76.0         63.9         15.8   \n",
       "MTL                43.9              76.8         62.7         14.1   \n",
       "OTT                45.0              69.9         65.5         15.0   \n",
       "SSK                44.2              83.1         66.0         11.8   \n",
       "TOR                44.1              74.2         64.4         17.2   \n",
       "WPG                45.5              82.8         62.3         12.7   \n",
       "\n",
       "          ELEVATION LOCATION  \n",
       "LOCATION                      \n",
       "BC               11       BC  \n",
       "CGY            1102      CGY  \n",
       "EDM             662      EDM  \n",
       "HAM              89      HAM  \n",
       "MTL              70      MTL  \n",
       "OTT              72      OTT  \n",
       "SSK             580      SSK  \n",
       "TOR              82      TOR  \n",
       "WPG             232      WPG  "
      ],
      "text/html": [
       "<div>\n",
       "<style scoped>\n",
       "    .dataframe tbody tr th:only-of-type {\n",
       "        vertical-align: middle;\n",
       "    }\n",
       "\n",
       "    .dataframe tbody tr th {\n",
       "        vertical-align: top;\n",
       "    }\n",
       "\n",
       "    .dataframe thead th {\n",
       "        text-align: right;\n",
       "    }\n",
       "</style>\n",
       "<table border=\"1\" class=\"dataframe\">\n",
       "  <thead>\n",
       "    <tr style=\"text-align: right;\">\n",
       "      <th></th>\n",
       "      <th>PUNT_AVG_AWAY</th>\n",
       "      <th>FG_ACCURACY_AWAY</th>\n",
       "      <th>KO_AVG_AWAY</th>\n",
       "      <th>TEMPERATURE</th>\n",
       "      <th>ELEVATION</th>\n",
       "      <th>LOCATION</th>\n",
       "    </tr>\n",
       "    <tr>\n",
       "      <th>LOCATION</th>\n",
       "      <th></th>\n",
       "      <th></th>\n",
       "      <th></th>\n",
       "      <th></th>\n",
       "      <th></th>\n",
       "      <th></th>\n",
       "    </tr>\n",
       "  </thead>\n",
       "  <tbody>\n",
       "    <tr>\n",
       "      <th>BC</th>\n",
       "      <td>44.0</td>\n",
       "      <td>75.3</td>\n",
       "      <td>61.8</td>\n",
       "      <td>14.9</td>\n",
       "      <td>11</td>\n",
       "      <td>BC</td>\n",
       "    </tr>\n",
       "    <tr>\n",
       "      <th>CGY</th>\n",
       "      <td>45.8</td>\n",
       "      <td>85.7</td>\n",
       "      <td>66.0</td>\n",
       "      <td>11.0</td>\n",
       "      <td>1102</td>\n",
       "      <td>CGY</td>\n",
       "    </tr>\n",
       "    <tr>\n",
       "      <th>EDM</th>\n",
       "      <td>43.6</td>\n",
       "      <td>73.9</td>\n",
       "      <td>62.5</td>\n",
       "      <td>11.4</td>\n",
       "      <td>662</td>\n",
       "      <td>EDM</td>\n",
       "    </tr>\n",
       "    <tr>\n",
       "      <th>HAM</th>\n",
       "      <td>43.6</td>\n",
       "      <td>76.0</td>\n",
       "      <td>63.9</td>\n",
       "      <td>15.8</td>\n",
       "      <td>89</td>\n",
       "      <td>HAM</td>\n",
       "    </tr>\n",
       "    <tr>\n",
       "      <th>MTL</th>\n",
       "      <td>43.9</td>\n",
       "      <td>76.8</td>\n",
       "      <td>62.7</td>\n",
       "      <td>14.1</td>\n",
       "      <td>70</td>\n",
       "      <td>MTL</td>\n",
       "    </tr>\n",
       "    <tr>\n",
       "      <th>OTT</th>\n",
       "      <td>45.0</td>\n",
       "      <td>69.9</td>\n",
       "      <td>65.5</td>\n",
       "      <td>15.0</td>\n",
       "      <td>72</td>\n",
       "      <td>OTT</td>\n",
       "    </tr>\n",
       "    <tr>\n",
       "      <th>SSK</th>\n",
       "      <td>44.2</td>\n",
       "      <td>83.1</td>\n",
       "      <td>66.0</td>\n",
       "      <td>11.8</td>\n",
       "      <td>580</td>\n",
       "      <td>SSK</td>\n",
       "    </tr>\n",
       "    <tr>\n",
       "      <th>TOR</th>\n",
       "      <td>44.1</td>\n",
       "      <td>74.2</td>\n",
       "      <td>64.4</td>\n",
       "      <td>17.2</td>\n",
       "      <td>82</td>\n",
       "      <td>TOR</td>\n",
       "    </tr>\n",
       "    <tr>\n",
       "      <th>WPG</th>\n",
       "      <td>45.5</td>\n",
       "      <td>82.8</td>\n",
       "      <td>62.3</td>\n",
       "      <td>12.7</td>\n",
       "      <td>232</td>\n",
       "      <td>WPG</td>\n",
       "    </tr>\n",
       "  </tbody>\n",
       "</table>\n",
       "</div>"
      ]
     },
     "metadata": {},
     "execution_count": 333
    }
   ],
   "metadata": {}
  },
  {
   "cell_type": "markdown",
   "source": [
    "## Kickoff vs Elevation"
   ],
   "metadata": {}
  },
  {
   "cell_type": "code",
   "execution_count": 337,
   "source": [
    "x = (df_temp_elevate['ELEVATION'].values).reshape(-1,1)\r\n",
    "y = df_temp_elevate['KO_AVG_AWAY'].values.reshape(-1,1)\r\n",
    "model = LinearRegression().fit(x,y)\r\n",
    "y_pred = model.predict([[0]])\r\n",
    "print(' R2: ', model.score(x,y), '\\n Slope: ', model.coef_[0][0], '\\n Intercept: ', model.intercept_)\r\n",
    "\r\n",
    "sns.regplot(\r\n",
    "      y=df_temp_elevate['KO_AVG_AWAY'], \r\n",
    "      x=df_temp_elevate['ELEVATION'], \r\n",
    "      color='green',\r\n",
    "      ci=80\r\n",
    "   ).set_title('Kickoff Averages Visiting Kickers Vs Elevation')\r\n",
    "\r\n",
    "for i in range(df_temp_elevate.shape[0]):\r\n",
    "   plt.text(x=df_temp_elevate.ELEVATION[i]+0.3,y=df_temp_elevate.KO_AVG_AWAY[i]+0.3,s=df_temp_elevate.LOCATION[i], \r\n",
    "      fontdict=dict(color='red',size=10),\r\n",
    "      bbox=dict(facecolor='yellow',alpha=0.5))\r\n"
   ],
   "outputs": [
    {
     "output_type": "stream",
     "name": "stdout",
     "text": [
      " R2:  0.20910623609300816 \n",
      " Slope:  0.002014775629153512 \n",
      " Intercept:  [63.25079452]\n"
     ]
    },
    {
     "output_type": "display_data",
     "data": {
      "text/plain": [
       "<Figure size 432x288 with 1 Axes>"
      ],
      "image/png": "[encoded data removed]"
     },
     "metadata": {
      "needs_background": "light"
     }
    }
   ],
   "metadata": {}
  },
  {
   "cell_type": "markdown",
   "source": [
    "## Punting vs Elevation"
   ],
   "metadata": {}
  },
  {
   "cell_type": "code",
   "execution_count": 336,
   "source": [
    "x = (df_temp_elevate['ELEVATION'].values).reshape(-1,1)\r\n",
    "y = df_temp_elevate['PUNT_AVG_AWAY'].values.reshape(-1,1)\r\n",
    "model = LinearRegression().fit(x,y)\r\n",
    "y_pred = model.predict([[0]])\r\n",
    "print(' R2: ', model.score(x,y), '\\n Slope: ', model.coef_[0][0], '\\n Intercept: ', model.intercept_)\r\n",
    "\r\n",
    "sns.regplot(\r\n",
    "      y=df_temp_elevate['PUNT_AVG_AWAY'], \r\n",
    "      x=df_temp_elevate['ELEVATION'], \r\n",
    "      color='green',\r\n",
    "      ci=80\r\n",
    "   ).set_title('Punt Averages Visiting Punters Vs Elevation')"
   ],
   "outputs": [
    {
     "output_type": "stream",
     "name": "stdout",
     "text": [
      " R2:  0.1743960170560097 \n",
      " Slope:  0.0009072603377146589 \n",
      " Intercept:  [44.11877167]\n"
     ]
    },
    {
     "output_type": "execute_result",
     "data": {
      "text/plain": [
       "Text(0.5, 1.0, 'Punt Averages Visiting Punters Vs Elevation')"
      ]
     },
     "metadata": {},
     "execution_count": 336
    },
    {
     "output_type": "display_data",
     "data": {
      "text/plain": [
       "<Figure size 432x288 with 1 Axes>"
      ],
      "image/png": "[encoded data removed]"
     },
     "metadata": {
      "needs_background": "light"
     }
    }
   ],
   "metadata": {}
  },
  {
   "cell_type": "markdown",
   "source": [
    "## Field Goal Accuracy vs Elevation"
   ],
   "metadata": {}
  },
  {
   "cell_type": "code",
   "execution_count": 335,
   "source": [
    "sns.regplot(\r\n",
    "      y=df_temp_elevate['FG_ACCURACY_AWAY'], \r\n",
    "      x=df_temp_elevate['ELEVATION'], \r\n",
    "      color='green',\r\n",
    "      ci=80\r\n",
    "   ).set_title('Field Goal Accuracy Visiting Kickers Vs Elevation')\r\n",
    "\r\n",
    "x = (df_temp_elevate['ELEVATION'].values).reshape(-1,1)\r\n",
    "y = df_temp_elevate['FG_ACCURACY_AWAY'].values.reshape(-1,1)\r\n",
    "model = LinearRegression().fit(x,y)\r\n",
    "y_pred = model.predict([[0]])\r\n",
    "print(' R2: ', model.score(x,y), '\\n Slope: ', model.coef_[0][0], '\\n Intercept: ', model.intercept_)"
   ],
   "outputs": [
    {
     "output_type": "stream",
     "name": "stdout",
     "text": [
      " R2:  0.41218120470827013 \n",
      " Slope:  0.008860896879434655 \n",
      " Intercept:  [74.66704434]\n"
     ]
    },
    {
     "output_type": "display_data",
     "data": {
      "text/plain": [
       "<Figure size 432x288 with 1 Axes>"
      ],
      "image/png": "[encoded data removed]"
     },
     "metadata": {
      "needs_background": "light"
     }
    }
   ],
   "metadata": {}
  },
  {
   "cell_type": "code",
   "execution_count": null,
   "source": [],
   "outputs": [],
   "metadata": {}
  },
  {
   "cell_type": "markdown",
   "source": [
    "Distance = 62.9 + 0.25*Elevation(100m)\r\n",
    "This model finds that elevation explains 26.2% of the variation in kickoff distance. A 1000m jump in elevation, results in a 2.5 yard boost in kickoff distance. This is in line with the theory that the lower air density at higher elevations will result in less drag on objects in the air, resulting in longer distances kicked. There are a couple outliers in the data, "
   ],
   "metadata": {}
  },
  {
   "cell_type": "code",
   "execution_count": null,
   "source": [
    "# remove bc because it is indoors so therefore temperature is controlled and not subject \r\n",
    "no_bc_away_ko_avgs = away_ko_avgs[away_ko_avgs.LOCATION.ne('BC')]\r\n",
    "no_bc_away_ko_avgs\r\n",
    "sns.regplot(y=no_bc_away_ko_avgs['KO_AVG'], x=no_bc_away_ko_avgs['TEMPERATURE'], color='red')\r\n",
    "\r\n",
    "x = (no_bc_away_ko_avgs['TEMPERATURE'].values).reshape(-1,1)\r\n",
    "y = no_bc_away_ko_avgs['KO_AVG'].values.reshape(-1,1)\r\n",
    "model = LinearRegression().fit(x,y)\r\n",
    "y_pred = model.predict([[0]])\r\n",
    "print(' R2: ', model.score(x,y), '\\n Slope: ', model.coef_[0][0], '\\n Intercept: ', model.intercept_)"
   ],
   "outputs": [],
   "metadata": {}
  },
  {
   "cell_type": "markdown",
   "source": [
    "By looking at the plot of average temperature and kickoff average can not see much of a correlation. While there may certainly be a difference in distance kicked in more extreme temperature changes from summer to late fall, overall all stadiums are similar in their relative temperature changes as the year goes on so the effect is likely similar across locations. The R squared value was 0.005 so temperature explained only 0.5% of the variation in kickoff averages which is very poor. "
   ],
   "metadata": {}
  },
  {
   "cell_type": "markdown",
   "source": [
    "# ** EDIT THIS\r\n",
    "# Jetlag West Travel to East\r\n",
    "## Check how BC kickers did in Eastern provinces compared to alberta\r\n",
    "## Continue use of only longer FGs (30+ yards)\r\n",
    "### jetlag at least 2 timezones of travel \r\n",
    "\r\n",
    "### west to east travel (hardest in theory)\r\n",
    "\r\n",
    "### Vancouver to WPG and beyond + AB to ONT\r\n",
    "\r\n",
    "### east to west travel (easier)\r\n",
    "\r\n",
    "### ONT to AB and BC + WPG to BC\r\n",
    "### jetlag source https://www.ncbi.nlm.nih.gov/pmc/articles/PMC3435929/\r\n",
    "\r\n",
    "\r\n",
    "\r\n",
    "\r\n"
   ],
   "metadata": {}
  },
  {
   "cell_type": "code",
   "execution_count": null,
   "source": [
    "def get_fgs_of_team_in_loc(df, kickers_teams, away_stadiums):\r\n",
    "   home_kicker_df = df[df.TEAM.isin(kickers_teams)]\r\n",
    "   home_kicker_df = home_kicker_df[home_kicker_df.HOME.isin(away_stadiums)]\r\n",
    "   return home_kicker_df\r\n",
    "   \r\n",
    "\r\n",
    "# WEST TO EAST TRAVEL 2+ TIMEZONES TRAVELED\r\n",
    "bc_ab_to_ont_travel = get_fgs_of_team_in_loc(away_long_fg_data, ['BC','EDM','CGY'], ['TOR','OTT','MTL','HAM'])\r\n",
    "bc_to_wpg_travel = get_fgs_of_team_in_loc(away_long_fg_data, ['BC'], ['WPG'])\r\n",
    "# combine\r\n",
    "west_to_east_travel = pd.concat([bc_ab_to_ont_travel, bc_to_wpg_travel])\r\n",
    "\r\n",
    "# EAST TO WEST TRAVEL 2+ TIMEZONES TRAVELED\r\n",
    "ont_to_ab_bc_travel = get_fgs_of_team_in_loc(away_long_fg_data, ['TOR','OTT', 'MTL', 'HAM'], ['BC','EDM','CGY'])\r\n",
    "wpg_to_bc_travel = get_fgs_of_team_in_loc(away_long_fg_data, ['WPG'], ['BC'])\r\n",
    "# combine\r\n",
    "east_to_west_travel = pd.concat([ont_to_ab_bc_travel, wpg_to_bc_travel])\r\n",
    "\r\n",
    "# LOCAL TRAVEL - 0-1 TIMEZONES TRAVELED\r\n",
    "bc_ab_travel = get_fgs_of_team_in_loc(away_long_fg_data, ['BC','EDM','CGY'], ['BC','EDM','CGY'])\r\n",
    "ab_sask_wpg_travel = get_fgs_of_team_in_loc(away_long_fg_data, ['EDM','CGY','SSK','WPG'], ['EDM','CGY','SSK','WPG'])\r\n",
    "wpg_ont_travel = get_fgs_of_team_in_loc(away_long_fg_data, ['TOR','OTT','MTL','HAM','WPG'], ['TOR','OTT','MTL','HAM','WPG'])\r\n",
    "# combine\r\n",
    "one_timezone_travel = pd.concat([bc_ab_travel, ab_sask_wpg_travel, wpg_ont_travel])\r\n",
    "\r\n",
    "\r\n",
    "fg_acc_west_to_east_travel = get_accuracy(west_to_east_travel) \r\n",
    "fg_acc_east_to_west_travel = get_accuracy(east_to_west_travel) \r\n",
    "fg_acc_one_timezone_travel = get_accuracy(one_timezone_travel)\r\n",
    "fg_acc_no_travel_home = get_accuracy(home_long_fg_data)\r\n",
    "\r\n",
    "\r\n",
    "\r\n"
   ],
   "outputs": [],
   "metadata": {}
  },
  {
   "cell_type": "code",
   "execution_count": null,
   "source": [
    "jetlag_index = [\r\n",
    "   'East Travel (2+ Timezones)', \r\n",
    "   'West Travel (2+ Timezones)', \r\n",
    "   '0 or 1 Timezone (Either Direction)', \r\n",
    "   'No Travel (Home Kicker'\r\n",
    "]\r\n",
    "\r\n",
    "jetlag_df = pd.DataFrame(\r\n",
    "   data={'FG_ACCURACY': [\r\n",
    "      fg_acc_west_to_east_travel,\r\n",
    "      fg_acc_east_to_west_travel,\r\n",
    "      fg_acc_one_timezone_travel,\r\n",
    "      fg_acc_no_travel_home\r\n",
    "   ]}, \r\n",
    "   index=jetlag_index\r\n",
    ")\r\n",
    "\r\n",
    "ax4 = jetlag_df.plot.bar(\r\n",
    "   title='Field Goal Accuracy by Travel Type', \r\n",
    "   width=0.8, \r\n",
    "   legend=False\r\n",
    ")\r\n",
    "ax4.set_ylim(70, 80)\r\n",
    "for container in ax4.containers:\r\n",
    "   ax4.bar_label(container)"
   ],
   "outputs": [],
   "metadata": {}
  },
  {
   "cell_type": "markdown",
   "source": [],
   "metadata": {}
  },
  {
   "cell_type": "markdown",
   "source": [
    "# ** EDIT THIS\r\n",
    "\r\n",
    "## As expected in results, find that local travel (0-1 timezones travelled) had the highest fg accuracy\r\n",
    "## this currently includes home field kickers? does this matter?\r\n",
    "## Find that East to west travel not that large of a dropoff in accuracy - drops 2.6% from local travel\r\n",
    "## Find that West to East travel has the lowest accuarcy - 72.2 % which is 6.5% less than local travel\r\n"
   ],
   "metadata": {}
  },
  {
   "cell_type": "markdown",
   "source": [
    "## Conclusion and Further Work\r\n",
    "\r\n",
    "Overall from this preliminary analysis we can see that Calgary is the front runner when it comes to the performance metrics used, punting average and field goal accuracy. There does not appear to be an advantage to indoor punting average and field goal accuracy over the four seasons measured. To further this analysis I will take individual punters and field goal kickers results and compare their own performances against themselves across stadiums. This could potentially be a more accurate way to control for individual player's perforrmances and reduce outliers. \r\n",
    "\r\n",
    "I would also like to look at the effect of elevation on the kicking game to see if that explains some of the differences between stadiums. The preliminary results showed Calgary, the highest elevation stadium in the league, to have the best performance results for both punting and field goals and this is worth exploring further. Including kickoffs in this analysis would be a good way to determine the effect as kickoffs have less variables affecting the outcome of the kick, they are primarily just about kicking the ball as far as the kicker can and it is rare for the ball to not be caught by the returner. I would also like to look into more detail about the distances of the field goals made and see if I can include those in the data and to help reduce the weight of short field goals possibly skewing the data as well as they are not a great determinate of how tough the outdoor conditions are. However this data may not be available so would have to do some analysis with the data available, the distances of the successfully made field goals. Including converts in the analysis would be useful as well. Converts  are a mid range kick (32 yards) and including them would help boost the number of data points for field goal accuracy and reduce the weight of short range field goals. \r\n",
    "\r\n",
    "I think it would also be worthwhile to look further into the effect of jet lag affecting performance. The study by Fowler PM, Knez W, Crowcroft S, Mendham AE, Miller J, Sargent C, Halson S and Duffield R. found that \"Long-haul transmeridian travel can impede team sport physical performance. Specifically, east travel has a greater detrimental effect on sleep, subjective jet lag, fatigue, and motivation.\" The greatest travel is from West to East is BC travelling to Hamilton, Toronto, Ottawa, and Montreal which is across three timezones. Conducting an analysis of BC kickers and punters travelling east could have interesting results as well.  \r\n",
    "\r\n",
    "### References\r\n",
    "\r\n",
    "Official site of the Canadian Football League. CFL.ca. (n.d.). https://www.cfl.ca/\r\n",
    "\r\n",
    "Fowler PM, Knez W, Crowcroft S, Mendham AE, Miller J, Sargent C, Halson S, Duffield R. Greater Effect of East versus West Travel on Jet Lag, Sleep, and Team Sport Performance. Med Sci Sports Exerc. 2017 Dec;49(12):2548-2561. doi: 10.1249/MSS.0000000000001374. Erratum in: Med Sci Sports Exerc. 2018 Feb;50(2):391. Sargent, Charlie (corrected to Sargent, Charli). PMID: 28719491.\r\n",
    "\r\n",
    "Mancini, M. (2018, December 24). Physics and Football: How Denver's Altitude Affects Field Goals. HowStuffWorks. https://entertainment.howstuffworks.com/physics-and-football-denvers-altitude-affect-field-goals.htm. \r\n",
    "\r\n",
    "\r\n"
   ],
   "metadata": {}
  }
 ],
 "metadata": {
  "interpreter": {
   "hash": "ac59ebe37160ed0dfa835113d9b8498d9f09ceb179beaac4002f036b9467c963"
  },
  "kernelspec": {
   "name": "python3",
   "display_name": "Python 3.9.1 64-bit"
  },
  "language_info": {
   "codemirror_mode": {
    "name": "ipython",
    "version": 3
   },
   "file_extension": ".py",
   "mimetype": "text/x-python",
   "name": "python",
   "nbconvert_exporter": "python",
   "pygments_lexer": "ipython3",
   "version": "3.9.1"
  }
 },
 "nbformat": 4,
 "nbformat_minor": 2
}