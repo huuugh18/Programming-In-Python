{
 "cells": [
  {
   "cell_type": "markdown",
   "source": [
    "## **Introduction**\r\n",
    "\r\n",
    "For this project I will be analysing punting and field goal data for the Canadian Football League with the aim of determining some insights about the kicking game. One particular interest is the effect of kicking indoors vs outdoors. In the CFL there is one indoor stadium located in Vancouver, British Columbia (BC). Having no adverse elements such as wind or rain, or in the latter parts of the year, snow, indoor stadiums could potentially have a positive effect on the performance of kickers and punters in the stadium. Using data gathered from the CFL website containing stats of four seasons of kicking data, I will investigate this to see if there is a significant difference in the productivity of the kicking game indoors vs outdoors. There are three types of kicking in the CFL for which stats are available: kick offs, punts, and field goals. The two I am most interested in are field goals and punting as they would be most affected by adverse conditions. Field goals are where the kicker attempts to kick the ball from the ground through the uprights to score points and punting is when the ball is kicked out of the hand of the punter to give the ball back to the opposing team. I will first just look at general performances in each stadium to see if there are any differences but seeing that different players have different abilities, I believe it would make sense to analyse the data based on individual kicker’s performance both indoors and outdoors. It may also be that from year to year a kicker’s ability may change so in order to analyse the data each data point will be a kicker’s performance for each season played. Possible ways to extend this analysis is to look at which stadiums have the best and worst performance results. When it comes to punting, sometimes very windy stadiums can actually work in the favour of the punter as this can make it difficult for the returner to successfully catch the ball in the air. As a current punter and kicker in the league, this data is particularily of interest to me. I have played in all of the stadiums over the years and have formed opinions as to which stadiums are easier or more difficult to perform in. I would like to know if there is any data to back up what I believe or if these are merely percieved advantages and disadvantges. There does not appear to be any literature or in depth statistical analysis of the punting and kickng performaces and extremely unlikely they has been any analysis done by a player that knows the limitations of the data available and some of the nuances of the kicking game itself in the CFL. \r\n",
    "\r\n",
    "## **Data Details**\r\n",
    "\r\n",
    "The data obtained for this analysis is obtained directly from the cfl.ca website where statistics are for the public to view. The data was obtained using web scraping the data directly from the site in the form of a json document. The website gives the user the ability to set parameters for the statistics that they want including the what years, where the games were played, who the opponent was, and filtering the data by game, season, or player. Knowing how the url is constructed based on these parameters and filters, I built a function to download the datasets I was looking for and would save those datasets immediately to limit the need to re-download the datasets any more than necessary. While the data is public, ethically it is important to not download the data any more times than needed to reduce costs for the hosts of the data as these stats are not designed for high data usage downloading. These stats are for general browsing to fans of the league. The data obtained was for the four seasons from 2016 to 2019.\r\n",
    "\r\n",
    "One challenge in the data acquiring process is that the downloaded data did not actually contain the stadium location data in the results. However the website allowed you to query the stats to limit the results based on the location of the games. My approach was to create a function to download a dataset for each stadium location and put this into a list. Once in the list I then could append the location to the dataset downloaded and then combine all the datasets for each location, with the data of the location included, into a final complete dataset.\r\n",
    "The dataset had a lot of other categories not needed so they were removed as well as both the punt average and field goal percentage needed to be converted to a float from an object . \r\n",
    "\r\n",
    "The punting dataset contains the year, punter’s name, the location, the number of punts, total punt yards, and punt average. The field goal dataset contains the year, kicker’s name, field goals attempted, field goals made, accuracy, a breakdown of distances of the field goals made distances, and converts made and attempted. Converts are a special field goal that is attempted after a touchdown that is a specific distance. These are only worth one point so are kept as a separate statistic. \r\n",
    "\r\n",
    "While the names of the players are included in the dataset, this does not pose any ethical dillemas as player data is readily available for the public to view. The nature of the profession is to perform in public and that performance statstics are recorded to be analysed by commentators and fans alike. \r\n",
    "\r\n",
    "** new set of fg data retrieved from a source in form of an excel file for fg data and net punt data\r\n",
    "- data contains individual fg results including distance of the fg and location\r\n",
    "- can use this to eliminate short fgs and see where a dropoff in accuracy occurs\r\n",
    "\r\n",
    "\r\n",
    "## **Import Packages**"
   ],
   "metadata": {}
  },
  {
   "cell_type": "code",
   "execution_count": 38,
   "source": [
    "import requests\r\n",
    "import json\r\n",
    "import pandas as pd \r\n",
    "import numpy as np\r\n",
    "from bs4 import BeautifulSoup\r\n",
    "from sklearn.linear_model import LinearRegression\r\n",
    "import unittest\r\n",
    "import os\r\n",
    "import unittest\r\n"
   ],
   "outputs": [],
   "metadata": {}
  },
  {
   "cell_type": "markdown",
   "source": [
    "## **Data Retrieval**\r\n",
    "## Web Scraping\r\n",
    "\r\n",
    "For each team code create the url to retrieve the appropriate data set.  \r\n",
    "This is equal to the `base url + filter location = team code`  \r\n",
    "If the `include_home` parameter is set to `True`, results will include the home kicker for each location as well.  \r\n",
    "The `kick_category` parameter is to set whether to rertieve punting, field goal, or kickoff data. "
   ],
   "metadata": {}
  },
  {
   "cell_type": "code",
   "execution_count": null,
   "source": [
    "# list of all the team location acronyms for data retrieval\r\n",
    "team_codes = ['bc', 'edm', 'cgy', 'ssk', 'wpg', 'ham', 'tor', 'ott', 'mtl']\r\n",
    "\r\n",
    "def get_site_json(url):\r\n",
    "   try: \r\n",
    "      response = requests.get(url)\r\n",
    "      response.raise_for_status()\r\n",
    "   except requests.HTTPError as exception:\r\n",
    "      print('Exception: ', exception)\r\n",
    "   else: \r\n",
    "      soup = BeautifulSoup(response.content, 'html.parser')\r\n",
    "      site_json = json.loads(soup.text)\r\n",
    "      return site_json\r\n",
    "\r\n",
    "def get_base_url(kick_category):\r\n",
    "   if kick_category == 'punt':\r\n",
    "      return 'https://www.cfl.ca/wp-content/themes/cfl.ca/inc/admin-ajax.php?action=get_league_stats&stat_category=punting&filter[season][ge]=2016&filter[punts][ge]=1&filter[location][eq]='\r\n",
    "   elif kick_category == 'kickoff':\r\n",
    "      return 'https://www.cfl.ca/wp-content/themes/cfl.ca/inc/admin-ajax.php?action=get_league_stats&stat_category=punting&filter[season][ge]=2016&filter[kicks][ge]=1&filter[location][eq]='\r\n",
    "   elif kick_category == 'field_goal':\r\n",
    "      return 'https://www.cfl.ca/wp-content/themes/cfl.ca/inc/admin-ajax.php?action=get_league_stats&stat_category=field_goals&filter[season][ge]=2016&filter[location][eq]='\r\n",
    "   else:\r\n",
    "      return None\r\n",
    "\r\n",
    "def get_url(include_home, team, base_url):\r\n",
    "   if include_home:\r\n",
    "      return base_url + team + '&group_by=player'\r\n",
    "   else:\r\n",
    "      # if only want to include players away games (no home advantage)\r\n",
    "      # set filter so that opposing team = team location so home player data not included\r\n",
    "      return base_url + team + '&filter[opponent_team_abbreviation][eq]=' + team + '&group_by=player'\r\n",
    "   \r\n",
    "\r\n",
    "def get_game_data(team_codes, kick_category, include_home):\r\n",
    "   # if category is punting and kickoff - add a filter so that a minumum of 1 punts is returned\r\n",
    "   # otherwise CFL returns a dataset including every player on the roster for the game instead of just the players who had a punt\r\n",
    "   # same issue doesn't exist for field goals so this filter not needed\r\n",
    "   base_url = get_base_url(kick_category)\r\n",
    "   if base_url == None:\r\n",
    "      print('Incorrect kick category supplied')\r\n",
    "      return\r\n",
    "   json_data = []\r\n",
    "   for team in team_codes:\r\n",
    "      url = get_url(include_home, team, base_url)\r\n",
    "      site_json = get_site_json(url)\r\n",
    "      json_data.append(site_json)\r\n",
    "   return json_data"
   ],
   "outputs": [],
   "metadata": {}
  },
  {
   "cell_type": "code",
   "execution_count": 39,
   "source": [
    "class TestImportGameData(unittest.TestCase):\r\n",
    "   def test_kick_cat_fail(self):\r\n",
    "      res = get_base_url('something')\r\n",
    "      self.assertIsNone(res)\r\n",
    "   def test_kick_cat_punt(self):\r\n",
    "      res = get_base_url('punt')\r\n",
    "      self.assertEqual(res, 'https://www.cfl.ca/wp-content/themes/cfl.ca/inc/admin-ajax.php?action=get_league_stats&stat_category=punting&filter[season][ge]=2016&filter[punts][ge]=1&filter[location][eq]=')\r\n",
    "   def test_get_url_home(self):\r\n",
    "      res = get_url(True, 'ott', 'https://www.cfl.ca/')\r\n",
    "      self.assertEqual(res, 'https://www.cfl.ca/ott&group_by=player')\r\n",
    "   def test_get_url_away(self):\r\n",
    "      res = get_url(False, 'ott', 'http://google.ca/')\r\n",
    "      self.assertEqual(res, 'http://google.ca/ott&filter[opponent_team_abbreviation][eq]=ott&group_by=player')\r\n",
    "\r\n",
    "unittest.main(argv=['ignored', '-v'], exit=False)"
   ],
   "outputs": [
    {
     "output_type": "stream",
     "name": "stderr",
     "text": [
      "test_build_df_exists (__main__.TestDFCreationFromJsonFile) ... ERROR\n",
      "test_build_df_row_length (__main__.TestDFCreationFromJsonFile) ... ERROR\n",
      "test_createDF_exists (__main__.TestDFCreationFromJsonFile) ... ok\n",
      "test_open_json_file (__main__.TestDFCreationFromJsonFile) ... ok\n",
      "test_open_json_file_exists (__main__.TestDFCreationFromJsonFile) ... ok\n",
      "test_get_url_away (__main__.TestImportGameData) ... ok\n",
      "test_get_url_home (__main__.TestImportGameData) ... ok\n",
      "test_kick_cat_fail (__main__.TestImportGameData) ... ok\n",
      "test_kick_cat_punt (__main__.TestImportGameData) ... ok\n",
      "\n",
      "======================================================================\n",
      "ERROR: test_build_df_exists (__main__.TestDFCreationFromJsonFile)\n",
      "----------------------------------------------------------------------\n",
      "Traceback (most recent call last):\n",
      "  File \"<ipython-input-37-a029da38c87f>\", line 10, in test_build_df_exists\n",
      "    self.assertIsNotNone(build_dataframe)\n",
      "NameError: name 'build_dataframe' is not defined\n",
      "\n",
      "======================================================================\n",
      "ERROR: test_build_df_row_length (__main__.TestDFCreationFromJsonFile)\n",
      "----------------------------------------------------------------------\n",
      "Traceback (most recent call last):\n",
      "  File \"<ipython-input-37-a029da38c87f>\", line 13, in test_build_df_row_length\n",
      "    res = build_dataframe(['ott','bc'], fg_columns,  data)\n",
      "NameError: name 'build_dataframe' is not defined\n",
      "\n",
      "----------------------------------------------------------------------\n",
      "Ran 9 tests in 0.009s\n",
      "\n",
      "FAILED (errors=2)\n"
     ]
    },
    {
     "output_type": "execute_result",
     "data": {
      "text/plain": [
       "<unittest.main.TestProgram at 0x19a08713850>"
      ]
     },
     "metadata": {},
     "execution_count": 39
    }
   ],
   "metadata": {}
  },
  {
   "cell_type": "markdown",
   "source": [
    "## !! Download all the datasets !!\r\n",
    "### Do this minimal times"
   ],
   "metadata": {}
  },
  {
   "cell_type": "code",
   "execution_count": null,
   "source": [
    "home_game_data_punt = get_game_data(team_codes, 'punt', True)\r\n",
    "away_game_data_punt = get_game_data(team_codes, 'punt', False)"
   ],
   "outputs": [],
   "metadata": {}
  },
  {
   "cell_type": "code",
   "execution_count": null,
   "source": [
    "home_game_data_fg = get_game_data(team_codes, 'field_goal', True)\r\n",
    "away_game_data_fg = get_game_data(team_codes, 'field_goal', False)"
   ],
   "outputs": [],
   "metadata": {}
  },
  {
   "cell_type": "code",
   "execution_count": null,
   "source": [
    "home_game_data_ko = get_game_data(team_codes, 'kickoff', True)\r\n",
    "away_game_data_ko = get_game_data(team_codes, 'kickoff', False)"
   ],
   "outputs": [],
   "metadata": {}
  },
  {
   "cell_type": "markdown",
   "source": [
    "## Save Retrieved Data to file"
   ],
   "metadata": {}
  },
  {
   "cell_type": "code",
   "execution_count": null,
   "source": [
    "def save_json_to_file(data, name):\r\n",
    "   with open(name, 'w', encoding='utf-8') as f:\r\n",
    "      return json.dump(data, f, ensure_ascii=False, indent=3)\r\n",
    "\r\n",
    "save_json_to_file(home_game_data_punt, 'home_game_data_punt.json')\r\n",
    "save_json_to_file(away_game_data_punt, 'away_game_data_punt.json')\r\n",
    "save_json_to_file(home_game_data_fg, 'home_game_data_fg.json')\r\n",
    "save_json_to_file(away_game_data_fg, 'away_game_data_fg.json')\r\n",
    "save_json_to_file(home_game_data_ko, 'home_game_data_ko.json')\r\n",
    "save_json_to_file(away_game_data_ko, 'away_game_data_ko.json')\r\n"
   ],
   "outputs": [],
   "metadata": {}
  },
  {
   "cell_type": "markdown",
   "source": [
    "## Import Excel Spreadsheet Data\r\n",
    "This includes data obtained from a reporter in the CFL who has taken data from the CFL stats and aggregated it himself into an excel spreadsheet  \r\n",
    "This data has greater detail for fieldgoals - individual fgs, distance, made or missed  \r\n",
    "Punt data contains net punt so the result of change in field position from the punt\r\n",
    "- talk about all the factors that go into this so not an isolated punt but worth looking at\r\n",
    "- more of a team statistic\r\n"
   ],
   "metadata": {}
  },
  {
   "cell_type": "code",
   "execution_count": 40,
   "source": [
    "fg_detailed_df = pd.read_excel('fg_data.xlsx', engine='openpyxl')\r\n",
    "punt_net_df = pd.read_excel('punt_net_data.xlsx', engine='openpyxl')"
   ],
   "outputs": [],
   "metadata": {}
  },
  {
   "cell_type": "markdown",
   "source": [
    "## Create DataFrames and add Locations to the datasets\r\n",
    "The downloaded data can be filtered by location but doesn't include the location in the data itself so must be added manually  \r\n",
    "This is needed only for the datasets obtained via the cfl webpage and webscraping  \r\n",
    "The data obtained in an excel sheet already has location data included."
   ],
   "metadata": {}
  },
  {
   "cell_type": "code",
   "execution_count": 41,
   "source": [
    "def getDFFromJson(data):\r\n",
    "   df = pd.DataFrame(data['data'])\r\n",
    "   return df\r\n",
    "\r\n",
    "\r\n",
    "# Column headers for punt df and field goal df\r\n",
    "punt_ko_columns = ['YEAR', 'NAME', 'LOCATION', 'URL', 'TEAM', 'GAMES_PLAYED', 'NUMBER_OF_PUNTS', 'PUNT_YDS', 'PUNT_AVG', 'PUNT_LONG', 'PUNT_SINGLES', 'NUMBER_OF_KICKOFFS', 'KO_YDS', 'KO_AVG', 'KO_LG', 'KO_S']\r\n",
    "fg_columns = ['YEAR', 'NAME', 'LOCATION', 'URL', 'TEAM', 'GAMES_PLAYED', 'FG_ATTEMPTS', 'FG_MADE', 'ACCURACY', 'LONG', 'S', 'lt_20', '20_29', '30_39', '40_49', 'gte_50', 'C1_ATT', 'C1_MADE']\r\n",
    "\r\n",
    "def open_json_file(file_name):\r\n",
    "   with open(file_name) as f:\r\n",
    "      data = json.load(f)\r\n",
    "      return data\r\n",
    "\r\n",
    "def build_dataframe(team_codes, column_names, data):\r\n",
    "   dn = []\r\n",
    "   for i, team in enumerate(team_codes):\r\n",
    "      #create df from data[i]\r\n",
    "      df = getDFFromJson(data[i])\r\n",
    "      #add location of game to df\r\n",
    "      df.insert(2, 'LOCATION', team)\r\n",
    "      #add df to df list\r\n",
    "      dn.append(df)\r\n",
    "   # create new df with all location dfs combined\r\n",
    "   dn = pd.concat(dn, axis=0, )\r\n",
    "   # add column names to df\r\n",
    "   \r\n",
    "   dn.columns = column_names\r\n",
    "   return dn\r\n",
    "\r\n",
    "def createDFwLocationFromFile(file_name, team_codes, column_names):\r\n",
    "   #check if length of data = length of team_codes\r\n",
    "   data = open_json_file(file_name)\r\n",
    "   if(len(data) != len(team_codes)):\r\n",
    "      print('Data Error: file data length does not match team code length')\r\n",
    "      return \r\n",
    "   # empty array to put each stadium dfs in\r\n",
    "   dn = build_dataframe(team_codes, column_names, data)\r\n",
    "   return dn\r\n",
    "      \r\n"
   ],
   "outputs": [],
   "metadata": {}
  },
  {
   "cell_type": "code",
   "execution_count": 116,
   "source": [
    "df_away_punt = createDFwLocationFromFile('away_game_data_punt.json', team_codes, punt_ko_columns)\r\n",
    "df_home_punt = createDFwLocationFromFile('home_game_data_punt.json', team_codes, punt_ko_columns)\r\n",
    "df_away_fg = createDFwLocationFromFile('away_game_data_fg.json', team_codes, fg_columns)\r\n",
    "df_home_fg = createDFwLocationFromFile('home_game_data_fg.json', team_codes, fg_columns)\r\n",
    "df_away_ko = createDFwLocationFromFile('away_game_data_ko.json', team_codes, punt_ko_columns)\r\n",
    "df_home_ko = createDFwLocationFromFile('home_game_data_ko.json', team_codes, punt_ko_columns)\r\n"
   ],
   "outputs": [],
   "metadata": {}
  },
  {
   "cell_type": "code",
   "execution_count": 81,
   "source": [
    "class TestDFCreationFromJsonFile(unittest.TestCase):\r\n",
    "   def test_open_json_file_exists(self):\r\n",
    "      self.assertIsNotNone(open_json_file)\r\n",
    "   def test_open_json_file(self):\r\n",
    "      res = open_json_file('test_file.json')\r\n",
    "      self.assertEqual(len(res), 3)\r\n",
    "   def test_createDF_exists(self):\r\n",
    "      self.assertIsNotNone(createDFwLocationFromFile)\r\n",
    "   def test_build_df_exists(self):\r\n",
    "      self.assertIsNotNone(build_dataframe)\r\n",
    "   def test_build_df(self):\r\n",
    "      data = open_json_file('test_file.json')\r\n",
    "      res = build_dataframe(['ott','bc','ham'], fg_columns,  data)\r\n",
    "      self.assertEqual(len(res.index), 3)\r\n",
    "      self.assertEqual(res.shape, (3,18))\r\n",
    "      self.assertEqual(res.columns[2], 'LOCATION')\r\n",
    "      self.assertEqual(len(res.columns), 18)      \r\n",
    "   \r\n",
    "\r\n"
   ],
   "outputs": [
    {
     "output_type": "stream",
     "name": "stderr",
     "text": [
      "test_build_df (__main__.TestDFCreationFromJsonFile) ... ok\n",
      "test_build_df_exists (__main__.TestDFCreationFromJsonFile) ... ok\n",
      "test_createDF_exists (__main__.TestDFCreationFromJsonFile) ... ok\n",
      "test_open_json_file (__main__.TestDFCreationFromJsonFile) ... ok\n",
      "test_open_json_file_exists (__main__.TestDFCreationFromJsonFile) ... ok\n",
      "test_get_url_away (__main__.TestImportGameData) ... ok\n",
      "test_get_url_home (__main__.TestImportGameData) ... ok\n",
      "test_kick_cat_fail (__main__.TestImportGameData) ... ok\n",
      "test_kick_cat_punt (__main__.TestImportGameData) ... ok\n",
      "\n",
      "----------------------------------------------------------------------\n",
      "Ran 9 tests in 0.016s\n",
      "\n",
      "OK\n"
     ]
    },
    {
     "output_type": "execute_result",
     "data": {
      "text/plain": [
       "<unittest.main.TestProgram at 0x19a07eb6070>"
      ]
     },
     "metadata": {},
     "execution_count": 81
    }
   ],
   "metadata": {}
  },
  {
   "cell_type": "markdown",
   "source": [
    "# ** Do DATA VALIDATION HERE!!\r\n",
    "## Make sure every value in ko df has at least one ko\r\n",
    "## Make sure every value in pnut df has at least two  punt - removed quick kick entries\r\n",
    "## Something to do with FG validation in dataset\r\n",
    "## check all the dataframes - seperate checks for excel sources\r\n",
    "\r\n",
    "NumPy.testing\r\n",
    "np.testing.assert_array_equal()\r\n",
    "np.testing.assert_array_close()\r\n",
    "works with py.test\r\n",
    "takes numpy arrays not pd dfs - have to convert with DataFrame.values\r\n",
    "\r\n",
    "break down into small functions\r\n",
    "supply fake data\r\n",
    "run stats - df.describe() see if what expect\r\n",
    "are observations unique\r\n",
    "columns of expected type and range\r\n",
    "\r\n",
    "\r\n"
   ],
   "metadata": {}
  },
  {
   "cell_type": "markdown",
   "source": [
    "## Clean up the data contained in the DataFrames\n",
    "### Remove unused columns and fix some dat formatting"
   ],
   "metadata": {}
  },
  {
   "cell_type": "code",
   "execution_count": 163,
   "source": [
    "def clean_df_punt(df):\r\n",
    "   #filter out any rows with punts < 2\r\n",
    "   #remove Kickoff columns and other columns not of interest\r\n",
    "   df = df[df.NUMBER_OF_PUNTS.gt(1)].drop(['URL', 'GAMES_PLAYED','PUNT_LONG', 'PUNT_SINGLES', 'NUMBER_OF_KICKOFFS', 'KO_YDS', 'KO_AVG', 'KO_LG', 'KO_S'], axis=1)\r\n",
    "\r\n",
    "   # filter out 2021 as not a complete season\r\n",
    "   df = df[df.YEAR.lt(2021)]\r\n",
    "\r\n",
    "   #sort values\r\n",
    "   df = df.sort_values(by=['LOCATION','NAME', 'YEAR'])\r\n",
    "   df['LOCATION'] = df['LOCATION'].str.upper()\r\n",
    "\r\n",
    "   #convert PUNT_AVG type from object to float\r\n",
    "   df['PUNT_AVG'] = df['PUNT_AVG'].astype(float, errors = 'raise')\r\n",
    "   return df\r\n",
    "\r\n",
    "df_away_punt_clean = clean_df_punt(df_away_punt)\r\n",
    "df_home_punt_clean = clean_df_punt(df_home_punt)"
   ],
   "outputs": [],
   "metadata": {}
  },
  {
   "cell_type": "code",
   "execution_count": 164,
   "source": [
    "def clean_df_ko(df):\r\n",
    "   #filter out 2021 season as in progress\r\n",
    "   df = df[df.YEAR.lt(2021)]\r\n",
    "\r\n",
    "   #filter out any rows with kickoffs < 1\r\n",
    "   df = df[df.NUMBER_OF_KICKOFFS.gt(1)]\r\n",
    "\r\n",
    "   #convert KO_AVG type from object to float\r\n",
    "   df['KO_AVG'] = df['KO_AVG'].astype(float, errors = 'raise')\r\n",
    "\r\n",
    "   # remove Punt columns and other columns not of interest\r\n",
    "   df = df.drop(['URL', 'GAMES_PLAYED', 'NUMBER_OF_PUNTS', 'PUNT_YDS', 'PUNT_AVG', 'PUNT_LONG', 'PUNT_SINGLES', 'KO_LG', 'KO_S'], axis=1)\r\n",
    "\r\n",
    "   #filter out any kickoff averages less than 45 yards as there was likely a specialty kick not hit for farthest distance\r\n",
    "   df = df[df.KO_AVG.gt(45)]\r\n",
    "\r\n",
    "   #sort values\r\n",
    "   df = df.sort_values(by=['LOCATION','NAME', 'YEAR'])\r\n",
    "   df['LOCATION'] = df['LOCATION'].str.upper()\r\n",
    "\r\n",
    "   return df\r\n",
    "   \r\n",
    "df_away_ko_clean = clean_df_ko(df_away_ko)\r\n",
    "df_home_ko_clean = clean_df_ko(df_home_ko)\r\n",
    "\r\n",
    "\r\n"
   ],
   "outputs": [],
   "metadata": {}
  },
  {
   "cell_type": "code",
   "execution_count": 161,
   "source": [
    "def clean_df_fg(df):\r\n",
    "   #remove any unused columns \r\n",
    "   df= df.drop(['URL', 'S', 'GAMES_PLAYED', 'LONG', 'S', 'lt_20',\t'20_29',\t'30_39',\t'40_49',\t'gte_50', 'C1_ATT',\t'C1_MADE'], axis=1)\r\n",
    "\r\n",
    "   #filter out 2021 season as in progress\r\n",
    "   df = df[df.YEAR.lt(2021)]    \r\n",
    "   #sort values \r\n",
    "   df = df.sort_values(by=['LOCATION','NAME', 'YEAR'])\r\n",
    "   df['LOCATION'] = df['LOCATION'].str.upper()\r\n",
    "\r\n",
    "   df['ACCURACY'] = df['ACCURACY'].astype(float, errors = 'raise')\r\n",
    "   return df\r\n",
    "\r\n",
    "df_away_fg_clean = clean_df_fg(df_away_fg)\r\n",
    "df_home_fg_clean = clean_df_fg(df_home_fg)"
   ],
   "outputs": [],
   "metadata": {}
  },
  {
   "cell_type": "code",
   "execution_count": 157,
   "source": [
    "def clean_df_ko(df):\r\n",
    "   #filter out 2021 season as in progress\r\n",
    "   df = df[df.YEAR.lt(2021)]\r\n",
    "\r\n",
    "   #filter out any rows with kickoffs < 1\r\n",
    "   df = df[df.NUMBER_OF_KICKOFFS.gt(1)]\r\n",
    "\r\n",
    "   #convert KO_AVG type from object to float\r\n",
    "   df['KO_AVG'] = df['KO_AVG'].astype(float, errors = 'raise')\r\n",
    "\r\n",
    "   # remove Punt columns and other columns not of interest\r\n",
    "   df = df.drop(['URL', 'GAMES_PLAYED', 'NUMBER_OF_PUNTS', 'PUNT_YDS', 'PUNT_AVG', 'PUNT_LONG', 'PUNT_SINGLES', 'KO_LG', 'KO_S'], axis=1)\r\n",
    "\r\n",
    "   #filter out any kickoff averages less than 45 yards as there was likely a specialty kick not hit for farthest distance\r\n",
    "   df = df[df.KO_AVG.gt(45)]\r\n",
    "\r\n",
    "   #sort values\r\n",
    "   df = df.sort_values(by=['LOCATION','NAME', 'YEAR'])\r\n",
    "   df['LOCATION'] = df['LOCATION'].str.upper()\r\n",
    "\r\n",
    "   return df\r\n",
    "   \r\n",
    "df_away_ko_clean = clean_df_ko(df_away_ko)\r\n",
    "df_home_ko_clean = clean_df_ko(df_home_ko)\r\n",
    "\r\n",
    "\r\n"
   ],
   "outputs": [],
   "metadata": {}
  },
  {
   "cell_type": "markdown",
   "source": [
    "## Data Limitations\r\n",
    "\r\n",
    "The limitations of the punt data is that punt average has limitations as a punting performance metric. The total punt yards per punt is calculated from the line of scrimmage where the play starts to where the ball is caught or picked up by the returner. If the ball lands on the ground at 30 yards which is a  punt, and gets a favourable bounce and goes an extra 30 yards, this would be recorded as a 60 yard punt or a very good punt if it was kicked exceptionally. This is where a particularly windy game can possibly have favourable results for the punter’s statistics as the wind can make it very challenging for the returner to catch the ball in the air resulting in short punts that bounce past the returner for a long punt recorded in the statistics. \r\n",
    "\r\n",
    "The limitations of the field goal data is that field goal accuracy depends a lot on the distance of the attempt. With punts, generally the desired outcome is to kick the ball as far as possible each time and the chance of success is not determined by where the punter is on the field. Field goals however are highly dependent on the position of the attempt. A 10 yard field goal has essentially a 100% success rate while a 55 yard attempt would be significantly lower. The data obtained from the website categorizes the successful field goalsby distance but does not show the distances of the missed attempts. This makes it difficult to account for the accuracy from different ranges which would be a more useful statistic for comparison. Even in unfavourable weather conditions outdoors, a short range field goal will likely be made every time. The longer the field goal, the greater the chance for the kick to be affected by poor weather conditions \r\n",
    "outdoors. \r\n",
    "\r\n",
    "\r\n",
    "## Get aggregate punt and kickoff averages, and field goal accuracies for each stadium\r\n",
    "#### This is done by aggregating all field goal and punt data\r\n",
    "\r\n",
    "For field goals all field goal attempts are summed as well as all field goals made then accuracy is calculated from these results.  \r\n",
    "\r\n",
    "With punts the total yards punted summed is divided by the total punts to get the overall avearage.  \r\n",
    "\r\n",
    "If I was to just take the average of the accuracy and punt averages already calculated a one punt game of 70 yards would have the same weight as a 10 punt game with an average of 45 so it is important to do it this way or else that data would be inaccurate. \r\n"
   ],
   "metadata": {}
  },
  {
   "cell_type": "code",
   "execution_count": null,
   "source": [
    "def get_location_punt_averages(df):\r\n",
    "   total_punts = df['NUMBER_OF_PUNTS'].groupby(df['LOCATION']).sum()\r\n",
    "   total_punt_yards = df['PUNT_YDS'].groupby(df['LOCATION']).sum()\r\n",
    "   averages =  (total_punt_yards / total_punts).round(1)\r\n",
    "   df = pd.DataFrame(averages, columns=['PUNT_AVG'])\r\n",
    "   df['LOCATION'] = df.index\r\n",
    "   return df\r\n",
    "\r\n",
    "def get_location_fg_accuracies(df):\r\n",
    "   total_attempts = df['FG_ATTEMPTS'].groupby(df['LOCATION']).sum()\r\n",
    "   total_made = df['FG_MADE'].groupby(df['LOCATION']).sum()\r\n",
    "   accuracies = (total_made / total_attempts * 100).round(1)\r\n",
    "   df = pd.DataFrame(accuracies, columns=['ACCURACY'])\r\n",
    "   df['LOCATION'] = df.index\r\n",
    "   return df\r\n",
    "\r\n",
    "def get_location_ko_averages(df):\r\n",
    "   total_kos = df['NUMBER_OF_KICKOFFS'].groupby(df['LOCATION']).sum()\r\n",
    "   total_ko_yards = df['KO_YDS'].groupby(df['LOCATION']).sum()\r\n",
    "   averages =  (total_ko_yards / total_kos).round(1)\r\n",
    "   df = pd.DataFrame(averages, columns=['KO_AVG'])\r\n",
    "   df['LOCATION'] = df.index\r\n",
    "   return df\r\n",
    "\r\n",
    "    \r\n",
    "away_punt_avgs = get_location_punt_averages(df_away_punt_clean)\r\n",
    "home_punt_avgs = get_location_punt_averages(df_home_punt_clean)\r\n",
    "\r\n",
    "home_fg_accuracies = get_location_fg_accuracies(df_home_fg_clean)\r\n",
    "away_fg_accuracies = get_location_fg_accuracies(df_away_fg_clean)\r\n",
    "\r\n",
    "away_ko_avgs = get_location_ko_averages(df_away_ko_clean)\r\n",
    "home_ko_avgs = get_location_ko_averages(df_home_ko_clean)\r\n"
   ],
   "outputs": [],
   "metadata": {}
  },
  {
   "cell_type": "code",
   "execution_count": null,
   "source": [],
   "outputs": [],
   "metadata": {}
  },
  {
   "cell_type": "code",
   "execution_count": 191,
   "source": [
    "\r\n",
    "class DFTestsKickoff(unittest.TestCase):\r\n",
    "   def setUp(self):\r\n",
    "      try:\r\n",
    "         data = createDFwLocationFromFile('home_game_data_ko.json', team_codes, punt_ko_columns)\r\n",
    "         clean_data = clean_df_ko(data)\r\n",
    "         self.fixture = clean_data\r\n",
    "      except IOError as e:\r\n",
    "         print('Error:', e)\r\n",
    "\r\n",
    "   def test_years(self):\r\n",
    "      years = set([2016, 2017, 2018, 2019])\r\n",
    "      df_years = self.fixture['YEAR']\r\n",
    "      self.assertTrue(all([i in years for i in df_years]))\r\n",
    "   \r\n",
    "   def test_locations(self):\r\n",
    "      teams = set(x.upper() for x in team_codes)\r\n",
    "      df_locations = self.fixture['LOCATION']\r\n",
    "      self.assertTrue(all([i in teams for i in df_locations]))\r\n",
    "   \r\n",
    "   def test_ko_quantity(self):\r\n",
    "      df_ko_quantity = self.fixture['NUMBER_OF_KICKOFFS']\r\n",
    "      self.assertFalse((df_ko_quantity < 1).any())\r\n",
    "      self.assertFalse((df_ko_quantity > 100).any())\r\n",
    "   \r\n",
    "   def test_ko_avgs(self):\r\n",
    "      df_ko_avgs = self.fixture['KO_AVG']\r\n",
    "      self.assertFalse((df_ko_avgs < 40).any())\r\n",
    "      self.assertFalse((df_ko_avgs > 90).any())\r\n",
    "   \r\n",
    "   def test_col_names(self):\r\n",
    "      self.assertListEqual(list(self.fixture.columns), ['YEAR', 'NAME', 'LOCATION', 'TEAM', 'NUMBER_OF_KICKOFFS', 'KO_YDS', 'KO_AVG'])\r\n",
    "\r\n",
    "   def test_agg_ko_df(self):\r\n",
    "      res = get_location_ko_averages(self.fixture)\r\n",
    "      res_avgs = res['KO_AVG']\r\n",
    "      self.assertTrue((res['KO_AVG'] > 55).all())\r\n",
    "      self.assertTrue((res['KO_AVG'] < 75).all())\r\n",
    "      self.assertListEqual(list(res.columns), ['KO_AVG','LOCATION'])\r\n",
    "      \r\n",
    "   \r\n",
    "class DFTestsPunt(unittest.TestCase):\r\n",
    "   def setUp(self):\r\n",
    "      try:\r\n",
    "         data = createDFwLocationFromFile('away_game_data_punt.json', team_codes, punt_ko_columns)\r\n",
    "         clean_data = clean_df_punt(data)\r\n",
    "         self.fixture = clean_data\r\n",
    "      except IOError as e:\r\n",
    "         print('Error:', e)\r\n",
    "\r\n",
    "   def test_years(self):\r\n",
    "      years = set([2016, 2017, 2018, 2019])\r\n",
    "      df_years = self.fixture['YEAR']\r\n",
    "      self.assertTrue(all([i in years for i in df_years]))\r\n",
    "   \r\n",
    "   def test_locations(self):\r\n",
    "      teams = set(x.upper() for x in team_codes)\r\n",
    "      df_locations = self.fixture['LOCATION']\r\n",
    "      self.assertTrue(all([i in teams for i in df_locations]))\r\n",
    "   \r\n",
    "   def test_punt_quantity(self):\r\n",
    "      df_punt_quantity = self.fixture['NUMBER_OF_PUNTS']\r\n",
    "      self.assertFalse((df_punt_quantity < 1).any())\r\n",
    "      self.assertFalse((df_punt_quantity > 200).any())\r\n",
    "   def test_punt_avgs(self):\r\n",
    "      df_punt_avgs = self.fixture['PUNT_AVG']\r\n",
    "      self.assertFalse((df_punt_avgs < 20).any())\r\n",
    "      self.assertFalse((df_punt_avgs > 80).any())\r\n",
    "   def test_col_names(self):\r\n",
    "      self.assertListEqual(list(self.fixture.columns), ['YEAR', 'NAME', 'LOCATION', 'TEAM', 'NUMBER_OF_PUNTS', 'PUNT_YDS', 'PUNT_AVG'])\r\n",
    "   def test_agg_punt_df(self):\r\n",
    "      res = get_location_punt_averages(self.fixture)\r\n",
    "      res_avgs = res['PUNT_AVG']\r\n",
    "      self.assertTrue((res['PUNT_AVG'] > 35).all())\r\n",
    "      self.assertTrue((res['PUNT_AVG'] < 65).all())\r\n",
    "      self.assertListEqual(list(res.columns), ['PUNT_AVG','LOCATION'])\r\n",
    "\r\n",
    "class DFTestsFG(unittest.TestCase):\r\n",
    "   def setUp(self):\r\n",
    "      try:\r\n",
    "         data = createDFwLocationFromFile('away_game_data_fg.json', team_codes, fg_columns)\r\n",
    "         clean_data = clean_df_fg(data)\r\n",
    "         self.fixture = clean_data\r\n",
    "      except IOError as e:\r\n",
    "         print('Error:', e)\r\n",
    "\r\n",
    "   def test_years(self):\r\n",
    "      years = set([2016, 2017, 2018, 2019])\r\n",
    "      df_years = self.fixture['YEAR']\r\n",
    "      self.assertTrue(all([i in years for i in df_years]))\r\n",
    "   \r\n",
    "   def test_locations(self):\r\n",
    "      teams = set(x.upper() for x in team_codes)\r\n",
    "      df_locations = self.fixture['LOCATION']\r\n",
    "      self.assertTrue(all([i in teams for i in df_locations]))\r\n",
    "   \r\n",
    "   def test_attempts(self):\r\n",
    "      df_fg_attempts = self.fixture['FG_ATTEMPTS']\r\n",
    "      self.assertTrue((df_fg_attempts > 0).all())\r\n",
    "      self.assertTrue((df_fg_attempts < 100).all())\r\n",
    "   def test_col_names(self):\r\n",
    "      self.assertListEqual(list(self.fixture.columns), ['YEAR', 'NAME', 'LOCATION', 'TEAM', 'FG_ATTEMPTS', 'FG_MADE', 'ACCURACY'])\r\n",
    "   def test_agg_fg_df(self):\r\n",
    "      res = get_location_fg_accuracies(self.fixture)\r\n",
    "      res_avgs = res['ACCURACY']\r\n",
    "      self.assertTrue((res['ACCURACY'] > 60).all())\r\n",
    "      self.assertTrue((res['ACCURACY'] < 100).all())\r\n",
    "      self.assertListEqual(list(res.columns), ['ACCURACY','LOCATION'])\r\n",
    "\r\n",
    "        \r\n",
    "unittest.main(argv=['ingored', '-v'], exit=False)"
   ],
   "outputs": [
    {
     "output_type": "stream",
     "name": "stderr",
     "text": [
      "test_col_names (__main__.DFTests) ... ok\n",
      "test_locations (__main__.DFTests) ... ok\n",
      "test_punt_avgs (__main__.DFTests) ... ok\n",
      "test_punt_quantity (__main__.DFTests) ... ok\n",
      "test_years (__main__.DFTests) ... ok\n",
      "test_agg_fg_df (__main__.DFTestsFG) ... ok\n",
      "test_attempts (__main__.DFTestsFG) ... ok\n",
      "test_col_names (__main__.DFTestsFG) ... ok\n",
      "test_locations (__main__.DFTestsFG) ... ok\n",
      "test_years (__main__.DFTestsFG) ... ok\n",
      "test_agg_ko_df (__main__.DFTestsKickoff) ... ok\n",
      "test_col_names (__main__.DFTestsKickoff) ... ok\n",
      "test_ko_avgs (__main__.DFTestsKickoff) ... ok\n",
      "test_ko_quantity (__main__.DFTestsKickoff) ... ok\n",
      "test_locations (__main__.DFTestsKickoff) ... ok\n",
      "test_years (__main__.DFTestsKickoff) ... ok\n",
      "test_agg_punt_df (__main__.DFTestsPunt) ... ok\n",
      "test_col_names (__main__.DFTestsPunt) ... ok\n",
      "test_locations (__main__.DFTestsPunt) ... ok\n",
      "test_punt_avgs (__main__.DFTestsPunt) ... ok\n",
      "test_punt_quantity (__main__.DFTestsPunt) ... ok\n",
      "test_years (__main__.DFTestsPunt) ... ok\n",
      "test_build_df (__main__.TestDFCreationFromJsonFile) ... ok\n",
      "test_build_df_exists (__main__.TestDFCreationFromJsonFile) ... ok\n",
      "test_createDF_exists (__main__.TestDFCreationFromJsonFile) ... ok\n",
      "test_open_json_file (__main__.TestDFCreationFromJsonFile) ... ok\n",
      "test_open_json_file_exists (__main__.TestDFCreationFromJsonFile) ... ok\n",
      "test_get_alums_exists (__main__.TestHTMLParse) ... ERROR\n",
      "test_load_html_not_none (__main__.TestHTMLParse) ... ERROR\n",
      "test_ret_4 (__main__.TestHTMLParse) ... ERROR\n",
      "test_returns_list (__main__.TestHTMLParse) ... ERROR\n",
      "test_uni_leeds (__main__.TestHTMLParse) ... ERROR\n",
      "test_uni_london_works (__main__.TestHTMLParse) ... ERROR\n",
      "test_get_url_away (__main__.TestImportGameData) ... ok\n",
      "test_get_url_home (__main__.TestImportGameData) ... ok\n",
      "test_kick_cat_fail (__main__.TestImportGameData) ... ok\n",
      "test_kick_cat_punt (__main__.TestImportGameData) ... ok\n",
      "\n",
      "======================================================================\n",
      "ERROR: test_get_alums_exists (__main__.TestHTMLParse)\n",
      "----------------------------------------------------------------------\n",
      "Traceback (most recent call last):\n",
      "  File \"<ipython-input-168-94e1d1b7b682>\", line 96, in test_get_alums_exists\n",
      "    self.assertIsNotNone(get_alum_list)\n",
      "NameError: name 'get_alum_list' is not defined\n",
      "\n",
      "======================================================================\n",
      "ERROR: test_load_html_not_none (__main__.TestHTMLParse)\n",
      "----------------------------------------------------------------------\n",
      "Traceback (most recent call last):\n",
      "  File \"<ipython-input-168-94e1d1b7b682>\", line 103, in test_load_html_not_none\n",
      "    res = get_bs4_obj(\"./test_files/uol.html\")\n",
      "NameError: name 'get_bs4_obj' is not defined\n",
      "\n",
      "======================================================================\n",
      "ERROR: test_ret_4 (__main__.TestHTMLParse)\n",
      "----------------------------------------------------------------------\n",
      "Traceback (most recent call last):\n",
      "  File \"<ipython-input-168-94e1d1b7b682>\", line 107, in test_ret_4\n",
      "    res = get_alum_list('./test_files/uol.html')\n",
      "NameError: name 'get_alum_list' is not defined\n",
      "\n",
      "======================================================================\n",
      "ERROR: test_returns_list (__main__.TestHTMLParse)\n",
      "----------------------------------------------------------------------\n",
      "Traceback (most recent call last):\n",
      "  File \"<ipython-input-168-94e1d1b7b682>\", line 99, in test_returns_list\n",
      "    res = get_alum_list(\"something.html\")\n",
      "NameError: name 'get_alum_list' is not defined\n",
      "\n",
      "======================================================================\n",
      "ERROR: test_uni_leeds (__main__.TestHTMLParse)\n",
      "----------------------------------------------------------------------\n",
      "Traceback (most recent call last):\n",
      "  File \"<ipython-input-168-94e1d1b7b682>\", line 115, in test_uni_leeds\n",
      "    res = get_alum_list('./test_html_files/leeds.html')\n",
      "NameError: name 'get_alum_list' is not defined\n",
      "\n",
      "======================================================================\n",
      "ERROR: test_uni_london_works (__main__.TestHTMLParse)\n",
      "----------------------------------------------------------------------\n",
      "Traceback (most recent call last):\n",
      "  File \"<ipython-input-168-94e1d1b7b682>\", line 111, in test_uni_london_works\n",
      "    res = get_alum_list('./test_files/uol.html')\n",
      "NameError: name 'get_alum_list' is not defined\n",
      "\n",
      "----------------------------------------------------------------------\n",
      "Ran 37 tests in 0.955s\n",
      "\n",
      "FAILED (errors=6)\n"
     ]
    },
    {
     "output_type": "execute_result",
     "data": {
      "text/plain": [
       "<unittest.main.TestProgram at 0x19a08f4a700>"
      ]
     },
     "metadata": {},
     "execution_count": 191
    }
   ],
   "metadata": {}
  },
  {
   "cell_type": "markdown",
   "source": [
    "## Preliminary visualizations and data analyis \r\n",
    "\r\n",
    "Plot each as a boxplot "
   ],
   "metadata": {}
  },
  {
   "cell_type": "code",
   "execution_count": null,
   "source": [
    "import seaborn as sns\r\n",
    "import matplotlib.pyplot as plt\r\n",
    "from sklearn import preprocessing"
   ],
   "outputs": [],
   "metadata": {}
  },
  {
   "cell_type": "code",
   "execution_count": 64,
   "source": [
    "c = sns.catplot(x='LOCATION', y='PUNT_AVG', hue='YEAR', data=df_home_punt_clean, kind='box', aspect=5).set(title='Punt Averages by Year and Location')\r\n",
    "d = sns.catplot(x='LOCATION', y='ACCURACY', hue='YEAR', data=df_home_fg_clean, kind='box', aspect=5).set(title='Field Goal Accuracy by Year and Location')\r\n",
    "e = sns.catplot(x='LOCATION', y='KO_AVG', hue='YEAR', data=df_home_ko_clean, kind='box', aspect=5).set(title='Kickoff Averages by Year and Loaction')"
   ],
   "outputs": [
    {
     "output_type": "display_data",
     "data": {
      "text/plain": [
       "<Figure size 1861.38x360 with 1 Axes>"
      ],
      "image/png": "[encoded data removed]"
     },
     "metadata": {
      "needs_background": "light"
     }
    },
    {
     "output_type": "display_data",
     "data": {
      "text/plain": [
       "<Figure size 1861.38x360 with 1 Axes>"
      ],
      "image/png": "[encoded data removed]"
     },
     "metadata": {
      "needs_background": "light"
     }
    },
    {
     "output_type": "display_data",
     "data": {
      "text/plain": [
       "<Figure size 1861.38x360 with 1 Axes>"
      ],
      "image/png": "[encoded data removed]"
     },
     "metadata": {
      "needs_background": "light"
     }
    }
   ],
   "metadata": {}
  },
  {
   "cell_type": "markdown",
   "source": [
    "## See that there some oddities in the data for field goal accuracy in Calgary 2017, WPG 2018, and sask 2017. \r\n",
    " - showing thaht average is 100% \r\n",
    "\r\n"
   ],
   "metadata": {}
  },
  {
   "cell_type": "code",
   "execution_count": 65,
   "source": [
    "check1 = df_home_fg_clean[df_home_fg_clean.YEAR.eq(2017) & df_home_fg_clean.LOCATION.eq('SSK')]\r\n",
    "check2 = df_home_fg_clean[df_home_fg_clean.YEAR.eq(2017) & df_home_fg_clean.LOCATION.eq('CGY')]\r\n",
    "\r\n",
    "check1['ACCURACY'], check2['ACCURACY']\r\n"
   ],
   "outputs": [
    {
     "output_type": "execute_result",
     "data": {
      "text/plain": [
       "(29    100.0\n",
       " 1      84.6\n",
       " 23    100.0\n",
       " 27    100.0\n",
       " 5     100.0\n",
       " 9     100.0\n",
       " 28    100.0\n",
       " 25    100.0\n",
       " Name: ACCURACY, dtype: float64,\n",
       " 27    100.0\n",
       " 13    100.0\n",
       " 8     100.0\n",
       " 11    100.0\n",
       " 16    100.0\n",
       " 23    100.0\n",
       " 3      95.7\n",
       " Name: ACCURACY, dtype: float64)"
      ]
     },
     "metadata": {},
     "execution_count": 65
    }
   ],
   "metadata": {}
  },
  {
   "cell_type": "markdown",
   "source": [
    "While seperating the seasons is useful for the individual data points, when plotted it does not provide a very clear picture as to what is happening so I will combine the data to just by location for all years into one boxplot. Checking the anomolies of the fg shows that the data checks out, the away kickers all went 100% on their fgs in those locations for that year. This happened 3 times, where no visiting team kickers missed a field goal at a particular location during one year and this results in odd distributinos in the box plots. Box plots where just looking at accuracy don't take into account the amount of kicks so are not a great visual tool for field goals where a game where a kicker went 1 for 1 is scored equal weight to a game where a kicker went 4 for 4. "
   ],
   "metadata": {}
  },
  {
   "cell_type": "code",
   "execution_count": 66,
   "source": [
    "a = sns.catplot(x='LOCATION', y='PUNT_AVG', data=df_home_punt_clean, kind='box', aspect=2).set(title='Punt Averages By Location')\r\n",
    "b = sns.catplot(x='LOCATION', y='ACCURACY', data=df_home_fg_clean, kind='box', aspect=2).set(title='Field Goal Accuracy By Location')\r\n",
    "c = sns.catplot(x='LOCATION', y='KO_AVG', data=df_home_ko_clean, kind='box', aspect=2).set(title='Kickoff Average By Location')\r\n",
    "\r\n"
   ],
   "outputs": [
    {
     "output_type": "display_data",
     "data": {
      "text/plain": [
       "<Figure size 720x360 with 1 Axes>"
      ],
      "image/png": "[encoded data removed]"
     },
     "metadata": {
      "needs_background": "light"
     }
    },
    {
     "output_type": "display_data",
     "data": {
      "text/plain": [
       "<Figure size 720x360 with 1 Axes>"
      ],
      "image/png": "[encoded data removed]"
     },
     "metadata": {
      "needs_background": "light"
     }
    },
    {
     "output_type": "display_data",
     "data": {
      "text/plain": [
       "<Figure size 720x360 with 1 Axes>"
      ],
      "image/png": "[encoded data removed]"
     },
     "metadata": {
      "needs_background": "light"
     }
    }
   ],
   "metadata": {}
  },
  {
   "cell_type": "markdown",
   "source": [
    "From these plots it looks that BC is slightly above average when it comes to punting with Calgary (CGY) and Ottawa (OTT) appearing to have the highest averages. The use of boxplots for field goal accuracy does not paint a very clear picture as many of the data points are 100% which is the cap for this data. Overall Calgary again seems to have the most concentrated data near 100% however while it is not apparent if BC is better or worse than the other stadiums. \r\n",
    "\r\n",
    "## ** TALK ABOUT KICKOFFS IN HERE AS WELL\r\n",
    "\r\n",
    "## Home Field Advantage\r\n",
    "\r\n",
    "One issue I wanted to address with this  data is that the local team kicker or punter statistics in their home stadiums would have a great weighting on that location’s results. They play at home 9 games a year, so their particular abilities could have the potential of skewing the results towards their individual ability because they will generally have about 9 times more data points then the other kickers in the league that compete at that staidum. The most a visiting team will play in an opposing stadium is twice a year while most players will only pay in that stadium once. Excluding the home players results from the data and only including the visiting kickers results in the stadium would result in more evenly weighted data. To account for this I created a second dataset that excluded all kicks and punts from the home team kicker in their respective stadiums so that the results could be compared. \r\n",
    "\r\n",
    "\r\n"
   ],
   "metadata": {}
  },
  {
   "cell_type": "code",
   "execution_count": 67,
   "source": [
    "dn = [home_punt_avgs, away_punt_avgs, home_fg_accuracies, away_fg_accuracies, home_ko_avgs, away_ko_avgs]\r\n",
    "\r\n",
    "dn = pd.concat(dn, axis=1)\r\n",
    "dn = dn.drop(['LOCATION'], axis=1)\r\n",
    "dn.columns = ['PUNT_AVG_HOME', 'PUNT_AVG_AWAY', 'FG_HOME_ACCURACY', 'FG_AWAY_ACCURACY', 'KO_AVG_HOME', 'KO_AVG_AWAY']\r\n",
    "\r\n",
    "dn"
   ],
   "outputs": [
    {
     "output_type": "execute_result",
     "data": {
      "text/plain": [
       "          PUNT_AVG_HOME  PUNT_AVG_AWAY  FG_HOME_ACCURACY  FG_AWAY_ACCURACY  \\\n",
       "LOCATION                                                                     \n",
       "BC                 45.8           44.0              85.1              83.8   \n",
       "CGY                45.9           45.8              89.9              89.6   \n",
       "EDM                43.9           43.6              86.4              81.9   \n",
       "HAM                44.4           43.6              83.1              81.0   \n",
       "MTL                44.0           43.9              82.1              84.0   \n",
       "OTT                45.6           45.0              83.3              81.2   \n",
       "SSK                44.9           44.2              84.9              88.3   \n",
       "TOR                44.6           44.1              81.0              80.9   \n",
       "WPG                45.0           45.5              87.2              88.1   \n",
       "\n",
       "          KO_AVG_HOME  KO_AVG_AWAY  \n",
       "LOCATION                            \n",
       "BC               61.4         61.0  \n",
       "CGY              66.7         66.0  \n",
       "EDM              61.4         62.5  \n",
       "HAM              63.5         63.9  \n",
       "MTL              65.7         62.7  \n",
       "OTT              64.9         65.5  \n",
       "SSK              64.4         66.0  \n",
       "TOR              63.3         64.4  \n",
       "WPG              64.5         61.6  "
      ],
      "text/html": [
       "<div>\n",
       "<style scoped>\n",
       "    .dataframe tbody tr th:only-of-type {\n",
       "        vertical-align: middle;\n",
       "    }\n",
       "\n",
       "    .dataframe tbody tr th {\n",
       "        vertical-align: top;\n",
       "    }\n",
       "\n",
       "    .dataframe thead th {\n",
       "        text-align: right;\n",
       "    }\n",
       "</style>\n",
       "<table border=\"1\" class=\"dataframe\">\n",
       "  <thead>\n",
       "    <tr style=\"text-align: right;\">\n",
       "      <th></th>\n",
       "      <th>PUNT_AVG_HOME</th>\n",
       "      <th>PUNT_AVG_AWAY</th>\n",
       "      <th>FG_HOME_ACCURACY</th>\n",
       "      <th>FG_AWAY_ACCURACY</th>\n",
       "      <th>KO_AVG_HOME</th>\n",
       "      <th>KO_AVG_AWAY</th>\n",
       "    </tr>\n",
       "    <tr>\n",
       "      <th>LOCATION</th>\n",
       "      <th></th>\n",
       "      <th></th>\n",
       "      <th></th>\n",
       "      <th></th>\n",
       "      <th></th>\n",
       "      <th></th>\n",
       "    </tr>\n",
       "  </thead>\n",
       "  <tbody>\n",
       "    <tr>\n",
       "      <th>BC</th>\n",
       "      <td>45.8</td>\n",
       "      <td>44.0</td>\n",
       "      <td>85.1</td>\n",
       "      <td>83.8</td>\n",
       "      <td>61.4</td>\n",
       "      <td>61.0</td>\n",
       "    </tr>\n",
       "    <tr>\n",
       "      <th>CGY</th>\n",
       "      <td>45.9</td>\n",
       "      <td>45.8</td>\n",
       "      <td>89.9</td>\n",
       "      <td>89.6</td>\n",
       "      <td>66.7</td>\n",
       "      <td>66.0</td>\n",
       "    </tr>\n",
       "    <tr>\n",
       "      <th>EDM</th>\n",
       "      <td>43.9</td>\n",
       "      <td>43.6</td>\n",
       "      <td>86.4</td>\n",
       "      <td>81.9</td>\n",
       "      <td>61.4</td>\n",
       "      <td>62.5</td>\n",
       "    </tr>\n",
       "    <tr>\n",
       "      <th>HAM</th>\n",
       "      <td>44.4</td>\n",
       "      <td>43.6</td>\n",
       "      <td>83.1</td>\n",
       "      <td>81.0</td>\n",
       "      <td>63.5</td>\n",
       "      <td>63.9</td>\n",
       "    </tr>\n",
       "    <tr>\n",
       "      <th>MTL</th>\n",
       "      <td>44.0</td>\n",
       "      <td>43.9</td>\n",
       "      <td>82.1</td>\n",
       "      <td>84.0</td>\n",
       "      <td>65.7</td>\n",
       "      <td>62.7</td>\n",
       "    </tr>\n",
       "    <tr>\n",
       "      <th>OTT</th>\n",
       "      <td>45.6</td>\n",
       "      <td>45.0</td>\n",
       "      <td>83.3</td>\n",
       "      <td>81.2</td>\n",
       "      <td>64.9</td>\n",
       "      <td>65.5</td>\n",
       "    </tr>\n",
       "    <tr>\n",
       "      <th>SSK</th>\n",
       "      <td>44.9</td>\n",
       "      <td>44.2</td>\n",
       "      <td>84.9</td>\n",
       "      <td>88.3</td>\n",
       "      <td>64.4</td>\n",
       "      <td>66.0</td>\n",
       "    </tr>\n",
       "    <tr>\n",
       "      <th>TOR</th>\n",
       "      <td>44.6</td>\n",
       "      <td>44.1</td>\n",
       "      <td>81.0</td>\n",
       "      <td>80.9</td>\n",
       "      <td>63.3</td>\n",
       "      <td>64.4</td>\n",
       "    </tr>\n",
       "    <tr>\n",
       "      <th>WPG</th>\n",
       "      <td>45.0</td>\n",
       "      <td>45.5</td>\n",
       "      <td>87.2</td>\n",
       "      <td>88.1</td>\n",
       "      <td>64.5</td>\n",
       "      <td>61.6</td>\n",
       "    </tr>\n",
       "  </tbody>\n",
       "</table>\n",
       "</div>"
      ]
     },
     "metadata": {},
     "execution_count": 67
    }
   ],
   "metadata": {}
  },
  {
   "cell_type": "markdown",
   "source": [
    "### Plot all performances vs exclusively away games"
   ],
   "metadata": {}
  },
  {
   "cell_type": "code",
   "execution_count": 68,
   "source": [
    "dn_loc = dn.copy()\r\n",
    "dn_loc['LOCATION'] = dn.index\r\n",
    "\r\n",
    "ax1 = dn_loc.plot.bar(x='LOCATION', y=['PUNT_AVG_HOME', 'PUNT_AVG_AWAY'], title='Punt Averages')\r\n",
    "ax1.set_ylim(42, 48)\r\n",
    "ax1.legend(labels=['All Punters', 'Visting Punters'])\r\n"
   ],
   "outputs": [
    {
     "output_type": "execute_result",
     "data": {
      "text/plain": [
       "<matplotlib.legend.Legend at 0x19a0eeea3a0>"
      ]
     },
     "metadata": {},
     "execution_count": 68
    },
    {
     "output_type": "display_data",
     "data": {
      "text/plain": [
       "<Figure size 432x288 with 1 Axes>"
      ],
      "image/png": "[encoded data removed]"
     },
     "metadata": {
      "needs_background": "light"
     }
    }
   ],
   "metadata": {}
  },
  {
   "cell_type": "code",
   "execution_count": 69,
   "source": [
    "ax2 = dn_loc.plot.bar(x='LOCATION', y=['FG_HOME_ACCURACY', 'FG_AWAY_ACCURACY'], title='Field Goal Accuracy')\r\n",
    "ax2.set_ylim(78, 92)\r\n",
    "ax2.legend(labels=['All Kickers', 'Visiting Kickers'])"
   ],
   "outputs": [
    {
     "output_type": "execute_result",
     "data": {
      "text/plain": [
       "<matplotlib.legend.Legend at 0x19a0d9b4130>"
      ]
     },
     "metadata": {},
     "execution_count": 69
    },
    {
     "output_type": "display_data",
     "data": {
      "text/plain": [
       "<Figure size 432x288 with 1 Axes>"
      ],
      "image/png": "[encoded data removed]"
     },
     "metadata": {
      "needs_background": "light"
     }
    }
   ],
   "metadata": {}
  },
  {
   "cell_type": "code",
   "execution_count": 70,
   "source": [
    "\r\n",
    "ax3 = dn_loc.plot.bar(x='LOCATION', y=['KO_AVG_HOME',\t'KO_AVG_AWAY'], title='Kickoff Average')\r\n",
    "ax3.set_ylim(60, 68)\r\n",
    "ax3.legend(labels=['All Kickers', 'Visiting Kickers'])"
   ],
   "outputs": [
    {
     "output_type": "execute_result",
     "data": {
      "text/plain": [
       "<matplotlib.legend.Legend at 0x19a0fb19e20>"
      ]
     },
     "metadata": {},
     "execution_count": 70
    },
    {
     "output_type": "display_data",
     "data": {
      "text/plain": [
       "<Figure size 432x288 with 1 Axes>"
      ],
      "image/png": "[encoded data removed]"
     },
     "metadata": {
      "needs_background": "light"
     }
    }
   ],
   "metadata": {}
  },
  {
   "cell_type": "markdown",
   "source": [
    "# ** EDIT TO INCLUDE KICKOFF ANALYSIS\r\n",
    "## ** Talk about overall if home field brings up or drops performances - analyse\r\n",
    "\r\n",
    "When we compare all games played to only including away games, the most notable difference in punting average is actually in BC where the home punters results have significantly affected the average upwards from 44.0 to 45.8 yards. Field goal accuracy shows a slight drop in accuarcy in BC when removing the home kickers performance. The most notable diffences are in Edmonton (EDM) where the home kickers boost the accuarcy from 81.9% to 86.4% but in Saskatchewan (SSK) the home kickers performances drops the accuarcy from 88.3% to 84.9%. This shows that including the home players performance in the results can have a large impact on the overall results so it makes sense to exclude them going forward or at least keep them seperate. Otherwise we may be interpreting results that are actually just the result of a particularly strong or weak home town player's performaces over a few seasons as opposed to the affect of the location itself. When analyzing the kickoff average results, we can see in Montreal and Winnipeg the home kicker drastically brings up the average at those stadiums. The rest of the stadiums are more similar in their performances but there are still significant differences, whether positive or negative, after removing the home team kicker from the data. \r\n",
    "\r\n",
    "## Normalize the Data and Visualize\r\n"
   ],
   "metadata": {}
  },
  {
   "cell_type": "code",
   "execution_count": 71,
   "source": [
    "# drop the columns that include the home players in the data\r\n",
    "dn_away_only = dn.drop(['PUNT_AVG_HOME', 'FG_HOME_ACCURACY', 'KO_AVG_HOME'], axis=1)\r\n",
    "dn_away_only"
   ],
   "outputs": [
    {
     "output_type": "execute_result",
     "data": {
      "text/plain": [
       "          PUNT_AVG_AWAY  FG_AWAY_ACCURACY  KO_AVG_AWAY\n",
       "LOCATION                                              \n",
       "BC                 44.0              83.8         61.0\n",
       "CGY                45.8              89.6         66.0\n",
       "EDM                43.6              81.9         62.5\n",
       "HAM                43.6              81.0         63.9\n",
       "MTL                43.9              84.0         62.7\n",
       "OTT                45.0              81.2         65.5\n",
       "SSK                44.2              88.3         66.0\n",
       "TOR                44.1              80.9         64.4\n",
       "WPG                45.5              88.1         61.6"
      ],
      "text/html": [
       "<div>\n",
       "<style scoped>\n",
       "    .dataframe tbody tr th:only-of-type {\n",
       "        vertical-align: middle;\n",
       "    }\n",
       "\n",
       "    .dataframe tbody tr th {\n",
       "        vertical-align: top;\n",
       "    }\n",
       "\n",
       "    .dataframe thead th {\n",
       "        text-align: right;\n",
       "    }\n",
       "</style>\n",
       "<table border=\"1\" class=\"dataframe\">\n",
       "  <thead>\n",
       "    <tr style=\"text-align: right;\">\n",
       "      <th></th>\n",
       "      <th>PUNT_AVG_AWAY</th>\n",
       "      <th>FG_AWAY_ACCURACY</th>\n",
       "      <th>KO_AVG_AWAY</th>\n",
       "    </tr>\n",
       "    <tr>\n",
       "      <th>LOCATION</th>\n",
       "      <th></th>\n",
       "      <th></th>\n",
       "      <th></th>\n",
       "    </tr>\n",
       "  </thead>\n",
       "  <tbody>\n",
       "    <tr>\n",
       "      <th>BC</th>\n",
       "      <td>44.0</td>\n",
       "      <td>83.8</td>\n",
       "      <td>61.0</td>\n",
       "    </tr>\n",
       "    <tr>\n",
       "      <th>CGY</th>\n",
       "      <td>45.8</td>\n",
       "      <td>89.6</td>\n",
       "      <td>66.0</td>\n",
       "    </tr>\n",
       "    <tr>\n",
       "      <th>EDM</th>\n",
       "      <td>43.6</td>\n",
       "      <td>81.9</td>\n",
       "      <td>62.5</td>\n",
       "    </tr>\n",
       "    <tr>\n",
       "      <th>HAM</th>\n",
       "      <td>43.6</td>\n",
       "      <td>81.0</td>\n",
       "      <td>63.9</td>\n",
       "    </tr>\n",
       "    <tr>\n",
       "      <th>MTL</th>\n",
       "      <td>43.9</td>\n",
       "      <td>84.0</td>\n",
       "      <td>62.7</td>\n",
       "    </tr>\n",
       "    <tr>\n",
       "      <th>OTT</th>\n",
       "      <td>45.0</td>\n",
       "      <td>81.2</td>\n",
       "      <td>65.5</td>\n",
       "    </tr>\n",
       "    <tr>\n",
       "      <th>SSK</th>\n",
       "      <td>44.2</td>\n",
       "      <td>88.3</td>\n",
       "      <td>66.0</td>\n",
       "    </tr>\n",
       "    <tr>\n",
       "      <th>TOR</th>\n",
       "      <td>44.1</td>\n",
       "      <td>80.9</td>\n",
       "      <td>64.4</td>\n",
       "    </tr>\n",
       "    <tr>\n",
       "      <th>WPG</th>\n",
       "      <td>45.5</td>\n",
       "      <td>88.1</td>\n",
       "      <td>61.6</td>\n",
       "    </tr>\n",
       "  </tbody>\n",
       "</table>\n",
       "</div>"
      ]
     },
     "metadata": {},
     "execution_count": 71
    }
   ],
   "metadata": {}
  },
  {
   "cell_type": "code",
   "execution_count": 72,
   "source": [
    "## Minmax Scaler\r\n",
    "\r\n",
    "scaler = preprocessing.MinMaxScaler()\r\n",
    "dn_scaled = pd.DataFrame(scaler.fit_transform(dn_away_only), columns=dn_away_only.columns)\r\n",
    "# add location back \r\n",
    "dn_scaled['LOCATION'] = dn.index\r\n",
    "ax3 = dn_scaled.plot.bar(x='LOCATION', title='Min Max Scaled Performance by Location')\r\n",
    "ax3.legend(labels=['Punt', 'Field Goal', 'Kickoff'])\r\n",
    "ax4 = dn_scaled.plot.bar(x='LOCATION', title='Min Max Scaled Performance by Location', stacked=True, sort_columns=True)\r\n",
    "ax4.legend(labels=['Punt', 'Field Goal', 'Kickoff'])\r\n"
   ],
   "outputs": [
    {
     "output_type": "execute_result",
     "data": {
      "text/plain": [
       "<matplotlib.legend.Legend at 0x19a0fbb1700>"
      ]
     },
     "metadata": {},
     "execution_count": 72
    },
    {
     "output_type": "display_data",
     "data": {
      "text/plain": [
       "<Figure size 432x288 with 1 Axes>"
      ],
      "image/png": "[encoded data removed]"
     },
     "metadata": {
      "needs_background": "light"
     }
    },
    {
     "output_type": "display_data",
     "data": {
      "text/plain": [
       "<Figure size 432x288 with 1 Axes>"
      ],
      "image/png": "[encoded data removed]"
     },
     "metadata": {
      "needs_background": "light"
     }
    }
   ],
   "metadata": {}
  },
  {
   "cell_type": "code",
   "execution_count": 73,
   "source": [
    "# Standard Scaler\r\n",
    "standard_scaler = preprocessing.StandardScaler()\r\n",
    "dn_standard_scaled = pd.DataFrame(standard_scaler.fit_transform(dn_away_only), columns=dn_away_only.columns)\r\n",
    "dn_standard_scaled['LOCATION'] = dn_away_only.index\r\n",
    "ax5 = dn_standard_scaled.plot.bar(x='LOCATION', title='Standard Scaled Performance by Location')\r\n",
    "ax5.legend(labels=['Punt', 'Field Goal', 'Kickoff'])"
   ],
   "outputs": [
    {
     "output_type": "execute_result",
     "data": {
      "text/plain": [
       "<matplotlib.legend.Legend at 0x19a0fcff070>"
      ]
     },
     "metadata": {},
     "execution_count": 73
    },
    {
     "output_type": "display_data",
     "data": {
      "text/plain": [
       "<Figure size 432x288 with 1 Axes>"
      ],
      "image/png": "[encoded data removed]"
     },
     "metadata": {
      "needs_background": "light"
     }
    }
   ],
   "metadata": {}
  },
  {
   "cell_type": "markdown",
   "source": [
    "# **UPDATE THIS FOR KICKOFF DATA INCLUDED\r\n",
    "\r\n",
    "Scaling the data was a very useful tool to be able to compare field goals and punts side by side and overall results for stadiums. When plotting scaled data, I found that using the min max scaler technique, where the min is set to 0.0 and max 1.0, was very useful for the stacked bar graph to show overall performance of each location. The standard scaler, where the mean is 0 and values below the mean are negative and above positive, provided a useful visual for comparison across stadiums to very easily see which stadiums were below the mean which was less evident in the min max scaler visualisations. In the first min max bar graph that is not stacked, it is difficult to see the lower performances, especially the wost performances such as in Hamilton and Toronto where there is no bar. This is why I like the standard scaled better. \r\n",
    "\r\n",
    "Looking at the data overall, Calgary (CGY) has the best performances in both punting and field goals and Winnipeg (WPG) is the next best. Saskatchewan has good field goal accuracy and Ottawa has the next best punting average. The worst performing stadiums are Hamilton followed by Edmonton and Toronto. Toronto had the worst field goal accuarcy performance and Hamilton and Edmonton were tied for the worst overall punting average. The results for BC, the only indoor stadium, show that they are hovering just a little below average in both punting average and field goal accuracy.\r\n",
    "\r\n",
    "## Compare Outdoor vs Indoor (BC) Data\r\n",
    "\r\n",
    "Now I will compare BC to all the other outdoor stadiums. In order to compare the indoor vs outdoor data, a column of the combined performances of all outdoor locations (not BC) will be added to the dataset. This will requiring aggregating all the data from the other locations, mainly field goal attempts and attempts made, then punt yards and number of punts. The location will be labeled as 'OUT' for outdoors."
   ],
   "metadata": {}
  },
  {
   "cell_type": "code",
   "execution_count": 74,
   "source": [
    "## add outdoors column to datasets as they are\r\n",
    "\r\n",
    "def add_outdoor_col_punt(df1):\r\n",
    "    #get data for each year and punter with location ne BC\r\n",
    "    df = df1.copy()\r\n",
    "    df_bc = df[df['LOCATION'].eq('BC')]\r\n",
    "    df = df[df['LOCATION'].ne('BC')]\r\n",
    "    years = df.YEAR.unique()\r\n",
    "    players = df.NAME.unique()\r\n",
    "    outdoor_data=[]  \r\n",
    "    for year in years:\r\n",
    "        for player in players:\r\n",
    "            num_punt_sum = df.loc[(df['YEAR'] == year) & (df['NAME'] == player ), 'NUMBER_OF_PUNTS'].sum()\r\n",
    "            punt_yard_sum = df.loc[(df['YEAR'] == year) & (df['NAME'] == player ), 'PUNT_YDS'].sum()\r\n",
    "            if num_punt_sum > 0:\r\n",
    "                out_ave = punt_yard_sum / num_punt_sum\r\n",
    "                # temp_df = pd.DataFrame([year, player, 'OUT', num_punt_sum, punt_yard_sum, out_ave])\r\n",
    "                outdoor_data.append([year, player, 'OUT', num_punt_sum, punt_yard_sum, out_ave])\r\n",
    "            else:\r\n",
    "                continue\r\n",
    "    column_names = list(df.columns)\r\n",
    "    outdoor_df = pd.DataFrame(outdoor_data, columns=column_names)\r\n",
    "    df = df.append(outdoor_df)\r\n",
    "    # add bc location data back to dataframe with outdoor data\r\n",
    "    df = df.append(df_bc)\r\n",
    "    df = df.round(1)\r\n",
    "    return df\r\n",
    "\r\n",
    "df_away_punt_out = add_outdoor_col_punt(df_away_punt_clean)\r\n"
   ],
   "outputs": [
    {
     "output_type": "error",
     "ename": "ValueError",
     "evalue": "7 columns passed, passed data had 6 columns",
     "traceback": [
      "\u001b[1;31m---------------------------------------------------------------------------\u001b[0m",
      "\u001b[1;31mAssertionError\u001b[0m                            Traceback (most recent call last)",
      "\u001b[1;32m~\\AppData\\Roaming\\Python\\Python39\\site-packages\\pandas\\core\\internals\\construction.py\u001b[0m in \u001b[0;36m_list_to_arrays\u001b[1;34m(data, columns, coerce_float, dtype)\u001b[0m\n\u001b[0;32m    567\u001b[0m     \u001b[1;32mtry\u001b[0m\u001b[1;33m:\u001b[0m\u001b[1;33m\u001b[0m\u001b[1;33m\u001b[0m\u001b[0m\n\u001b[1;32m--> 568\u001b[1;33m         \u001b[0mcolumns\u001b[0m \u001b[1;33m=\u001b[0m \u001b[0m_validate_or_indexify_columns\u001b[0m\u001b[1;33m(\u001b[0m\u001b[0mcontent\u001b[0m\u001b[1;33m,\u001b[0m \u001b[0mcolumns\u001b[0m\u001b[1;33m)\u001b[0m\u001b[1;33m\u001b[0m\u001b[1;33m\u001b[0m\u001b[0m\n\u001b[0m\u001b[0;32m    569\u001b[0m         \u001b[0mresult\u001b[0m \u001b[1;33m=\u001b[0m \u001b[0m_convert_object_array\u001b[0m\u001b[1;33m(\u001b[0m\u001b[0mcontent\u001b[0m\u001b[1;33m,\u001b[0m \u001b[0mdtype\u001b[0m\u001b[1;33m=\u001b[0m\u001b[0mdtype\u001b[0m\u001b[1;33m,\u001b[0m \u001b[0mcoerce_float\u001b[0m\u001b[1;33m=\u001b[0m\u001b[0mcoerce_float\u001b[0m\u001b[1;33m)\u001b[0m\u001b[1;33m\u001b[0m\u001b[1;33m\u001b[0m\u001b[0m\n",
      "\u001b[1;32m~\\AppData\\Roaming\\Python\\Python39\\site-packages\\pandas\\core\\internals\\construction.py\u001b[0m in \u001b[0;36m_validate_or_indexify_columns\u001b[1;34m(content, columns)\u001b[0m\n\u001b[0;32m    691\u001b[0m             \u001b[1;31m# caller's responsibility to check for this...\u001b[0m\u001b[1;33m\u001b[0m\u001b[1;33m\u001b[0m\u001b[1;33m\u001b[0m\u001b[0m\n\u001b[1;32m--> 692\u001b[1;33m             raise AssertionError(\n\u001b[0m\u001b[0;32m    693\u001b[0m                 \u001b[1;34mf\"{len(columns)} columns passed, passed data had \"\u001b[0m\u001b[1;33m\u001b[0m\u001b[1;33m\u001b[0m\u001b[0m\n",
      "\u001b[1;31mAssertionError\u001b[0m: 7 columns passed, passed data had 6 columns",
      "\nThe above exception was the direct cause of the following exception:\n",
      "\u001b[1;31mValueError\u001b[0m                                Traceback (most recent call last)",
      "\u001b[1;32m<ipython-input-74-4710a3d35f4e>\u001b[0m in \u001b[0;36m<module>\u001b[1;34m\u001b[0m\n\u001b[0;32m     27\u001b[0m     \u001b[1;32mreturn\u001b[0m \u001b[0mdf\u001b[0m\u001b[1;33m\u001b[0m\u001b[1;33m\u001b[0m\u001b[0m\n\u001b[0;32m     28\u001b[0m \u001b[1;33m\u001b[0m\u001b[0m\n\u001b[1;32m---> 29\u001b[1;33m \u001b[0mdf_away_punt_out\u001b[0m \u001b[1;33m=\u001b[0m \u001b[0madd_outdoor_col_punt\u001b[0m\u001b[1;33m(\u001b[0m\u001b[0mdf_away_punt_clean\u001b[0m\u001b[1;33m)\u001b[0m\u001b[1;33m\u001b[0m\u001b[1;33m\u001b[0m\u001b[0m\n\u001b[0m",
      "\u001b[1;32m<ipython-input-74-4710a3d35f4e>\u001b[0m in \u001b[0;36madd_outdoor_col_punt\u001b[1;34m(df1)\u001b[0m\n\u001b[0;32m     20\u001b[0m                 \u001b[1;32mcontinue\u001b[0m\u001b[1;33m\u001b[0m\u001b[1;33m\u001b[0m\u001b[0m\n\u001b[0;32m     21\u001b[0m     \u001b[0mcolumn_names\u001b[0m \u001b[1;33m=\u001b[0m \u001b[0mlist\u001b[0m\u001b[1;33m(\u001b[0m\u001b[0mdf\u001b[0m\u001b[1;33m.\u001b[0m\u001b[0mcolumns\u001b[0m\u001b[1;33m)\u001b[0m\u001b[1;33m\u001b[0m\u001b[1;33m\u001b[0m\u001b[0m\n\u001b[1;32m---> 22\u001b[1;33m     \u001b[0moutdoor_df\u001b[0m \u001b[1;33m=\u001b[0m \u001b[0mpd\u001b[0m\u001b[1;33m.\u001b[0m\u001b[0mDataFrame\u001b[0m\u001b[1;33m(\u001b[0m\u001b[0moutdoor_data\u001b[0m\u001b[1;33m,\u001b[0m \u001b[0mcolumns\u001b[0m\u001b[1;33m=\u001b[0m\u001b[0mcolumn_names\u001b[0m\u001b[1;33m)\u001b[0m\u001b[1;33m\u001b[0m\u001b[1;33m\u001b[0m\u001b[0m\n\u001b[0m\u001b[0;32m     23\u001b[0m     \u001b[0mdf\u001b[0m \u001b[1;33m=\u001b[0m \u001b[0mdf\u001b[0m\u001b[1;33m.\u001b[0m\u001b[0mappend\u001b[0m\u001b[1;33m(\u001b[0m\u001b[0moutdoor_df\u001b[0m\u001b[1;33m)\u001b[0m\u001b[1;33m\u001b[0m\u001b[1;33m\u001b[0m\u001b[0m\n\u001b[0;32m     24\u001b[0m     \u001b[1;31m# add bc location data back to dataframe with outdoor data\u001b[0m\u001b[1;33m\u001b[0m\u001b[1;33m\u001b[0m\u001b[1;33m\u001b[0m\u001b[0m\n",
      "\u001b[1;32m~\\AppData\\Roaming\\Python\\Python39\\site-packages\\pandas\\core\\frame.py\u001b[0m in \u001b[0;36m__init__\u001b[1;34m(self, data, index, columns, dtype, copy)\u001b[0m\n\u001b[0;32m    568\u001b[0m                     \u001b[1;32mif\u001b[0m \u001b[0mis_named_tuple\u001b[0m\u001b[1;33m(\u001b[0m\u001b[0mdata\u001b[0m\u001b[1;33m[\u001b[0m\u001b[1;36m0\u001b[0m\u001b[1;33m]\u001b[0m\u001b[1;33m)\u001b[0m \u001b[1;32mand\u001b[0m \u001b[0mcolumns\u001b[0m \u001b[1;32mis\u001b[0m \u001b[1;32mNone\u001b[0m\u001b[1;33m:\u001b[0m\u001b[1;33m\u001b[0m\u001b[1;33m\u001b[0m\u001b[0m\n\u001b[0;32m    569\u001b[0m                         \u001b[0mcolumns\u001b[0m \u001b[1;33m=\u001b[0m \u001b[0mdata\u001b[0m\u001b[1;33m[\u001b[0m\u001b[1;36m0\u001b[0m\u001b[1;33m]\u001b[0m\u001b[1;33m.\u001b[0m\u001b[0m_fields\u001b[0m\u001b[1;33m\u001b[0m\u001b[1;33m\u001b[0m\u001b[0m\n\u001b[1;32m--> 570\u001b[1;33m                     \u001b[0marrays\u001b[0m\u001b[1;33m,\u001b[0m \u001b[0mcolumns\u001b[0m \u001b[1;33m=\u001b[0m \u001b[0mto_arrays\u001b[0m\u001b[1;33m(\u001b[0m\u001b[0mdata\u001b[0m\u001b[1;33m,\u001b[0m \u001b[0mcolumns\u001b[0m\u001b[1;33m,\u001b[0m \u001b[0mdtype\u001b[0m\u001b[1;33m=\u001b[0m\u001b[0mdtype\u001b[0m\u001b[1;33m)\u001b[0m\u001b[1;33m\u001b[0m\u001b[1;33m\u001b[0m\u001b[0m\n\u001b[0m\u001b[0;32m    571\u001b[0m                     \u001b[0mcolumns\u001b[0m \u001b[1;33m=\u001b[0m \u001b[0mensure_index\u001b[0m\u001b[1;33m(\u001b[0m\u001b[0mcolumns\u001b[0m\u001b[1;33m)\u001b[0m\u001b[1;33m\u001b[0m\u001b[1;33m\u001b[0m\u001b[0m\n\u001b[0;32m    572\u001b[0m \u001b[1;33m\u001b[0m\u001b[0m\n",
      "\u001b[1;32m~\\AppData\\Roaming\\Python\\Python39\\site-packages\\pandas\\core\\internals\\construction.py\u001b[0m in \u001b[0;36mto_arrays\u001b[1;34m(data, columns, coerce_float, dtype)\u001b[0m\n\u001b[0;32m    526\u001b[0m         \u001b[1;32mreturn\u001b[0m \u001b[1;33m[\u001b[0m\u001b[1;33m]\u001b[0m\u001b[1;33m,\u001b[0m \u001b[1;33m[\u001b[0m\u001b[1;33m]\u001b[0m  \u001b[1;31m# columns if columns is not None else []\u001b[0m\u001b[1;33m\u001b[0m\u001b[1;33m\u001b[0m\u001b[0m\n\u001b[0;32m    527\u001b[0m     \u001b[1;32mif\u001b[0m \u001b[0misinstance\u001b[0m\u001b[1;33m(\u001b[0m\u001b[0mdata\u001b[0m\u001b[1;33m[\u001b[0m\u001b[1;36m0\u001b[0m\u001b[1;33m]\u001b[0m\u001b[1;33m,\u001b[0m \u001b[1;33m(\u001b[0m\u001b[0mlist\u001b[0m\u001b[1;33m,\u001b[0m \u001b[0mtuple\u001b[0m\u001b[1;33m)\u001b[0m\u001b[1;33m)\u001b[0m\u001b[1;33m:\u001b[0m\u001b[1;33m\u001b[0m\u001b[1;33m\u001b[0m\u001b[0m\n\u001b[1;32m--> 528\u001b[1;33m         \u001b[1;32mreturn\u001b[0m \u001b[0m_list_to_arrays\u001b[0m\u001b[1;33m(\u001b[0m\u001b[0mdata\u001b[0m\u001b[1;33m,\u001b[0m \u001b[0mcolumns\u001b[0m\u001b[1;33m,\u001b[0m \u001b[0mcoerce_float\u001b[0m\u001b[1;33m=\u001b[0m\u001b[0mcoerce_float\u001b[0m\u001b[1;33m,\u001b[0m \u001b[0mdtype\u001b[0m\u001b[1;33m=\u001b[0m\u001b[0mdtype\u001b[0m\u001b[1;33m)\u001b[0m\u001b[1;33m\u001b[0m\u001b[1;33m\u001b[0m\u001b[0m\n\u001b[0m\u001b[0;32m    529\u001b[0m     \u001b[1;32melif\u001b[0m \u001b[0misinstance\u001b[0m\u001b[1;33m(\u001b[0m\u001b[0mdata\u001b[0m\u001b[1;33m[\u001b[0m\u001b[1;36m0\u001b[0m\u001b[1;33m]\u001b[0m\u001b[1;33m,\u001b[0m \u001b[0mabc\u001b[0m\u001b[1;33m.\u001b[0m\u001b[0mMapping\u001b[0m\u001b[1;33m)\u001b[0m\u001b[1;33m:\u001b[0m\u001b[1;33m\u001b[0m\u001b[1;33m\u001b[0m\u001b[0m\n\u001b[0;32m    530\u001b[0m         return _list_of_dict_to_arrays(\n",
      "\u001b[1;32m~\\AppData\\Roaming\\Python\\Python39\\site-packages\\pandas\\core\\internals\\construction.py\u001b[0m in \u001b[0;36m_list_to_arrays\u001b[1;34m(data, columns, coerce_float, dtype)\u001b[0m\n\u001b[0;32m    569\u001b[0m         \u001b[0mresult\u001b[0m \u001b[1;33m=\u001b[0m \u001b[0m_convert_object_array\u001b[0m\u001b[1;33m(\u001b[0m\u001b[0mcontent\u001b[0m\u001b[1;33m,\u001b[0m \u001b[0mdtype\u001b[0m\u001b[1;33m=\u001b[0m\u001b[0mdtype\u001b[0m\u001b[1;33m,\u001b[0m \u001b[0mcoerce_float\u001b[0m\u001b[1;33m=\u001b[0m\u001b[0mcoerce_float\u001b[0m\u001b[1;33m)\u001b[0m\u001b[1;33m\u001b[0m\u001b[1;33m\u001b[0m\u001b[0m\n\u001b[0;32m    570\u001b[0m     \u001b[1;32mexcept\u001b[0m \u001b[0mAssertionError\u001b[0m \u001b[1;32mas\u001b[0m \u001b[0me\u001b[0m\u001b[1;33m:\u001b[0m\u001b[1;33m\u001b[0m\u001b[1;33m\u001b[0m\u001b[0m\n\u001b[1;32m--> 571\u001b[1;33m         \u001b[1;32mraise\u001b[0m \u001b[0mValueError\u001b[0m\u001b[1;33m(\u001b[0m\u001b[0me\u001b[0m\u001b[1;33m)\u001b[0m \u001b[1;32mfrom\u001b[0m \u001b[0me\u001b[0m\u001b[1;33m\u001b[0m\u001b[1;33m\u001b[0m\u001b[0m\n\u001b[0m\u001b[0;32m    572\u001b[0m     \u001b[1;32mreturn\u001b[0m \u001b[0mresult\u001b[0m\u001b[1;33m,\u001b[0m \u001b[0mcolumns\u001b[0m\u001b[1;33m\u001b[0m\u001b[1;33m\u001b[0m\u001b[0m\n\u001b[0;32m    573\u001b[0m \u001b[1;33m\u001b[0m\u001b[0m\n",
      "\u001b[1;31mValueError\u001b[0m: 7 columns passed, passed data had 6 columns"
     ]
    }
   ],
   "metadata": {}
  },
  {
   "cell_type": "code",
   "execution_count": null,
   "source": [
    "\r\n",
    "def add_outdoor_col_fg(df1):\r\n",
    "    #get data for each year and punter with location ne BC\r\n",
    "    df = df1.copy()\r\n",
    "    #get all data excluding BC data\r\n",
    "    df_bc = df[df['LOCATION'].eq('BC')]\r\n",
    "    # get list of players and years\r\n",
    "    df = df[df['LOCATION'].ne('BC')]\r\n",
    "    # get bc location data\r\n",
    "    years = df.YEAR.unique()\r\n",
    "    players = df.NAME.unique()\r\n",
    "    outdoor_data=[]  \r\n",
    "    # get column names for df\r\n",
    "    column_names = list(df.columns)\r\n",
    "    for year in years:\r\n",
    "        for player in players:\r\n",
    "            #get total attempst and made for each player in each year\r\n",
    "            sum_fg_attempts = df.loc[(df['YEAR'] == year) & (df['NAME'] == player ), 'FG_ATTEMPTS'].sum()\r\n",
    "            sum_fg_made = df.loc[(df['YEAR'] == year) & (df['NAME'] == player ), 'FG_MADE'].sum()\r\n",
    "            if sum_fg_attempts > 0:\r\n",
    "                # calculate accuracy\r\n",
    "                out_percentage = (sum_fg_made / sum_fg_attempts) * 100\r\n",
    "                # get sums of the rest of numeric data\r\n",
    "                details_data = df.loc[(df['YEAR'] == year) & (df['NAME'] == player ), ['lt_20', '20_29', '30_39', '40_49', 'gte_50', 'C1_ATT', 'C1_MADE']].sum()\r\n",
    "                details_data = details_data.round()\r\n",
    "                # create an empty df\r\n",
    "                temp_df = pd.DataFrame([], columns=column_names)\r\n",
    "                # add distance details to df\r\n",
    "                temp_df = temp_df.append(details_data, ignore_index=True)\r\n",
    "                # add player year location fg made and attempt data to df\r\n",
    "                temp_df = temp_df.assign(YEAR=year, NAME=player, LOCATION='OUT', FG_ATTEMPTS=sum_fg_attempts, FG_MADE=sum_fg_made, ACCURACY=out_percentage)\r\n",
    "                # add df to array\r\n",
    "                outdoor_data.append(temp_df)                \r\n",
    "            else:\r\n",
    "                continue\r\n",
    "    # outdoor_df = pd.DataFrame(outdoor_data, columns=column_names)\r\n",
    "    dn = pd.concat(outdoor_data, axis=0, )\r\n",
    "    df = df.append(dn)\r\n",
    "    # add bc data back to dataframe\r\n",
    "    df = df.append(df_bc)\r\n",
    "    df = df.round(1)\r\n",
    "    return df\r\n",
    "\r\n",
    "df_away_fg_out = add_outdoor_col_fg(df_away_fg_clean)"
   ],
   "outputs": [],
   "metadata": {}
  },
  {
   "cell_type": "markdown",
   "source": [
    "## Visualizations of Indoors (BC) vs Outdoors\r\n",
    "# ** ADD KICKOFFS"
   ],
   "metadata": {}
  },
  {
   "cell_type": "code",
   "execution_count": null,
   "source": [
    "# create new dataframe that includes only the data for Outdoors and BC\r\n",
    "df_away_punt_out_bc = df_away_punt_out[df_away_punt_out['LOCATION'].isin(['OUT','BC'])]\r\n",
    "df_away_fg_out_bc = df_away_fg_out[df_away_fg_out['LOCATION'].isin(['OUT','BC'])]"
   ],
   "outputs": [],
   "metadata": {}
  },
  {
   "cell_type": "code",
   "execution_count": null,
   "source": [
    "\r\n",
    "o = sns.catplot(x='LOCATION', y='PUNT_AVG', data=df_away_punt_out_bc, kind='box').set(title='Outdoor Vs Indoor Punt Averages')\r\n",
    "p = sns.catplot(x='LOCATION', y='ACCURACY', data=df_away_fg_out_bc, kind='box').set(title='Outdoor Vs Indoor Field Goal Accuracies')"
   ],
   "outputs": [],
   "metadata": {}
  },
  {
   "cell_type": "markdown",
   "source": [
    "## Get Outdoor Overall Punt Average and Field Goal Accuracy\n",
    "\n",
    "In order to get the overall punt average for outdoor stadiums, the total amount of yards must be summed and divided by the total amount of punts. Otherwise if we just take the average of the punt averages, a game with one punt of 70 yards would have the same weight as a 10 pnut game which averaged 45 yards. Same goes for field goals, the total number of successfull made field goals must be added together and divided by the total number of field goal attempts to get the overall accuarcy. "
   ],
   "metadata": {}
  },
  {
   "cell_type": "code",
   "execution_count": null,
   "source": [
    "def get_overall_punt_avg(df):\r\n",
    "    sum_df = df.groupby('LOCATION').sum()\r\n",
    "    sum_df['OVERALL_AVG'] = sum_df['PUNT_YDS'] / sum_df['NUMBER_OF_PUNTS'] \r\n",
    "    return sum_df['OVERALL_AVG'].round(1)\r\n",
    "\r\n",
    "get_overall_punt_avg(df_away_punt_out_bc)"
   ],
   "outputs": [],
   "metadata": {}
  },
  {
   "cell_type": "code",
   "execution_count": null,
   "source": [
    "def get_overall_fg_accuracy(df):\r\n",
    "    sum_df = df.groupby('LOCATION').sum()\r\n",
    "    sum_df['OVERALL_ACCURACY'] = sum_df['FG_MADE'] / sum_df['FG_ATTEMPTS']\r\n",
    "    sum_df = sum_df.transform(lambda x: x*100)\r\n",
    "    return sum_df['OVERALL_ACCURACY'].round(1)\r\n",
    "\r\n",
    "get_overall_fg_accuracy(df_away_fg_out_bc)"
   ],
   "outputs": [],
   "metadata": {}
  },
  {
   "cell_type": "markdown",
   "source": [
    "When we aggregate all the outdoor stadiums data to compare to the indoor stadium in BC we find that the punting average for away only games is actually below outdoor stadiums. Punters averaged 44.0 yards per punt in BC while outdoors the average was 44.5 yards so players performanced better overall outdoors than indoors in BC. When looking at the aggregate of field goal accuracy, they are extremely close. Overall field goal accuracy was very similar in BC place compared to outdoor stadiums. Over the 4 seasons visiting kickers accuarcy was 83.8% while visiting kicker's accuracy in outdoor stadiums totalled 84.1%.\n",
    "\n",
    "## Preliminary Look At Individual Performances\n",
    "\n",
    "In the future of this project I will analyze the results of indivudal players performances across stadiums. For the purposes of this preliminary report I will organize the data in order to show a proof of concept and display some basic plots that could be used in the full report going forward."
   ],
   "metadata": {}
  },
  {
   "cell_type": "code",
   "execution_count": null,
   "source": [
    "df_punt_pivot = df_away_punt_clean.copy()\r\n",
    "df_punt_pivot = pd.pivot_table(df_punt_pivot, values=['NUMBER_OF_PUNTS', 'PUNT_YDS', 'PUNT_AVG'], index=['YEAR', 'NAME'], columns=['LOCATION'], fill_value=0)\r\n",
    "\r\n",
    "df_punt_pivot"
   ],
   "outputs": [],
   "metadata": {}
  },
  {
   "cell_type": "code",
   "execution_count": null,
   "source": [
    "df_fg_pivot = df_away_fg_clean.copy()\r\n",
    "df_fg_pivot = pd.pivot_table(df_fg_pivot, values=['FG_MADE', 'FG_ATTEMPTS', 'ACCURACY'], index=['YEAR', 'NAME'], columns=['LOCATION'], fill_value=0)\r\n",
    "\r\n",
    "df_fg_pivot"
   ],
   "outputs": [],
   "metadata": {}
  },
  {
   "cell_type": "markdown",
   "source": [
    "## Remove rows with punters who do not have any data for BC\n",
    "\n",
    "There are instances of punters and kickers who may have season data where they did not actually kick in BC for that year. Without them performing in BC there is no way to compare their indoor performances to their outdoors so they will be removed from the data. This is done by filteroung out players with 0 field goal attempts or 0 punts in BC for that season."
   ],
   "metadata": {}
  },
  {
   "cell_type": "code",
   "execution_count": null,
   "source": [
    "df_punt_pivot_clean = df_punt_pivot[df_punt_pivot.NUMBER_OF_PUNTS.BC.gt(1)]\r\n",
    "df_fg_pivot_clean = df_fg_pivot[df_fg_pivot.FG_ATTEMPTS.BC.gt(1)]\r\n"
   ],
   "outputs": [],
   "metadata": {}
  },
  {
   "cell_type": "code",
   "execution_count": null,
   "source": [
    "# check results of punt dataset - make sure BC NUMBER_OF_PUNTS all greater than 0\r\n",
    "df_punt_pivot_clean.head()"
   ],
   "outputs": [],
   "metadata": {}
  },
  {
   "cell_type": "code",
   "execution_count": null,
   "source": [
    "# check results of punt dataset - make sure BC.FG_ATTEMTPTS all greater than 0\r\n",
    "df_fg_pivot_clean.head()"
   ],
   "outputs": [],
   "metadata": {}
  },
  {
   "cell_type": "markdown",
   "source": [
    "## Create outdoor column to add to each player"
   ],
   "metadata": {}
  },
  {
   "cell_type": "code",
   "execution_count": null,
   "source": [
    "def add_out_location_for_punt_pivot_df(df):\r\n",
    "    #get number of punts for all non bc games\r\n",
    "    df1 = df.copy()\r\n",
    "    df1.loc[:, ['NUMBER_OF_PUNTS']].iloc[: , 1:-1]\r\n",
    "\r\n",
    "    #create column of number of outdoor punts = sum of all punts not in BC\r\n",
    "    df1['NUMBER_OF_PUNTS', 'OUT'] = df1.loc[:, ['NUMBER_OF_PUNTS']].iloc[: , 1:-1].sum(axis=1)\r\n",
    "\r\n",
    "    #create column of total punt yards outdoors = sum of all punt yards not in BC\r\n",
    "    df1['PUNT_YDS', 'OUT'] = df1.loc[:, ['PUNT_YDS']].iloc[: , 1:-1].sum(axis=1)\r\n",
    "\r\n",
    "    #create colum of punt average outdoors = outdoor punt yards / outdoor number of punts\r\n",
    "    df1['PUNT_AVG', 'OUT'] = df1.PUNT_YDS.OUT / df1.NUMBER_OF_PUNTS.OUT\r\n",
    "    # \r\n",
    "    df1 = df1.round(1)\r\n",
    "    return df1\r\n",
    "\r\n",
    "df_punt_pivot_clean_out = add_out_location_for_punt_pivot_df(df_punt_pivot_clean)\r\n",
    "df_punt_pivot_clean_out.head()\r\n"
   ],
   "outputs": [],
   "metadata": {}
  },
  {
   "cell_type": "code",
   "execution_count": null,
   "source": [
    "def add_out_location_for_fg_pivot_df(df):\r\n",
    "    #get number of field goals attempted for non bc games\r\n",
    "    df1 = df.copy()\r\n",
    "    df1.loc[:, ['FG_ATTEMPTS']].iloc[: , 1:-1]\r\n",
    "\r\n",
    "    #create column of number of outdoor field goal attempts = sum of all field goals not in BC\r\n",
    "    df1['FG_ATTEMPTS', 'OUT'] = df1.loc[:, ['FG_ATTEMPTS']].iloc[: , 1:-1].sum(axis=1)\r\n",
    "\r\n",
    "    #create column of total field goals made outdoors = sum of all field goals made not in BC\r\n",
    "    df1['FG_MADE', 'OUT'] = df1.loc[:, ['FG_MADE']].iloc[: , 1:-1].sum(axis=1)\r\n",
    "\r\n",
    "    #create colum of accuracy outdoors = outdoor field goals made / outdoor field goals attempted\r\n",
    "    df1['ACCURACY', 'OUT'] = df1.FG_MADE.OUT / df1.FG_ATTEMPTS.OUT * 100\r\n",
    "    # \r\n",
    "    df1 = df1.round(1)\r\n",
    "    return df1\r\n",
    "\r\n",
    "df_fg_pivot_clean_out = add_out_location_for_fg_pivot_df(df_fg_pivot_clean)\r\n",
    "df_fg_pivot_clean_out.head()"
   ],
   "outputs": [],
   "metadata": {}
  },
  {
   "cell_type": "markdown",
   "source": [
    "## Create some player data plots of Indoors Vs Outdoors"
   ],
   "metadata": {}
  },
  {
   "cell_type": "code",
   "execution_count": null,
   "source": [
    "# fg_plot_data = df_fg_pivot_clean_out[['ACCURACY']]\r\n",
    "ax6 = df_fg_pivot_clean_out[['ACCURACY']].loc[:, :].iloc[: , [0,-1]].plot.barh(xlim=[30, 100], figsize=(5,12))\r\n",
    "ax6.set(title='Player FG Accurcay Indoors vs Outdoors')\r\n",
    "ax6.legend(labels=['Indoors', 'Outdoors'])"
   ],
   "outputs": [],
   "metadata": {}
  },
  {
   "cell_type": "code",
   "execution_count": null,
   "source": [
    "ax7 = df_punt_pivot_clean_out[['PUNT_AVG']].loc[:, :].iloc[: , [0, -1]].plot.barh(xlim=[34,53], figsize=(5,12))\r\n",
    "ax7.set(title='Player Punt Average Indoors vs Outdoors')\r\n",
    "ax7.legend(labels=['Indoors','Outdoors'])"
   ],
   "outputs": [],
   "metadata": {}
  },
  {
   "cell_type": "markdown",
   "source": [
    "These visualizations do not provide much insight into the data but show that further analysis is possible. To get a better understanding of the results, it would make sense to analyse the difference of each data points performance between outdoor and indoor performance and combine them into one metric vs two. This could then be plotted and analysed to see overall trends amongst the whole dataset instead of the individual data points as seen above.\n",
    "\n"
   ],
   "metadata": {}
  },
  {
   "cell_type": "markdown",
   "source": [
    "## Initial Summary and Analysis\r\n",
    "\r\n",
    "Looking at the away performance data, punting performances were the best overall in Calgary, Ottawa (OTT), and Winnipeg (WPG) while the worst punting was in Edmonton, Hamilton (HAM), and Montreal (MTL).  The best field goal performances were in Calgary (CGY), Saskatchewan (SSK), and Winnipeg (WPG) while the worst were in Toronto (TOR), Hamilton (HAM), and Ottawa (OTT). It would appear that Edmonton (EDM), Hamilton (HAM), Montreal (MTL), and Toronto (TOR) have the worst performance outcomes overall. Hamilton, Montreal, and Toronto are all in the Eastern division and possibly more importantly, the Eastern time zone. Studies have shown that travel from West to “East has a greater detrimental effect on sleep, subjective jet lag, fatigue, and motivation” (https://pubmed.ncbi.nlm.nih.gov/28719491/). This could be a possible reason for the subpar performances in this grouping of stadiums. \r\n",
    "\r\n",
    "Looking at the consistent top performance across both field goals and punting in Calgary, it could possibly be a result of the higher elevation of the city. The higher the elevation, the lower the air density and the lower the air density, the less air molecules there are in the path of the ball to slow it down. \"A punted or kicked football will run headlong into a steady barrage of air molecules. Their combined drag will slow it down, sometimes dramatically. But remember, in low density air, molecules are fewer and farther between\" (https://entertainment.howstuffworks.com/physics-and-football-denvers-altitude-affect-field-goals.htm). Calgary’s elevation is 1045m above sea level while the next highest city, Edmonton, is only 645m. BC is located at sea level so this could be a key as well as to why performances don’t increase as much as one would expect being indoors. Toronto, Montreal and Hamilton all have very low elevations as well and had below average performances. However, Ottawa is also a lower elevation city and while it had below average field goal accuracy, it had well above average punting performances.\r\n",
    "\r\n",
    "Another reason why BC may not have the punting performance results as anticipated is how punt distance is measured. Punt yardage is calculated by where the ball is actually picked up, not where it initially lands. In games with tough conditions, these conditions can also be tough for the returner who’s job is to catch the ball. If the returner is unable to catch the ball in the air due to a wild punt in a high wind game, there is a chance the ball can bounce past the returner. The punt is then recorded as a longer distance even though the punter may have not actually hit the ball very well. This poses an interesting idea that it may turn out that while indoor stadiums are favourable to the punter for consistent contact and accuracy, this may also play in favour of the returner for overall easier to catch punts. It would be interesting to see if there was more consistency, or less variance, overall in punting average in BC camparde to the other stadiums."
   ],
   "metadata": {}
  },
  {
   "cell_type": "markdown",
   "source": [
    "# DETAILED KICKING DATA\r\n",
    "Use data that contains individual field goal results. \r\n",
    "Data is for each field goal kicked, includes location, team, distance, whethere it was missed or made.  \r\n",
    "This improves upon the CFL data as the CFL data does not contain detailed information for kicks that were missed.\r\n",
    "This way we can look more closely at mid range to long range field goals where elements will be more of a factor than just mental errors. If a particular stadium has a higher percentage of shorter kicks for whatever reason, this could skew the results to it being a better stadium field goal performance wise when in actuality it is just because there has been a higher proportion of shorter, high percentage field goals. \r\n",
    "\r\n",
    "# DETAILED PUNTING DATA\r\n",
    "Use data that contains individual punt results, in this case net punt data. This is the field position actually obtained from the punt rather than the total distance the punt went. This is more of a team metric than individual punter but could lead to useful insights as well and is worth exploring. \r\n",
    "\r\n",
    "## Import Excel Data\r\n"
   ],
   "metadata": {}
  },
  {
   "cell_type": "code",
   "execution_count": null,
   "source": [
    "fg_data_df = pd.read_excel('fg_data.xlsx', engine='openpyxl')\r\n",
    "punt_data_df = pd.read_excel('punt_net_data.xlsx', engine='openpyxl')\r\n",
    "fg_data_df.head()\r\n",
    "\r\n"
   ],
   "outputs": [],
   "metadata": {}
  },
  {
   "cell_type": "code",
   "execution_count": null,
   "source": [
    "punt_data_df.head()"
   ],
   "outputs": [],
   "metadata": {}
  },
  {
   "cell_type": "code",
   "execution_count": null,
   "source": [
    "def clean_detailed_fg(df):\r\n",
    "   # drop columns not interested in\r\n",
    "   df = df.drop(['Regular/Playoffs', 'Game', 'Play by play text', 'Single'], axis=1)\r\n",
    "   df = df.rename(columns={'Stadium':'LOCATION', 'Year':'YEAR', 'Distance':'DISTANCE', 'Kicker':'NAME', 'Indoor/Outdoor': 'INOUT', 'Home':'HOME', 'Made':'MADE', 'Miss':'MISS', 'H/A':'HOMEAWAY'})\r\n",
    "   # fill in nan values with 0 for Made col\r\n",
    "   df['MADE'] = df['MADE'].fillna(0)\r\n",
    "   df['MISS'] = df['MISS'].fillna(0)\r\n",
    "   # replace Y and y in Made col with 1 to make it a binary column\r\n",
    "   df = df.replace({'MADE': {'Y': 1, 'y': 1}})\r\n",
    "   return df\r\n",
    "\r\n",
    "def clean_detailed_punt(df):\r\n",
    "   df = df.drop(['PLAY-BY-PLAY'], axis=1)\r\n",
    "   df = df.rename(columns={'HOME':'LOCATION'})\r\n",
    "   df['SINGLE'] = df['SINGLE'].fillna(0)\r\n",
    "   return df\r\n",
    "\r\n",
    "fg_data_df_clean = clean_detailed_fg(fg_data_df)\r\n",
    "punt_data_df_clean = clean_detailed_punt(punt_data_df)\r\n"
   ],
   "outputs": [],
   "metadata": {}
  },
  {
   "cell_type": "markdown",
   "source": [
    "# Field Goal Analysis\r\n",
    "Determine at what range field goal accuracy begins to decline significantly. Then will use this range to compare across stadiums.\r\n",
    "Get the overal accuracy at different distances for field goals and plot results.\r\n",
    "\r\n"
   ],
   "metadata": {}
  },
  {
   "cell_type": "code",
   "execution_count": null,
   "source": [
    "def get_accuracy(df):\r\n",
    "   made_fgs = (df['MADE'] == 1).sum()\r\n",
    "   missed_fgs = (df['MADE'] == 0).sum()\r\n",
    "   accuracy = (made_fgs / (made_fgs + missed_fgs)).round(3)*100\r\n",
    "   return accuracy\r\n",
    "\r\n",
    "def get_distance_accuracies(df):\r\n",
    "   df015_acc = get_accuracy(df.loc[(df['DISTANCE'] >= 0) & (df['DISTANCE'] <= 15)]) \r\n",
    "   df1629_acc = get_accuracy(df.loc[(df['DISTANCE'] >= 16) & (df['DISTANCE'] <= 29)])\r\n",
    "   df3035_acc = get_accuracy(df.loc[(df['DISTANCE'] >= 30) & (df['DISTANCE'] <= 35)])\r\n",
    "   df3640_acc = get_accuracy(df.loc[(df['DISTANCE'] >= 36) & (df['DISTANCE'] <= 40)])\r\n",
    "   df4145_acc = get_accuracy(df.loc[(df['DISTANCE'] >= 41) & (df['DISTANCE'] <= 45)])\r\n",
    "   df4650_acc = get_accuracy(df.loc[(df['DISTANCE'] >= 46) & (df['DISTANCE'] <= 50)])\r\n",
    "   df51_acc = get_accuracy(df.loc[(df['DISTANCE'] >= 51)])\r\n",
    "   accuracies = [df015_acc,df1629_acc, df3035_acc,df3640_acc, df4145_acc, df4650_acc, df51_acc]\r\n",
    "   return(accuracies)\r\n",
    "\r\n",
    "fg_dist_accs = get_distance_accuracies(fg_data_df_clean)\r\n",
    "\r\n",
    "plt.bar(['0-15', '16-29', '30-35', '36-40', '41-45', '46-50','51+'],fg_dist_accs)\r\n",
    "plt.ylim(40,100)\r\n",
    "plt.xlabel('Field Goal Distance (yards)')\r\n",
    "plt.ylabel('Accuracy (%)')\r\n",
    "plt.title('Field Goal Accuarcy by Distance')"
   ],
   "outputs": [],
   "metadata": {}
  },
  {
   "cell_type": "markdown",
   "source": [
    "### See that Accuracies are near 100% up until the 30 yard range when there is a large drop off to about 85%.  \r\n",
    "### So for our FG data going forward we will use only field geals kicked from 30 yards and beyond to eliminate kicks that have little chance of missing.\r\n",
    "### This is so that if one stadium happens to have a higher % of shorter distance fgs this will not skew the data to it being a more accurate stadium."
   ],
   "metadata": {}
  },
  {
   "cell_type": "code",
   "execution_count": null,
   "source": [
    "def remove_short_fgs(dist, df):\r\n",
    "   new_df = df.loc[df['DISTANCE'] > dist]\r\n",
    "   return new_df\r\n",
    "\r\n",
    "long_fg_data = remove_short_fgs(29, fg_data_df_clean)\r\n",
    "\r\n",
    "print('ALL FG MAKES AND MISSES DATA COUNT: \\n', fg_data_df_clean['MADE'].value_counts())\r\n",
    "print('LONG FG MAKES AND MISSES DATA COUNT: \\n', long_fg_data['MADE'].value_counts())"
   ],
   "outputs": [],
   "metadata": {}
  },
  {
   "cell_type": "markdown",
   "source": [
    "By eliminating short fieldgoals with a high rate of accuracy, those field goals from 29 yards and in, we have removed 655 made fieldgoals but only 14 misses which is an accuracy rate of 97.9%.   \r\n",
    "Field goal accuracy from 30 and beyond is 78%.   \r\n",
    "Now we will break up the data into locations and look at accuracy in each location from 30 yards and beyond.\r\n",
    "\r\n",
    "\r\n",
    "\r\n",
    "\r\n",
    "\r\n"
   ],
   "metadata": {}
  },
  {
   "cell_type": "code",
   "execution_count": null,
   "source": [
    "def get_location_fg_accuracies(df):\r\n",
    "   #  total_attempts = df['FG_ATTEMPTS'].groupby(df['LOCATION']).sum()\r\n",
    "   total_makes = (df['MADE'] == 1).groupby(df['LOCATION']).sum()\r\n",
    "   total_misses = (df['MADE'] == 0).groupby(df['LOCATION']).sum()\r\n",
    "   accuracies = (total_makes / (total_misses + total_makes) *100).round(1)\r\n",
    "   new_df = pd.DataFrame(accuracies)\r\n",
    "   return new_df\r\n",
    "    \r\n",
    "def get_location_net_punts(df):\r\n",
    "   total_net = df['NET'].groupby(df['LOCATION']).sum()\r\n",
    "   total_punts = (df['LOCATION']).value_counts()\r\n",
    "   net_ave = (total_net / total_punts).round(2)\r\n",
    "   new_df = pd.DataFrame(net_ave, columns=['NET_PUNT_AVE'])\r\n",
    "   return new_df\r\n",
    "\r\n",
    "\r\n",
    "# home_fg_accuracies = get_location_fg_accuracies(df_home_fg_clean)\r\n",
    "# away_fg_accuracies = get_location_fg_accuracies(df_away_fg_clean)\r\n",
    "long_fg_acc_df = get_location_fg_accuracies(long_fg_data)\r\n",
    "all_fg_acc_df = get_location_fg_accuracies(fg_data_df_clean)\r\n",
    "\r\n",
    "\r\n",
    "away_long_fg_data = long_fg_data[long_fg_data.HOMEAWAY.eq('A')]\r\n",
    "home_long_fg_data = long_fg_data[long_fg_data.HOMEAWAY.eq('H')]\r\n",
    "\r\n",
    "long_fg_acc_away_df = get_location_fg_accuracies(away_long_fg_data)\r\n",
    "long_fg_acc_home_df = get_location_fg_accuracies(home_long_fg_data)\r\n",
    "\r\n",
    "# get_location_net_punts(punt_data_df_clean)"
   ],
   "outputs": [],
   "metadata": {}
  },
  {
   "cell_type": "code",
   "execution_count": null,
   "source": [
    "# plot these all together, har chart\r\n",
    "df_fg_acc = [all_fg_acc_df, long_fg_acc_df, long_fg_acc_away_df, long_fg_acc_home_df]\r\n",
    "df_fg_acc = pd.concat(df_fg_acc, axis=1)\r\n",
    "# df_fg_acc = df_fg_acc.drop(['LOCATION'], axis =1)\r\n",
    "df_fg_acc.columns = ['ALL_FGS', 'LONG_FGS', 'LONG_AWAY_FGS', 'LONG_HOME_FGS']\r\n",
    "\r\n",
    "df_fg_acc['ACCURACY_CHANGE_REMOVING_SHORT_FGS'] = df_fg_acc['ALL_FGS'] - df_fg_acc['LONG_FGS']\r\n",
    "df_fg_acc['DIFF_REMOVING_HOME_KICKERS'] = df_fg_acc['LONG_FGS'] - df_fg_acc['LONG_AWAY_FGS']\r\n",
    "\r\n",
    "df_fg_acc\r\n",
    "# df_fg_acc.plot.bar(subplots=True, layout=(4,2), figsize=(16,8), sharey=True)"
   ],
   "outputs": [],
   "metadata": {}
  },
  {
   "cell_type": "code",
   "execution_count": null,
   "source": [
    "ax0 = df_fg_acc.sort_values(\r\n",
    "      by=['ACCURACY_CHANGE_REMOVING_SHORT_FGS']\r\n",
    "   ).plot.bar(\r\n",
    "      title='Decrease in FG Accuracy when Removing Short Fgs (< 30 yards)', \r\n",
    "      y=['ACCURACY_CHANGE_REMOVING_SHORT_FGS'],\r\n",
    "      legend=False\r\n",
    "   )\r\n",
    "# ax0.legend(bbox_to_anchor=(1.05, 1), loc='upper left', borderaxespad=0.)\r\n",
    "ax0.set_ylim(4,10)\r\n",
    "ax0.axhline(df_fg_acc['ACCURACY_CHANGE_REMOVING_SHORT_FGS'].mean(), color='orange')\r\n",
    "ax0.invert_yaxis()\r\n",
    "for container in ax0.containers:\r\n",
    "   ax0.bar_label(container)\r\n",
    "\r\n",
    "# this could be a scaled graph - to show relative differences\r\n",
    "\r\n",
    "\r\n",
    "\r\n",
    "ax1 = df_fg_acc.sort_values(\r\n",
    "      by=['ALL_FGS']\r\n",
    "   ).plot.bar(\r\n",
    "      title='Field Goal Accuracy All Distances', \r\n",
    "      y=['ALL_FGS'], \r\n",
    "      legend=False\r\n",
    "   )\r\n",
    "ax1.set_ylim(80, 92)\r\n",
    "# ax1.legend(bbox_to_anchor=(1.05, 1), loc='upper left', borderaxespad=0.)\r\n",
    "for container in ax1.containers:\r\n",
    "   ax1.bar_label(container)\r\n",
    "\r\n",
    "ax3 = df_fg_acc.sort_values(\r\n",
    "      by=['LONG_FGS']\r\n",
    "   ).plot.bar(\r\n",
    "      title='Field Goal Accuracy 30+ Yards', \r\n",
    "      y=['LONG_FGS'], \r\n",
    "      legend=False\r\n",
    "   )\r\n",
    "ax3.set_ylim(70, 84)\r\n",
    "# ax3.legend(bbox_to_anchor=(1.05, 1), loc='upper left', borderaxespad=0.)\r\n",
    "for container in ax3.containers:\r\n",
    "   ax3.bar_label(container)\r\n",
    "\r\n"
   ],
   "outputs": [],
   "metadata": {}
  },
  {
   "cell_type": "code",
   "execution_count": null,
   "source": [
    "# Standard Scaler\r\n",
    "standard_scaler = preprocessing.StandardScaler()\r\n",
    "fg_standard_scaled = pd.DataFrame(standard_scaler.fit_transform(df_fg_acc), columns=df_fg_acc.columns)\r\n",
    "fg_standard_scaled['LOCATION'] = df_fg_acc.index\r\n",
    "ax5 = fg_standard_scaled.plot.bar(\r\n",
    "      x='LOCATION',\r\n",
    "      y=['ACCURACY_CHANGE_REMOVING_SHORT_FGS'], \r\n",
    "      title='Standard Scaled FG Accuracy by Location'\r\n",
    "   )\r\n",
    "ax5.legend(labels=['Change'])\r\n"
   ],
   "outputs": [],
   "metadata": {}
  },
  {
   "cell_type": "markdown",
   "source": [
    "Min max shows relative change, green shows min max of change - so in this case mtl had the greatest difference so the highest proportion of short fgs while hamilton had the least\r\n",
    "\r\n",
    "# ** NEEDS EDITTING\r\n",
    "# plot difference in accuracy after removing short fgs, showing how a higher percentage of short fgs could skew the data for one location over others\r\n",
    "### orange line shows average, larger the bar, the larger the decrease in accuarcy meaning the more fgs that were in the short range at that location\r\n",
    "### find that Montreal and Ottawa had the biggest drops in accuracy, so meaning they had a more signifincant amount of attempts from the high accuracy range\r\n",
    "### whereas hamilton had the lowest change in %, meaning a higher proportion of fgs attempted in Hamilton were from 30 yards and beyond\r\n",
    "### Edmonton, Montreal, Ottawa, Toronto were above the average drop in accuracy, so higher proportion of shorter fgs\r\n",
    "### Calgary, Hamilton, Sask, Winnipeg all had below average drops in accuarcy so lower proportion of shorter high accuracy fgs\r\n",
    "### BC was right on the average\r\n"
   ],
   "metadata": {}
  },
  {
   "cell_type": "markdown",
   "source": [
    "# Plot Home Vs Away FG Accuracies\r\n",
    "## Home kicker has about half the data at each location for each year, so significantly skew the data, maybe could could do something to reduce their weighting? otherwise seperate\r\n",
    "## Find that some kickers improve overall accuracy and some worsen accuracy\r\n",
    "## BC, Edmonton, Hamilton, Ottawa all improved the overall accuarcy of their respective stadiums\r\n",
    "## Calgary, Montreal, Sask, Toronto, and Winnipeg actually worsened overall accuracy \r\n",
    "## Biggest change is in Montreal, most significant difference between Home performance and Away"
   ],
   "metadata": {}
  },
  {
   "cell_type": "code",
   "execution_count": null,
   "source": [],
   "outputs": [],
   "metadata": {}
  },
  {
   "cell_type": "code",
   "execution_count": null,
   "source": [
    "\r\n",
    "ax2 = df_fg_acc.sort_values(\r\n",
    "      by=['LONG_HOME_FGS']\r\n",
    "   ).plot.bar(\r\n",
    "      title='Field Goal Accuracy by Location (Home Vs Away)', \r\n",
    "      y=['LONG_HOME_FGS', 'LONG_AWAY_FGS'], \r\n",
    "      width=0.8\r\n",
    "   )\r\n",
    "ax2.set_ylim(65, 90)\r\n",
    "ax2.legend(bbox_to_anchor=(1.05, 1), loc='upper left', borderaxespad=0.)\r\n",
    "\r\n",
    "ax3 = df_fg_acc.plot.bar(\r\n",
    "      title='Field Goal Accuarcy Difference After Removing Home Field Kicks', \r\n",
    "      y=['DIFF_REMOVING_HOME_KICKERS'], \r\n",
    "      legend=False\r\n",
    "   )\r\n",
    "\r\n",
    "for container in ax3.containers:\r\n",
    "   ax3.bar_label(container)\r\n",
    "\r\n"
   ],
   "outputs": [],
   "metadata": {}
  },
  {
   "cell_type": "markdown",
   "source": [
    "## Results\r\n",
    "Can see that BC, Edmonton, Hamilton, Ottawa kickers all increased the overall accuarcy at their home stadiums  \r\n",
    "Calgary, Montreal, Sask, Toronto, Winnipeg's home team kickers actually reduced the accuarcy at their home fields.   \r\n",
    "Seperate the home field kickers as they have a much heavier weighting and can skew the results to their own\r\n",
    "\r\n",
    "# Kickoffs: Elevation and Temperature\r\n",
    "After looking at the preliminary plots, the data showed that the highest kickoff averages were in Calgary and lowest were in BC, it made sense to look at whether or not elevation plays a factor in kickoff distance.   \r\n",
    "Using the current kickoff data and then including the elevation above sea level in the data for each location, we can then see if there is any correlation between elevation and kickoff average.  \r\n",
    "Elevations for each stadium were taken from https://en-ca.topographic-map.com/ and are in meters above sea level.  \r\n",
    "\r\n",
    "Weather is collected from https://climate.weather.gc.ca/ and the data for weather is the average daily temperature in September for 1981 - 2010. I chose the month of september as that is the halfway point of the CFL season. "
   ],
   "metadata": {}
  },
  {
   "cell_type": "code",
   "execution_count": null,
   "source": [
    "elevations = [11, 1102, 662, 89, 70, 72, 580, 82, 232]\r\n",
    "temperatures = [14.9, 11.0, 11.4, 15.8, 14.1, 15.0, 11.8, 17.2, 12.7]\r\n",
    "\r\n",
    "home_ko_avgs['TEMPERATURE'] = temperatures\r\n",
    "away_ko_avgs['TEMPERATURE'] = temperatures\r\n",
    "\r\n",
    "home_ko_avgs['ELEVATION'] = elevations\r\n",
    "away_ko_avgs['ELEVATION'] = elevations\r\n",
    "\r\n",
    "sns.regplot(\r\n",
    "      y=away_ko_avgs['KO_AVG'], \r\n",
    "      x=away_ko_avgs['ELEVATION'], \r\n",
    "      color='green',\r\n",
    "      ci=80\r\n",
    "   ).set_title('Kickoff Averages Visiting Kickers')\r\n",
    "\r\n",
    "# sns.regplot(y=home_ko_avgs['KO_AVG'], x=home_ko_avgs['ELEVATION'])\r\n",
    "\r\n",
    "for i in range(away_ko_avgs.shape[0]):\r\n",
    "   plt.text(x=away_ko_avgs.ELEVATION[i]+0.3,y=away_ko_avgs.KO_AVG[i]+0.3,s=away_ko_avgs.LOCATION[i], \r\n",
    "      fontdict=dict(color='red',size=10),\r\n",
    "      bbox=dict(facecolor='yellow',alpha=0.5))"
   ],
   "outputs": [],
   "metadata": {}
  },
  {
   "cell_type": "code",
   "execution_count": null,
   "source": [
    "x = (away_ko_avgs['ELEVATION'].values).reshape(-1,1)\r\n",
    "y = away_ko_avgs['KO_AVG'].values.reshape(-1,1)\r\n",
    "model = LinearRegression().fit(x,y)\r\n",
    "y_pred = model.predict([[0]])\r\n",
    "print(' R2: ', model.score(x,y), '\\n Slope: ', model.coef_[0][0], '\\n Intercept: ', model.intercept_)"
   ],
   "outputs": [],
   "metadata": {}
  },
  {
   "cell_type": "markdown",
   "source": [
    "Distance = 62.9 + 0.25*Elevation(100m)\r\n",
    "This model finds that elevation explains 26.2% of the variation in kickoff distance. A 1000m jump in elevation, results in a 2.5 yard boost in kickoff distance. This is in line with the theory that the lower air density at higher elevations will result in less drag on objects in the air, resulting in longer distances kicked. There are a couple outliers in the data, "
   ],
   "metadata": {}
  },
  {
   "cell_type": "code",
   "execution_count": null,
   "source": [
    "# remove bc because it is indoors so therefore temperature is controlled and not subject \r\n",
    "no_bc_away_ko_avgs = away_ko_avgs[away_ko_avgs.LOCATION.ne('BC')]\r\n",
    "no_bc_away_ko_avgs\r\n",
    "sns.regplot(y=no_bc_away_ko_avgs['KO_AVG'], x=no_bc_away_ko_avgs['TEMPERATURE'], color='red')\r\n",
    "\r\n",
    "x = (no_bc_away_ko_avgs['TEMPERATURE'].values).reshape(-1,1)\r\n",
    "y = no_bc_away_ko_avgs['KO_AVG'].values.reshape(-1,1)\r\n",
    "model = LinearRegression().fit(x,y)\r\n",
    "y_pred = model.predict([[0]])\r\n",
    "print(' R2: ', model.score(x,y), '\\n Slope: ', model.coef_[0][0], '\\n Intercept: ', model.intercept_)"
   ],
   "outputs": [],
   "metadata": {}
  },
  {
   "cell_type": "markdown",
   "source": [
    "By looking at the plot of average temperature and kickoff average can not see much of a correlation. While there may certainly be a difference in distance kicked in more extreme temperature changes from summer to late fall, overall all stadiums are similar in their relative temperature changes as the year goes on so the effect is likely similar across locations. The R squared value was 0.005 so temperature explained only 0.5% of the variation in kickoff averages which is very poor. "
   ],
   "metadata": {}
  },
  {
   "cell_type": "markdown",
   "source": [
    "# ** EDIT THIS\r\n",
    "# Jetlag West Travel to East\r\n",
    "## Check how BC kickers did in Eastern provinces compared to alberta\r\n",
    "## Continue use of only longer FGs (30+ yards)\r\n",
    "### jetlag at least 2 timezones of travel \r\n",
    "\r\n",
    "### west to east travel (hardest in theory)\r\n",
    "\r\n",
    "### Vancouver to WPG and beyond + AB to ONT\r\n",
    "\r\n",
    "### east to west travel (easier)\r\n",
    "\r\n",
    "### ONT to AB and BC + WPG to BC\r\n",
    "### jetlag source https://www.ncbi.nlm.nih.gov/pmc/articles/PMC3435929/\r\n",
    "\r\n",
    "\r\n",
    "\r\n",
    "\r\n"
   ],
   "metadata": {}
  },
  {
   "cell_type": "code",
   "execution_count": null,
   "source": [
    "def get_fgs_of_team_in_loc(df, kickers_teams, away_stadiums):\r\n",
    "   home_kicker_df = df[df.TEAM.isin(kickers_teams)]\r\n",
    "   home_kicker_df = home_kicker_df[home_kicker_df.HOME.isin(away_stadiums)]\r\n",
    "   return home_kicker_df\r\n",
    "   \r\n",
    "\r\n",
    "# WEST TO EAST TRAVEL 2+ TIMEZONES TRAVELED\r\n",
    "bc_ab_to_ont_travel = get_fgs_of_team_in_loc(away_long_fg_data, ['BC','EDM','CGY'], ['TOR','OTT','MTL','HAM'])\r\n",
    "bc_to_wpg_travel = get_fgs_of_team_in_loc(away_long_fg_data, ['BC'], ['WPG'])\r\n",
    "# combine\r\n",
    "west_to_east_travel = pd.concat([bc_ab_to_ont_travel, bc_to_wpg_travel])\r\n",
    "\r\n",
    "# EAST TO WEST TRAVEL 2+ TIMEZONES TRAVELED\r\n",
    "ont_to_ab_bc_travel = get_fgs_of_team_in_loc(away_long_fg_data, ['TOR','OTT', 'MTL', 'HAM'], ['BC','EDM','CGY'])\r\n",
    "wpg_to_bc_travel = get_fgs_of_team_in_loc(away_long_fg_data, ['WPG'], ['BC'])\r\n",
    "# combine\r\n",
    "east_to_west_travel = pd.concat([ont_to_ab_bc_travel, wpg_to_bc_travel])\r\n",
    "\r\n",
    "# LOCAL TRAVEL - 0-1 TIMEZONES TRAVELED\r\n",
    "bc_ab_travel = get_fgs_of_team_in_loc(away_long_fg_data, ['BC','EDM','CGY'], ['BC','EDM','CGY'])\r\n",
    "ab_sask_wpg_travel = get_fgs_of_team_in_loc(away_long_fg_data, ['EDM','CGY','SSK','WPG'], ['EDM','CGY','SSK','WPG'])\r\n",
    "wpg_ont_travel = get_fgs_of_team_in_loc(away_long_fg_data, ['TOR','OTT','MTL','HAM','WPG'], ['TOR','OTT','MTL','HAM','WPG'])\r\n",
    "# combine\r\n",
    "one_timezone_travel = pd.concat([bc_ab_travel, ab_sask_wpg_travel, wpg_ont_travel])\r\n",
    "\r\n",
    "\r\n",
    "fg_acc_west_to_east_travel = get_accuracy(west_to_east_travel) \r\n",
    "fg_acc_east_to_west_travel = get_accuracy(east_to_west_travel) \r\n",
    "fg_acc_one_timezone_travel = get_accuracy(one_timezone_travel)\r\n",
    "fg_acc_no_travel_home = get_accuracy(home_long_fg_data)\r\n",
    "\r\n",
    "\r\n",
    "\r\n"
   ],
   "outputs": [],
   "metadata": {}
  },
  {
   "cell_type": "code",
   "execution_count": null,
   "source": [
    "jetlag_index = [\r\n",
    "   'East Travel (2+ Timezones)', \r\n",
    "   'West Travel (2+ Timezones)', \r\n",
    "   '0 or 1 Timezone (Either Direction)', \r\n",
    "   'No Travel (Home Kicker'\r\n",
    "]\r\n",
    "\r\n",
    "jetlag_df = pd.DataFrame(\r\n",
    "   data={'FG_ACCURACY': [\r\n",
    "      fg_acc_west_to_east_travel,\r\n",
    "      fg_acc_east_to_west_travel,\r\n",
    "      fg_acc_one_timezone_travel,\r\n",
    "      fg_acc_no_travel_home\r\n",
    "   ]}, \r\n",
    "   index=jetlag_index\r\n",
    ")\r\n",
    "\r\n",
    "ax4 = jetlag_df.plot.bar(\r\n",
    "   title='Field Goal Accuracy by Travel Type', \r\n",
    "   width=0.8, \r\n",
    "   legend=False\r\n",
    ")\r\n",
    "ax4.set_ylim(70, 80)\r\n",
    "for container in ax4.containers:\r\n",
    "   ax4.bar_label(container)"
   ],
   "outputs": [],
   "metadata": {}
  },
  {
   "cell_type": "markdown",
   "source": [],
   "metadata": {}
  },
  {
   "cell_type": "markdown",
   "source": [
    "# ** EDIT THIS\r\n",
    "\r\n",
    "## As expected in results, find that local travel (0-1 timezones travelled) had the highest fg accuracy\r\n",
    "## this currently includes home field kickers? does this matter?\r\n",
    "## Find that East to west travel not that large of a dropoff in accuracy - drops 2.6% from local travel\r\n",
    "## Find that West to East travel has the lowest accuarcy - 72.2 % which is 6.5% less than local travel\r\n"
   ],
   "metadata": {}
  },
  {
   "cell_type": "markdown",
   "source": [
    "## Conclusion and Further Work\r\n",
    "\r\n",
    "Overall from this preliminary analysis we can see that Calgary is the front runner when it comes to the performance metrics used, punting average and field goal accuracy. There does not appear to be an advantage to indoor punting average and field goal accuracy over the four seasons measured. To further this analysis I will take individual punters and field goal kickers results and compare their own performances against themselves across stadiums. This could potentially be a more accurate way to control for individual player's perforrmances and reduce outliers. \r\n",
    "\r\n",
    "I would also like to look at the effect of elevation on the kicking game to see if that explains some of the differences between stadiums. The preliminary results showed Calgary, the highest elevation stadium in the league, to have the best performance results for both punting and field goals and this is worth exploring further. Including kickoffs in this analysis would be a good way to determine the effect as kickoffs have less variables affecting the outcome of the kick, they are primarily just about kicking the ball as far as the kicker can and it is rare for the ball to not be caught by the returner. I would also like to look into more detail about the distances of the field goals made and see if I can include those in the data and to help reduce the weight of short field goals possibly skewing the data as well as they are not a great determinate of how tough the outdoor conditions are. However this data may not be available so would have to do some analysis with the data available, the distances of the successfully made field goals. Including converts in the analysis would be useful as well. Converts  are a mid range kick (32 yards) and including them would help boost the number of data points for field goal accuracy and reduce the weight of short range field goals. \r\n",
    "\r\n",
    "I think it would also be worthwhile to look further into the effect of jet lag affecting performance. The study by Fowler PM, Knez W, Crowcroft S, Mendham AE, Miller J, Sargent C, Halson S and Duffield R. found that \"Long-haul transmeridian travel can impede team sport physical performance. Specifically, east travel has a greater detrimental effect on sleep, subjective jet lag, fatigue, and motivation.\" The greatest travel is from West to East is BC travelling to Hamilton, Toronto, Ottawa, and Montreal which is across three timezones. Conducting an analysis of BC kickers and punters travelling east could have interesting results as well.  \r\n",
    "\r\n",
    "### References\r\n",
    "\r\n",
    "Official site of the Canadian Football League. CFL.ca. (n.d.). https://www.cfl.ca/\r\n",
    "\r\n",
    "Fowler PM, Knez W, Crowcroft S, Mendham AE, Miller J, Sargent C, Halson S, Duffield R. Greater Effect of East versus West Travel on Jet Lag, Sleep, and Team Sport Performance. Med Sci Sports Exerc. 2017 Dec;49(12):2548-2561. doi: 10.1249/MSS.0000000000001374. Erratum in: Med Sci Sports Exerc. 2018 Feb;50(2):391. Sargent, Charlie (corrected to Sargent, Charli). PMID: 28719491.\r\n",
    "\r\n",
    "Mancini, M. (2018, December 24). Physics and Football: How Denver's Altitude Affects Field Goals. HowStuffWorks. https://entertainment.howstuffworks.com/physics-and-football-denvers-altitude-affect-field-goals.htm. \r\n",
    "\r\n",
    "\r\n"
   ],
   "metadata": {}
  }
 ],
 "metadata": {
  "interpreter": {
   "hash": "ac59ebe37160ed0dfa835113d9b8498d9f09ceb179beaac4002f036b9467c963"
  },
  "kernelspec": {
   "name": "python3",
   "display_name": "Python 3.9.1 64-bit"
  },
  "language_info": {
   "codemirror_mode": {
    "name": "ipython",
    "version": 3
   },
   "file_extension": ".py",
   "mimetype": "text/x-python",
   "name": "python",
   "nbconvert_exporter": "python",
   "pygments_lexer": "ipython3",
   "version": "3.9.1"
  }
 },
 "nbformat": 4,
 "nbformat_minor": 2
}