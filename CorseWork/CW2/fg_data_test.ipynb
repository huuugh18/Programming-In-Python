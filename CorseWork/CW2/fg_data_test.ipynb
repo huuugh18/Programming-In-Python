{
 "cells": [
  {
   "cell_type": "code",
   "execution_count": 34,
   "source": [
    "import pandas as pd\r\n"
   ],
   "outputs": [],
   "metadata": {}
  },
  {
   "cell_type": "code",
   "execution_count": 35,
   "source": [
    "fg_data_df = pd.read_excel('fg_data.xlsx', engine='openpyxl')"
   ],
   "outputs": [],
   "metadata": {}
  },
  {
   "cell_type": "code",
   "execution_count": 36,
   "source": [
    "fg_data_df.head()"
   ],
   "outputs": [
    {
     "output_type": "execute_result",
     "data": {
      "text/plain": [
       "  Regular/Playoffs Stadium Indoor/Outdoor Home TEAM  Year  Game      Kicker  \\\n",
       "0                R     tor              O  TOR  HAM  2016    10       Maher   \n",
       "1                R     tor              O  TOR  HAM  2016    10       Maher   \n",
       "2                R     tor              O  TOR  HAM  2016    10       Maher   \n",
       "3                R     tor              O  TOR  TOR  2016    10  Hajrullahu   \n",
       "4                R     tor              O  TOR  TOR  2016    10  Hajrullahu   \n",
       "\n",
       "   Distance Made Miss Single H/A  \\\n",
       "0        39    Y  NaN    NaN   A   \n",
       "1        38    Y  NaN    NaN   A   \n",
       "2        50    Y  NaN    NaN   A   \n",
       "3        40    Y  NaN    NaN   H   \n",
       "4        51    Y  NaN    NaN   H   \n",
       "\n",
       "                                  Play by play text  \n",
       "0       (04:41) B. MAHER Field Goal (39 yds),  Good  \n",
       "1       (12:10) B. MAHER Field Goal (38 yds),  Good  \n",
       "2       (08:58) B. MAHER Field Goal (50 yds),  Good  \n",
       "3  (03:37) L. HAJRULLAHU Field Goal (40 yds),  Good  \n",
       "4  (00:04) L. HAJRULLAHU Field Goal (51 yds),  Good  "
      ],
      "text/html": [
       "<div>\n",
       "<style scoped>\n",
       "    .dataframe tbody tr th:only-of-type {\n",
       "        vertical-align: middle;\n",
       "    }\n",
       "\n",
       "    .dataframe tbody tr th {\n",
       "        vertical-align: top;\n",
       "    }\n",
       "\n",
       "    .dataframe thead th {\n",
       "        text-align: right;\n",
       "    }\n",
       "</style>\n",
       "<table border=\"1\" class=\"dataframe\">\n",
       "  <thead>\n",
       "    <tr style=\"text-align: right;\">\n",
       "      <th></th>\n",
       "      <th>Regular/Playoffs</th>\n",
       "      <th>Stadium</th>\n",
       "      <th>Indoor/Outdoor</th>\n",
       "      <th>Home</th>\n",
       "      <th>TEAM</th>\n",
       "      <th>Year</th>\n",
       "      <th>Game</th>\n",
       "      <th>Kicker</th>\n",
       "      <th>Distance</th>\n",
       "      <th>Made</th>\n",
       "      <th>Miss</th>\n",
       "      <th>Single</th>\n",
       "      <th>H/A</th>\n",
       "      <th>Play by play text</th>\n",
       "    </tr>\n",
       "  </thead>\n",
       "  <tbody>\n",
       "    <tr>\n",
       "      <th>0</th>\n",
       "      <td>R</td>\n",
       "      <td>tor</td>\n",
       "      <td>O</td>\n",
       "      <td>TOR</td>\n",
       "      <td>HAM</td>\n",
       "      <td>2016</td>\n",
       "      <td>10</td>\n",
       "      <td>Maher</td>\n",
       "      <td>39</td>\n",
       "      <td>Y</td>\n",
       "      <td>NaN</td>\n",
       "      <td>NaN</td>\n",
       "      <td>A</td>\n",
       "      <td>(04:41) B. MAHER Field Goal (39 yds),  Good</td>\n",
       "    </tr>\n",
       "    <tr>\n",
       "      <th>1</th>\n",
       "      <td>R</td>\n",
       "      <td>tor</td>\n",
       "      <td>O</td>\n",
       "      <td>TOR</td>\n",
       "      <td>HAM</td>\n",
       "      <td>2016</td>\n",
       "      <td>10</td>\n",
       "      <td>Maher</td>\n",
       "      <td>38</td>\n",
       "      <td>Y</td>\n",
       "      <td>NaN</td>\n",
       "      <td>NaN</td>\n",
       "      <td>A</td>\n",
       "      <td>(12:10) B. MAHER Field Goal (38 yds),  Good</td>\n",
       "    </tr>\n",
       "    <tr>\n",
       "      <th>2</th>\n",
       "      <td>R</td>\n",
       "      <td>tor</td>\n",
       "      <td>O</td>\n",
       "      <td>TOR</td>\n",
       "      <td>HAM</td>\n",
       "      <td>2016</td>\n",
       "      <td>10</td>\n",
       "      <td>Maher</td>\n",
       "      <td>50</td>\n",
       "      <td>Y</td>\n",
       "      <td>NaN</td>\n",
       "      <td>NaN</td>\n",
       "      <td>A</td>\n",
       "      <td>(08:58) B. MAHER Field Goal (50 yds),  Good</td>\n",
       "    </tr>\n",
       "    <tr>\n",
       "      <th>3</th>\n",
       "      <td>R</td>\n",
       "      <td>tor</td>\n",
       "      <td>O</td>\n",
       "      <td>TOR</td>\n",
       "      <td>TOR</td>\n",
       "      <td>2016</td>\n",
       "      <td>10</td>\n",
       "      <td>Hajrullahu</td>\n",
       "      <td>40</td>\n",
       "      <td>Y</td>\n",
       "      <td>NaN</td>\n",
       "      <td>NaN</td>\n",
       "      <td>H</td>\n",
       "      <td>(03:37) L. HAJRULLAHU Field Goal (40 yds),  Good</td>\n",
       "    </tr>\n",
       "    <tr>\n",
       "      <th>4</th>\n",
       "      <td>R</td>\n",
       "      <td>tor</td>\n",
       "      <td>O</td>\n",
       "      <td>TOR</td>\n",
       "      <td>TOR</td>\n",
       "      <td>2016</td>\n",
       "      <td>10</td>\n",
       "      <td>Hajrullahu</td>\n",
       "      <td>51</td>\n",
       "      <td>Y</td>\n",
       "      <td>NaN</td>\n",
       "      <td>NaN</td>\n",
       "      <td>H</td>\n",
       "      <td>(00:04) L. HAJRULLAHU Field Goal (51 yds),  Good</td>\n",
       "    </tr>\n",
       "  </tbody>\n",
       "</table>\n",
       "</div>"
      ]
     },
     "metadata": {},
     "execution_count": 36
    }
   ],
   "metadata": {}
  },
  {
   "cell_type": "code",
   "execution_count": 37,
   "source": [
    "print(fg_data_df['Stadium'].unique())"
   ],
   "outputs": [
    {
     "output_type": "stream",
     "name": "stdout",
     "text": [
      "['tor' 'wpg' 'edm' 'bc' 'mtl' 'ssk' 'ham' 'cgy' 'ott']\n"
     ]
    }
   ],
   "metadata": {}
  },
  {
   "cell_type": "code",
   "execution_count": 47,
   "source": [
    "def clean_df_fg(df):\r\n",
    "   # drop columns not interested in\r\n",
    "   df = df.drop(['Regular/Playoffs', 'Game', 'Play by play text', 'Single', 'Miss'], axis=1)\r\n",
    "   # fill in nan values with 0 for Made col\r\n",
    "   df['Made'] = df['Made'].fillna(0)\r\n",
    "   # replace Y and y in Made col with 1 to make it a binary column\r\n",
    "   df = df.replace({'Made': {'Y': 1, 'y': 1}})\r\n",
    "   return df\r\n",
    "\r\n",
    "fg_data_df_clean = clean_df_fg(fg_data_df)\r\n",
    "fg_data_df_clean['Made'].value_counts()\r\n",
    "   "
   ],
   "outputs": [
    {
     "output_type": "execute_result",
     "data": {
      "text/plain": [
       "1    1594\n",
       "0     286\n",
       "Name: Made, dtype: int64"
      ]
     },
     "metadata": {},
     "execution_count": 47
    }
   ],
   "metadata": {}
  },
  {
   "cell_type": "markdown",
   "source": [
    "## Get Accuuracies for Each range of Fg's by 5 yards\r\n",
    "### Plot misses by distance"
   ],
   "metadata": {}
  },
  {
   "cell_type": "code",
   "execution_count": 65,
   "source": [
    "def get_accuracy(df):\r\n",
    "   made_fgs = (df['Made'] == 1).sum()\r\n",
    "   missed_fgs = (df['Made'] == 0).sum()\r\n",
    "   accuracy = (made_fgs / (made_fgs + missed_fgs)).round(3)*100\r\n",
    "   return accuracy\r\n",
    "\r\n",
    "def get_distance_accuracies(df):\r\n",
    "   df015_acc = get_accuracy(df.loc[(df['Distance'] >= 0) & (df['Distance'] <= 15)]) \r\n",
    "   df1629_acc = get_accuracy(df.loc[(df['Distance'] >= 16) & (df['Distance'] <= 29)])\r\n",
    "   df3035_acc = get_accuracy(df.loc[(df['Distance'] >= 30) & (df['Distance'] <= 35)])\r\n",
    "   df3640_acc = get_accuracy(df.loc[(df['Distance'] >= 36) & (df['Distance'] <= 40)])\r\n",
    "   df4145_acc = get_accuracy(df.loc[(df['Distance'] >= 41) & (df['Distance'] <= 45)])\r\n",
    "   df4650_acc = get_accuracy(df.loc[(df['Distance'] >= 46) & (df['Distance'] <= 50)])\r\n",
    "   df51_acc = get_accuracy(df.loc[(df['Distance'] >= 51)])\r\n",
    "   accuracies = [df015_acc,df1629_acc, df3035_acc,df3640_acc, df4145_acc, df4650_acc, df51_acc]\r\n",
    "   print(accuracies)\r\n",
    "\r\n",
    "get_distance_accuracies(fg_data_df_clean)\r\n",
    "\r\n",
    "# get_accuracy(fg_data_df_clean)\r\n"
   ],
   "outputs": [
    {
     "output_type": "stream",
     "name": "stdout",
     "text": [
      "[98.1, 97.8, 85.8, 81.6, 78.0, 68.89999999999999, 63.2]\n"
     ]
    }
   ],
   "metadata": {}
  },
  {
   "cell_type": "code",
   "execution_count": null,
   "source": [],
   "outputs": [],
   "metadata": {}
  }
 ],
 "metadata": {
  "orig_nbformat": 4,
  "language_info": {
   "name": "python",
   "version": "3.9.1",
   "mimetype": "text/x-python",
   "codemirror_mode": {
    "name": "ipython",
    "version": 3
   },
   "pygments_lexer": "ipython3",
   "nbconvert_exporter": "python",
   "file_extension": ".py"
  },
  "kernelspec": {
   "name": "python3",
   "display_name": "Python 3.9.1 64-bit"
  },
  "interpreter": {
   "hash": "ac59ebe37160ed0dfa835113d9b8498d9f09ceb179beaac4002f036b9467c963"
  }
 },
 "nbformat": 4,
 "nbformat_minor": 2
}