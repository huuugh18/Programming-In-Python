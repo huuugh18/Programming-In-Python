{
 "cells": [
  {
   "cell_type": "code",
   "execution_count": 92,
   "source": [
    "import pandas as pd\r\n",
    "import matplotlib.pyplot as plt\r\n"
   ],
   "outputs": [],
   "metadata": {}
  },
  {
   "cell_type": "code",
   "execution_count": 267,
   "source": [
    "fg_data_df = pd.read_excel('fg_data.xlsx', engine='openpyxl')\r\n",
    "punt_data_df = pd.read_excel('punt_net_data.xlsx', engine='openpyxl')"
   ],
   "outputs": [],
   "metadata": {}
  },
  {
   "cell_type": "code",
   "execution_count": 94,
   "source": [
    "fg_data_df.head()\r\n"
   ],
   "outputs": [
    {
     "output_type": "execute_result",
     "data": {
      "text/plain": [
       "  Regular/Playoffs Stadium Indoor/Outdoor Home TEAM  Year  Game      Kicker  \\\n",
       "0                R     tor              O  TOR  HAM  2016    10       Maher   \n",
       "1                R     tor              O  TOR  HAM  2016    10       Maher   \n",
       "2                R     tor              O  TOR  HAM  2016    10       Maher   \n",
       "3                R     tor              O  TOR  TOR  2016    10  Hajrullahu   \n",
       "4                R     tor              O  TOR  TOR  2016    10  Hajrullahu   \n",
       "\n",
       "   Distance Made Miss Single H/A  \\\n",
       "0        39    Y  NaN    NaN   A   \n",
       "1        38    Y  NaN    NaN   A   \n",
       "2        50    Y  NaN    NaN   A   \n",
       "3        40    Y  NaN    NaN   H   \n",
       "4        51    Y  NaN    NaN   H   \n",
       "\n",
       "                                  Play by play text  \n",
       "0       (04:41) B. MAHER Field Goal (39 yds),  Good  \n",
       "1       (12:10) B. MAHER Field Goal (38 yds),  Good  \n",
       "2       (08:58) B. MAHER Field Goal (50 yds),  Good  \n",
       "3  (03:37) L. HAJRULLAHU Field Goal (40 yds),  Good  \n",
       "4  (00:04) L. HAJRULLAHU Field Goal (51 yds),  Good  "
      ],
      "text/html": [
       "<div>\n",
       "<style scoped>\n",
       "    .dataframe tbody tr th:only-of-type {\n",
       "        vertical-align: middle;\n",
       "    }\n",
       "\n",
       "    .dataframe tbody tr th {\n",
       "        vertical-align: top;\n",
       "    }\n",
       "\n",
       "    .dataframe thead th {\n",
       "        text-align: right;\n",
       "    }\n",
       "</style>\n",
       "<table border=\"1\" class=\"dataframe\">\n",
       "  <thead>\n",
       "    <tr style=\"text-align: right;\">\n",
       "      <th></th>\n",
       "      <th>Regular/Playoffs</th>\n",
       "      <th>Stadium</th>\n",
       "      <th>Indoor/Outdoor</th>\n",
       "      <th>Home</th>\n",
       "      <th>TEAM</th>\n",
       "      <th>Year</th>\n",
       "      <th>Game</th>\n",
       "      <th>Kicker</th>\n",
       "      <th>Distance</th>\n",
       "      <th>Made</th>\n",
       "      <th>Miss</th>\n",
       "      <th>Single</th>\n",
       "      <th>H/A</th>\n",
       "      <th>Play by play text</th>\n",
       "    </tr>\n",
       "  </thead>\n",
       "  <tbody>\n",
       "    <tr>\n",
       "      <th>0</th>\n",
       "      <td>R</td>\n",
       "      <td>tor</td>\n",
       "      <td>O</td>\n",
       "      <td>TOR</td>\n",
       "      <td>HAM</td>\n",
       "      <td>2016</td>\n",
       "      <td>10</td>\n",
       "      <td>Maher</td>\n",
       "      <td>39</td>\n",
       "      <td>Y</td>\n",
       "      <td>NaN</td>\n",
       "      <td>NaN</td>\n",
       "      <td>A</td>\n",
       "      <td>(04:41) B. MAHER Field Goal (39 yds),  Good</td>\n",
       "    </tr>\n",
       "    <tr>\n",
       "      <th>1</th>\n",
       "      <td>R</td>\n",
       "      <td>tor</td>\n",
       "      <td>O</td>\n",
       "      <td>TOR</td>\n",
       "      <td>HAM</td>\n",
       "      <td>2016</td>\n",
       "      <td>10</td>\n",
       "      <td>Maher</td>\n",
       "      <td>38</td>\n",
       "      <td>Y</td>\n",
       "      <td>NaN</td>\n",
       "      <td>NaN</td>\n",
       "      <td>A</td>\n",
       "      <td>(12:10) B. MAHER Field Goal (38 yds),  Good</td>\n",
       "    </tr>\n",
       "    <tr>\n",
       "      <th>2</th>\n",
       "      <td>R</td>\n",
       "      <td>tor</td>\n",
       "      <td>O</td>\n",
       "      <td>TOR</td>\n",
       "      <td>HAM</td>\n",
       "      <td>2016</td>\n",
       "      <td>10</td>\n",
       "      <td>Maher</td>\n",
       "      <td>50</td>\n",
       "      <td>Y</td>\n",
       "      <td>NaN</td>\n",
       "      <td>NaN</td>\n",
       "      <td>A</td>\n",
       "      <td>(08:58) B. MAHER Field Goal (50 yds),  Good</td>\n",
       "    </tr>\n",
       "    <tr>\n",
       "      <th>3</th>\n",
       "      <td>R</td>\n",
       "      <td>tor</td>\n",
       "      <td>O</td>\n",
       "      <td>TOR</td>\n",
       "      <td>TOR</td>\n",
       "      <td>2016</td>\n",
       "      <td>10</td>\n",
       "      <td>Hajrullahu</td>\n",
       "      <td>40</td>\n",
       "      <td>Y</td>\n",
       "      <td>NaN</td>\n",
       "      <td>NaN</td>\n",
       "      <td>H</td>\n",
       "      <td>(03:37) L. HAJRULLAHU Field Goal (40 yds),  Good</td>\n",
       "    </tr>\n",
       "    <tr>\n",
       "      <th>4</th>\n",
       "      <td>R</td>\n",
       "      <td>tor</td>\n",
       "      <td>O</td>\n",
       "      <td>TOR</td>\n",
       "      <td>TOR</td>\n",
       "      <td>2016</td>\n",
       "      <td>10</td>\n",
       "      <td>Hajrullahu</td>\n",
       "      <td>51</td>\n",
       "      <td>Y</td>\n",
       "      <td>NaN</td>\n",
       "      <td>NaN</td>\n",
       "      <td>H</td>\n",
       "      <td>(00:04) L. HAJRULLAHU Field Goal (51 yds),  Good</td>\n",
       "    </tr>\n",
       "  </tbody>\n",
       "</table>\n",
       "</div>"
      ]
     },
     "metadata": {},
     "execution_count": 94
    }
   ],
   "metadata": {}
  },
  {
   "cell_type": "code",
   "execution_count": 268,
   "source": [
    "punt_data_df.head()"
   ],
   "outputs": [
    {
     "output_type": "execute_result",
     "data": {
      "text/plain": [
       "  I/O TEAM HOME  YEAR        PUNTER  LOS  POST-PUNT  SINGLE  NET  EV OF PUNT  \\\n",
       "0   O  TOR  TOR  2016  L.Hajrullahu   37         41     NaN   32   -1.759234   \n",
       "1   O  TOR  TOR  2016  L.Hajrullahu   48         19     NaN   43   -1.548484   \n",
       "2   O  TOR  TOR  2016  L.Hajrullahu   45         33     NaN   32   -1.543891   \n",
       "3   O  TOR  TOR  2016  L.Hajrullahu   64          6     NaN   40   -1.588132   \n",
       "4   O  TOR  TOR  2016  L.Hajrullahu   27         53     NaN   30   -2.329292   \n",
       "\n",
       "  PLAY-BY-PLAY  \n",
       "0          NaN  \n",
       "1          NaN  \n",
       "2          NaN  \n",
       "3          NaN  \n",
       "4          NaN  "
      ],
      "text/html": [
       "<div>\n",
       "<style scoped>\n",
       "    .dataframe tbody tr th:only-of-type {\n",
       "        vertical-align: middle;\n",
       "    }\n",
       "\n",
       "    .dataframe tbody tr th {\n",
       "        vertical-align: top;\n",
       "    }\n",
       "\n",
       "    .dataframe thead th {\n",
       "        text-align: right;\n",
       "    }\n",
       "</style>\n",
       "<table border=\"1\" class=\"dataframe\">\n",
       "  <thead>\n",
       "    <tr style=\"text-align: right;\">\n",
       "      <th></th>\n",
       "      <th>I/O</th>\n",
       "      <th>TEAM</th>\n",
       "      <th>HOME</th>\n",
       "      <th>YEAR</th>\n",
       "      <th>PUNTER</th>\n",
       "      <th>LOS</th>\n",
       "      <th>POST-PUNT</th>\n",
       "      <th>SINGLE</th>\n",
       "      <th>NET</th>\n",
       "      <th>EV OF PUNT</th>\n",
       "      <th>PLAY-BY-PLAY</th>\n",
       "    </tr>\n",
       "  </thead>\n",
       "  <tbody>\n",
       "    <tr>\n",
       "      <th>0</th>\n",
       "      <td>O</td>\n",
       "      <td>TOR</td>\n",
       "      <td>TOR</td>\n",
       "      <td>2016</td>\n",
       "      <td>L.Hajrullahu</td>\n",
       "      <td>37</td>\n",
       "      <td>41</td>\n",
       "      <td>NaN</td>\n",
       "      <td>32</td>\n",
       "      <td>-1.759234</td>\n",
       "      <td>NaN</td>\n",
       "    </tr>\n",
       "    <tr>\n",
       "      <th>1</th>\n",
       "      <td>O</td>\n",
       "      <td>TOR</td>\n",
       "      <td>TOR</td>\n",
       "      <td>2016</td>\n",
       "      <td>L.Hajrullahu</td>\n",
       "      <td>48</td>\n",
       "      <td>19</td>\n",
       "      <td>NaN</td>\n",
       "      <td>43</td>\n",
       "      <td>-1.548484</td>\n",
       "      <td>NaN</td>\n",
       "    </tr>\n",
       "    <tr>\n",
       "      <th>2</th>\n",
       "      <td>O</td>\n",
       "      <td>TOR</td>\n",
       "      <td>TOR</td>\n",
       "      <td>2016</td>\n",
       "      <td>L.Hajrullahu</td>\n",
       "      <td>45</td>\n",
       "      <td>33</td>\n",
       "      <td>NaN</td>\n",
       "      <td>32</td>\n",
       "      <td>-1.543891</td>\n",
       "      <td>NaN</td>\n",
       "    </tr>\n",
       "    <tr>\n",
       "      <th>3</th>\n",
       "      <td>O</td>\n",
       "      <td>TOR</td>\n",
       "      <td>TOR</td>\n",
       "      <td>2016</td>\n",
       "      <td>L.Hajrullahu</td>\n",
       "      <td>64</td>\n",
       "      <td>6</td>\n",
       "      <td>NaN</td>\n",
       "      <td>40</td>\n",
       "      <td>-1.588132</td>\n",
       "      <td>NaN</td>\n",
       "    </tr>\n",
       "    <tr>\n",
       "      <th>4</th>\n",
       "      <td>O</td>\n",
       "      <td>TOR</td>\n",
       "      <td>TOR</td>\n",
       "      <td>2016</td>\n",
       "      <td>L.Hajrullahu</td>\n",
       "      <td>27</td>\n",
       "      <td>53</td>\n",
       "      <td>NaN</td>\n",
       "      <td>30</td>\n",
       "      <td>-2.329292</td>\n",
       "      <td>NaN</td>\n",
       "    </tr>\n",
       "  </tbody>\n",
       "</table>\n",
       "</div>"
      ]
     },
     "metadata": {},
     "execution_count": 268
    }
   ],
   "metadata": {}
  },
  {
   "cell_type": "code",
   "execution_count": 279,
   "source": [
    "def clean_df_fg(df):\r\n",
    "   # drop columns not interested in\r\n",
    "   df = df.drop(['Regular/Playoffs', 'Game', 'Play by play text', 'Single'], axis=1)\r\n",
    "   df = df.rename(columns={'Stadium':'LOCATION', 'Year':'YEAR', 'Distance':'DISTANCE', 'Kicker':'NAME', 'Indoor/Outdoor': 'INOUT', 'Home':'HOME', 'Made':'MADE', 'Miss':'MISS', 'H/A':'HOMEAWAY'})\r\n",
    "   # fill in nan values with 0 for Made col\r\n",
    "   df['MADE'] = df['MADE'].fillna(0)\r\n",
    "   df['MISS'] = df['MISS'].fillna(0)\r\n",
    "   # replace Y and y in Made col with 1 to make it a binary column\r\n",
    "   df = df.replace({'MADE': {'Y': 1, 'y': 1}})\r\n",
    "   return df\r\n",
    "\r\n",
    "def clean_df_punt(df):\r\n",
    "   df = df.drop(['PLAY-BY-PLAY'], axis=1)\r\n",
    "   df = df.rename(columns={'HOME':'LOCATION'})\r\n",
    "   df['SINGLE'] = df['SINGLE'].fillna(0)\r\n",
    "   return df\r\n",
    "\r\n",
    "fg_data_df_clean = clean_df_fg(fg_data_df)\r\n",
    "punt_data_df_clean = clean_df_punt(punt_data_df)\r\n",
    "punt_data_df_clean.head(), fg_data_df_clean.head()\r\n",
    "\r\n",
    "   "
   ],
   "outputs": [
    {
     "output_type": "execute_result",
     "data": {
      "text/plain": [
       "(  I/O TEAM LOCATION  YEAR        PUNTER  LOS  POST-PUNT  SINGLE  NET  \\\n",
       " 0   O  TOR      TOR  2016  L.Hajrullahu   37         41     0.0   32   \n",
       " 1   O  TOR      TOR  2016  L.Hajrullahu   48         19     0.0   43   \n",
       " 2   O  TOR      TOR  2016  L.Hajrullahu   45         33     0.0   32   \n",
       " 3   O  TOR      TOR  2016  L.Hajrullahu   64          6     0.0   40   \n",
       " 4   O  TOR      TOR  2016  L.Hajrullahu   27         53     0.0   30   \n",
       " \n",
       "    EV OF PUNT  \n",
       " 0   -1.759234  \n",
       " 1   -1.548484  \n",
       " 2   -1.543891  \n",
       " 3   -1.588132  \n",
       " 4   -2.329292  ,\n",
       "   LOCATION INOUT HOME TEAM  YEAR        NAME  DISTANCE  MADE MISS HOMEAWAY\n",
       " 0      tor     O  TOR  HAM  2016       Maher        39     1    0        A\n",
       " 1      tor     O  TOR  HAM  2016       Maher        38     1    0        A\n",
       " 2      tor     O  TOR  HAM  2016       Maher        50     1    0        A\n",
       " 3      tor     O  TOR  TOR  2016  Hajrullahu        40     1    0        H\n",
       " 4      tor     O  TOR  TOR  2016  Hajrullahu        51     1    0        H)"
      ]
     },
     "metadata": {},
     "execution_count": 279
    }
   ],
   "metadata": {}
  },
  {
   "cell_type": "markdown",
   "source": [
    "## Get Accuuracies for Each range of Fg's by 5 yards\r\n",
    "### Plot misses by distance"
   ],
   "metadata": {}
  },
  {
   "cell_type": "code",
   "execution_count": 97,
   "source": [
    "def get_accuracy(df):\r\n",
    "   made_fgs = (df['MADE'] == 1).sum()\r\n",
    "   missed_fgs = (df['MADE'] == 0).sum()\r\n",
    "   accuracy = (made_fgs / (made_fgs + missed_fgs)).round(3)*100\r\n",
    "   return accuracy\r\n",
    "\r\n",
    "def get_distance_accuracies(df):\r\n",
    "   df015_acc = get_accuracy(df.loc[(df['DISTANCE'] >= 0) & (df['DISTANCE'] <= 15)]) \r\n",
    "   df1629_acc = get_accuracy(df.loc[(df['DISTANCE'] >= 16) & (df['DISTANCE'] <= 29)])\r\n",
    "   df3035_acc = get_accuracy(df.loc[(df['DISTANCE'] >= 30) & (df['DISTANCE'] <= 35)])\r\n",
    "   df3640_acc = get_accuracy(df.loc[(df['DISTANCE'] >= 36) & (df['DISTANCE'] <= 40)])\r\n",
    "   df4145_acc = get_accuracy(df.loc[(df['DISTANCE'] >= 41) & (df['DISTANCE'] <= 45)])\r\n",
    "   df4650_acc = get_accuracy(df.loc[(df['DISTANCE'] >= 46) & (df['DISTANCE'] <= 50)])\r\n",
    "   df51_acc = get_accuracy(df.loc[(df['DISTANCE'] >= 51)])\r\n",
    "   accuracies = [df015_acc,df1629_acc, df3035_acc,df3640_acc, df4145_acc, df4650_acc, df51_acc]\r\n",
    "   return(accuracies)\r\n",
    "\r\n",
    "fg_dist_accs = get_distance_accuracies(fg_data_df_clean)\r\n",
    "\r\n",
    "\r\n",
    "# get_accuracy(fg_data_df_clean)\r\n"
   ],
   "outputs": [],
   "metadata": {}
  },
  {
   "cell_type": "code",
   "execution_count": 98,
   "source": [
    "plt.bar(['0-15', '16-29', '30-35', '36-40', '41-45', '46-50','51+'],fg_dist_accs)\r\n",
    "plt.ylim(40,100)\r\n",
    "plt.xlabel('Field Goal Distance Range')\r\n",
    "plt.ylabel('Accuracy (%)')\r\n"
   ],
   "outputs": [
    {
     "output_type": "execute_result",
     "data": {
      "text/plain": [
       "Text(0, 0.5, 'Accuracy (%)')"
      ]
     },
     "metadata": {},
     "execution_count": 98
    },
    {
     "output_type": "display_data",
     "data": {
      "text/plain": [
       "<Figure size 432x288 with 1 Axes>"
      ],
      "image/png": "[encoded data removed]"
     },
     "metadata": {
      "needs_background": "light"
     }
    }
   ],
   "metadata": {}
  },
  {
   "cell_type": "markdown",
   "source": [
    "### See that Accuracies are near 100 up until the 30 yard range when there is a large drop off to about 85%.  \r\n",
    "### So for our FG data going forward we will use only field geals kicked from 30 yards and beyond to eliminate kicks that have little chance of missing.\r\n",
    "### This is so that if one stadium happens to have a higher % of shorter distance fgs this will not skew the data to it being a more accurate stadium."
   ],
   "metadata": {}
  },
  {
   "cell_type": "code",
   "execution_count": 99,
   "source": [
    "def remove_short_fgs(dist, df):\r\n",
    "   new_df = df.loc[df['DISTANCE'] > dist]\r\n",
    "   return new_df\r\n",
    "\r\n",
    "long_fg_data = remove_short_fgs(29, fg_data_df_clean)\r\n",
    "\r\n",
    "print('ALL FG MAKES AND MISSES DATA COUNT: \\n', fg_data_df_clean['MADE'].value_counts())\r\n",
    "print('LONG FG MAKES AND MISSES DATA COUNT: \\n', long_fg_data['MADE'].value_counts())"
   ],
   "outputs": [
    {
     "output_type": "stream",
     "name": "stdout",
     "text": [
      "ALL FG MAKES AND MISSES DATA COUNT: \n",
      " 1    1594\n",
      "0     286\n",
      "Name: MADE, dtype: int64\n",
      "LONG FG MAKES AND MISSES DATA COUNT: \n",
      " 1    939\n",
      "0    272\n",
      "Name: MADE, dtype: int64\n"
     ]
    }
   ],
   "metadata": {}
  },
  {
   "cell_type": "markdown",
   "source": [
    "## By eliminating short fieldgoals with a high rate of accuracy, those field goals from 29 yards and in, we have removed 655 made fieldgoals but only 14 misses which is an accuracy rate of 97.9%. \r\n",
    "## Field goal accuracy from 30 and beyond is 78%. \r\n",
    "\r\n"
   ],
   "metadata": {}
  },
  {
   "cell_type": "code",
   "execution_count": 100,
   "source": [
    "## Not sure if this adds anything - probably delete\r\n",
    "\r\n",
    "#fg_data_df_clean.hist(column='DISTANCE')\r\n",
    "#long_fg_data.hist(column='DISTANCE')\r\n"
   ],
   "outputs": [],
   "metadata": {}
  },
  {
   "cell_type": "markdown",
   "source": [
    "# Get accuracy for each stadium\r\n",
    "# old code seperated it into home and away data to start - this is included in the data itself so could change how do it or just do same way to save time"
   ],
   "metadata": {}
  },
  {
   "cell_type": "code",
   "execution_count": 278,
   "source": [
    "def get_location_fg_accuracies(df):\r\n",
    "   #  total_attempts = df['FG_ATTEMPTS'].groupby(df['LOCATION']).sum()\r\n",
    "   total_makes = (df['MADE'] == 1).groupby(df['LOCATION']).sum()\r\n",
    "   total_misses = (df['MADE'] == 0).groupby(df['LOCATION']).sum()\r\n",
    "   accuracies = (total_makes / (total_misses + total_makes) *100).round(1)\r\n",
    "   new_df = pd.DataFrame(accuracies)\r\n",
    "   return new_df\r\n",
    "    \r\n",
    "def get_location_net_punts(df):\r\n",
    "   total_net = df['NET'].groupby(df['LOCATION']).sum()\r\n",
    "   total_punts = (df['LOCATION']).value_counts()\r\n",
    "   net_ave = (total_net / total_punts).round(2)\r\n",
    "   new_df = pd.DataFrame(net_ave, columns=['NET_PUNT_AVE'])\r\n",
    "   return new_df\r\n",
    "\r\n",
    "\r\n",
    "# home_fg_accuracies = get_location_fg_accuracies(df_home_fg_clean)\r\n",
    "# away_fg_accuracies = get_location_fg_accuracies(df_away_fg_clean)\r\n",
    "long_fg_acc_df = get_location_fg_accuracies(long_fg_data)\r\n",
    "all_fg_acc_df = get_location_fg_accuracies(fg_data_df_clean)\r\n",
    "\r\n",
    "get_location_net_punts(punt_data_df_clean)\r\n",
    "\r\n"
   ],
   "outputs": [
    {
     "output_type": "execute_result",
     "data": {
      "text/plain": [
       "     NET_PUNT_AVE\n",
       "BC          35.01\n",
       "CGY         34.94\n",
       "EDM         35.41\n",
       "HAM         34.36\n",
       "MTL         34.18\n",
       "OTT         35.83\n",
       "SSK         33.89\n",
       "TOR         34.20\n",
       "WPG         35.60"
      ],
      "text/html": [
       "<div>\n",
       "<style scoped>\n",
       "    .dataframe tbody tr th:only-of-type {\n",
       "        vertical-align: middle;\n",
       "    }\n",
       "\n",
       "    .dataframe tbody tr th {\n",
       "        vertical-align: top;\n",
       "    }\n",
       "\n",
       "    .dataframe thead th {\n",
       "        text-align: right;\n",
       "    }\n",
       "</style>\n",
       "<table border=\"1\" class=\"dataframe\">\n",
       "  <thead>\n",
       "    <tr style=\"text-align: right;\">\n",
       "      <th></th>\n",
       "      <th>NET_PUNT_AVE</th>\n",
       "    </tr>\n",
       "  </thead>\n",
       "  <tbody>\n",
       "    <tr>\n",
       "      <th>BC</th>\n",
       "      <td>35.01</td>\n",
       "    </tr>\n",
       "    <tr>\n",
       "      <th>CGY</th>\n",
       "      <td>34.94</td>\n",
       "    </tr>\n",
       "    <tr>\n",
       "      <th>EDM</th>\n",
       "      <td>35.41</td>\n",
       "    </tr>\n",
       "    <tr>\n",
       "      <th>HAM</th>\n",
       "      <td>34.36</td>\n",
       "    </tr>\n",
       "    <tr>\n",
       "      <th>MTL</th>\n",
       "      <td>34.18</td>\n",
       "    </tr>\n",
       "    <tr>\n",
       "      <th>OTT</th>\n",
       "      <td>35.83</td>\n",
       "    </tr>\n",
       "    <tr>\n",
       "      <th>SSK</th>\n",
       "      <td>33.89</td>\n",
       "    </tr>\n",
       "    <tr>\n",
       "      <th>TOR</th>\n",
       "      <td>34.20</td>\n",
       "    </tr>\n",
       "    <tr>\n",
       "      <th>WPG</th>\n",
       "      <td>35.60</td>\n",
       "    </tr>\n",
       "  </tbody>\n",
       "</table>\n",
       "</div>"
      ]
     },
     "metadata": {},
     "execution_count": 278
    }
   ],
   "metadata": {}
  },
  {
   "cell_type": "code",
   "execution_count": 162,
   "source": [
    "\r\n",
    "away_long_fg_data = long_fg_data[long_fg_data.HOMEAWAY.eq('A')]\r\n",
    "home_long_fg_data = long_fg_data[long_fg_data.HOMEAWAY.eq('H')]\r\n",
    "\r\n",
    "long_fg_acc_away_df = get_location_fg_accuracies(away_long_fg_data)\r\n",
    "long_fg_acc_home_df = get_location_fg_accuracies(home_long_fg_data)\r\n",
    "\r\n"
   ],
   "outputs": [],
   "metadata": {}
  },
  {
   "cell_type": "code",
   "execution_count": 189,
   "source": [
    "# plot these all together, har chart\r\n",
    "df_fg_acc = [all_fg_acc_df, long_fg_acc_df, long_fg_acc_away_df, long_fg_acc_home_df]\r\n",
    "df_fg_acc = pd.concat(df_fg_acc, axis=1)\r\n",
    "# df_fg_acc = df_fg_acc.drop(['LOCATION'], axis =1)\r\n",
    "df_fg_acc.columns = ['ALL_FGS', 'LONG_FGS', 'LONG_AWAY_FGS', 'LONG_HOME_FGS']\r\n",
    "df_fg_acc['PERCENT_CHANGE_REMOVING_SHORT'] = df_fg_acc['ALL_FGS'] - df_fg_acc['LONG_FGS']\r\n",
    "df_fg_acc['DIFF_REMOVING_HOME_KICKERS'] = df_fg_acc['LONG_FGS'] - df_fg_acc['LONG_AWAY_FGS']\r\n",
    "df_fg_acc\r\n",
    "# df_fg_acc.plot.bar(subplots=True, layout=(4,2), figsize=(16,8), sharey=True)\r\n",
    "\r\n"
   ],
   "outputs": [
    {
     "output_type": "execute_result",
     "data": {
      "text/plain": [
       "          ALL_FGS  LONG_FGS  LONG_AWAY_FGS  LONG_HOME_FGS  \\\n",
       "LOCATION                                                    \n",
       "bc           85.0      77.7           75.3           80.3   \n",
       "cgy          89.3      82.8           85.7           80.3   \n",
       "edm          85.8      77.7           73.9           82.7   \n",
       "ham          82.9      77.9           76.0           80.0   \n",
       "mtl          83.0      73.6           76.8           68.1   \n",
       "ott          83.4      74.7           69.9           79.5   \n",
       "ssk          85.5      79.0           83.1           75.3   \n",
       "tor          80.9      73.0           74.2           71.7   \n",
       "wpg          87.4      80.8           82.8           79.1   \n",
       "\n",
       "          PERCENT_CHANGE_REMOVING_SHORT  DIFF_REMOVING_HOME_KICKERS  \n",
       "LOCATION                                                             \n",
       "bc                                  7.3                         2.4  \n",
       "cgy                                 6.5                        -2.9  \n",
       "edm                                 8.1                         3.8  \n",
       "ham                                 5.0                         1.9  \n",
       "mtl                                 9.4                        -3.2  \n",
       "ott                                 8.7                         4.8  \n",
       "ssk                                 6.5                        -4.1  \n",
       "tor                                 7.9                        -1.2  \n",
       "wpg                                 6.6                        -2.0  "
      ],
      "text/html": [
       "<div>\n",
       "<style scoped>\n",
       "    .dataframe tbody tr th:only-of-type {\n",
       "        vertical-align: middle;\n",
       "    }\n",
       "\n",
       "    .dataframe tbody tr th {\n",
       "        vertical-align: top;\n",
       "    }\n",
       "\n",
       "    .dataframe thead th {\n",
       "        text-align: right;\n",
       "    }\n",
       "</style>\n",
       "<table border=\"1\" class=\"dataframe\">\n",
       "  <thead>\n",
       "    <tr style=\"text-align: right;\">\n",
       "      <th></th>\n",
       "      <th>ALL_FGS</th>\n",
       "      <th>LONG_FGS</th>\n",
       "      <th>LONG_AWAY_FGS</th>\n",
       "      <th>LONG_HOME_FGS</th>\n",
       "      <th>PERCENT_CHANGE_REMOVING_SHORT</th>\n",
       "      <th>DIFF_REMOVING_HOME_KICKERS</th>\n",
       "    </tr>\n",
       "    <tr>\n",
       "      <th>LOCATION</th>\n",
       "      <th></th>\n",
       "      <th></th>\n",
       "      <th></th>\n",
       "      <th></th>\n",
       "      <th></th>\n",
       "      <th></th>\n",
       "    </tr>\n",
       "  </thead>\n",
       "  <tbody>\n",
       "    <tr>\n",
       "      <th>bc</th>\n",
       "      <td>85.0</td>\n",
       "      <td>77.7</td>\n",
       "      <td>75.3</td>\n",
       "      <td>80.3</td>\n",
       "      <td>7.3</td>\n",
       "      <td>2.4</td>\n",
       "    </tr>\n",
       "    <tr>\n",
       "      <th>cgy</th>\n",
       "      <td>89.3</td>\n",
       "      <td>82.8</td>\n",
       "      <td>85.7</td>\n",
       "      <td>80.3</td>\n",
       "      <td>6.5</td>\n",
       "      <td>-2.9</td>\n",
       "    </tr>\n",
       "    <tr>\n",
       "      <th>edm</th>\n",
       "      <td>85.8</td>\n",
       "      <td>77.7</td>\n",
       "      <td>73.9</td>\n",
       "      <td>82.7</td>\n",
       "      <td>8.1</td>\n",
       "      <td>3.8</td>\n",
       "    </tr>\n",
       "    <tr>\n",
       "      <th>ham</th>\n",
       "      <td>82.9</td>\n",
       "      <td>77.9</td>\n",
       "      <td>76.0</td>\n",
       "      <td>80.0</td>\n",
       "      <td>5.0</td>\n",
       "      <td>1.9</td>\n",
       "    </tr>\n",
       "    <tr>\n",
       "      <th>mtl</th>\n",
       "      <td>83.0</td>\n",
       "      <td>73.6</td>\n",
       "      <td>76.8</td>\n",
       "      <td>68.1</td>\n",
       "      <td>9.4</td>\n",
       "      <td>-3.2</td>\n",
       "    </tr>\n",
       "    <tr>\n",
       "      <th>ott</th>\n",
       "      <td>83.4</td>\n",
       "      <td>74.7</td>\n",
       "      <td>69.9</td>\n",
       "      <td>79.5</td>\n",
       "      <td>8.7</td>\n",
       "      <td>4.8</td>\n",
       "    </tr>\n",
       "    <tr>\n",
       "      <th>ssk</th>\n",
       "      <td>85.5</td>\n",
       "      <td>79.0</td>\n",
       "      <td>83.1</td>\n",
       "      <td>75.3</td>\n",
       "      <td>6.5</td>\n",
       "      <td>-4.1</td>\n",
       "    </tr>\n",
       "    <tr>\n",
       "      <th>tor</th>\n",
       "      <td>80.9</td>\n",
       "      <td>73.0</td>\n",
       "      <td>74.2</td>\n",
       "      <td>71.7</td>\n",
       "      <td>7.9</td>\n",
       "      <td>-1.2</td>\n",
       "    </tr>\n",
       "    <tr>\n",
       "      <th>wpg</th>\n",
       "      <td>87.4</td>\n",
       "      <td>80.8</td>\n",
       "      <td>82.8</td>\n",
       "      <td>79.1</td>\n",
       "      <td>6.6</td>\n",
       "      <td>-2.0</td>\n",
       "    </tr>\n",
       "  </tbody>\n",
       "</table>\n",
       "</div>"
      ]
     },
     "metadata": {},
     "execution_count": 189
    }
   ],
   "metadata": {}
  },
  {
   "cell_type": "markdown",
   "source": [
    "# plot difference in accuracy after removing short fgs, showing how a higher percentage of short fgs could skew the data for one location over others\r\n",
    "### orange line shows average, larger the bar, the larger the decrease in accuarcy meaning the more fgs that were in the short range at that location\r\n",
    "### find that Montreal and Ottawa had the biggest drops in accuracy, so meaning they had a more signifincant amount of attempts from the high accuracy range\r\n",
    "### whereas hamilton had the lowest change in %, meaning a higher proportion of fgs attempted in Hamilton were from 30 yards and beyond\r\n",
    "### Edmonton, Montreal, Ottawa, Toronto were above the average drop in accuracy, so higher proportion of shorter fgs\r\n",
    "### Calgary, Hamilton, Sask, Winnipeg all had below average drops in accuarcy so lower proportion of shorter high accuracy fgs\r\n",
    "### BC was right on the average\r\n"
   ],
   "metadata": {}
  },
  {
   "cell_type": "code",
   "execution_count": 197,
   "source": [
    "ax0 = df_fg_acc.plot.bar(title='Decrease in FG Accuracy when Removing Short Fgs (< 30 yards)', y=['PERCENT_CHANGE_REMOVING_SHORT'])\r\n",
    "ax0.legend(bbox_to_anchor=(1.05, 1), loc='upper left', borderaxespad=0.)\r\n",
    "ax0.set_ylim(4,10)\r\n",
    "ax0.axhline(df_fg_acc['PERCENT_CHANGE_REMOVING_SHORT'].mean(), color='orange')\r\n",
    "for container in ax0.containers:\r\n",
    "   ax0.bar_label(container)\r\n",
    "\r\n",
    "\r\n",
    "ax1 = df_fg_acc.plot.bar(title='Field Goal Accuracy by Location (All Fgs vs Only Long Fgs)', y=['ALL_FGS', 'LONG_FGS'], width=0.8)\r\n",
    "ax1.set_ylim(70, 90)\r\n",
    "ax1.legend(bbox_to_anchor=(1.05, 1), loc='upper left', borderaxespad=0.)\r\n",
    "for container in ax1.containers:\r\n",
    "   ax1.bar_label(container)\r\n"
   ],
   "outputs": [
    {
     "output_type": "display_data",
     "data": {
      "text/plain": [
       "<Figure size 432x288 with 1 Axes>"
      ],
      "image/png": "[encoded data removed]"
     },
     "metadata": {
      "needs_background": "light"
     }
    },
    {
     "output_type": "display_data",
     "data": {
      "text/plain": [
       "<Figure size 432x288 with 1 Axes>"
      ],
      "image/png": "[encoded data removed]"
     },
     "metadata": {
      "needs_background": "light"
     }
    }
   ],
   "metadata": {}
  },
  {
   "cell_type": "markdown",
   "source": [
    "# Plot Home Vs Away FG Accuracies\r\n",
    "## Home kicker has about half the data at each location for each year, so significantly skew the data, maybe could could do something to reduce their weighting? otherwise seperate\r\n",
    "## Find that some kickers improve overall accuracy and some worsen accuracy\r\n",
    "## BC, Edmonton, Hamilton, Ottawa all improved the overall accuarcy of their respective stadiums\r\n",
    "## Calgary, Montreal, Sask, Toronto, and Winnipeg actually worsened overall accuracy \r\n",
    "## Biggest change is in Montreal, most significant difference between Home performance and Away"
   ],
   "metadata": {}
  },
  {
   "cell_type": "code",
   "execution_count": 195,
   "source": [
    "\r\n",
    "ax2 = df_fg_acc.plot.bar(title='Field Goal Accuracy by Location (Home Vs Away)', y=['LONG_FGS', 'LONG_HOME_FGS', 'LONG_AWAY_FGS'], width=0.8)\r\n",
    "ax2.set_ylim(65, 90)\r\n",
    "ax2.legend(bbox_to_anchor=(1.05, 1), loc='upper left', borderaxespad=0.)\r\n",
    "\r\n",
    "ax3 = df_fg_acc.plot.bar(title='Field Goal Accuarcy Difference After Removing Home Field Kicks', y=['DIFF_REMOVING_HOME_KICKERS'], legend=False)\r\n",
    "# ax3.legend(bbox_to_anchor=(1.05, 1), loc='upper left', borderaxespad=0.)\r\n",
    "\r\n",
    "for container in ax3.containers:\r\n",
    "   ax3.bar_label(container)\r\n",
    "\r\n"
   ],
   "outputs": [
    {
     "output_type": "display_data",
     "data": {
      "text/plain": [
       "<Figure size 432x288 with 1 Axes>"
      ],
      "image/png": "[encoded data removed]"
     },
     "metadata": {
      "needs_background": "light"
     }
    },
    {
     "output_type": "display_data",
     "data": {
      "text/plain": [
       "<Figure size 432x288 with 1 Axes>"
      ],
      "image/png": "[encoded data removed]"
     },
     "metadata": {
      "needs_background": "light"
     }
    }
   ],
   "metadata": {}
  },
  {
   "cell_type": "markdown",
   "source": [
    "## Can see that BC, Edmonton, Hamilton, Ottawa kickers all increased the overall accuarcy at their home stadiums\r\n",
    "## Calgary, Montreal, Sask, Toronto, Winnipeg's home team kickers actually reduced the accuarcy at their home fields. \r\n",
    "## Seperate the home field kickers as they have a much heavier weighting and can skew the results to their own"
   ],
   "metadata": {}
  },
  {
   "cell_type": "markdown",
   "source": [],
   "metadata": {}
  },
  {
   "cell_type": "markdown",
   "source": [
    "# Kickoffs and Elevation"
   ],
   "metadata": {}
  },
  {
   "cell_type": "code",
   "execution_count": 201,
   "source": [
    "import requests\r\n",
    "import json\r\n",
    "import numpy as np\r\n",
    "from bs4 import BeautifulSoup\r\n"
   ],
   "outputs": [],
   "metadata": {}
  },
  {
   "cell_type": "markdown",
   "source": [
    "## Download Kickoff Data\r\n",
    "\r\n",
    "** implement error handling for 404 and webscraping"
   ],
   "metadata": {}
  },
  {
   "cell_type": "code",
   "execution_count": 215,
   "source": [
    "team_codes = ['bc', 'edm', 'cgy', 'ssk', 'wpg', 'ham', 'tor', 'ott', 'mtl']\r\n",
    "\r\n",
    "def get_site_json(url):\r\n",
    "   data_page = requests.get(url)\r\n",
    "   soup = BeautifulSoup(data_page.content, 'html.parser')\r\n",
    "   site_json = json.loads(soup.text)\r\n",
    "   return site_json\r\n",
    "\r\n",
    "\r\n",
    "def get_kickoff_data(team_codes, include_home):\r\n",
    "   base_url = 'https://www.cfl.ca/wp-content/themes/cfl.ca/inc/admin-ajax.php?action=get_league_stats&stat_category=punting&filter[season][ge]=2016&filter[punts][ge]=1&filter[location][eq]='\r\n",
    "   json_data = []\r\n",
    "   for team in team_codes:\r\n",
    "      if include_home: \r\n",
    "         url = base_url + team + '&group_by=player'\r\n",
    "      else: \r\n",
    "         url = base_url + team + '&filter[opponent_team_abbreviation][eq]=' + team + '&group_by=player'\r\n",
    "      site_json = get_site_json(url)\r\n",
    "      json_data.append(site_json)\r\n",
    "   return json_data\r\n"
   ],
   "outputs": [],
   "metadata": {}
  },
  {
   "cell_type": "code",
   "execution_count": 217,
   "source": [
    "# download kickoff data\r\n",
    "kickoff_punt_data = get_kickoff_data(team_codes, True)\r\n",
    "kickoff_punt_data_away = get_kickoff_data(team_codes, False)"
   ],
   "outputs": [],
   "metadata": {}
  },
  {
   "cell_type": "markdown",
   "source": [
    "## !! Save data to computer !!"
   ],
   "metadata": {}
  },
  {
   "cell_type": "code",
   "execution_count": 317,
   "source": [
    "# save to file\r\n",
    "def save_json_to_file(data, name):\r\n",
    "   with open(name, 'w', encoding='utf-8') as f:\r\n",
    "      json.dump(data, f, ensure_ascii=False, indent=3)\r\n",
    "\r\n",
    "save_json_to_file(kickoff_punt_data, 'kickoff_punt_data.json')\r\n",
    "save_json_to_file(kickoff_punt_data_away, 'kickoff_punt_data_away.json')"
   ],
   "outputs": [],
   "metadata": {}
  },
  {
   "cell_type": "code",
   "execution_count": 227,
   "source": [
    "# create DF from json\r\n",
    "def getDFFromJson(data):\r\n",
    "   df = pd.DataFrame(data['data'])\r\n",
    "   return df\r\n",
    "\r\n",
    "# Column headers for punt df and field goal df\r\n",
    "punt_ko_cols = ['YEAR', 'NAME', 'LOCATION', 'URL', 'TEAM', 'GAMES_PLAYED', 'NUMBER_OF_PUNTS', 'PUNT_YDS', 'PUNT_AVG', 'PUNT_LONG', 'PUNT_SINGLES', 'NUMBER_OF_KICKOFFS', 'KO_YDS', 'KO_AVG', 'KO_LG', 'KO_S']\r\n",
    "\r\n",
    "def createDFwLocationFromFile(file_name, team_codes, column_names):\r\n",
    "    #check if length of data = length of team_codes\r\n",
    "    with open(file_name) as f:\r\n",
    "        data = json.load(f)\r\n",
    "    if(len(data) == len(team_codes)):\r\n",
    "        print('length equal')\r\n",
    "        # empty array to put each stadium dfs in\r\n",
    "        dn = []\r\n",
    "        for i, team in enumerate(team_codes):\r\n",
    "            #create df from data[i]\r\n",
    "            df = getDFFromJson(data[i])\r\n",
    "            #add location of game to df\r\n",
    "            df.insert(2, 'LOCATION', team)\r\n",
    "            #add df to df list\r\n",
    "            dn.append(df)\r\n",
    "        # create new df with all location dfs combined\r\n",
    "        dn = pd.concat(dn, axis=0, )\r\n",
    "        # add column names to df\r\n",
    "        \r\n",
    "        dn.columns = column_names\r\n",
    "        return dn\r\n",
    "    else:\r\n",
    "        print('not equal')\r\n",
    "\r\n",
    "df_punt_ko = createDFwLocationFromFile('kickoff_punt_data.json', team_codes, punt_ko_cols)\r\n",
    "df_punt_ko_away = createDFwLocationFromFile('kickoff_punt_data_away.json', team_codes, punt_ko_cols)\r\n"
   ],
   "outputs": [
    {
     "output_type": "stream",
     "name": "stdout",
     "text": [
      "length equal\n",
      "length equal\n"
     ]
    }
   ],
   "metadata": {}
  },
  {
   "cell_type": "code",
   "execution_count": 229,
   "source": [
    "def clean_df_ko(df):\r\n",
    "   #filter out any rows with punts < 2\r\n",
    "   #remove Kickoff columns and other columns not of interest\r\n",
    "   df = df[df.NUMBER_OF_KICKOFFS.gt(1)].drop(['URL', 'TEAM', 'GAMES_PLAYED', 'NUMBER_OF_PUNTS', 'PUNT_YDS', 'PUNT_AVG', 'PUNT_LONG', 'PUNT_SINGLES', 'KO_LG', 'KO_S'], axis=1)\r\n",
    "\r\n",
    "   #sort values\r\n",
    "   df = df.sort_values(by=['LOCATION','NAME', 'YEAR'])\r\n",
    "   df['LOCATION'] = df['LOCATION'].str.upper()\r\n",
    "\r\n",
    "   #convert KO_AVG type from object to float\r\n",
    "   df['KO_AVG'] = df['KO_AVG'].astype(float, errors = 'raise')\r\n",
    "   return df\r\n",
    "   \r\n",
    "df_ko = clean_df_ko(df_punt_ko)\r\n",
    "df_ko_away = clean_df_ko(df_punt_ko_away)\r\n"
   ],
   "outputs": [],
   "metadata": {}
  },
  {
   "cell_type": "code",
   "execution_count": 245,
   "source": [
    "def get_location_ko_averages(df):\r\n",
    "    total_kos = df['NUMBER_OF_KICKOFFS'].groupby(df['LOCATION']).sum()\r\n",
    "    total_ko_yards = df['KO_YDS'].groupby(df['LOCATION']).sum()\r\n",
    "    averages =  (total_ko_yards / total_kos).round(1)\r\n",
    "    df = pd.DataFrame(averages, columns=['KO_AVG'])\r\n",
    "   #  df['LOCATION'] = df.index\r\n",
    "    return df\r\n",
    "\r\n",
    "ko_loc_avg_df = get_location_ko_averages(df_ko)\r\n",
    "ko_loc_avg_away_df = get_location_ko_averages(df_ko_away)"
   ],
   "outputs": [],
   "metadata": {}
  },
  {
   "cell_type": "markdown",
   "source": [
    "### Using linear regression find that elevation does have an effect on kickoff distance.  \r\n",
    "Elevations were taken from https://en-ca.topographic-map.com/ and are in meters above sea level.  \r\n",
    "Red line shows the regression line when looking at visiting kickers only, again to reduce the weighting the home field "
   ],
   "metadata": {}
  },
  {
   "cell_type": "code",
   "execution_count": 320,
   "source": [
    "import seaborn as sns\r\n",
    "\r\n",
    "elevations = [11, 1102, 662, 89, 70, 72, 580, 82, 232]\r\n",
    "ko_loc_avg_df['ELEVATION'] = elevations\r\n",
    "ko_loc_avg_away_df['ELEVATION'] = elevations\r\n",
    "# ax1 = ko_loc_avg_df.plot.scatter(x='KO_AVG', y='ELEVATION', title='Kickoff Vs Elevation All Kickoffs')\r\n",
    "# ax2 = ko_loc_avg_away_df.plot.scatter(x='KO_AVG', y='ELEVATION', title='Kickoff Vs Elevation Away Kickoffs')\r\n",
    "sns.regplot(y=ko_loc_avg_away_df['KO_AVG'], x=ko_loc_avg_away_df['ELEVATION'], color='red')\r\n",
    "# sns.regplot(y=ko_loc_avg_df['KO_AVG'], x=ko_loc_avg_df['ELEVATION'])"
   ],
   "outputs": [
    {
     "output_type": "execute_result",
     "data": {
      "text/plain": [
       "<AxesSubplot:xlabel='ELEVATION', ylabel='KO_AVG'>"
      ]
     },
     "metadata": {},
     "execution_count": 320
    },
    {
     "output_type": "display_data",
     "data": {
      "text/plain": [
       "<Figure size 432x288 with 1 Axes>"
      ],
      "image/png": "[encoded data removed]"
     },
     "metadata": {
      "needs_background": "light"
     }
    }
   ],
   "metadata": {}
  },
  {
   "cell_type": "code",
   "execution_count": 235,
   "source": [
    "import numpy as np\r\n",
    "from sklearn.linear_model import LinearRegression\r\n"
   ],
   "outputs": [],
   "metadata": {}
  },
  {
   "cell_type": "code",
   "execution_count": 262,
   "source": [
    "x = (ko_loc_avg_away_df['ELEVATION'].values).reshape(-1,1)\r\n",
    "y = ko_loc_avg_away_df['KO_AVG'].values.reshape(-1,1)\r\n",
    "model = LinearRegression().fit(x,y)\r\n",
    "y_pred = model.predict([[0]])\r\n",
    "print(' R2: ', model.score(x,y), '\\n Slope: ', model.coef_[0][0], '\\n Intercept: ', model.intercept_)\r\n"
   ],
   "outputs": [
    {
     "output_type": "stream",
     "name": "stdout",
     "text": [
      " R2:  0.2693006958588402 \n",
      " Slope:  0.002777313157961299 \n",
      " Intercept:  [63.47175465]\n"
     ]
    }
   ],
   "metadata": {}
  },
  {
   "cell_type": "markdown",
   "source": [
    "## Distance = 63.5 + 0.00277*Elevation(m)\r\n",
    "## Kicking at 1000m elevation adds 2.77 yards to a kickoff\r\n",
    "## R2 is 27%, so model explains 27% of variation in Kickoff distance"
   ],
   "metadata": {}
  },
  {
   "cell_type": "markdown",
   "source": [
    "# Jetlag West Travel to East\r\n",
    "## Check how BC kickers did in Eastern provinces compared to alberta\r\n",
    "## Continue use of only longer FGs (30+ yards)\r\n",
    "### jetlag at least 2 timezones of travel \r\n",
    "\r\n",
    "### west to east travel (hardest in theory)\r\n",
    "\r\n",
    "### Vancouver to WPG and beyond + AB to ONT\r\n",
    "\r\n",
    "### east to west travel (easier)\r\n",
    "\r\n",
    "### ONT to AB and BC + WPG to BC\r\n",
    "### jetlag source https://www.ncbi.nlm.nih.gov/pmc/articles/PMC3435929/\r\n",
    "\r\n",
    "\r\n",
    "\r\n",
    "\r\n"
   ],
   "metadata": {}
  },
  {
   "cell_type": "code",
   "execution_count": 322,
   "source": [
    "def get_fgs_of_team_in_loc(df, kickers_teams, away_stadiums):\r\n",
    "   home_kicker_df = df[df.TEAM.isin(kickers_teams)]\r\n",
    "   home_kicker_df = home_kicker_df[home_kicker_df.HOME.isin(away_stadiums)]\r\n",
    "   return home_kicker_df\r\n",
    "   \r\n",
    "\r\n",
    "# WEST TO EAST TRAVEL 2+ TIMEZONES TRAVELED\r\n",
    "bc_ab_to_ont_travel = get_fgs_of_team_in_loc(away_long_fg_data, ['BC','EDM','CGY'], ['TOR','OTT','MTL','HAM'])\r\n",
    "bc_to_wpg_travel = get_fgs_of_team_in_loc(away_long_fg_data, ['BC'], ['WPG'])\r\n",
    "# combine\r\n",
    "west_to_east_travel = pd.concat([bc_ab_to_ont_travel, bc_to_wpg_travel])\r\n",
    "\r\n",
    "# EAST TO WEST TRAVEL 2+ TIMEZONES TRAVELED\r\n",
    "ont_to_ab_bc_travel = get_fgs_of_team_in_loc(away_long_fg_data, ['TOR','OTT', 'MTL', 'HAM'], ['BC','EDM','CGY'])\r\n",
    "wpg_to_bc_travel = get_fgs_of_team_in_loc(away_long_fg_data, ['WPG'], ['BC'])\r\n",
    "# combine\r\n",
    "east_to_west_travel = pd.concat([ont_to_ab_bc_travel, wpg_to_bc_travel])\r\n",
    "\r\n",
    "# LOCAL TRAVEL - 0-1 TIMEZONES TRAVELED\r\n",
    "bc_ab_travel = get_fgs_of_team_in_loc(away_long_fg_data, ['BC','EDM','CGY'], ['BC','EDM','CGY'])\r\n",
    "ab_sask_wpg_travel = get_fgs_of_team_in_loc(away_long_fg_data, ['EDM','CGY','SSK','WPG'], ['EDM','CGY','SSK','WPG'])\r\n",
    "wpg_ont_travel = get_fgs_of_team_in_loc(away_long_fg_data, ['TOR','OTT','MTL','HAM','WPG'], ['TOR','OTT','MTL','HAM','WPG'])\r\n",
    "# combine\r\n",
    "one_timezone_travel = pd.concat([bc_ab_travel, ab_sask_wpg_travel, wpg_ont_travel])\r\n",
    "\r\n",
    "\r\n",
    "fg_acc_west_to_east_travel = get_accuracy(west_to_east_travel) \r\n",
    "fg_acc_east_to_west_travel = get_accuracy(east_to_west_travel) \r\n",
    "fg_acc_one_timezone_travel = get_accuracy(one_timezone_travel)\r\n",
    "\r\n",
    "\r\n",
    "\r\n",
    "jetlag_index = ['West to East (Greater than 1 timezone)', 'East to West (Greater than 1 timezone)', '0 or 1 Timezone (Either Direction)']\r\n",
    "jetlag_df = pd.DataFrame(data={'FG_ACCURACY': [fg_acc_west_to_east_travel, fg_acc_east_to_west_travel, fg_acc_one_timezone_travel]}, index=jetlag_index)\r\n",
    "\r\n",
    "ax4 = jetlag_df.plot.bar(title='Field Goal Accuracy by Travel Type', width=0.8)\r\n",
    "ax4.set_ylim(70, 80)\r\n",
    "ax4.legend(bbox_to_anchor=(1.05, 1), loc='upper left', borderaxespad=0.)\r\n",
    "for container in ax4.containers:\r\n",
    "   ax4.bar_label(container)\r\n",
    "\r\n"
   ],
   "outputs": [
    {
     "output_type": "display_data",
     "data": {
      "text/plain": [
       "<Figure size 432x288 with 1 Axes>"
      ],
      "image/png": "[encoded data removed]"
     },
     "metadata": {
      "needs_background": "light"
     }
    }
   ],
   "metadata": {}
  },
  {
   "cell_type": "markdown",
   "source": [
    "## As expected in results, find that local travel (0-1 timezones travelled) had the highest fg accuracy\r\n",
    "## this currently includes home field kickers? does this matter?\r\n",
    "## Find that East to west travel not that large of a dropoff in accuracy - drops 2.6% from local travel\r\n",
    "## Find that West to East travel has the lowest accuarcy - 72.2 % which is 6.5% less than local travel\r\n"
   ],
   "metadata": {}
  }
 ],
 "metadata": {
  "orig_nbformat": 4,
  "language_info": {
   "name": "python",
   "version": "3.9.1",
   "mimetype": "text/x-python",
   "codemirror_mode": {
    "name": "ipython",
    "version": 3
   },
   "pygments_lexer": "ipython3",
   "nbconvert_exporter": "python",
   "file_extension": ".py"
  },
  "kernelspec": {
   "name": "python3",
   "display_name": "Python 3.9.1 64-bit"
  },
  "interpreter": {
   "hash": "ac59ebe37160ed0dfa835113d9b8498d9f09ceb179beaac4002f036b9467c963"
  }
 },
 "nbformat": 4,
 "nbformat_minor": 2
}