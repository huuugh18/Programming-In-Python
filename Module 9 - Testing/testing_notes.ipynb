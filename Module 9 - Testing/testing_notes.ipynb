{
 "cells": [
  {
   "cell_type": "markdown",
   "source": [
    "[Youtube: Automate data analysis testing]('https://www.youtube.com/watch?v=ovvU41ve1FQ')  \r\n",
    "\r\n",
    "\r\n",
    "NumPy.testing  \r\n",
    "- np.testing.assert_array_equal() \r\n",
    "- np.testing.assert_array_close()\r\n",
    "- works with py.test\r\n",
    "- takes numpy arrays not pd dfs - have to convert with DataFrame.values\r\n",
    "\r\n",
    "Functions\r\n",
    "- break down into small functions\r\n",
    "- supply fake data\r\n",
    "- run stats - df.describe() see if what expect\r\n",
    "- are observations unique\r\n",
    "- columns of expected type and range\r\n",
    "\r\n",
    "Comparing DFs\r\n",
    "- compare output to prev versions\r\n",
    "- `Numpy.setdiff1d(x,y)`\r\n",
    "   - x,y are array-like\r\n",
    "   - returns unique entries in y that aren't in x\r\n",
    "   - find dropped and new rows/columns\r\n",
    "   - * useful for when removing certain data and checking what was removed\r\n",
    "- `Numpy.interset1d(x,y)`\r\n",
    "   - x,y are array-like\r\n",
    "   - return unique entries that are in x and y\r\n",
    "   - create comparable matrix\r\n",
    "- Pandas `.loc` indexing\r\n",
    "   - take results of the above methods\r\n",
    "\r\n",
    "**Rows Removed**  \r\n",
    "`x1.loc[np.setdiff1d(x1.index, y1.index)]`  \r\n",
    "\r\n",
    "**Rows Added**  \r\n",
    "`y1.loc[np.setdiff1d(y1.index, x1.index)]`\r\n",
    "\r\n",
    "**Columns Removed**  \r\n",
    "`x1.loc[:, np.setdiff1d(x1.columns, y1.columns)]`  \r\n",
    "\r\n",
    "**Columns Added**  \r\n",
    "`y1.loc[:, np.setdiff1d(y1.columns, x1.columns)]`  \r\n",
    "\r\n",
    "**Compare Same Rows**  \r\n",
    "`rows, cols = np.intersect1d(x1.index, y1.index), np.interset1d(x1.columns, y1.columns)`  \r\n",
    "`same_x1 = x1.loc[rows, cols]`  \r\n",
    "`same_y1 = y1.loc[rows, cols]`\r\n"
   ],
   "metadata": {}
  }
 ],
 "metadata": {
  "orig_nbformat": 4,
  "language_info": {
   "name": "python",
   "version": "3.9.1"
  },
  "kernelspec": {
   "name": "python3",
   "display_name": "Python 3.9.1 64-bit"
  },
  "interpreter": {
   "hash": "ac59ebe37160ed0dfa835113d9b8498d9f09ceb179beaac4002f036b9467c963"
  }
 },
 "nbformat": 4,
 "nbformat_minor": 2
}