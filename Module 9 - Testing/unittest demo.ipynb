{
 "cells": [
  {
   "cell_type": "code",
   "execution_count": 1,
   "source": [
    "import unittest\r\n",
    "\r\n",
    "\r\n",
    "def get_highest(input):\r\n",
    "    for val in input:\r\n",
    "        if type(val) is not float and type(val) is not int:\r\n",
    "            return None\r\n",
    "    \r\n",
    "    max_val = input[0]\r\n",
    "    for val in input:\r\n",
    "        if val > max_val:\r\n",
    "            max_val = val\r\n",
    "            \r\n",
    "    return max_val\r\n",
    "\r\n",
    "\r\n",
    "class MyTestSet(unittest.TestCase):\r\n",
    "    \r\n",
    "    def test_func_exists(self):\r\n",
    "        self.assertIsNotNone(get_highest)\r\n",
    "    \r\n",
    "    def test_ret(self):\r\n",
    "        self.assertIsNotNone(get_highest([0]))\r\n",
    "    \r\n",
    "    def test_ret_4(self):\r\n",
    "        self.assertEqual(4, get_highest([1,2,3,4]))\r\n",
    "    \r\n",
    "    def test_ret_5(self):\r\n",
    "        self.assertEqual(5, get_highest([1,2,3,5]))\r\n",
    "    \r\n",
    "    def test_ret_4_mid(self):\r\n",
    "        self.assertEqual(4, get_highest([1,2,4,0]))\r\n",
    "    \r\n",
    "    def test_str(self):\r\n",
    "        input = [1, 2, \"hello\", [\"whoa\"]]\r\n",
    "        self.assertIsNone(get_highest(input))\r\n",
    "\r\n",
    "    def test_highest_at_end(self):\r\n",
    "        self.assertEqual(100, get_highest([1,2,4,100]))\r\n",
    "        \r\n",
    "    def test_highest_at_start(self):\r\n",
    "        self.assertEqual(100, get_highest([100,2,4,99]))\r\n",
    "    \r\n",
    "    def test_highest_at_either(self):\r\n",
    "        self.assertEqual(100, get_highest([100,2,4,100]))\r\n",
    "     \r\n",
    "    def test_updown(self):\r\n",
    "        self.assertEqual(5, get_highest([1,2,2,4,1,5]))\r\n",
    "    \r\n",
    "        \r\n",
    "        \r\n",
    "\r\n",
    "unittest.main(argv=['ingored', '-v'], exit=False)\r\n",
    "\r\n"
   ],
   "outputs": [
    {
     "output_type": "stream",
     "name": "stderr",
     "text": [
      "test_func_exists (__main__.MyTestSet) ... ok\n",
      "test_highest_at_either (__main__.MyTestSet) ... ok\n",
      "test_highest_at_end (__main__.MyTestSet) ... ok\n",
      "test_highest_at_start (__main__.MyTestSet) ... ok\n",
      "test_ret (__main__.MyTestSet) ... ok\n",
      "test_ret_4 (__main__.MyTestSet) ... ok\n",
      "test_ret_4_mid (__main__.MyTestSet) ... ok\n",
      "test_ret_5 (__main__.MyTestSet) ... ok\n",
      "test_str (__main__.MyTestSet) ... ok\n",
      "test_updown (__main__.MyTestSet) ... ok\n",
      "\n",
      "----------------------------------------------------------------------\n",
      "Ran 10 tests in 0.008s\n",
      "\n",
      "OK\n"
     ]
    },
    {
     "output_type": "execute_result",
     "data": {
      "text/plain": [
       "<unittest.main.TestProgram at 0x233b11f4a30>"
      ]
     },
     "metadata": {},
     "execution_count": 1
    }
   ],
   "metadata": {}
  },
  {
   "cell_type": "markdown",
   "source": [
    "# Assertions\r\n",
    "\r\n",
    "### What is assertion?\r\n",
    "- Check if program entered an untenable state\r\n",
    "- Stop execution if program state untenable"
   ],
   "metadata": {}
  },
  {
   "cell_type": "code",
   "execution_count": 6,
   "source": [
    "x = 9\r\n",
    "\r\n",
    "try:\r\n",
    "    assert x == 10, \"Checked if x was 10. It was not\"\r\n",
    "except AssertionError as e:\r\n",
    "    print(\"The assertion failed. \")\r\n",
    "    print(e)\r\n",
    "\r\n",
    "\r\n",
    "print(\"At end of program\")\r\n"
   ],
   "outputs": [
    {
     "output_type": "stream",
     "name": "stdout",
     "text": [
      "The assertion failed. \n",
      "Checked if x was 10. It was not\n",
      "At end of program\n"
     ]
    }
   ],
   "metadata": {}
  },
  {
   "cell_type": "markdown",
   "source": [
    "## What to Test\r\n",
    "### Boundary Conditions \r\n",
    "- look for things at ends of data structures\r\n",
    "- boundaries between things to make sure extreme conditions don't break code\r\n",
    "### Execution Pathways\r\n",
    "- if else statements\r\n",
    "- make sure code runs through every path\r\n",
    "### Error Handling\r\n",
    "- test if use a string when need a number example\r\n",
    "- force code into error conditions to see what happens\r\n",
    "\r\n",
    "\r\n",
    "\r\n"
   ],
   "metadata": {}
  }
 ],
 "metadata": {
  "kernelspec": {
   "name": "python3",
   "display_name": "Python 3.9.1 64-bit"
  },
  "language_info": {
   "codemirror_mode": {
    "name": "ipython",
    "version": 3
   },
   "file_extension": ".py",
   "mimetype": "text/x-python",
   "name": "python",
   "nbconvert_exporter": "python",
   "pygments_lexer": "ipython3",
   "version": "3.9.1"
  },
  "interpreter": {
   "hash": "ac59ebe37160ed0dfa835113d9b8498d9f09ceb179beaac4002f036b9467c963"
  }
 },
 "nbformat": 4,
 "nbformat_minor": 5
}