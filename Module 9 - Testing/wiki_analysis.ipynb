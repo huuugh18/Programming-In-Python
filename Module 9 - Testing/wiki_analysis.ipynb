{
 "cells": [
  {
   "cell_type": "markdown",
   "source": [
    "# Functions"
   ],
   "metadata": {}
  },
  {
   "cell_type": "code",
   "execution_count": 18,
   "source": [
    "import unittest\r\n",
    "import os\r\n",
    "import bs4\r\n",
    "\r\n",
    "def get_files_in_dir(dir_name, extension = None, num_files = None):\r\n",
    "   if os.path.exists(dir_name) == False:\r\n",
    "      return None\r\n",
    "   if os.path.isfile(dir_name):\r\n",
    "      return None\r\n",
    "   files = os.listdir(dir_name)\r\n",
    "   if extension is not None: # we have a filter \r\n",
    "      files = [f for f in files if f.endswith(extension)]\r\n",
    "   if num_files is not None: \r\n",
    "      files = files[:num_files]\r\n",
    "   return files\r\n",
    "\r\n",
    "def get_bs4_obj(filename):\r\n",
    "    if os.path.exists(filename):\r\n",
    "        with open(filename) as f:\r\n",
    "            bs4_obj = bs4.BeautifulSoup(f)\r\n",
    "        return bs4_obj\r\n",
    "    else:\r\n",
    "        return None\r\n",
    "\r\n",
    "\r\n",
    "    \r\n",
    "def get_alum_list(filename):\r\n",
    "   dom = get_bs4_obj(filename)\r\n",
    "   if dom == None:\r\n",
    "      print('dom is none')\r\n",
    "      return []\r\n",
    "   h2s_filt = [h2 for h2 in dom.find_all(\"h2\") if \"lumni\" in h2.text]\r\n",
    "    \r\n",
    "   if len(h2s_filt) == 0:\r\n",
    "      return []\r\n",
    "    \r\n",
    "   sib = h2s_filt[0].next_sibling\r\n",
    "   # traverse, accumulating uls\r\n",
    "   # that are siblings of h2\r\n",
    "   uls = []\r\n",
    "   while sib != None:\r\n",
    "      if sib.name == \"ul\":\r\n",
    "         uls.append(sib)\r\n",
    "      if sib.name == \"h2\": # end of the section\r\n",
    "         break\r\n",
    "      sib = sib.next_sibling\r\n",
    "   # dig into the uls\r\n",
    "   list_texts = []\r\n",
    "   for ul in uls: # iterate all sibling uls\r\n",
    "      lis = ul.find_all(\"li\")\r\n",
    "      for li in lis: # iterate list items\r\n",
    "         list_text = li.text\r\n",
    "         list_texts.append(list_text) # add text \r\n",
    "   return list_texts\r\n",
    "\r\n",
    "get_alum_list('./wikipedia-university-pages/ol.html')\r\n"
   ],
   "outputs": [
    {
     "output_type": "stream",
     "name": "stdout",
     "text": [
      "dom is none\n"
     ]
    },
    {
     "output_type": "execute_result",
     "data": {
      "text/plain": [
       "[]"
      ]
     },
     "metadata": {},
     "execution_count": 18
    }
   ],
   "metadata": {}
  },
  {
   "cell_type": "markdown",
   "source": [
    "# Unit tests"
   ],
   "metadata": {}
  },
  {
   "cell_type": "code",
   "execution_count": 23,
   "source": [
    "\r\n",
    "\r\n",
    "class TestListFiles(unittest.TestCase):\r\n",
    "    def test_list_xists(self):\r\n",
    "        self.assertIsNotNone(get_files_in_dir)\r\n",
    "    \r\n",
    "    def test_returns_list(self):\r\n",
    "        res = get_files_in_dir(\"/\")\r\n",
    "        self.assertEqual(  type(res), list)\r\n",
    "    \r\n",
    "    def test_nonexistent(self):\r\n",
    "        res = get_files_in_dir(\"/i/do/not/exist\")\r\n",
    "        self.assertIsNone(res)\r\n",
    "    \r\n",
    "    def test_nofilenames(self):\r\n",
    "        res = get_files_in_dir(\"./test_files/test1.txt\")\r\n",
    "        self.assertIsNone(res)\r\n",
    "        \r\n",
    "    def test_get_two(self):\r\n",
    "        res = get_files_in_dir(\"./test_files/\", None, 2)\r\n",
    "        self.assertEqual(len(res), 3)\r\n",
    "    \r\n",
    "    def test_filter_to_two(self):\r\n",
    "        res = get_files_in_dir(\"./test_files/\", \"txt\", 2)\r\n",
    "        self.assertEqual(len(res), 2)\r\n",
    "    \r\n",
    "    def test_filter_to_one(self):\r\n",
    "        res = get_files_in_dir(\"./test_files/\", \"html\", 1)\r\n",
    "        self.assertEqual(len(res), 1)\r\n",
    "    \r\n",
    "    def test_filter_to_one_ext(self):\r\n",
    "        res = get_files_in_dir(\"./test_files/\", \"html\", 1)\r\n",
    "        \r\n",
    "        self.assertTrue(res[0].endswith(\"html\"))  \r\n",
    "\r\n",
    "unittest.main(argv=['ingored', '-v'], exit=False)"
   ],
   "outputs": [
    {
     "output_type": "stream",
     "name": "stderr",
     "text": [
      "test_get_alums_exists (__main__.TestHTMLParse) ... ok\n",
      "test_load_html_not_none (__main__.TestHTMLParse) ... FAIL\n",
      "test_ret_4 (__main__.TestHTMLParse) ... FAIL\n",
      "test_returns_list (__main__.TestHTMLParse) ... ok\n",
      "test_uni_leeds (__main__.TestHTMLParse) ... ok\n",
      "test_uni_london_works (__main__.TestHTMLParse) ... FAIL\n",
      "test_filter_to_one (__main__.TestListFiles) ... FAIL\n",
      "test_filter_to_one_ext (__main__.TestListFiles) ... ERROR\n",
      "test_filter_to_two (__main__.TestListFiles) ... ok\n",
      "test_get_two (__main__.TestListFiles) ... FAIL\n",
      "test_list_xists (__main__.TestListFiles) ... ok\n",
      "test_nofilenames (__main__.TestListFiles) ... ok\n",
      "test_nonexistent (__main__.TestListFiles) ... ok\n",
      "test_returns_list (__main__.TestListFiles) ... "
     ]
    },
    {
     "output_type": "stream",
     "name": "stdout",
     "text": [
      "dom is none\n",
      "dom is none\n",
      "dom is none\n",
      "dom is none\n"
     ]
    },
    {
     "output_type": "stream",
     "name": "stderr",
     "text": [
      "ok\n",
      "\n",
      "======================================================================\n",
      "ERROR: test_filter_to_one_ext (__main__.TestListFiles)\n",
      "----------------------------------------------------------------------\n",
      "Traceback (most recent call last):\n",
      "  File \"<ipython-input-23-cd9dc42593ea>\", line 32, in test_filter_to_one_ext\n",
      "    self.assertTrue(res[0].endswith(\"html\"))\n",
      "IndexError: list index out of range\n",
      "\n",
      "======================================================================\n",
      "FAIL: test_load_html_not_none (__main__.TestHTMLParse)\n",
      "----------------------------------------------------------------------\n",
      "Traceback (most recent call last):\n",
      "  File \"<ipython-input-5-48c846018d51>\", line 11, in test_load_html_not_none\n",
      "    self.assertEqual(type(res), bs4.BeautifulSoup)\n",
      "AssertionError: <class 'NoneType'> != <class 'bs4.BeautifulSoup'>\n",
      "\n",
      "======================================================================\n",
      "FAIL: test_ret_4 (__main__.TestHTMLParse)\n",
      "----------------------------------------------------------------------\n",
      "Traceback (most recent call last):\n",
      "  File \"<ipython-input-5-48c846018d51>\", line 15, in test_ret_4\n",
      "    self.assertEqual(len(res), 4)\n",
      "AssertionError: 0 != 4\n",
      "\n",
      "======================================================================\n",
      "FAIL: test_uni_london_works (__main__.TestHTMLParse)\n",
      "----------------------------------------------------------------------\n",
      "Traceback (most recent call last):\n",
      "  File \"<ipython-input-5-48c846018d51>\", line 19, in test_uni_london_works\n",
      "    self.assertGreater(len(res), 0)\n",
      "AssertionError: 0 not greater than 0\n",
      "\n",
      "======================================================================\n",
      "FAIL: test_filter_to_one (__main__.TestListFiles)\n",
      "----------------------------------------------------------------------\n",
      "Traceback (most recent call last):\n",
      "  File \"<ipython-input-23-cd9dc42593ea>\", line 27, in test_filter_to_one\n",
      "    self.assertEqual(len(res), 1)\n",
      "AssertionError: 0 != 1\n",
      "\n",
      "======================================================================\n",
      "FAIL: test_get_two (__main__.TestListFiles)\n",
      "----------------------------------------------------------------------\n",
      "Traceback (most recent call last):\n",
      "  File \"<ipython-input-23-cd9dc42593ea>\", line 19, in test_get_two\n",
      "    self.assertEqual(len(res), 3)\n",
      "AssertionError: 2 != 3\n",
      "\n",
      "----------------------------------------------------------------------\n",
      "Ran 14 tests in 0.017s\n",
      "\n",
      "FAILED (failures=5, errors=1)\n"
     ]
    },
    {
     "output_type": "execute_result",
     "data": {
      "text/plain": [
       "<unittest.main.TestProgram at 0x1814eafa1f0>"
      ]
     },
     "metadata": {},
     "execution_count": 23
    }
   ],
   "metadata": {}
  },
  {
   "cell_type": "code",
   "execution_count": 5,
   "source": [
    "class TestHTMLParse(unittest.TestCase):\r\n",
    "    def test_get_alums_exists(self):\r\n",
    "        self.assertIsNotNone(get_alum_list)\r\n",
    "    \r\n",
    "    def test_returns_list(self):\r\n",
    "        res = get_alum_list(\"something.html\")\r\n",
    "        self.assertEqual( type(res), list )\r\n",
    "    \r\n",
    "    def test_load_html_not_none(self):\r\n",
    "        res = get_bs4_obj(\"./test_html_files/uol.html\")\r\n",
    "        self.assertEqual(type(res), bs4.BeautifulSoup)\r\n",
    "    \r\n",
    "    def test_ret_4(self):\r\n",
    "        res = get_alum_list('./test_html_files/uol.html')\r\n",
    "        self.assertEqual(len(res), 4)\r\n",
    "    \r\n",
    "    def test_uni_london_works(self):\r\n",
    "        res = get_alum_list('./test_html_files/uol_real.html')\r\n",
    "        self.assertGreater(len(res), 0)\r\n",
    "    \r\n",
    "    def test_uni_leeds(self):\r\n",
    "        res = get_alum_list('./test_html_files/leeds.html')\r\n",
    "        self.assertIsNotNone(res)\r\n",
    "    \r\n",
    "    \r\n",
    "        \r\n",
    "        \r\n",
    "unittest.main(argv=['ingored', '-v'], exit=False)"
   ],
   "outputs": [
    {
     "output_type": "stream",
     "name": "stderr",
     "text": [
      "test_get_alums_exists (__main__.TestHTMLParse) ... ok\n",
      "test_load_html_not_none (__main__.TestHTMLParse) ... FAIL\n",
      "test_ret_4 (__main__.TestHTMLParse) ... FAIL\n",
      "test_returns_list (__main__.TestHTMLParse) ... ok\n",
      "test_uni_leeds (__main__.TestHTMLParse) ... ok\n",
      "test_uni_london_works (__main__.TestHTMLParse) ... FAIL\n",
      "test_filter_to_one (__main__.TestListFiles) ... ERROR\n",
      "test_filter_to_one_ext (__main__.TestListFiles) ... ERROR\n",
      "test_filter_to_two (__main__.TestListFiles) ... ERROR\n",
      "test_get_two (__main__.TestListFiles) ... ERROR\n",
      "test_list_xists (__main__.TestListFiles) ... ok\n",
      "test_nofilenames (__main__.TestListFiles) ... ok\n",
      "test_nonexistent (__main__.TestListFiles) ... ok\n",
      "test_returns_list (__main__.TestListFiles) ... ok\n",
      "\n",
      "======================================================================\n",
      "ERROR: test_filter_to_one (__main__.TestListFiles)\n",
      "----------------------------------------------------------------------\n",
      "Traceback (most recent call last):\n",
      "  File \"<ipython-input-4-051bab04a945>\", line 27, in test_filter_to_one\n",
      "    self.assertEqual(len(res), 1)\n",
      "TypeError: object of type 'NoneType' has no len()\n",
      "\n",
      "======================================================================\n",
      "ERROR: test_filter_to_one_ext (__main__.TestListFiles)\n",
      "----------------------------------------------------------------------\n",
      "Traceback (most recent call last):\n",
      "  File \"<ipython-input-4-051bab04a945>\", line 32, in test_filter_to_one_ext\n",
      "    self.assertTrue(res[0].endswith(\"html\"))\n",
      "TypeError: 'NoneType' object is not subscriptable\n",
      "\n",
      "======================================================================\n",
      "ERROR: test_filter_to_two (__main__.TestListFiles)\n",
      "----------------------------------------------------------------------\n",
      "Traceback (most recent call last):\n",
      "  File \"<ipython-input-4-051bab04a945>\", line 23, in test_filter_to_two\n",
      "    self.assertEqual(len(res), 2)\n",
      "TypeError: object of type 'NoneType' has no len()\n",
      "\n",
      "======================================================================\n",
      "ERROR: test_get_two (__main__.TestListFiles)\n",
      "----------------------------------------------------------------------\n",
      "Traceback (most recent call last):\n",
      "  File \"<ipython-input-4-051bab04a945>\", line 19, in test_get_two\n",
      "    self.assertEqual(len(res), 3)\n",
      "TypeError: object of type 'NoneType' has no len()\n",
      "\n",
      "======================================================================\n",
      "FAIL: test_load_html_not_none (__main__.TestHTMLParse)\n",
      "----------------------------------------------------------------------\n",
      "Traceback (most recent call last):\n",
      "  File \"<ipython-input-5-48c846018d51>\", line 11, in test_load_html_not_none\n",
      "    self.assertEqual(type(res), bs4.BeautifulSoup)\n",
      "AssertionError: <class 'NoneType'> != <class 'bs4.BeautifulSoup'>\n",
      "\n",
      "======================================================================\n",
      "FAIL: test_ret_4 (__main__.TestHTMLParse)\n",
      "----------------------------------------------------------------------\n",
      "Traceback (most recent call last):\n",
      "  File \"<ipython-input-5-48c846018d51>\", line 15, in test_ret_4\n",
      "    self.assertEqual(len(res), 4)\n",
      "AssertionError: 0 != 4\n",
      "\n",
      "======================================================================\n",
      "FAIL: test_uni_london_works (__main__.TestHTMLParse)\n",
      "----------------------------------------------------------------------\n",
      "Traceback (most recent call last):\n",
      "  File \"<ipython-input-5-48c846018d51>\", line 19, in test_uni_london_works\n",
      "    self.assertGreater(len(res), 0)\n",
      "AssertionError: 0 not greater than 0\n",
      "\n",
      "----------------------------------------------------------------------\n",
      "Ran 14 tests in 0.016s\n",
      "\n",
      "FAILED (failures=3, errors=4)\n"
     ]
    },
    {
     "output_type": "execute_result",
     "data": {
      "text/plain": [
       "<unittest.main.TestProgram at 0x1814d7d2b50>"
      ]
     },
     "metadata": {},
     "execution_count": 5
    }
   ],
   "metadata": {}
  },
  {
   "cell_type": "markdown",
   "source": [
    "# Data analysis"
   ],
   "metadata": {}
  },
  {
   "cell_type": "code",
   "execution_count": 6,
   "source": [
    "dirname = \"../../Data/wikipedia-university-pages/\"\r\n",
    "files = get_files_in_dir(dirname)\r\n",
    "print(\"Found \", len(files))\r\n",
    "\r\n",
    "for f in files:\r\n",
    "    alums = get_alum_list(dirname + f)\r\n",
    "    if len(alums) > 0:\r\n",
    "        print(\"Found \", len(alums), \"in\",  f)\r\n",
    "        \r\n"
   ],
   "outputs": [
    {
     "output_type": "error",
     "ename": "TypeError",
     "evalue": "object of type 'NoneType' has no len()",
     "traceback": [
      "\u001b[1;31m---------------------------------------------------------------------------\u001b[0m",
      "\u001b[1;31mTypeError\u001b[0m                                 Traceback (most recent call last)",
      "\u001b[1;32m<ipython-input-6-5e943a408352>\u001b[0m in \u001b[0;36m<module>\u001b[1;34m\u001b[0m\n\u001b[0;32m      1\u001b[0m \u001b[0mdirname\u001b[0m \u001b[1;33m=\u001b[0m \u001b[1;34m\"../../Data/wikipedia-university-pages/\"\u001b[0m\u001b[1;33m\u001b[0m\u001b[1;33m\u001b[0m\u001b[0m\n\u001b[0;32m      2\u001b[0m \u001b[0mfiles\u001b[0m \u001b[1;33m=\u001b[0m \u001b[0mget_files_in_dir\u001b[0m\u001b[1;33m(\u001b[0m\u001b[0mdirname\u001b[0m\u001b[1;33m)\u001b[0m\u001b[1;33m\u001b[0m\u001b[1;33m\u001b[0m\u001b[0m\n\u001b[1;32m----> 3\u001b[1;33m \u001b[0mprint\u001b[0m\u001b[1;33m(\u001b[0m\u001b[1;34m\"Found \"\u001b[0m\u001b[1;33m,\u001b[0m \u001b[0mlen\u001b[0m\u001b[1;33m(\u001b[0m\u001b[0mfiles\u001b[0m\u001b[1;33m)\u001b[0m\u001b[1;33m)\u001b[0m\u001b[1;33m\u001b[0m\u001b[1;33m\u001b[0m\u001b[0m\n\u001b[0m\u001b[0;32m      4\u001b[0m \u001b[1;33m\u001b[0m\u001b[0m\n\u001b[0;32m      5\u001b[0m \u001b[1;32mfor\u001b[0m \u001b[0mf\u001b[0m \u001b[1;32min\u001b[0m \u001b[0mfiles\u001b[0m\u001b[1;33m:\u001b[0m\u001b[1;33m\u001b[0m\u001b[1;33m\u001b[0m\u001b[0m\n",
      "\u001b[1;31mTypeError\u001b[0m: object of type 'NoneType' has no len()"
     ]
    }
   ],
   "metadata": {}
  }
 ],
 "metadata": {
  "kernelspec": {
   "name": "python3",
   "display_name": "Python 3.9.1 64-bit"
  },
  "language_info": {
   "codemirror_mode": {
    "name": "ipython",
    "version": 3
   },
   "file_extension": ".py",
   "mimetype": "text/x-python",
   "name": "python",
   "nbconvert_exporter": "python",
   "pygments_lexer": "ipython3",
   "version": "3.9.1"
  },
  "interpreter": {
   "hash": "ac59ebe37160ed0dfa835113d9b8498d9f09ceb179beaac4002f036b9467c963"
  }
 },
 "nbformat": 4,
 "nbformat_minor": 5
}