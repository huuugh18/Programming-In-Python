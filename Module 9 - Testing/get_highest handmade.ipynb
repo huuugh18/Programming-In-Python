{
 "cells": [
  {
   "cell_type": "code",
   "execution_count": 1,
   "source": [
    "def get_highest(input):\r\n",
    "    \r\n",
    "    for i in input:\r\n",
    "        if type(i) != int and type(i) != float:\r\n",
    "            return None\r\n",
    "    \r\n",
    "    max_val = input[0]\r\n",
    "    \r\n",
    "    for i in range(1, len(input)):\r\n",
    "        if input[i] > max_val:\r\n",
    "            max_val = input[i]\r\n",
    "            \r\n",
    "    return max_val\r\n",
    "\r\n",
    "\r\n",
    "def test_exists():\r\n",
    "    res = get_highest([1,2,3,4])\r\n",
    "    return 1\r\n",
    "\r\n",
    "def test_return():\r\n",
    "    res = get_highest([1,2,3,4])\r\n",
    "    if res == None:\r\n",
    "        return 0\r\n",
    "    else:\r\n",
    "        return 1\r\n",
    "    \r\n",
    "def test_four():\r\n",
    "    res = get_highest([1,2,3,4])\r\n",
    "    if res == 4:\r\n",
    "        return 1\r\n",
    "    else:\r\n",
    "        return 0\r\n",
    "    \r\n",
    "def test_five():\r\n",
    "    res = get_highest([1,2,3,5])\r\n",
    "    if res == 5:\r\n",
    "        return 1\r\n",
    "    else:\r\n",
    "        return 0\r\n",
    "\r\n",
    "def test_five_mid():\r\n",
    "    res = get_highest([1,5,3,4])\r\n",
    "    if res == 5:\r\n",
    "        return 1\r\n",
    "    else:\r\n",
    "        return 0\r\n",
    "\r\n",
    "def test_str():\r\n",
    "    res = get_highest([1,\"what?\",3,\"hello\"])\r\n",
    "    if res == None:\r\n",
    "        return 1\r\n",
    "    else:\r\n",
    "        return 0\r\n",
    "    \r\n",
    "tests_passed = 0\r\n",
    "tests_set = 6\r\n",
    "    \r\n",
    "tests_passed = tests_passed + test_exists()\r\n",
    "tests_passed = tests_passed + test_return()\r\n",
    "tests_passed = tests_passed + test_four()\r\n",
    "tests_passed = tests_passed + test_five()\r\n",
    "tests_passed = tests_passed + test_five_mid()\r\n",
    "tests_passed = tests_passed + test_str()\r\n",
    "\r\n",
    "\r\n",
    "print(\"tests: \", tests_set, \"passed: \", tests_passed)\r\n",
    "\r\n",
    "\r\n",
    "\r\n"
   ],
   "outputs": [
    {
     "output_type": "stream",
     "name": "stdout",
     "text": [
      "tests:  6 passed:  6\n"
     ]
    }
   ],
   "metadata": {}
  },
  {
   "cell_type": "code",
   "execution_count": 7,
   "source": [
    "import unittest\r\n",
    "class TestStringMethods(unittest.TestCase):\r\n",
    "   \r\n",
    "    def test_upper(self):\r\n",
    "        self.assertEqual('foo'.upper(), 'FOO')\r\n",
    "\r\n",
    "    def test_isupper(self):\r\n",
    "        self.assertTrue('FOO'.isupper())\r\n",
    "        self.assertFalse('Foo'.isupper())\r\n",
    "\r\n",
    "    def test_split(self):\r\n",
    "        s = 'hello world'\r\n",
    "        self.assertEqual(s.split(), ['hello', 'world'])\r\n",
    "        # check that s.split fails when the separator is not a string\r\n",
    "        with self.assertRaises(TypeError):\r\n",
    "            s.split(2)\r\n",
    "\r\n",
    "#because in a notebook have to add the argv and ext params - in reg python wouldn't need args\r\n",
    "if __name__ == '__main__':\r\n",
    "   unittest.main(argv=['ignored', '-v'], exit=False)"
   ],
   "outputs": [
    {
     "output_type": "stream",
     "name": "stderr",
     "text": [
      "test_2_plus_2_is_4 (__main__.MyTestSet) ... ok\n",
      "test_isupper (__main__.TestStringMethods) ... ok\n",
      "test_split (__main__.TestStringMethods) ... ok\n",
      "test_upper (__main__.TestStringMethods) ... ok\n",
      "\n",
      "----------------------------------------------------------------------\n",
      "Ran 4 tests in 0.004s\n",
      "\n",
      "OK\n"
     ]
    }
   ],
   "metadata": {}
  },
  {
   "cell_type": "code",
   "execution_count": null,
   "source": [],
   "outputs": [],
   "metadata": {}
  }
 ],
 "metadata": {
  "kernelspec": {
   "name": "python3",
   "display_name": "Python 3.9.1 64-bit"
  },
  "language_info": {
   "codemirror_mode": {
    "name": "ipython",
    "version": 3
   },
   "file_extension": ".py",
   "mimetype": "text/x-python",
   "name": "python",
   "nbconvert_exporter": "python",
   "pygments_lexer": "ipython3",
   "version": "3.9.1"
  },
  "interpreter": {
   "hash": "ac59ebe37160ed0dfa835113d9b8498d9f09ceb179beaac4002f036b9467c963"
  }
 },
 "nbformat": 4,
 "nbformat_minor": 5
}