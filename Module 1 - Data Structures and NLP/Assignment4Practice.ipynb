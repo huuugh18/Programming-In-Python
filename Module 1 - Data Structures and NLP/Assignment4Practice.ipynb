{
 "cells": [
  {
   "cell_type": "code",
   "execution_count": 82,
   "metadata": {},
   "outputs": [
    {
     "name": "stdout",
     "output_type": "stream",
     "text": [
      "[[ 0.         77.08436936 16.1245155  58.83026432]\n",
      " [77.08436936  0.         84.82924024 36.53765181]\n",
      " [16.1245155  84.82924024  0.         67.04476117]\n",
      " [58.83026432 36.53765181 67.04476117  0.        ]]\n",
      "           0          1          2          3\n",
      "0   0.000000  77.084369  16.124515  58.830264\n",
      "1  77.084369   0.000000  84.829240  36.537652\n",
      "2  16.124515  84.829240   0.000000  67.044761\n",
      "3  58.830264  36.537652  67.044761   0.000000\n"
     ]
    },
    {
     "name": "stderr",
     "output_type": "stream",
     "text": [
      "C:\\Users\\hugho\\anaconda3\\lib\\site-packages\\sklearn\\utils\\validation.py:67: FutureWarning: Pass input=['KARACHI  The Sindh government has decided to bring down public transport fares by   per cent due to massive reduction in petroleum product prices by the federal government  Geo News reported Sources said reduction in fares will be applicable on public transport  rickshaw  taxi and other means of traveling Meanwhile  Karachi Transport Ittehad  KTI  has refused to abide by the government decision KTI President Irshad Bukhari said the commuters are charged the lowest fares in Karachi as compare to other parts of the country  adding that   pc vehicles run on Compressed Natural Gas  CNG   Bukhari said Karachi transporters will cut fares when decrease in CNG prices will be made', 'HONG KONG  Asian markets started      on an upswing in limited trading on Friday  with mainland Chinese stocks surging in Hong Kong on speculation Beijing may ease monetary policy to boost slowing growth Hong Kong rose      percent  closing        points higher at          Seoul closed up      percent  rising       points to           while Sydney gained      percent  or       points  to close at         Singapore edged up      percent  gaining      points to          Markets in mainland China  Japan  Taiwan  New Zealand  the Philippines  and Thailand remained closed for holidays With mainland bourses shut until January    shares in Chinese developers and financial companies surged in Hong Kong  stoked by hopes that Beijing could ease monetary policy to support lagging growth in the world s second largest economy China Vanke  the country s biggest developer by sales  leapt      percent and the People s Insurance Company  Group  of China Ltd  was up      percent in afternoon trading Train builders CSR Corp  and China CNR Corp  soared    CSR by      percent and China CNR by      percent    extending gains on December    after they announced a merger agreement China s manufacturing growth dropped in December to its lowest level of       an official survey showed Thursday  as the sector struggles with weak domestic demand China s official Purchasing Managers  Index  PMI  released by the National Bureau of Statistics  NBS  came in at      last month  down from      recorded in November The index  which tracks activity in factories and workshops  is considered a key indicator of the health of China s economy  a major driver of global growth  A figure above    signals expansion  while anything below indicates contraction  Growth momentum is still insufficient   NBS said in a statement    Investors eye US factory data  On forex markets the dollar extended gains ahead of the release of American factory data due later on Friday and following a steady stream of good news from the world s biggest economy The dollar bought        yen  compared to        yen in final      trading on Wednesday Wall Street toasted a banner year in       with US equity markets finishing near all time highs The euro meanwhile slipped amid growing expectations that the European Central Bank  which meets on January     will start buying sovereign bonds  The single currency bought         compared to         in pre holiday trade The ECB has already used several tools to push inflation in member nations back up to the     percent annual rate it regards as healthy  including asset purchases and making cheap loans available to banks It is also examining the possibility of large scale purchases of sovereign debt    so called quantitative easing  QE     to help jump start the European Union s moribund economy Oil prices rose on Friday  with US benchmark West Texas Intermediate for February delivery rising    cents to        and Brent crude for February gaining    cents to         The gains in Asian trading are likely because of the positive US crude stockpiles data released on Wednesday   Daniel Ang  investment analyst at Phillip Futures in Singapore  told AFP US crude reserves fell by     million barrels in the week to December     the US Energy Information Administration said in its last petroleum report for      released on Wednesday  boosting prices that lost nearly half their value in the second half of the year There is growing speculation that the slide in global oil prices    the biggest since the financial crisis in         may have been excessive  If we do see some supply side responses  or even if they re anticipated over the course of this first quarter of the year  we might find that oil has in fact bottomed   Michael McCarthy  a chief strategist at CMC Markets in Sydney  told Bloomberg Gold was at           an ounce  compared with           in end of year trading on Wednesday In other markets    Jakarta ended up      percent  or       points  at          Coal firm Indo Tambangraya Megah gained      percent to        rupiah  while miner Aneka Tambang slipped      percent to       rupiah    Malaysia s main stock index shed      percent  or      points  to close at          Malayan Banking lost      percent to      ringgit  Public Bank slipped      percent to       while Top Globe added      percent      ringgit    Singapore rose      percent  or      points  to          Agribusiness company Wilmar International gained      percent to Sg      while real estate developer Capitaland dipped      percent to Sg         Mumbai gained      percent  or        points  to end at           Housing Development Finance Corp rose      percent to          rupees  while Mahindra   Mahindra fell      percent to          rupees   AFP', 'HONG KONG   Hong Kong shares opened      percent lower Monday following a tepid lead from Wall Street  as the first full week of the new year kicked off The benchmark Hang Seng Index dipped        points to', 'HONG KONG  Asian markets tumbled Tuesday following painful losses in New York and Europe while the euro sat near nine year lows as political uncertainty in Greece fanned renewed fears it could leave the eurozone Oil prices  which fell below the psychological     a barrel mark in US trade  edged up marginally but remained under pressure owing to a global supply glut  weak demand and a stronger dollar Tokyo tumbled      percent  Hong Kong lost      percent  Sydney eased      percent  Seoul was      percent lower while Shanghai reversed earlier losses to gain      percent The first full week of the new year got off to a traumatic start for dealers as they bet a January    general election in Greece will see a victory for the the left wing Syriza party Markets fear the party will roll back austerity measures required under the IMF EU bailout of the country  which could in turn lead it to exit the eurozone The year is  barely three trading days old and already the two biggest themes that were predicted to affect the markets this year are making headlines  oversupply of commodities and the eurozone   Evan Lucas  a markets strategist in Melbourne at IG Ltd   wrote in an email to clients  according to Bloomberg News At the weekend  Der Spiegel quoted German government sources as saying they consider Greece s exit  almost inevitable  if Syriza wins the snap poll Chancellor Angela Merkel and finance minister Wolfgang Schaeuble had come to consider Athens  removal from the bloc would be  manageable   the magazine said However  investors were spooked and on Monday Greek stocks sank more than   percent  while the Paris  Madrid and Milan exchanges fell more than   percent   Oil below     a barrel  The Dow dived      percent  the S P     fell      percent and the Nasdaq lost      percent In currency trade the euro sank to         Monday  its lowest level since March       On Tuesday morning the single currency recovered slightly buying         The euro was meanwhile at        yen against        yen in US trade and well down from the        yen Friday Adding to downward pressure is increased speculation that the European Central Bank will buy eurozone government bonds to counter deflation risks The dollar was at        yen early Tuesday  compared with        in New York Monday and also well down from        yen Friday Oil prices were marginally up Tuesday after slipping below     for the first time in more than five years in New York US benchmark West Texas Intermediate for February delivery rose eight cents to        while Brent crude for February gained    cents to         WTI tapped        Monday The cost of crude has plunged since June as supplies outstrip demand with key consumer China slowing down  the eurozone struggling and the dollar  in which it is priced  strengthening A decision late last year by the Organization of the Petroleum Exporting Countries  OPEC  to maintain output despite the glut has also cut into prices  The fundamentals of oil are unlikely to change in the first half of this year  which will see oil bedding down into its bear market for months to come   IG s Lucas said Gold was at              an ounce  compared with           on Monday   AFP'] as keyword args. From version 0.25 passing these as positional arguments will result in an error\n",
      "  warnings.warn(\"Pass {} as keyword args. From version 0.25 \"\n",
      "C:\\Users\\hugho\\anaconda3\\lib\\site-packages\\sklearn\\feature_extraction\\text.py:383: UserWarning: Your stop_words may be inconsistent with your preprocessing. Tokenizing the stop words generated tokens ['abov', 'afterward', 'alon', 'alreadi', 'alway', 'ani', 'anoth', 'anyon', 'anyth', 'anywher', 'becam', 'becaus', 'becom', 'befor', 'besid', 'cri', 'describ', 'dure', 'els', 'elsewher', 'empti', 'everi', 'everyon', 'everyth', 'everywher', 'fifti', 'formerli', 'forti', 'ha', 'henc', 'hereaft', 'herebi', 'hi', 'howev', 'hundr', 'inde', 'latterli', 'mani', 'meanwhil', 'moreov', 'mostli', 'nobodi', 'noon', 'noth', 'nowher', 'onc', 'onli', 'otherwis', 'ourselv', 'perhap', 'pleas', 'seriou', 'sever', 'sinc', 'sincer', 'sixti', 'someon', 'someth', 'sometim', 'somewher', 'themselv', 'thenc', 'thereaft', 'therebi', 'therefor', 'thi', 'thu', 'togeth', 'twelv', 'twenti', 'veri', 'wa', 'whatev', 'whenc', 'whenev', 'wherea', 'whereaft', 'wherebi', 'wherev', 'whi', 'yourselv'] not in stop_words.\n",
      "  warnings.warn('Your stop_words may be inconsistent with '\n"
     ]
    }
   ],
   "source": [
    "from sklearn.feature_extraction.text import CountVectorizer\n",
    "from scipy.spatial import distance_matrix\n",
    "from scipy.spatial.distance import pdist, squareform\n",
    "\n",
    "from sklearn import metrics\n",
    "from sklearn.metrics import jaccard_score\n",
    "\n",
    "\n",
    "import nltk\n",
    "from nltk.corpus import webtext\n",
    "from nltk.probability import FreqDist\n",
    "from nltk import sent_tokenize, word_tokenize\n",
    "from nltk.stem import PorterStemmer\n",
    "\n",
    "import matplotlib.pyplot as plt\n",
    "\n",
    "import re\n",
    "import numpy as np\n",
    "import pandas as pd\n",
    "\n",
    "corpus = []\n",
    "\n",
    "data = pd.read_csv(\"Data/Articles_short2.csv\", encoding='mbcs')\n",
    "\n",
    "def scrub_words(text):\n",
    "    \"\"\"Basic cleaning of texts.\"\"\"\n",
    "    \n",
    "    # remove html markup\n",
    "    text=re.sub(\"(<.*?>)\",\"\",text)\n",
    "    \n",
    "    #remove non-ascii and digits\n",
    "    text=re.sub(\"(\\\\W|\\\\d)\",\" \",text)\n",
    "    \n",
    "    #remove whitespace\n",
    "    text=text.strip()\n",
    "    return text\n",
    "\n",
    "\n",
    "corpus = []\n",
    "\n",
    "df = pd.DataFrame(data)\n",
    "for i in range(4):\n",
    "    corpus.append(scrub_words(df.iloc[i,0]))\n",
    "\n",
    "porter_stemmer=PorterStemmer()\n",
    "\n",
    "\n",
    "def my_preprocessor(text):\n",
    "    \n",
    "    text=text.lower() #lowercase text (done be default if don't use a custom preprocessor)\n",
    "    text=re.sub(\"\\\\W\",\" \",text) # remove special chars\n",
    "    text=re.sub(\"\\\\s+(in|the|all|for|and|on)\\\\s+\",\" _connector_ \",text) # normalize certain words\n",
    "    \n",
    "    # stem words\n",
    "    words=re.split(\"\\\\s+\",text)\n",
    "    stemmed_words=[porter_stemmer.stem(word=word) for word in words]\n",
    "    return ' '.join(stemmed_words)\n",
    "\n",
    "# GENERATE WORD COUNTS FROM ARTICLES\n",
    "cv = CountVectorizer(corpus, preprocessor=my_preprocessor, stop_words='english')\n",
    "count_vector=cv.fit_transform(corpus).todense()\n",
    "\n",
    "count_vector.shape\n",
    "\n",
    "# USING SCIPY DISTANCE_MATRIX\n",
    "\n",
    "dm = distance_matrix(count_vector,count_vector)\n",
    "\n",
    "print(dm)\n",
    "\n",
    "#\n",
    "\n",
    "euclid_distance = pd.DataFrame(squareform(pdist(count_vector)), index = range(len(corpus)), columns = range(len(corpus)))\n",
    "\n",
    "print(euclid_distance)\n",
    "\n",
    "\n"
   ]
  },
  {
   "cell_type": "markdown",
   "metadata": {},
   "source": [
    "get articles\n",
    "tokenize articles\n",
    "lem - remove punc - etc\n",
    "turn into frequency - like in assignment 3\n",
    "use tfid vectorizer\n",
    "get tf-idf matrix\n",
    "get pairwise euclidian distance matrix\n",
    "get pairwise cos similarity matrix\n",
    "\n"
   ]
  },
  {
   "cell_type": "code",
   "execution_count": 30,
   "metadata": {},
   "outputs": [],
   "source": [
    "corpus = []\n",
    "df = pd.DataFrame(data)\n",
    "\n"
   ]
  }
 ],
 "metadata": {
  "kernelspec": {
   "display_name": "Python 3",
   "language": "python",
   "name": "python3"
  },
  "language_info": {
   "codemirror_mode": {
    "name": "ipython",
    "version": 3
   },
   "file_extension": ".py",
   "mimetype": "text/x-python",
   "name": "python",
   "nbconvert_exporter": "python",
   "pygments_lexer": "ipython3",
   "version": "3.8.5"
  }
 },
 "nbformat": 4,
 "nbformat_minor": 4
}
