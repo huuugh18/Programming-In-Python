{
 "cells": [
  {
   "cell_type": "code",
   "execution_count": 11,
   "metadata": {},
   "outputs": [
    {
     "name": "stdout",
     "output_type": "stream",
     "text": [
      "DISTANCE MATRIX: [[ 0.         83.80334122 17.54992877]\n",
      " [83.80334122  0.         92.04890005]\n",
      " [17.54992877 92.04890005  0.        ]]\n"
     ]
    }
   ],
   "source": [
    "from sklearn.feature_extraction.text import CountVectorizer\n",
    "from scipy.spatial import distance_matrix\n",
    "from sklearn import metrics\n",
    "\n",
    "import nltk\n",
    "from nltk.corpus import webtext\n",
    "from nltk.probability import FreqDist\n",
    "from nltk import sent_tokenize, word_tokenize\n",
    "from nltk.stem import PorterStemmer\n",
    "\n",
    "import numpy as np\n",
    "import pandas as pd\n",
    "import re\n",
    "dataset = pd.read_csv('Data/Articles.csv', encoding='mbcs')\n",
    "\n",
    "corpus = []\n",
    "\n",
    "def scrub_words(text):\n",
    "    \"\"\"Basic cleaning of texts.\"\"\"\n",
    "    \n",
    "    # remove html markup\n",
    "    text=re.sub(\"(<.*?>)\",\"\",text)\n",
    "    \n",
    "    #remove non-ascii and digits\n",
    "    text=re.sub(\"(\\\\W|\\\\d)\",\" \",text)\n",
    "    \n",
    "    #remove whitespace\n",
    "    text=text.strip()\n",
    "    return text\n",
    "\n",
    "df = pd.DataFrame(dataset)\n",
    "for i in range(len(df)):\n",
    "    if i == 3:\n",
    "        break\n",
    "    corpus.append(scrub_words(df.iloc[i,0]))\n",
    "\n",
    "def my_preprocessor(text):\n",
    "    \n",
    "    text=text.lower() #lowercase text (done be default if don't use a custom preprocessor)\n",
    "    text=re.sub(\"\\\\W\",\" \",text) # remove special chars\n",
    "    text=re.sub(\"\\\\s+(in|the|all|for|and|on)\\\\s+\",\" _connector_ \",text) # normalize certain words\n",
    "    \n",
    "    # stem words\n",
    "    words=re.split(\"\\\\s+\",text)\n",
    "    stemmed_words=[porter_stemmer.stem(word=word) for word in words]\n",
    "    return ' '.join(stemmed_words)\n",
    "    \n",
    "porter_stemmer=PorterStemmer()\n",
    "\n",
    "cv = CountVectorizer(corpus, preprocessor=my_preprocessor)\n",
    "\n",
    "feat = cv.fit_transform(corpus).todense()\n",
    "DM = distance_matrix(feat,feat)\n",
    "print('DISTANCE MATRIX:', DM)"
   ]
  }
 ],
 "metadata": {
  "kernelspec": {
   "display_name": "Python 3",
   "language": "python",
   "name": "python3"
  },
  "language_info": {
   "codemirror_mode": {
    "name": "ipython",
    "version": 3
   },
   "file_extension": ".py",
   "mimetype": "text/x-python",
   "name": "python",
   "nbconvert_exporter": "python",
   "pygments_lexer": "ipython3",
   "version": "3.8.5"
  }
 },
 "nbformat": 4,
 "nbformat_minor": 4
}