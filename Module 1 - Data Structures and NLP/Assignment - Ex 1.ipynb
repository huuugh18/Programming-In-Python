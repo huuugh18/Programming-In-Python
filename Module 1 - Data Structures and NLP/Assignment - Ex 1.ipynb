{
 "cells": [
  {
   "cell_type": "code",
   "execution_count": 10,
   "metadata": {},
   "outputs": [
    {
     "name": "stdout",
     "output_type": "stream",
     "text": [
      "['Using,', 'auction', 'cigar', 'distinctly', 'brilliant', 'estate', 'in', 'acumen', 'townhome,', 'pedigree', 'impresario', 'manor', 'wishlist', 'rich.', 'Marquis', 'five-star,', 'dignified', 'educated', 'fine', 'cocktail', 'vacation', 'regal', 'metropolitan', 'repertoire', 'impressive', 'imported', 'treasure', 'brokerage', 'using.', 'Benefactor,', 'monogram', 'blissfull', 'politically', 'wishlist', 'luxury', 'wishlist.', 'Acumen', 'lifestyle,', 'investments', 'doctoral', 'elegant', 'gentlemen', 'diamond', 'fine', 'brilliant', 'portfolio', 'luxury', 'opera', 'fashion.', 'Politically', 'status', 'guests', 'university', 'educated', 'cocktail', 'using', 'becoming', 'genuine.', 'Sport,', 'townhome', 'champagne', 'manor', 'diplomatatic', 'penthouse,', 'purebred', 'inspiring', 'lifestyle', 'townhome', 'treasure', 'sport', 'career.']\n",
      "Word Length:  71\n"
     ]
    }
   ],
   "source": [
    "with open(\"Data/progEx1Data.txt\") as f:\n",
    "    tokenisedText = f.read().split(' ')\n",
    "    print(tokenisedText)\n",
    "    print(\"Word Length: \", len(tokenisedText))\n",
    "    "
   ]
  }
 ],
 "metadata": {
  "kernelspec": {
   "display_name": "Python 3",
   "language": "python",
   "name": "python3"
  },
  "language_info": {
   "codemirror_mode": {
    "name": "ipython",
    "version": 3
   },
   "file_extension": ".py",
   "mimetype": "text/x-python",
   "name": "python",
   "nbconvert_exporter": "python",
   "pygments_lexer": "ipython3",
   "version": "3.8.5"
  }
 },
 "nbformat": 4,
 "nbformat_minor": 4
}
