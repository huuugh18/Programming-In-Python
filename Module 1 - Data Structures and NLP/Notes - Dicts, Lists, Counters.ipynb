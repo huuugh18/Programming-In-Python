{
 "cells": [
  {
   "cell_type": "code",
   "execution_count": 12,
   "metadata": {},
   "outputs": [],
   "source": [
    "f = open(\"data/loremipsum.txt\", \"r\")\n",
    "data = f.read()\n",
    "f.close()\n",
    "words = data.split(\" \")\n",
    "words\n",
    "\n",
    "counter ={}\n",
    "for i in words:\n",
    "    if i in counter:\n",
    "        counter[i] += 1\n",
    "    else:\n",
    "        counter[i] = 1\n",
    "# counter"
   ]
  },
  {
   "cell_type": "markdown",
   "metadata": {},
   "source": [
    "\"r\" read flag - read file\n",
    "\"a\" append flag - add data to the end of the existing file\n",
    "\"w\" write flag - either manipulate existing data OR if file doesn't yet exist create file to manipulate\n",
    "\"x\" - create a new file - if already exists throws error\n",
    "\n",
    "\"t\" - text data\n",
    "\"b\" - binary data"
   ]
  },
  {
   "cell_type": "code",
   "execution_count": 16,
   "metadata": {},
   "outputs": [
    {
     "data": {
      "text/plain": [
       "'4'"
      ]
     },
     "execution_count": 16,
     "metadata": {},
     "output_type": "execute_result"
    }
   ],
   "source": [
    "# DICTS\n",
    "mydict = {\n",
    "    \"team\": \"red\",\n",
    "    \"goals\": \"4\",\n",
    "    \"conceded\": \"2\"\n",
    "}\n",
    "\n",
    "x = mydict.get(\"goals\")\n",
    "x"
   ]
  },
  {
   "cell_type": "code",
   "execution_count": 31,
   "metadata": {},
   "outputs": [
    {
     "name": "stdout",
     "output_type": "stream",
     "text": [
      "1\n",
      "4\n",
      "(8, 9)\n",
      "(3, 5)\n",
      "1 3 5\n"
     ]
    },
    {
     "data": {
      "text/plain": [
       "1"
      ]
     },
     "execution_count": 31,
     "metadata": {},
     "output_type": "execute_result"
    }
   ],
   "source": [
    "# TUPLE\n",
    "tup = 1,3,5\n",
    "print(tup[0])\n",
    "\n",
    "#nested tuple\n",
    "n_tup = (1,3,4),(4,8,9)\n",
    "print(n_tup[0][2])\n",
    "print(n_tup[1][1:3])\n",
    "print(tup[1:])\n",
    "\n",
    "#get 2nd element in each nested tuple\n",
    "[x[1] for x in n_tup]\n",
    "\n",
    "#deconstruct tuple\n",
    "a,b,c = tup\n",
    "print(a,b,c)\n",
    "\n",
    "#how many times a number appears in a tuple\n",
    "tup.count(3)"
   ]
  },
  {
   "cell_type": "code",
   "execution_count": 46,
   "metadata": {},
   "outputs": [
    {
     "data": {
      "text/plain": [
       "['one', 'two', 'three', 4, 5, (6, 7)]"
      ]
     },
     "execution_count": 46,
     "metadata": {},
     "output_type": "execute_result"
    }
   ],
   "source": [
    "# --- LISTS ---\n",
    "a = [1,3,2]\n",
    "\n",
    "# SORT tuple\n",
    "a.sort()\n",
    "\n",
    "# CONVERT TO LIST\n",
    "tup = ('one', 'two', 'three', 'four', 'five', 'six')\n",
    "b = list(tup)\n",
    "\n",
    "#sort by a particular key\n",
    "b.sort(key=len)\n",
    "\n",
    "b[3] = 'eight'\n",
    "\n",
    "# APPEND\n",
    "b.append('nine')\n",
    "\n",
    "# INSERT\n",
    "b.insert(2, 'ten')\n",
    "b\n",
    "\n",
    "# POP - returns popped number\n",
    "b.pop(-1)\n",
    "\n",
    "# EXTEND\n",
    "c = ['one', 'two', 'three']\n",
    "c.extend([4,5,(6,7)])\n",
    "c"
   ]
  },
  {
   "cell_type": "code",
   "execution_count": 53,
   "metadata": {},
   "outputs": [],
   "source": [
    "# --- NUMPY ARRAY ---\n",
    "\n",
    "import numpy as np\n",
    "\n",
    "\n",
    "f = open(\"data/loremipsum.txt\", \"r\")\n",
    "data = f.read()\n",
    "f.close()\n",
    "words = data.split(\" \")\n",
    "words\n",
    "\n",
    "counter ={}\n",
    "for i in words:\n",
    "    if i in counter:\n",
    "        counter[i] += 1\n",
    "    else:\n",
    "        counter[i] = 1\n",
    "\n",
    "a = np.array(list(counter))\n",
    "b = np.array(dict(counter))\n"
   ]
  },
  {
   "cell_type": "code",
   "execution_count": 55,
   "metadata": {},
   "outputs": [
    {
     "name": "stdout",
     "output_type": "stream",
     "text": [
      "1 Lorem\n",
      "1 ipsum\n",
      "1 dolor\n",
      "3 sit\n",
      "1 amet,\n",
      "1 consectetur\n",
      "1 adipiscing\n",
      "1 elit.\n",
      "1 Pellentesque\n",
      "1 elementum,\n",
      "1 sem\n",
      "2 amet\n",
      "2 convallis\n",
      "1 pretium,\n",
      "1 augue\n",
      "4 odio\n",
      "1 rhoncus\n",
      "2 libero,\n",
      "3 eu\n",
      "2 consequat\n",
      "2 mi\n",
      "2 quam\n",
      "2 in\n",
      "2 diam.\n",
      "1 Sed\n",
      "1 vel\n",
      "1 Quisque\n",
      "2 tempus\n",
      "2 nec\n",
      "1 imperdiet.\n",
      "1 Suspendisse\n",
      "2 eget\n",
      "2 nisl\n",
      "1 hendrerit.\n",
      "1 Proin\n",
      "2 volutpat\n",
      "4 ornare\n",
      "1 nibh,\n",
      "2 dignissim\n",
      "1 imperdiet\n",
      "1 ut.\n",
      "1 Curabitur\n",
      "1 tortor\n",
      "1 urna,\n",
      "1 eget,\n",
      "1 egestas\n",
      "1 nisi.\n",
      "2 Mauris\n",
      "2 non\n",
      "1 dapibus\n",
      "1 nulla,\n",
      "1 suscipit\n",
      "1 aliquam\n",
      "1 ante.\n",
      "1 Vivamus\n",
      "2 lobortis\n",
      "1 vehicula\n",
      "1 lectus,\n",
      "1 tellus\n",
      "1 at.\n",
      "1 Vestibulum\n",
      "1 gravida\n",
      "1 justo,\n",
      "2 sed\n",
      "1 elit\n",
      "1 placerat\n",
      "1 id.\n",
      "1 Nunc\n",
      "1 id\n",
      "1 libero\n",
      "1 ut\n",
      "2 nulla\n",
      "3 quis\n",
      "1 ac\n",
      "1 dolor.\n",
      "2 Cras\n",
      "1 euismod\n",
      "1 metus.\n",
      "1 pulvinar\n",
      "1 mattis\n",
      "1 scelerisque\n",
      "1 ante\n",
      "1 feugiat\n",
      "1 eu.\n",
      "1 Aenean\n",
      "1 tincidunt\n",
      "1 justo\n",
      "1 ullamcorper\n",
      "1 venenatis.\n",
      "1 Nulla\n",
      "2 tristique\n",
      "1 purus.\n",
      "1 porta.\n",
      "1 Fusce\n",
      "1 iaculis\n",
      "1 facilisis\n",
      "1 molestie.\n"
     ]
    }
   ],
   "source": [
    "import nltk\n",
    "\n",
    "# text = a\n",
    "text = counter\n",
    "freq = nltk.FreqDist(text)\n",
    "\n",
    "for key, val in freq.items():\n",
    "    print(str(val) + \" \" + str(key))"
   ]
  },
  {
   "cell_type": "code",
   "execution_count": null,
   "metadata": {},
   "outputs": [],
   "source": []
  }
 ],
 "metadata": {
  "kernelspec": {
   "display_name": "Python 3",
   "language": "python",
   "name": "python3"
  },
  "language_info": {
   "codemirror_mode": {
    "name": "ipython",
    "version": 3
   },
   "file_extension": ".py",
   "mimetype": "text/x-python",
   "name": "python",
   "nbconvert_exporter": "python",
   "pygments_lexer": "ipython3",
   "version": "3.8.5"
  }
 },
 "nbformat": 4,
 "nbformat_minor": 4
}
