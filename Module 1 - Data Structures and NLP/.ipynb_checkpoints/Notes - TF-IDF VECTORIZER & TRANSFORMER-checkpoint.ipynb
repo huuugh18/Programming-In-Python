{
 "cells": [
  {
   "cell_type": "markdown",
   "metadata": {},
   "source": [
    "## TF-IDF Vectorizer\n",
    "[TfidVectorizer](https://scikit-learn.org/stable/modules/generated/sklearn.feature_extraction.text.TfidfVectorizer.html)\n",
    "\n",
    "Convert a collection of raw documents to a matrix of TF-IDF features.\n",
    "\n",
    "Equivalent to CountVectorizer followed by TfidfTransformer.\n"
   ]
  },
  {
   "cell_type": "code",
   "execution_count": null,
   "metadata": {},
   "outputs": [],
   "source": [
    "import pandas as pd\n",
    "from sklearn.feature_extraction.text import TfidfVectorizer\n",
    "\n",
    "def get_tf_idf(doc_path):\n",
    "    vectorizer =TfidfVectorizer(use_idf=True)\n",
    "    corpus = []\n",
    "    with open(doc_path, \"r\") as f:\n",
    "        corpus = f.readlines()\n",
    "\n",
    "    # tfidf = vectorizer.fit_transform(corpus).toarray()\n",
    "    tfidf = vectorizer.fit_transform(corpus)\n",
    "\n",
    "    #get first vector from first doc\n",
    "    first_vector_tfidf = tfidf[0]\n",
    "\n",
    "    df = pd.DataFrame(first_vector_tfidf.T.todense(), index=vectorizer.get_feature_names(), columns=[\"tfidf\"])\n",
    "    return df.sort_values(by=[\"tfidf\"],ascending=False)\n",
    "\n",
    "    \n",
    "# get_tf_idf(\"Data/oldmanandthesea.txt\")"
   ]
  }
 ],
 "metadata": {
  "kernelspec": {
   "display_name": "Python 3",
   "language": "python",
   "name": "python3"
  },
  "language_info": {
   "codemirror_mode": {
    "name": "ipython",
    "version": 3
   },
   "file_extension": ".py",
   "mimetype": "text/x-python",
   "name": "python",
   "nbconvert_exporter": "python",
   "pygments_lexer": "ipython3",
   "version": "3.8.5"
  }
 },
 "nbformat": 4,
 "nbformat_minor": 4
}
