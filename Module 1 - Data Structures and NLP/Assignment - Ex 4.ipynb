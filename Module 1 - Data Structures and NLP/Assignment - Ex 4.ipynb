{
 "cells": [
  {
   "cell_type": "markdown",
   "metadata": {},
   "source": [
    "By now you should be pretty confident dealing with different types of data. We are going to look at exploring our own data processing pipelines for dealing with some complex language.\n",
    "\n",
    "You might want to remind yourself of Pythagoras and shortest distance calculations before we get started. \n",
    "\n",
    "[pyth and short dist calcs](https://en.wikipedia.org/wiki/Euclidean_distance#:~:text=In%20mathematics%2C%20the%20Euclidean%20distance,occasionally%20called%20the%20Pythagorean%20distance.)\n",
    "\n",
    "Let's calculate this using our familiar NumPy.\n",
    "\n",
    "NumPy linalg = linear algebra\n",
    "|| norm = matrix or vector norm\n",
    "[numpy docs](https://numpy.org/doc/stable/reference/routines.linalg.html)\n",
    "\n",
    "`import numpy as np`\n",
    "\n",
    "`a = np.array((1, 2, 3)) `\n",
    "\n",
    "`b = np.array((1, 1, 2)) `\n",
    "\n",
    "`dist = np.linalg.norm(a - b) `\n",
    "\n",
    "`print(\"our euclidean distance is: \" + str(dist))`\n",
    "\n",
    "### We are cheating a bit here and not concentrating on minimising the average of the squared distances between observed and estimated values.\n",
    "\n",
    "Scikit Learn would be a more efficient way to achieve this and gives us access to more comprehensive libraries than NumPy, especially when we want to handle more complex mappings.\n",
    "\n",
    "### Scikit Learn version\n",
    "[sklearn euclidian distances](https://scikit-learn.org/stable/modules/generated/sklearn.metrics.pairwise.euclidean_distances.html)\n",
    "\n",
    "`from sklearn.metrics.pairwise import euclidean_distances`\n",
    "\n",
    "`a = [[1, 2, 3], [1, 1, 2]]`\n",
    "\n",
    "`euclidean_distances(a, a)`\n",
    "\n",
    "### Pretty straightforward, right?\n",
    "\n",
    "Now it's time to work independently to try to do some research. Create a new Jupyter Notebook on your system. Write some code which prints out the distance matrix of a news article(s) of your choosing. The following library should make this easier:\n",
    "\n",
    "[Scipy spatial distance matrix](https://docs.scipy.org/doc/scipy/reference/generated/scipy.spatial.distance_matrix.html)\n",
    "\n",
    "Python makes a lot of this work trivial – even if you are not familiar with the mechanics.\n",
    "\n",
    "If you want to really stretch yourself you might try exploring other approaches such as Jaccard similarity and Cosine similarity. If you are feeling very confident you may also want to implement TF-IDF as well!\n",
    "\n",
    "Test out the program with different sets of news articles. Can you find or create your own dataset?"
   ]
  },
  {
   "cell_type": "code",
   "execution_count": 2,
   "metadata": {},
   "outputs": [],
   "source": [
    "from sklearn.feature_extraction.text import CountVectorizer\n",
    "from scipy.spatial import distance_matrix\n",
    "from scipy.spatial.distance import pdist, squareform\n",
    "\n",
    "import nltk\n",
    "from nltk.stem import PorterStemmer\n",
    "\n",
    "import re\n",
    "import numpy as np\n",
    "import pandas as pd"
   ]
  },
  {
   "cell_type": "code",
   "execution_count": 4,
   "metadata": {
    "tags": []
   },
   "outputs": [
    {
     "output_type": "stream",
     "name": "stdout",
     "text": [
      "['KARACHI  The Sindh government has decided to bring down public transport fares by   per cent due to massive reduction in petroleum product prices by the federal government  Geo News reported Sources said reduction in fares will be applicable on public transport  rickshaw  taxi and other means of traveling Meanwhile  Karachi Transport Ittehad  KTI  has refused to abide by the government decision KTI President Irshad Bukhari said the commuters are charged the lowest fares in Karachi as compare to other parts of the country  adding that   pc vehicles run on Compressed Natural Gas  CNG   Bukhari said Karachi transporters will cut fares when decrease in CNG prices will be made', 'HONG KONG  Asian markets started      on an upswing in limited trading on Friday  with mainland Chinese stocks surging in Hong Kong on speculation Beijing may ease monetary policy to boost slowing growth Hong Kong rose      percent  closing        points higher at          Seoul closed up      percent  rising       points to           while Sydney gained      percent  or       points  to close at         Singapore edged up      percent  gaining      points to          Markets in mainland China  Japan  Taiwan  New Zealand  the Philippines  and Thailand remained closed for holidays With mainland bourses shut until January    shares in Chinese developers and financial companies surged in Hong Kong  stoked by hopes that Beijing could ease monetary policy to support lagging growth in the world s second largest economy China Vanke  the country s biggest developer by sales  leapt      percent and the People s Insurance Company  Group  of China Ltd  was up      percent in afternoon trading Train builders CSR Corp  and China CNR Corp  soared    CSR by      percent and China CNR by      percent    extending gains on December    after they announced a merger agreement China s manufacturing growth dropped in December to its lowest level of       an official survey showed Thursday  as the sector struggles with weak domestic demand China s official Purchasing Managers  Index  PMI  released by the National Bureau of Statistics  NBS  came in at      last month  down from      recorded in November The index  which tracks activity in factories and workshops  is considered a key indicator of the health of China s economy  a major driver of global growth  A figure above    signals expansion  while anything below indicates contraction  Growth momentum is still insufficient   NBS said in a statement    Investors eye US factory data  On forex markets the dollar extended gains ahead of the release of American factory data due later on Friday and following a steady stream of good news from the world s biggest economy The dollar bought        yen  compared to        yen in final      trading on Wednesday Wall Street toasted a banner year in       with US equity markets finishing near all time highs The euro meanwhile slipped amid growing expectations that the European Central Bank  which meets on January     will start buying sovereign bonds  The single currency bought         compared to         in pre holiday trade The ECB has already used several tools to push inflation in member nations back up to the     percent annual rate it regards as healthy  including asset purchases and making cheap loans available to banks It is also examining the possibility of large scale purchases of sovereign debt    so called quantitative easing  QE     to help jump start the European Union s moribund economy Oil prices rose on Friday  with US benchmark West Texas Intermediate for February delivery rising    cents to        and Brent crude for February gaining    cents to         The gains in Asian trading are likely because of the positive US crude stockpiles data released on Wednesday   Daniel Ang  investment analyst at Phillip Futures in Singapore  told AFP US crude reserves fell by     million barrels in the week to December     the US Energy Information Administration said in its last petroleum report for      released on Wednesday  boosting prices that lost nearly half their value in the second half of the year There is growing speculation that the slide in global oil prices    the biggest since the financial crisis in         may have been excessive  If we do see some supply side responses  or even if they re anticipated over the course of this first quarter of the year  we might find that oil has in fact bottomed   Michael McCarthy  a chief strategist at CMC Markets in Sydney  told Bloomberg Gold was at           an ounce  compared with           in end of year trading on Wednesday In other markets    Jakarta ended up      percent  or       points  at          Coal firm Indo Tambangraya Megah gained      percent to        rupiah  while miner Aneka Tambang slipped      percent to       rupiah    Malaysia s main stock index shed      percent  or      points  to close at          Malayan Banking lost      percent to      ringgit  Public Bank slipped      percent to       while Top Globe added      percent      ringgit    Singapore rose      percent  or      points  to          Agribusiness company Wilmar International gained      percent to Sg      while real estate developer Capitaland dipped      percent to Sg         Mumbai gained      percent  or        points  to end at           Housing Development Finance Corp rose      percent to          rupees  while Mahindra   Mahindra fell      percent to          rupees   AFP']\n"
     ]
    }
   ],
   "source": [
    "# READ IN DATA\n",
    "\n",
    "data = pd.read_csv(\"Data/Articles.csv\", encoding='mbcs', keep_default_na=False, skipinitialspace=True)\n",
    "df = pd.DataFrame(data)\n",
    "\n",
    "# CLEAN TEXT AND CREATE CORPUS LIST\n",
    "def scrub_words(text):\n",
    "    \"\"\"Basic cleaning of texts.\"\"\"\n",
    "    \n",
    "    # remove html markup\n",
    "    text=re.sub(\"(<.*?>)\",\"\",text)\n",
    "    \n",
    "    #remove non-ascii and digits\n",
    "    text=re.sub(\"(\\\\W|\\\\d)\",\" \",text)\n",
    "    \n",
    "    #remove whitespace\n",
    "    text=text.strip()\n",
    "    return text\n",
    "corpus = []\n",
    "# select first 5 articles to work with from dataset\n",
    "for i in range(10):\n",
    "    corpus.append(scrub_words(df.iloc[i,0]))\n",
    "\n",
    "# DEFINE PREPROCESSOR USING PORTER STEMMER\n",
    "porter_stemmer=PorterStemmer()\n",
    "\n",
    "\n",
    "def my_preprocessor(text):\n",
    "    text=text.lower() #lowercase text (done be default if don't use a custom preprocessor)\n",
    "    text=re.sub(\"\\\\W\",\" \",text) # remove special chars\n",
    "    text=re.sub(\"\\\\s+(in|the|all|for|and|on)\\\\s+\",\" _connector_ \",text) # normalize certain words\n",
    "    \n",
    "    # stem words\n",
    "    words=re.split(\"\\\\s+\",text)\n",
    "    stemmed_words=[porter_stemmer.stem(word=word) for word in words]\n",
    "    return ' '.join(stemmed_words)\n",
    "\n",
    "# TRANSFORM TEXT TO VECTOR DATA WITH COUNTVECTORIZER\n",
    "cv = CountVectorizer(corpus, preprocessor=my_preprocessor)\n",
    "count_vector=cv.fit_transform(corpus).todense()\n",
    "\n",
    "# GET DISTANCE MATRIX USE SCIPY DISTANCE_MATRIX FUNCTION\n",
    "dm = distance_matrix(count_vector,count_vector)\n",
    "pd.DataFrame(dm)\n",
    "\n",
    "print(corpus[:2])\n",
    "\n"
   ]
  },
  {
   "cell_type": "markdown",
   "metadata": {},
   "source": [
    "From this can see that article 0 and 8 are the closest related and 1 and 2 are the furthest from each other. However when actually looking at these articles, 1 and 2 have similar topic titles and topics so this model might need more work."
   ]
  },
  {
   "cell_type": "code",
   "execution_count": 14,
   "metadata": {},
   "outputs": [
    {
     "output_type": "stream",
     "name": "stdout",
     "text": [
      "Article 0 Heading:  sindh govt decides to cut public transport fares by 7pc kti rej /n Article 2 Heading:  sugar prices drop to rs 49.80 in sind\nArticle 0 Heading:  asia stocks up in new year trad Article 2 Heading:  hong kong stocks open 0.66 percent lower\n"
     ]
    }
   ],
   "source": [
    "print('Article 0 Heading: ', df.iloc[0,2], '/n', 'Article 2 Heading: ', df.iloc[8,2])\n",
    "print('Article 0 Heading: ', df.iloc[1,2], 'Article 2 Heading: ', df.iloc[2,2])"
   ]
  }
 ],
 "metadata": {
  "kernelspec": {
   "name": "python391jvsc74a57bd0ac59ebe37160ed0dfa835113d9b8498d9f09ceb179beaac4002f036b9467c963",
   "display_name": "Python 3.9.1 64-bit"
  },
  "language_info": {
   "codemirror_mode": {
    "name": "ipython",
    "version": 3
   },
   "file_extension": ".py",
   "mimetype": "text/x-python",
   "name": "python",
   "nbconvert_exporter": "python",
   "pygments_lexer": "ipython3",
   "version": "3.9.1"
  },
  "metadata": {
   "interpreter": {
    "hash": "ac59ebe37160ed0dfa835113d9b8498d9f09ceb179beaac4002f036b9467c963"
   }
  }
 },
 "nbformat": 4,
 "nbformat_minor": 4
}