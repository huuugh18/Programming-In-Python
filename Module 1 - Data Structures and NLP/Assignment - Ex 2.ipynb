{
 "cells": [
  {
   "cell_type": "code",
   "execution_count": 15,
   "metadata": {},
   "outputs": [
    {
     "name": "stdout",
     "output_type": "stream",
     "text": [
      "Counter({'odio': 4, 'eu': 4, 'ornare': 4, 'nulla': 4, 'sit': 3, 'amet': 3, 'libero': 3, 'sed': 3, 'eget': 3, 'quis': 3, 'dolor': 2, 'elit': 2, 'convallis': 2, 'consequat': 2, 'mi': 2, 'quam': 2, 'in': 2, 'diam': 2, 'tempus': 2, 'nec': 2, 'imperdiet': 2, 'nisl': 2, 'volutpat': 2, 'dignissim': 2, 'ut': 2, 'mauris': 2, 'non': 2, 'ante': 2, 'lobortis': 2, 'justo': 2, 'id': 2, 'cras': 2, 'tristique': 2, 'lorem': 1, 'ipsum': 1, 'consectetur': 1, 'adipiscing': 1, 'pellentesque': 1, 'elementum': 1, 'sem': 1, 'pretium': 1, 'augue': 1, 'rhoncus': 1, 'vel': 1, 'quisque': 1, 'suspendisse': 1, 'hendrerit': 1, 'proin': 1, 'nibh': 1, 'curabitur': 1, 'tortor': 1, 'urna': 1, 'egestas': 1, 'nisi': 1, 'dapibus': 1, 'suscipit': 1, 'aliquam': 1, 'vivamus': 1, 'vehicula': 1, 'lectus': 1, 'tellus': 1, 'at': 1, 'vestibulum': 1, 'gravida': 1, 'placerat': 1, 'nunc': 1, 'ac': 1, 'euismod': 1, 'metus': 1, 'pulvinar': 1, 'mattis': 1, 'scelerisque': 1, 'feugiat': 1, 'aenean': 1, 'tincidunt': 1, 'ullamcorper': 1, 'venenatis': 1, 'purus': 1, 'porta': 1, 'fusce': 1, 'iaculis': 1, 'facilisis': 1, 'molestie': 1})\n"
     ]
    }
   ],
   "source": [
    "from collections import Counter\n",
    "import re\n",
    "\n",
    "with open(\"Data/loremIpsum.txt\") as f:\n",
    "    #get text\n",
    "    data = f.read()\n",
    "    #remove punctuation and set to lowercase\n",
    "    no_punc_text = re.sub(r'[^\\w\\s]', \"\", data).lower()\n",
    "    #tokenise\n",
    "    tokenised_text = no_punc_text.split(' ')\n",
    "    #create list of unique words with 'set'\n",
    "    counter2 = Counter(tokenised_text)\n",
    "    print(counter2)"
   ]
  }
 ],
 "metadata": {
  "kernelspec": {
   "display_name": "Python 3",
   "language": "python",
   "name": "python3"
  },
  "language_info": {
   "codemirror_mode": {
    "name": "ipython",
    "version": 3
   },
   "file_extension": ".py",
   "mimetype": "text/x-python",
   "name": "python",
   "nbconvert_exporter": "python",
   "pygments_lexer": "ipython3",
   "version": "3.8.5"
  }
 },
 "nbformat": 4,
 "nbformat_minor": 4
}
