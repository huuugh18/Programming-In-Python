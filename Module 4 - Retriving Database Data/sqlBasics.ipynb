{
 "cells": [
  {
   "cell_type": "markdown",
   "metadata": {},
   "source": [
    "# Let's jump right in and start looking at some practical SQL\n",
    "\n",
    "In this exercise we are going to rely on SQLite. This is a small, fast and lightweight SQL variant. In the lecture examples we saw MySQL. All variants of SQL work in a similar way. We chose SQLite for these exercises because of the lightweight profile and the ability to work from a local instance without a complicated setup. \n",
    "\n",
    "[Find out more here](https://www.w3resource.com/sqlite/)"
   ]
  },
  {
   "cell_type": "code",
   "execution_count": 1,
   "metadata": {},
   "outputs": [],
   "source": [
    "import sqlite3 as sql\n",
    "import pandas as pd\n",
    "\n",
    "%load_ext sql"
   ]
  },
  {
   "cell_type": "markdown",
   "metadata": {},
   "source": [
    "Let's begin by creating a database. The following command will create a local instance of our database with the name dataProgramming.db. If you get an error then check:\n",
    "- That you have run the above code cell and that the libraries are installed and working on your machine.\n",
    "- That you have the correct permissions on your local machine.\n"
   ]
  },
  {
   "cell_type": "code",
   "execution_count": 2,
   "metadata": {},
   "outputs": [],
   "source": [
    "%sql sqlite:///dataProgramming.db"
   ]
  },
  {
   "cell_type": "markdown",
   "metadata": {},
   "source": [
    "## Create a table\n",
    "\n",
    "***%%sql*** let you use multiple SQL statements inside a single cell. \n",
    "\n",
    "It is now time to create one using a standard SQL command – CREATE TABLE. If the table already existed in the database, an error will pop up. In addition, we set ***PRIMARY KEY*** on USERID to prevent from inserting duplicate writers into the table."
   ]
  },
  {
   "cell_type": "code",
   "execution_count": 3,
   "metadata": {},
   "outputs": [
    {
     "output_type": "stream",
     "name": "stdout",
     "text": [
      "(sqlite3.OperationalError) table users already exists\n[SQL: CREATE TABLE users(\n    FirstName VARCHAR(30) NOT NULL,\n    LastName VARCHAR(30) NOT NULL,  \n    USERID int  NOT NULL UNIQUE, \n    PRIMARY KEY (USERID)\n);]\n(Background on this error at: http://sqlalche.me/e/14/e3q8)\n"
     ]
    }
   ],
   "source": [
    "%%sql sqlite://\n",
    "CREATE TABLE IF NOT EXISTS users(\n",
    "    FirstName VARCHAR(30) NOT NULL,\n",
    "    LastName VARCHAR(30) NOT NULL,  \n",
    "    USERID int  NOT NULL UNIQUE, \n",
    "    PRIMARY KEY (USERID)\n",
    ");"
   ]
  },
  {
   "cell_type": "markdown",
   "metadata": {},
   "source": [
    "# Playing with queries\n",
    "Let's add some users. To find out more about this command, read [here](https://www.w3schools.com/sql/sql_insert.asp) \n",
    "\n",
    "Run this code and then try to add four users of your own. What happens if you do not insert data in the NOT NULL fields?"
   ]
  },
  {
   "cell_type": "code",
   "execution_count": 6,
   "metadata": {},
   "outputs": [
    {
     "output_type": "stream",
     "name": "stdout",
     "text": [
      "1 rows affected.\n1 rows affected.\n(sqlite3.OperationalError) unrecognized token: \"#\"\n[SQL: # You will get an error if you try to run this more than once as there are UNIQUE requirements for these fields.]\n(Background on this error at: http://sqlalche.me/e/14/e3q8)\n"
     ]
    }
   ],
   "source": [
    "%%sql sqlite://\n",
    "INSERT INTO users VALUES ('Ghulam', 'Baker', 1);\n",
    "INSERT INTO users VALUES ('Savannah', 'Shelton', 2);\n",
    "# You will get an error if you try to run this more than once as there are UNIQUE requirements for these fields."
   ]
  },
  {
   "cell_type": "markdown",
   "metadata": {},
   "source": [
    "## Our first query\n",
    "\n",
    "Let's now try to get some data back. Databases are not all about inserting, in fact queries are more useful. Let's grab all of our data. We can do this by using SELECT and signifying * which is a parameter which indicates all of the columns of a table."
   ]
  },
  {
   "cell_type": "code",
   "execution_count": 7,
   "metadata": {},
   "outputs": [
    {
     "output_type": "stream",
     "name": "stdout",
     "text": [
      " * sqlite:///dataProgramming.db\nDone.\n"
     ]
    },
    {
     "output_type": "execute_result",
     "data": {
      "text/plain": [
       "[('Ghulam', 'Baker', 1), ('Savannah', 'Shelton', 2)]"
      ],
      "text/html": "<table>\n    <tr>\n        <th>FirstName</th>\n        <th>LastName</th>\n        <th>USERID</th>\n    </tr>\n    <tr>\n        <td>Ghulam</td>\n        <td>Baker</td>\n        <td>1</td>\n    </tr>\n    <tr>\n        <td>Savannah</td>\n        <td>Shelton</td>\n        <td>2</td>\n    </tr>\n</table>"
     },
     "metadata": {},
     "execution_count": 7
    }
   ],
   "source": [
    "sqlres = %sql SELECT * from users\n",
    "sqlres"
   ]
  },
  {
   "cell_type": "markdown",
   "metadata": {},
   "source": [
    "What about if we want to select just the names of people in the table? In this case we are not concerned with the USERID. Let's have a look at how we might construct such a query."
   ]
  },
  {
   "cell_type": "code",
   "execution_count": 8,
   "metadata": {},
   "outputs": [
    {
     "output_type": "stream",
     "name": "stdout",
     "text": [
      " * sqlite:///dataProgramming.db\nDone.\n"
     ]
    },
    {
     "output_type": "execute_result",
     "data": {
      "text/plain": [
       "[('Ghulam', 'Baker'), ('Savannah', 'Shelton')]"
      ],
      "text/html": "<table>\n    <tr>\n        <th>FirstName</th>\n        <th>LastName</th>\n    </tr>\n    <tr>\n        <td>Ghulam</td>\n        <td>Baker</td>\n    </tr>\n    <tr>\n        <td>Savannah</td>\n        <td>Shelton</td>\n    </tr>\n</table>"
     },
     "metadata": {},
     "execution_count": 8
    }
   ],
   "source": [
    "sqlres = %sql SELECT FirstName, LastName from users\n",
    "sqlres"
   ]
  },
  {
   "cell_type": "code",
   "execution_count": 9,
   "metadata": {},
   "outputs": [
    {
     "output_type": "stream",
     "name": "stdout",
     "text": [
      " * sqlite:///dataProgramming.db\nDone.\n"
     ]
    },
    {
     "output_type": "execute_result",
     "data": {
      "text/plain": [
       "[]"
      ],
      "text/html": "<table>\n    <tr>\n        <th>FirstName</th>\n    </tr>\n</table>"
     },
     "metadata": {},
     "execution_count": 9
    }
   ],
   "source": [
    "''' \n",
    "What about if we want to query specific things based on more complex logic? \n",
    "Look up Savannah's user ID and put it between the apostrophes in the USERID=''\n",
    "'''\n",
    "\n",
    "%sql SELECT FirstName FROM users WHERE USERID='Savannah_user_id'"
   ]
  },
  {
   "cell_type": "code",
   "execution_count": 26,
   "metadata": {},
   "outputs": [
    {
     "output_type": "stream",
     "name": "stdout",
     "text": [
      " * sqlite:///dataProgramming.db\nDone.\n('Savannah',)\n"
     ]
    }
   ],
   "source": [
    "# Try to come up with a way to list the columns of a table. There are a few ways that you can do this.\n",
    "\n",
    "\n",
    "firstNames = %sql SELECT FirstName FROM users\n",
    "print(firstNames[1])\n",
    "# lastNames = %sql SELECT LastName FROM users\n",
    "# userIds = %sql SELECT USERID FROM users\n",
    "# print(firstNames, lastNames, userIds)\n",
    "\n",
    "# result = %sql SELECT * FROM users\n",
    "# get headers\n",
    "# result.keys\n",
    "# result[0]"
   ]
  },
  {
   "cell_type": "code",
   "execution_count": 27,
   "metadata": {},
   "outputs": [
    {
     "output_type": "error",
     "ename": "SyntaxError",
     "evalue": "invalid syntax (<ipython-input-27-36b230b6cbc5>, line 1)",
     "traceback": [
      "\u001b[1;36m  File \u001b[1;32m\"<ipython-input-27-36b230b6cbc5>\"\u001b[1;36m, line \u001b[1;32m1\u001b[0m\n\u001b[1;33m    df = pd.read_sql(%sql SELECT * FROM users)\u001b[0m\n\u001b[1;37m                     ^\u001b[0m\n\u001b[1;31mSyntaxError\u001b[0m\u001b[1;31m:\u001b[0m invalid syntax\n"
     ]
    }
   ],
   "source": [
    "df = pd.read_sql(%sql SELECT * FROM users)\n",
    "df"
   ]
  },
  {
   "cell_type": "code",
   "execution_count": null,
   "metadata": {},
   "outputs": [],
   "source": [
    "# We can even do mathematical operations inline, for instance we could use the mod function (%) \n",
    "# and look for even fields (divisible by 2 where the integer remainder = 0 ie no remainder.)\n",
    "%sql SELECT USERID FROM users WHERE FirstName='Savannah' and USERID %2 = 0"
   ]
  },
  {
   "cell_type": "markdown",
   "metadata": {},
   "source": [
    "## Can we rename the table headings from the data we get back from our query? See if you can figure this out using AS\n",
    "\n",
    "[The AS command](https://www.w3schools.com/sql/sql_ref_as.asp)"
   ]
  },
  {
   "cell_type": "code",
   "execution_count": null,
   "metadata": {},
   "outputs": [],
   "source": [
    "# SELECT something AS something FROM somewhere;"
   ]
  },
  {
   "cell_type": "markdown",
   "metadata": {},
   "source": [
    "Has the AS command changed the initial data from the table? Run a query on the table to see if it has changed."
   ]
  },
  {
   "cell_type": "markdown",
   "metadata": {},
   "source": [
    "We saw the '*' parameter earlier, where we pull all of our data back. In some cases these sorts of queries can be really inefficient (and expensive!) One way that we can overcome this is by limiting the number of fields we return. If we combine this with certain types of aggregation we can formalise our queries more effectively."
   ]
  },
  {
   "cell_type": "code",
   "execution_count": null,
   "metadata": {},
   "outputs": [],
   "source": [
    "%sql SELECT * From users LIMIT 1"
   ]
  },
  {
   "cell_type": "markdown",
   "metadata": {},
   "source": [
    "Try adding an ORDER by parameter to the previous query to further refine our output.\n",
    "You can find some documentation [here](https://www.w3schools.com/sql/sql_ref_order_by.asp)\n",
    "HINT: Order first!"
   ]
  },
  {
   "cell_type": "code",
   "execution_count": null,
   "metadata": {},
   "outputs": [],
   "source": []
  },
  {
   "cell_type": "code",
   "execution_count": null,
   "metadata": {},
   "outputs": [],
   "source": [
    "# We might even want to get smallest/largest values as follows\n",
    "%sql SELECT min(USERID), max(USERID) from users"
   ]
  },
  {
   "cell_type": "markdown",
   "metadata": {},
   "source": [
    "Now see if you can stretch your legs a bit. Experiment with queries using some or all of the following operators.\n",
    "\n",
    "- 'AND' \n",
    "- 'OR'\n",
    "- 'NOT' \n",
    "- 'IN'\n",
    "- '<>' \n",
    "- '!='\n",
    "- '>=' \n",
    "- '>' \n",
    "- '<' \n",
    "- '<='\n",
    "\n",
    "Some examples of syntax for each of these parameters can be found [here](https://www.w3schools.com/sql/default.asp). The logic is somewhat similar to the logic you would use in Python."
   ]
  },
  {
   "cell_type": "code",
   "execution_count": null,
   "metadata": {},
   "outputs": [],
   "source": [
    "# how many of these can you use? Can you use all of them in a query?"
   ]
  },
  {
   "cell_type": "code",
   "execution_count": null,
   "metadata": {},
   "outputs": [],
   "source": []
  }
 ],
 "metadata": {
  "anaconda-cloud": {},
  "kernelspec": {
   "name": "python391jvsc74a57bd0ac59ebe37160ed0dfa835113d9b8498d9f09ceb179beaac4002f036b9467c963",
   "display_name": "Python 3.9.1 64-bit"
  },
  "language_info": {
   "codemirror_mode": {
    "name": "ipython",
    "version": 3
   },
   "file_extension": ".py",
   "mimetype": "text/x-python",
   "name": "python",
   "nbconvert_exporter": "python",
   "pygments_lexer": "ipython3",
   "version": "3.9.1"
  },
  "metadata": {
   "interpreter": {
    "hash": "ac59ebe37160ed0dfa835113d9b8498d9f09ceb179beaac4002f036b9467c963"
   }
  }
 },
 "nbformat": 4,
 "nbformat_minor": 2
}