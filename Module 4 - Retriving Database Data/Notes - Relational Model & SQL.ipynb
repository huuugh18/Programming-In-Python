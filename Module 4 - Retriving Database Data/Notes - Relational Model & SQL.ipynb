{
 "metadata": {
  "language_info": {
   "codemirror_mode": {
    "name": "ipython",
    "version": 3
   },
   "file_extension": ".py",
   "mimetype": "text/x-python",
   "name": "python",
   "nbconvert_exporter": "python",
   "pygments_lexer": "ipython3",
   "version": "3.9.1"
  },
  "orig_nbformat": 2,
  "kernelspec": {
   "name": "python391jvsc74a57bd0ac59ebe37160ed0dfa835113d9b8498d9f09ceb179beaac4002f036b9467c963",
   "display_name": "Python 3.9.1 64-bit"
  },
  "metadata": {
   "interpreter": {
    "hash": "ac59ebe37160ed0dfa835113d9b8498d9f09ceb179beaac4002f036b9467c963"
   }
  }
 },
 "nbformat": 4,
 "nbformat_minor": 2,
 "cells": [
  {
   "source": [
    "# Relational Model\n",
    "\n",
    "1. First Order Predicate Logic\n",
    "    - Start with subject - 'Patrick'  \n",
    "    - Predicate - 'is a student'\n",
    "    - so 'Patrick is a student'\n",
    "    - relational dbs embed similar logic when it comes to **objects and properties**\n",
    "    - can reduce a db to a set of **logical statements** about these **relationships**\n",
    "2. Set Theory\n",
    "    - has 0 or more elements\n",
    "    - set of unique objects {1,3,3,...}\n",
    "    - Objects that belong to multiple sets {123} and {234}\n",
    "    - In dbs think of **tables as sets**\n",
    "    - Think of **records** as an **object** within a set\n",
    "        - Ex. a record of a customer \n",
    "\n",
    "## Relational Model\n",
    "Data organised into tables (relations) of rows and columns\n",
    "Rows = Records || Columns = Fields\n",
    "\n",
    "### CRUD \n",
    "- Create\n",
    "- Read\n",
    "- Update\n",
    "- Delete\n",
    "\n",
    "We can take data from other tables and import them  \n",
    "Ex:\n",
    "- Have a customer table and an order table\n",
    "- import a 'customer' ID into an order table when an order is made\n",
    "- 1 customer might have 1-many  orders\n",
    "\n",
    "Large Example:  \n",
    "- Video Game\n",
    "    - Game\n",
    "    - character\n",
    "    - user account\n",
    "    - items to collect\n",
    "- implement a schema that informs these entity relationships\n",
    "- game can have many players\n",
    "- user could have multiple characters\n",
    "- characters multiple items\n",
    "- unique ids in each table\n",
    "\n"
   ],
   "cell_type": "markdown",
   "metadata": {}
  },
  {
   "source": [
    "# SQL\n",
    "\n",
    "`mysql - u [username] -p`  \n",
    "`SHOW DATABASES;`  \n",
    "`CREATE DATABASE [db name];`  \n",
    "`use [db name];`  \n",
    "\n",
    "`CREATE TABLE [tablename](`  \n",
    "    `id INT(8) UNSIGNED AUTO_INCREMENT PRIMARY KEY,`  \n",
    "    `fname VARCHAR(25) NOT NULL,`  \n",
    "    `lname VARCHAR(35) NOT NULL,`  \n",
    "    `email VARCHAR(60),`  \n",
    "    `);`\n",
    "\n",
    "`SHOW TABLES;`\n",
    "\n",
    "`SELECT * FROM [tablename]`\n",
    "\n",
    "`INSERT INTO [tablename] (    \n",
    "    (fname, lname, email) VALUES (Homer, SimpSon, homersimpson@springfield.com)  \n",
    ");`\n",
    "\n",
    "\n",
    "Delete table  \n",
    "`DROP TABLE [tablename]`\n",
    "\n",
    "Delete Database   \n",
    "`DROP DATABASE [dbname]`\n"
   ],
   "cell_type": "markdown",
   "metadata": {}
  },
  {
   "source": [
    "## 4 - Connecting Python to SQL\n",
    "### Database connection code and error handling\n",
    "\n",
    "``` import mysql.connector\n",
    "\n",
    "config = {\n",
    "    'user'  : 'username',\n",
    "    'password': 'password',\n",
    "    'host': 'igor.gold.ac.uk',\n",
    "    'database': 'smcgr004_myDB',\n",
    "    'port': ' 3307'\n",
    "}\n",
    "\n",
    "def connect(config):\n",
    "    try:\n",
    "        cnx = mysql.connector.connect(**config)\n",
    "        print('Connected to {} database as {}'.format(config['database'],config['user']))\n",
    "        return cnx\n",
    "    \n",
    "    except mysql.connector.Error as err:\n",
    "        if err.errno == errrorcode.ER_ACCESS_DENIED_ERROR:\n",
    "            print(\"Something is wrong with username or password\")\n",
    "        elif err.erno == errorcode.ER_BAD_DB_ERROR:\n",
    "            print(\"something wrong with database setup\")\n",
    "        else:\n",
    "            print(err)\n",
    "    \n",
    "    else:\n",
    "        cnx.close()\n",
    "\n",
    "cnx = connect(config) \n",
    "```\n"
   ],
   "cell_type": "markdown",
   "metadata": {}
  },
  {
   "source": [
    "## 5 - Running simple Queries in Python\n",
    "\n"
   ],
   "cell_type": "markdown",
   "metadata": {}
  },
  {
   "cell_type": "code",
   "execution_count": null,
   "metadata": {},
   "outputs": [],
   "source": [
    "if cnx:\n",
    "    cursor = cnx.cursor()\n",
    "    print(\"\\nQuerying Database...\")\n",
    "\n",
    "    query = (\"SELECT email AS email from users WHERE fname='Sean'\")\n",
    "    cursor.execute(query)\n",
    "\n",
    "    for (email) in cursor: \n",
    "        print(\"{}\".format(email))"
   ]
  },
  {
   "source": [
    "## 6 - SQL and Connectivity"
   ],
   "cell_type": "markdown",
   "metadata": {}
  },
  {
   "cell_type": "code",
   "execution_count": null,
   "metadata": {},
   "outputs": [],
   "source": [
    "sql = (\"INSERT INTO USERS\"\n",
    "        \"(fname, sname )\"\n",
    "        \"VALUES (%s, %s)\"\n",
    "    )\n",
    "\n",
    "data = (\"Mia\", \"Langford\")\n",
    "\n",
    "cursor.execute(sql,data)\n",
    "last_id = cursor.lastrowid\n",
    "print(last_id)\n",
    "\n",
    "cnx.commit()"
   ]
  }
 ]
}