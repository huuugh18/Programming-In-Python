{
 "metadata": {
  "language_info": {
   "codemirror_mode": {
    "name": "ipython",
    "version": 3
   },
   "file_extension": ".py",
   "mimetype": "text/x-python",
   "name": "python",
   "nbconvert_exporter": "python",
   "pygments_lexer": "ipython3",
   "version": "3.9.1"
  },
  "orig_nbformat": 2,
  "kernelspec": {
   "name": "python391jvsc74a57bd0ac59ebe37160ed0dfa835113d9b8498d9f09ceb179beaac4002f036b9467c963",
   "display_name": "Python 3.9.1 64-bit"
  },
  "metadata": {
   "interpreter": {
    "hash": "ac59ebe37160ed0dfa835113d9b8498d9f09ceb179beaac4002f036b9467c963"
   }
  }
 },
 "nbformat": 4,
 "nbformat_minor": 2,
 "cells": [
  {
   "source": [
    "## [5 min youtube tutorial]('https://www.youtube.com/watch?v=girsuXz0yA8')\n"
   ],
   "cell_type": "markdown",
   "metadata": {}
  },
  {
   "cell_type": "code",
   "execution_count": 3,
   "metadata": {},
   "outputs": [
    {
     "output_type": "error",
     "ename": "OperationalError",
     "evalue": "database is locked",
     "traceback": [
      "\u001b[1;31m---------------------------------------------------------------------------\u001b[0m",
      "\u001b[1;31mOperationalError\u001b[0m                          Traceback (most recent call last)",
      "\u001b[1;32m<ipython-input-3-17c519b1b389>\u001b[0m in \u001b[0;36m<module>\u001b[1;34m\u001b[0m\n\u001b[0;32m     19\u001b[0m \u001b[1;33m\u001b[0m\u001b[0m\n\u001b[0;32m     20\u001b[0m \u001b[1;31m# add to stores\u001b[0m\u001b[1;33m\u001b[0m\u001b[1;33m\u001b[0m\u001b[1;33m\u001b[0m\u001b[0m\n\u001b[1;32m---> 21\u001b[1;33m \u001b[0mcursor\u001b[0m\u001b[1;33m.\u001b[0m\u001b[0mexecute\u001b[0m\u001b[1;33m(\u001b[0m\u001b[1;34m'INSERT INTO STORES VALUES(21, \"Minneapolis, MN\")'\u001b[0m\u001b[1;33m)\u001b[0m\u001b[1;33m\u001b[0m\u001b[1;33m\u001b[0m\u001b[0m\n\u001b[0m\u001b[0;32m     22\u001b[0m \u001b[0mcursor\u001b[0m\u001b[1;33m.\u001b[0m\u001b[0mexecute\u001b[0m\u001b[1;33m(\u001b[0m\u001b[1;34m'INSERT INTO STORES VALUES(84, \"Chicago, IL\")'\u001b[0m\u001b[1;33m)\u001b[0m\u001b[1;33m\u001b[0m\u001b[1;33m\u001b[0m\u001b[0m\n\u001b[0;32m     23\u001b[0m \u001b[0mcursor\u001b[0m\u001b[1;33m.\u001b[0m\u001b[0mexecute\u001b[0m\u001b[1;33m(\u001b[0m\u001b[1;34m'INSERT INTO STORES VALUES(57, \"Iowa City, IA\")'\u001b[0m\u001b[1;33m)\u001b[0m\u001b[1;33m\u001b[0m\u001b[1;33m\u001b[0m\u001b[0m\n",
      "\u001b[1;31mOperationalError\u001b[0m: database is locked"
     ]
    }
   ],
   "source": [
    "import sqlite3\n",
    "\n",
    "# define connection and cursor\n",
    "connection = sqlite3.connect('store_transactions.db')\n",
    "\n",
    "cursor = connection.cursor()\n",
    "\n",
    "# create stores table\n",
    "\n",
    "command1 = '''CREATE TABLE IF NOT EXISTS stores(store_id INTEGER PRIMARY KEY, location TEXT)'''\n",
    "\n",
    "cursor.execute(command1)\n",
    "\n",
    "command2 = '''CREATE TABLE IF NOT EXISTS\n",
    "purchases(purchase_id INTEGER PRIMARY KEY, store_id INTEGER, total_cost FLOAT, \n",
    "FOREIGN KEY(store_id) REFERENCES stores(store_id))'''\n",
    "\n",
    "cursor.execute(command2)\n",
    "\n",
    "# add to stores\n",
    "cursor.execute('INSERT INTO STORES VALUES(21, \"Minneapolis, MN\")')\n",
    "cursor.execute('INSERT INTO STORES VALUES(84, \"Chicago, IL\")')\n",
    "cursor.execute('INSERT INTO STORES VALUES(57, \"Iowa City, IA\")')\n",
    "# add to purchases\n",
    "cursor.execute('INSERT INTO purchases VALUES(54, 21, 15.49)')\n",
    "cursor.execute('INSERT INTO purchases VALUES(23, 64, 21.12)')\n",
    "\n",
    "# get results\n",
    "cursor.execute('SELECT * FROM purchases')\n",
    "\n",
    "\n",
    "# update\n",
    "\n",
    "cursor.execute('UPDATE purchases SET total_cost = 3.67 WHERE purchase_id = 54')\n",
    "\n",
    "# delete\n",
    "\n",
    "cursor.execute('DELETE FROM purchases WHERE purchase_id = 54')\n",
    "\n",
    "results = cursor.fetchall()\n",
    "print(results)"
   ]
  },
  {
   "source": [
    "\n"
   ],
   "cell_type": "markdown",
   "metadata": {}
  },
  {
   "cell_type": "code",
   "execution_count": null,
   "metadata": {},
   "outputs": [],
   "source": []
  }
 ]
}