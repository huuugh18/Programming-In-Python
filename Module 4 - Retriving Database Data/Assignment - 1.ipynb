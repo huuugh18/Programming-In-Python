{
 "metadata": {
  "language_info": {
   "codemirror_mode": {
    "name": "ipython",
    "version": 3
   },
   "file_extension": ".py",
   "mimetype": "text/x-python",
   "name": "python",
   "nbconvert_exporter": "python",
   "pygments_lexer": "ipython3",
   "version": "3.9.1"
  },
  "orig_nbformat": 2,
  "kernelspec": {
   "name": "python391jvsc74a57bd0ac59ebe37160ed0dfa835113d9b8498d9f09ceb179beaac4002f036b9467c963",
   "display_name": "Python 3.9.1 64-bit"
  },
  "metadata": {
   "interpreter": {
    "hash": "ac59ebe37160ed0dfa835113d9b8498d9f09ceb179beaac4002f036b9467c963"
   }
  }
 },
 "nbformat": 4,
 "nbformat_minor": 2,
 "cells": [
  {
   "cell_type": "code",
   "execution_count": 1,
   "metadata": {},
   "outputs": [],
   "source": [
    "import sqlite3 as sql\n",
    "import pandas as pd\n",
    "\n",
    "%load_ext sql\n",
    "%sql sqlite:///exercise1.db\n",
    "\n"
   ]
  },
  {
   "cell_type": "code",
   "execution_count": 4,
   "metadata": {},
   "outputs": [
    {
     "output_type": "stream",
     "name": "stdout",
     "text": [
      "Done.\n"
     ]
    },
    {
     "output_type": "execute_result",
     "data": {
      "text/plain": [
       "[]"
      ]
     },
     "metadata": {},
     "execution_count": 4
    }
   ],
   "source": [
    "%%sql sqlite://\n",
    "CREATE TABLE courses(\n",
    "    code_module TEXT,\n",
    "    code_presentation TEXT,\n",
    "    module_presentation_length INTEGER \n",
    ");"
   ]
  },
  {
   "cell_type": "code",
   "execution_count": 2,
   "metadata": {},
   "outputs": [
    {
     "output_type": "stream",
     "name": "stdout",
     "text": [
      " * sqlite:///exercise1.db\nDone.\n"
     ]
    },
    {
     "output_type": "execute_result",
     "data": {
      "text/plain": [
       "[]"
      ]
     },
     "metadata": {},
     "execution_count": 2
    }
   ],
   "source": [
    "%%sql\n",
    "DROP TABLE courses"
   ]
  },
  {
   "cell_type": "code",
   "execution_count": 3,
   "metadata": {},
   "outputs": [
    {
     "output_type": "stream",
     "name": "stdout",
     "text": [
      " * sqlite:///exercise1.db\n(sqlite3.OperationalError) no such table: courses\n[SQL: DELETE FROM courses;]\n(Background on this error at: http://sqlalche.me/e/14/e3q8)\n"
     ]
    }
   ],
   "source": [
    "%sql DELETE FROM courses;"
   ]
  },
  {
   "cell_type": "code",
   "execution_count": 4,
   "metadata": {},
   "outputs": [
    {
     "output_type": "stream",
     "name": "stdout",
     "text": [
      "['AAA', '2013J', '268']\n['AAA', '2014J', '269']\n['BBB', '2013J', '268']\n['BBB', '2014J', '262']\n['BBB', '2013B', '240']\n['BBB', '2014B', '234']\n['CCC', '2014J', '269']\n['CCC', '2014B', '241']\n['DDD', '2013J', '261']\n['DDD', '2014J', '262']\n['DDD', '2013B', '240']\n['DDD', '2014B', '241']\n['EEE', '2013J', '268']\n['EEE', '2014J', '269']\n['EEE', '2014B', '241']\n['FFF', '2013J', '268']\n['FFF', '2014J', '269']\n['FFF', '2013B', '240']\n['FFF', '2014B', '241']\n['GGG', '2013J', '261']\n['GGG', '2014J', '269']\n['GGG', '2014B', '241']\n"
     ]
    }
   ],
   "source": [
    "import os\n",
    "import csv\n",
    "\n",
    "fin = open(os.path.join('data', 'courses.csv'), 'rt')\n",
    "csv_in = csv.reader(fin)\n",
    "next(csv_in);\n",
    "\n",
    "for line in csv_in:\n",
    "    print(line)\n",
    "    \n",
    "fin.close()"
   ]
  }
 ]
}