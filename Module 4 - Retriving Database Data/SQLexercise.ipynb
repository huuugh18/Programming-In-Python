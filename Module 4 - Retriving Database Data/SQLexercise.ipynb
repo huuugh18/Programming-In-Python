{
 "cells": [
  {
   "cell_type": "code",
   "execution_count": 5,
   "metadata": {},
   "outputs": [
    {
     "output_type": "stream",
     "name": "stdout",
     "text": [
      "The sql extension is already loaded. To reload it, use:\n  %reload_ext sql\n"
     ]
    }
   ],
   "source": [
    "import sqlite3 as sql\n",
    "import pandas as pd\n",
    "\n",
    "%load_ext sql\n",
    "%sql sqlite:///exercise1.db"
   ]
  },
  {
   "cell_type": "markdown",
   "metadata": {},
   "source": [
    "## Now it's time to start working with tables and CSV files in unison. There are a few steps to this process, so go slowly and try to understand what each code block is doing.\n",
    "We are going to drop any existing tables called `assessments`. We could institute this logic also in our create table. You might sometimes see this as\n",
    "`CREATE TABLE IF NOT EXISTS`.\n",
    "For this exercise we will be efficient and clean up after ourselves!\n"
   ]
  },
  {
   "cell_type": "code",
   "execution_count": 38,
   "metadata": {},
   "outputs": [
    {
     "output_type": "stream",
     "name": "stdout",
     "text": [
      " * sqlite:///exercise1.db\nDone.\n"
     ]
    },
    {
     "output_type": "execute_result",
     "data": {
      "text/plain": [
       "[]"
      ]
     },
     "metadata": {},
     "execution_count": 38
    }
   ],
   "source": [
    "%%sql\n",
    "DROP TABLE assessments"
   ]
  },
  {
   "cell_type": "markdown",
   "metadata": {},
   "source": [
    "## We first need to create our structure for the table. \n",
    "You can look at the CSV file (or just the headings) to get a sense of the data. These data types will be given to you for this first exercise, but you will have to create the structures for the other tables yourself."
   ]
  },
  {
   "cell_type": "code",
   "execution_count": 40,
   "metadata": {},
   "outputs": [
    {
     "output_type": "stream",
     "name": "stdout",
     "text": [
      "Done.\n"
     ]
    },
    {
     "output_type": "execute_result",
     "data": {
      "text/plain": [
       "[]"
      ]
     },
     "metadata": {},
     "execution_count": 40
    }
   ],
   "source": [
    "%%sql sqlite://\n",
    "    CREATE TABLE assessments(\n",
    "    code_module TEXT,\n",
    "    code_presentation TEXT,\n",
    "    id_assessment INTEGER,\n",
    "    assessment_type TEXT,\n",
    "    date INT,\n",
    "    weight INT\n",
    ");"
   ]
  },
  {
   "cell_type": "code",
   "execution_count": 44,
   "metadata": {},
   "outputs": [
    {
     "output_type": "stream",
     "name": "stdout",
     "text": [
      " * sqlite:///exercise1.db\n0 rows affected.\n"
     ]
    },
    {
     "output_type": "execute_result",
     "data": {
      "text/plain": [
       "[]"
      ]
     },
     "metadata": {},
     "execution_count": 44
    }
   ],
   "source": [
    "# let's empty our tables first, incase we already have values there.\n",
    "%sql DELETE FROM assessments;"
   ]
  },
  {
   "cell_type": "markdown",
   "metadata": {},
   "source": [
    "## Now the next cell might look a little intimidating, but don't panic just yet!\n",
    "\n",
    "We are using a couple of external libraries to help us. OS to handle the path and file that we are interacting with and CSV to deal with the structure of our comma separated values.\n",
    "\n",
    "Our aim here is to iterate through these values in order to populate the table structure that we just created with data.\n",
    "\n",
    "Our for loop performs some checks so as not to produce invalid data types or 'null' data.\n",
    "\n",
    "I have also left a bit of an inefficient solution to the problem with 6 fields defined as variables. Can you optimise this bit of code? Hint: it's more iteration!\n",
    "\n",
    "\n",
    "Finally, this code block inserts the corresponding values from our assessments.csv into our assessments table. We have gone from CSV to Python, to SQL. Our final step is to close our CSV reader!"
   ]
  },
  {
   "cell_type": "code",
   "execution_count": 1,
   "metadata": {
    "tags": []
   },
   "outputs": [
    {
     "output_type": "stream",
     "name": "stderr",
     "text": [
      "UsageError: Line magic function `%sql` not found.\n"
     ]
    }
   ],
   "source": [
    "import os\n",
    "import csv \n",
    "\n",
    "fin    = open(os.path.join(\"data\",\"assessments.csv\"), \"rt\") # you might need to change rt/rd to match representations\n",
    "csv_in = csv.reader(fin)\n",
    "# think this skips the header row, moves to next line in iteration\n",
    "next(csv_in);\n",
    "for line  in csv_in:\n",
    "    \n",
    "    # Empty, non-string values in the CSV should be changed to the SQL Keyword DEFAULT\n",
    "    if line[2] == \"\": line[2] = \"DEFAULT\"\n",
    "    if line[4] == \"\": line[4] = \"DEFAULT\"\n",
    "    if line[5] == \"\": line[5] = \"DEFAULT\"\n",
    "    # We will do this verbose so that you can see how each variable is passed. You will want to optimise this, however.\n",
    "    field1 = line[0]\n",
    "    field2 = line[1]\n",
    "    field3 = line[2]\n",
    "    field4 = line[3]\n",
    "    field5 = line[4]\n",
    "    field6 = line[5]\n",
    "    # print('\\n VALUES:', values)\n",
    "    %sql INSERT INTO assessments (code_module, code_presentation, id_assessment, assessment_type, date, weight) VALUES (:field1, :field2, :field3, :field4, :field5, :field6);\n",
    "    \n",
    "fin.close()"
   ]
  },
  {
   "cell_type": "markdown",
   "metadata": {},
   "source": [
    "## Let's do a final check\n",
    "We will query the table to ensure that we have some data. Check this against your CSV file and see if it matches. Are the data types valid for this representation?"
   ]
  },
  {
   "cell_type": "code",
   "execution_count": 46,
   "metadata": {},
   "outputs": [
    {
     "output_type": "stream",
     "name": "stdout",
     "text": [
      " * sqlite:///exercise1.db\nDone.\n"
     ]
    },
    {
     "output_type": "execute_result",
     "data": {
      "text/plain": [
       "[('AAA', '2013J', 1752, 'TMA', 19, 10),\n",
       " ('AAA', '2013J', 1753, 'TMA', 54, 20),\n",
       " ('AAA', '2013J', 1754, 'TMA', 117, 20),\n",
       " ('AAA', '2013J', 1755, 'TMA', 166, 20),\n",
       " ('AAA', '2013J', 1756, 'TMA', 215, 30),\n",
       " ('AAA', '2013J', 1757, 'Exam', 'DEFAULT', 100),\n",
       " ('AAA', '2014J', 1758, 'TMA', 19, 10),\n",
       " ('AAA', '2014J', 1759, 'TMA', 54, 20),\n",
       " ('AAA', '2014J', 1760, 'TMA', 117, 20),\n",
       " ('AAA', '2014J', 1761, 'TMA', 166, 20),\n",
       " ('AAA', '2014J', 1762, 'TMA', 215, 30),\n",
       " ('AAA', '2014J', 1763, 'Exam', 'DEFAULT', 100),\n",
       " ('BBB', '2013B', 14991, 'CMA', 54, 1),\n",
       " ('BBB', '2013B', 14992, 'CMA', 89, 1),\n",
       " ('BBB', '2013B', 14993, 'CMA', 124, 1),\n",
       " ('BBB', '2013B', 14994, 'CMA', 159, 1),\n",
       " ('BBB', '2013B', 14995, 'CMA', 187, 1),\n",
       " ('BBB', '2013B', 14984, 'TMA', 19, 5),\n",
       " ('BBB', '2013B', 14985, 'TMA', 47, 18),\n",
       " ('BBB', '2013B', 14986, 'TMA', 89, 18),\n",
       " ('BBB', '2013B', 14987, 'TMA', 124, 18),\n",
       " ('BBB', '2013B', 14988, 'TMA', 159, 18),\n",
       " ('BBB', '2013B', 14989, 'TMA', 187, 18),\n",
       " ('BBB', '2013B', 14990, 'Exam', 'DEFAULT', 100),\n",
       " ('BBB', '2013J', 15003, 'CMA', 54, 1),\n",
       " ('BBB', '2013J', 15004, 'CMA', 96, 1),\n",
       " ('BBB', '2013J', 15005, 'CMA', 131, 1),\n",
       " ('BBB', '2013J', 15006, 'CMA', 166, 1),\n",
       " ('BBB', '2013J', 15007, 'CMA', 208, 1),\n",
       " ('BBB', '2013J', 14996, 'TMA', 19, 5),\n",
       " ('BBB', '2013J', 14997, 'TMA', 47, 18),\n",
       " ('BBB', '2013J', 14998, 'TMA', 96, 18),\n",
       " ('BBB', '2013J', 14999, 'TMA', 131, 18),\n",
       " ('BBB', '2013J', 15000, 'TMA', 166, 18),\n",
       " ('BBB', '2013J', 15001, 'TMA', 208, 18),\n",
       " ('BBB', '2013J', 15002, 'Exam', 'DEFAULT', 100),\n",
       " ('BBB', '2014B', 15015, 'CMA', 47, 1),\n",
       " ('BBB', '2014B', 15016, 'CMA', 82, 1),\n",
       " ('BBB', '2014B', 15017, 'CMA', 117, 1),\n",
       " ('BBB', '2014B', 15018, 'CMA', 152, 1),\n",
       " ('BBB', '2014B', 15019, 'CMA', 194, 1),\n",
       " ('BBB', '2014B', 15008, 'TMA', 12, 5),\n",
       " ('BBB', '2014B', 15009, 'TMA', 40, 18),\n",
       " ('BBB', '2014B', 15010, 'TMA', 82, 18),\n",
       " ('BBB', '2014B', 15011, 'TMA', 117, 18),\n",
       " ('BBB', '2014B', 15012, 'TMA', 152, 18),\n",
       " ('BBB', '2014B', 15013, 'TMA', 194, 18),\n",
       " ('BBB', '2014B', 15014, 'Exam', 'DEFAULT', 100),\n",
       " ('BBB', '2014J', 15020, 'TMA', 19, 0),\n",
       " ('BBB', '2014J', 15021, 'TMA', 54, 10),\n",
       " ('BBB', '2014J', 15022, 'TMA', 110, 20),\n",
       " ('BBB', '2014J', 15023, 'TMA', 152, 35),\n",
       " ('BBB', '2014J', 15024, 'TMA', 201, 35),\n",
       " ('BBB', '2014J', 15025, 'Exam', 'DEFAULT', 100),\n",
       " ('CCC', '2014B', 24286, 'CMA', 18, 2),\n",
       " ('CCC', '2014B', 24287, 'CMA', 67, 7),\n",
       " ('CCC', '2014B', 24288, 'CMA', 137, 8),\n",
       " ('CCC', '2014B', 24289, 'CMA', 207, 8),\n",
       " ('CCC', '2014B', 24282, 'TMA', 32, 9),\n",
       " ('CCC', '2014B', 24283, 'TMA', 102, 22),\n",
       " ('CCC', '2014B', 24284, 'TMA', 151, 22),\n",
       " ('CCC', '2014B', 24285, 'TMA', 200, 22),\n",
       " ('CCC', '2014B', 24290, 'Exam', 'DEFAULT', 100),\n",
       " ('CCC', '2014B', 40087, 'Exam', 'DEFAULT', 100),\n",
       " ('CCC', '2014J', 24295, 'CMA', 18, 2),\n",
       " ('CCC', '2014J', 24296, 'CMA', 67, 7),\n",
       " ('CCC', '2014J', 24297, 'CMA', 144, 8),\n",
       " ('CCC', '2014J', 24298, 'CMA', 214, 8),\n",
       " ('CCC', '2014J', 24291, 'TMA', 32, 9),\n",
       " ('CCC', '2014J', 24292, 'TMA', 109, 22),\n",
       " ('CCC', '2014J', 24293, 'TMA', 158, 22),\n",
       " ('CCC', '2014J', 24294, 'TMA', 207, 22),\n",
       " ('CCC', '2014J', 24299, 'Exam', 'DEFAULT', 100),\n",
       " ('CCC', '2014J', 40088, 'Exam', 'DEFAULT', 100),\n",
       " ('DDD', '2013B', 25341, 'CMA', 23, 2),\n",
       " ('DDD', '2013B', 25342, 'CMA', 51, 3),\n",
       " ('DDD', '2013B', 25343, 'CMA', 79, 3),\n",
       " ('DDD', '2013B', 25344, 'CMA', 114, 4),\n",
       " ('DDD', '2013B', 25345, 'CMA', 149, 4),\n",
       " ('DDD', '2013B', 25346, 'CMA', 170, 3),\n",
       " ('DDD', '2013B', 25347, 'CMA', 206, 6),\n",
       " ('DDD', '2013B', 25334, 'TMA', 25, 7.5),\n",
       " ('DDD', '2013B', 25335, 'TMA', 53, 10),\n",
       " ('DDD', '2013B', 25336, 'TMA', 81, 12.5),\n",
       " ('DDD', '2013B', 25337, 'TMA', 116, 15),\n",
       " ('DDD', '2013B', 25338, 'TMA', 151, 15),\n",
       " ('DDD', '2013B', 25339, 'TMA', 200, 15),\n",
       " ('DDD', '2013B', 25340, 'Exam', 240, 100),\n",
       " ('DDD', '2013J', 25348, 'TMA', 25, 10),\n",
       " ('DDD', '2013J', 25349, 'TMA', 53, 12.5),\n",
       " ('DDD', '2013J', 25350, 'TMA', 88, 17.5),\n",
       " ('DDD', '2013J', 25351, 'TMA', 123, 20),\n",
       " ('DDD', '2013J', 25352, 'TMA', 165, 20),\n",
       " ('DDD', '2013J', 25353, 'TMA', 207, 20),\n",
       " ('DDD', '2013J', 25354, 'Exam', 261, 100),\n",
       " ('DDD', '2014B', 25355, 'TMA', 25, 10),\n",
       " ('DDD', '2014B', 25356, 'TMA', 53, 12.5),\n",
       " ('DDD', '2014B', 25357, 'TMA', 74, 17.5),\n",
       " ('DDD', '2014B', 25358, 'TMA', 116, 20),\n",
       " ('DDD', '2014B', 25359, 'TMA', 158, 20),\n",
       " ('DDD', '2014B', 25360, 'TMA', 200, 20),\n",
       " ('DDD', '2014B', 25361, 'Exam', 241, 100),\n",
       " ('DDD', '2014J', 25362, 'TMA', 20, 5),\n",
       " ('DDD', '2014J', 25363, 'TMA', 41, 10),\n",
       " ('DDD', '2014J', 25364, 'TMA', 62, 10),\n",
       " ('DDD', '2014J', 25365, 'TMA', 111, 25),\n",
       " ('DDD', '2014J', 25366, 'TMA', 146, 25),\n",
       " ('DDD', '2014J', 25367, 'TMA', 195, 25),\n",
       " ('DDD', '2014J', 25368, 'Exam', 'DEFAULT', 100),\n",
       " ('EEE', '2013J', 30709, 'TMA', 33, 16),\n",
       " ('EEE', '2013J', 30710, 'TMA', 68, 28),\n",
       " ('EEE', '2013J', 30711, 'TMA', 124, 28),\n",
       " ('EEE', '2013J', 30712, 'TMA', 159, 28),\n",
       " ('EEE', '2013J', 30713, 'Exam', 235, 100),\n",
       " ('EEE', '2014B', 30714, 'TMA', 33, 16),\n",
       " ('EEE', '2014B', 30715, 'TMA', 68, 28),\n",
       " ('EEE', '2014B', 30716, 'TMA', 117, 28),\n",
       " ('EEE', '2014B', 30717, 'TMA', 152, 28),\n",
       " ('EEE', '2014B', 30718, 'Exam', 228, 100),\n",
       " ('EEE', '2014J', 30719, 'TMA', 33, 16),\n",
       " ('EEE', '2014J', 30720, 'TMA', 68, 28),\n",
       " ('EEE', '2014J', 30721, 'TMA', 131, 28),\n",
       " ('EEE', '2014J', 30722, 'TMA', 166, 28),\n",
       " ('EEE', '2014J', 30723, 'Exam', 235, 100),\n",
       " ('FFF', '2013B', 34865, 'CMA', 222, 0),\n",
       " ('FFF', '2013B', 34866, 'CMA', 222, 0),\n",
       " ('FFF', '2013B', 34867, 'CMA', 222, 0),\n",
       " ('FFF', '2013B', 34868, 'CMA', 222, 0),\n",
       " ('FFF', '2013B', 34869, 'CMA', 222, 0),\n",
       " ('FFF', '2013B', 34871, 'CMA', 222, 0),\n",
       " ('FFF', '2013B', 34870, 'CMA', 222, 0),\n",
       " ('FFF', '2013B', 34860, 'TMA', 19, 12.5),\n",
       " ('FFF', '2013B', 34861, 'TMA', 47, 12.5),\n",
       " ('FFF', '2013B', 34862, 'TMA', 89, 25),\n",
       " ('FFF', '2013B', 34863, 'TMA', 131, 25),\n",
       " ('FFF', '2013B', 34864, 'TMA', 166, 25),\n",
       " ('FFF', '2013B', 34872, 'Exam', 222, 100),\n",
       " ('FFF', '2013J', 34878, 'CMA', 236, 0),\n",
       " ('FFF', '2013J', 34879, 'CMA', 236, 0),\n",
       " ('FFF', '2013J', 34880, 'CMA', 236, 0),\n",
       " ('FFF', '2013J', 34881, 'CMA', 236, 0),\n",
       " ('FFF', '2013J', 34882, 'CMA', 236, 0),\n",
       " ('FFF', '2013J', 34884, 'CMA', 236, 0),\n",
       " ('FFF', '2013J', 34883, 'CMA', 236, 0),\n",
       " ('FFF', '2013J', 34873, 'TMA', 19, 12.5),\n",
       " ('FFF', '2013J', 34874, 'TMA', 47, 12.5),\n",
       " ('FFF', '2013J', 34875, 'TMA', 96, 25),\n",
       " ('FFF', '2013J', 34876, 'TMA', 131, 25),\n",
       " ('FFF', '2013J', 34877, 'TMA', 173, 25),\n",
       " ('FFF', '2013J', 34885, 'Exam', 236, 100),\n",
       " ('FFF', '2014B', 34891, 'CMA', 227, 0),\n",
       " ('FFF', '2014B', 34892, 'CMA', 227, 0),\n",
       " ('FFF', '2014B', 34893, 'CMA', 227, 0),\n",
       " ('FFF', '2014B', 34894, 'CMA', 227, 0),\n",
       " ('FFF', '2014B', 34895, 'CMA', 227, 0),\n",
       " ('FFF', '2014B', 34897, 'CMA', 227, 0),\n",
       " ('FFF', '2014B', 34896, 'CMA', 227, 0),\n",
       " ('FFF', '2014B', 34886, 'TMA', 24, 12.5),\n",
       " ('FFF', '2014B', 34887, 'TMA', 52, 12.5),\n",
       " ('FFF', '2014B', 34888, 'TMA', 87, 25),\n",
       " ('FFF', '2014B', 34889, 'TMA', 129, 25),\n",
       " ('FFF', '2014B', 34890, 'TMA', 171, 25),\n",
       " ('FFF', '2014B', 34898, 'Exam', 227, 100),\n",
       " ('FFF', '2014J', 34904, 'CMA', 241, 0),\n",
       " ('FFF', '2014J', 34905, 'CMA', 241, 0),\n",
       " ('FFF', '2014J', 34906, 'CMA', 241, 0),\n",
       " ('FFF', '2014J', 34907, 'CMA', 241, 0),\n",
       " ('FFF', '2014J', 34908, 'CMA', 241, 0),\n",
       " ('FFF', '2014J', 34910, 'CMA', 241, 0),\n",
       " ('FFF', '2014J', 34909, 'CMA', 241, 0),\n",
       " ('FFF', '2014J', 34899, 'TMA', 24, 12.5),\n",
       " ('FFF', '2014J', 34900, 'TMA', 52, 12.5),\n",
       " ('FFF', '2014J', 34901, 'TMA', 94, 25),\n",
       " ('FFF', '2014J', 34902, 'TMA', 136, 25),\n",
       " ('FFF', '2014J', 34903, 'TMA', 199, 25),\n",
       " ('FFF', '2014J', 34911, 'Exam', 241, 100),\n",
       " ('GGG', '2013J', 37418, 'CMA', 229, 0),\n",
       " ('GGG', '2013J', 37419, 'CMA', 229, 0),\n",
       " ('GGG', '2013J', 37420, 'CMA', 229, 0),\n",
       " ('GGG', '2013J', 37421, 'CMA', 229, 0),\n",
       " ('GGG', '2013J', 37422, 'CMA', 229, 0),\n",
       " ('GGG', '2013J', 37423, 'CMA', 229, 0),\n",
       " ('GGG', '2013J', 37415, 'TMA', 61, 0),\n",
       " ('GGG', '2013J', 37416, 'TMA', 124, 0),\n",
       " ('GGG', '2013J', 37417, 'TMA', 173, 0),\n",
       " ('GGG', '2013J', 37424, 'Exam', 229, 100),\n",
       " ('GGG', '2014B', 37428, 'CMA', 222, 0),\n",
       " ('GGG', '2014B', 37429, 'CMA', 222, 0),\n",
       " ('GGG', '2014B', 37430, 'CMA', 222, 0),\n",
       " ('GGG', '2014B', 37431, 'CMA', 222, 0),\n",
       " ('GGG', '2014B', 37432, 'CMA', 222, 0),\n",
       " ('GGG', '2014B', 37433, 'CMA', 222, 0),\n",
       " ('GGG', '2014B', 37425, 'TMA', 61, 0),\n",
       " ('GGG', '2014B', 37426, 'TMA', 117, 0),\n",
       " ('GGG', '2014B', 37427, 'TMA', 166, 0),\n",
       " ('GGG', '2014B', 37434, 'Exam', 222, 100),\n",
       " ('GGG', '2014J', 37438, 'CMA', 229, 0),\n",
       " ('GGG', '2014J', 37439, 'CMA', 229, 0),\n",
       " ('GGG', '2014J', 37440, 'CMA', 229, 0),\n",
       " ('GGG', '2014J', 37441, 'CMA', 229, 0),\n",
       " ('GGG', '2014J', 37442, 'CMA', 229, 0),\n",
       " ('GGG', '2014J', 37443, 'CMA', 229, 0),\n",
       " ('GGG', '2014J', 37435, 'TMA', 61, 0),\n",
       " ('GGG', '2014J', 37436, 'TMA', 124, 0),\n",
       " ('GGG', '2014J', 37437, 'TMA', 173, 0),\n",
       " ('GGG', '2014J', 37444, 'Exam', 229, 100)]"
      ],
      "text/html": "<table>\n    <tr>\n        <th>code_module</th>\n        <th>code_presentation</th>\n        <th>id_assessment</th>\n        <th>assessment_type</th>\n        <th>date</th>\n        <th>weight</th>\n    </tr>\n    <tr>\n        <td>AAA</td>\n        <td>2013J</td>\n        <td>1752</td>\n        <td>TMA</td>\n        <td>19</td>\n        <td>10</td>\n    </tr>\n    <tr>\n        <td>AAA</td>\n        <td>2013J</td>\n        <td>1753</td>\n        <td>TMA</td>\n        <td>54</td>\n        <td>20</td>\n    </tr>\n    <tr>\n        <td>AAA</td>\n        <td>2013J</td>\n        <td>1754</td>\n        <td>TMA</td>\n        <td>117</td>\n        <td>20</td>\n    </tr>\n    <tr>\n        <td>AAA</td>\n        <td>2013J</td>\n        <td>1755</td>\n        <td>TMA</td>\n        <td>166</td>\n        <td>20</td>\n    </tr>\n    <tr>\n        <td>AAA</td>\n        <td>2013J</td>\n        <td>1756</td>\n        <td>TMA</td>\n        <td>215</td>\n        <td>30</td>\n    </tr>\n    <tr>\n        <td>AAA</td>\n        <td>2013J</td>\n        <td>1757</td>\n        <td>Exam</td>\n        <td>DEFAULT</td>\n        <td>100</td>\n    </tr>\n    <tr>\n        <td>AAA</td>\n        <td>2014J</td>\n        <td>1758</td>\n        <td>TMA</td>\n        <td>19</td>\n        <td>10</td>\n    </tr>\n    <tr>\n        <td>AAA</td>\n        <td>2014J</td>\n        <td>1759</td>\n        <td>TMA</td>\n        <td>54</td>\n        <td>20</td>\n    </tr>\n    <tr>\n        <td>AAA</td>\n        <td>2014J</td>\n        <td>1760</td>\n        <td>TMA</td>\n        <td>117</td>\n        <td>20</td>\n    </tr>\n    <tr>\n        <td>AAA</td>\n        <td>2014J</td>\n        <td>1761</td>\n        <td>TMA</td>\n        <td>166</td>\n        <td>20</td>\n    </tr>\n    <tr>\n        <td>AAA</td>\n        <td>2014J</td>\n        <td>1762</td>\n        <td>TMA</td>\n        <td>215</td>\n        <td>30</td>\n    </tr>\n    <tr>\n        <td>AAA</td>\n        <td>2014J</td>\n        <td>1763</td>\n        <td>Exam</td>\n        <td>DEFAULT</td>\n        <td>100</td>\n    </tr>\n    <tr>\n        <td>BBB</td>\n        <td>2013B</td>\n        <td>14991</td>\n        <td>CMA</td>\n        <td>54</td>\n        <td>1</td>\n    </tr>\n    <tr>\n        <td>BBB</td>\n        <td>2013B</td>\n        <td>14992</td>\n        <td>CMA</td>\n        <td>89</td>\n        <td>1</td>\n    </tr>\n    <tr>\n        <td>BBB</td>\n        <td>2013B</td>\n        <td>14993</td>\n        <td>CMA</td>\n        <td>124</td>\n        <td>1</td>\n    </tr>\n    <tr>\n        <td>BBB</td>\n        <td>2013B</td>\n        <td>14994</td>\n        <td>CMA</td>\n        <td>159</td>\n        <td>1</td>\n    </tr>\n    <tr>\n        <td>BBB</td>\n        <td>2013B</td>\n        <td>14995</td>\n        <td>CMA</td>\n        <td>187</td>\n        <td>1</td>\n    </tr>\n    <tr>\n        <td>BBB</td>\n        <td>2013B</td>\n        <td>14984</td>\n        <td>TMA</td>\n        <td>19</td>\n        <td>5</td>\n    </tr>\n    <tr>\n        <td>BBB</td>\n        <td>2013B</td>\n        <td>14985</td>\n        <td>TMA</td>\n        <td>47</td>\n        <td>18</td>\n    </tr>\n    <tr>\n        <td>BBB</td>\n        <td>2013B</td>\n        <td>14986</td>\n        <td>TMA</td>\n        <td>89</td>\n        <td>18</td>\n    </tr>\n    <tr>\n        <td>BBB</td>\n        <td>2013B</td>\n        <td>14987</td>\n        <td>TMA</td>\n        <td>124</td>\n        <td>18</td>\n    </tr>\n    <tr>\n        <td>BBB</td>\n        <td>2013B</td>\n        <td>14988</td>\n        <td>TMA</td>\n        <td>159</td>\n        <td>18</td>\n    </tr>\n    <tr>\n        <td>BBB</td>\n        <td>2013B</td>\n        <td>14989</td>\n        <td>TMA</td>\n        <td>187</td>\n        <td>18</td>\n    </tr>\n    <tr>\n        <td>BBB</td>\n        <td>2013B</td>\n        <td>14990</td>\n        <td>Exam</td>\n        <td>DEFAULT</td>\n        <td>100</td>\n    </tr>\n    <tr>\n        <td>BBB</td>\n        <td>2013J</td>\n        <td>15003</td>\n        <td>CMA</td>\n        <td>54</td>\n        <td>1</td>\n    </tr>\n    <tr>\n        <td>BBB</td>\n        <td>2013J</td>\n        <td>15004</td>\n        <td>CMA</td>\n        <td>96</td>\n        <td>1</td>\n    </tr>\n    <tr>\n        <td>BBB</td>\n        <td>2013J</td>\n        <td>15005</td>\n        <td>CMA</td>\n        <td>131</td>\n        <td>1</td>\n    </tr>\n    <tr>\n        <td>BBB</td>\n        <td>2013J</td>\n        <td>15006</td>\n        <td>CMA</td>\n        <td>166</td>\n        <td>1</td>\n    </tr>\n    <tr>\n        <td>BBB</td>\n        <td>2013J</td>\n        <td>15007</td>\n        <td>CMA</td>\n        <td>208</td>\n        <td>1</td>\n    </tr>\n    <tr>\n        <td>BBB</td>\n        <td>2013J</td>\n        <td>14996</td>\n        <td>TMA</td>\n        <td>19</td>\n        <td>5</td>\n    </tr>\n    <tr>\n        <td>BBB</td>\n        <td>2013J</td>\n        <td>14997</td>\n        <td>TMA</td>\n        <td>47</td>\n        <td>18</td>\n    </tr>\n    <tr>\n        <td>BBB</td>\n        <td>2013J</td>\n        <td>14998</td>\n        <td>TMA</td>\n        <td>96</td>\n        <td>18</td>\n    </tr>\n    <tr>\n        <td>BBB</td>\n        <td>2013J</td>\n        <td>14999</td>\n        <td>TMA</td>\n        <td>131</td>\n        <td>18</td>\n    </tr>\n    <tr>\n        <td>BBB</td>\n        <td>2013J</td>\n        <td>15000</td>\n        <td>TMA</td>\n        <td>166</td>\n        <td>18</td>\n    </tr>\n    <tr>\n        <td>BBB</td>\n        <td>2013J</td>\n        <td>15001</td>\n        <td>TMA</td>\n        <td>208</td>\n        <td>18</td>\n    </tr>\n    <tr>\n        <td>BBB</td>\n        <td>2013J</td>\n        <td>15002</td>\n        <td>Exam</td>\n        <td>DEFAULT</td>\n        <td>100</td>\n    </tr>\n    <tr>\n        <td>BBB</td>\n        <td>2014B</td>\n        <td>15015</td>\n        <td>CMA</td>\n        <td>47</td>\n        <td>1</td>\n    </tr>\n    <tr>\n        <td>BBB</td>\n        <td>2014B</td>\n        <td>15016</td>\n        <td>CMA</td>\n        <td>82</td>\n        <td>1</td>\n    </tr>\n    <tr>\n        <td>BBB</td>\n        <td>2014B</td>\n        <td>15017</td>\n        <td>CMA</td>\n        <td>117</td>\n        <td>1</td>\n    </tr>\n    <tr>\n        <td>BBB</td>\n        <td>2014B</td>\n        <td>15018</td>\n        <td>CMA</td>\n        <td>152</td>\n        <td>1</td>\n    </tr>\n    <tr>\n        <td>BBB</td>\n        <td>2014B</td>\n        <td>15019</td>\n        <td>CMA</td>\n        <td>194</td>\n        <td>1</td>\n    </tr>\n    <tr>\n        <td>BBB</td>\n        <td>2014B</td>\n        <td>15008</td>\n        <td>TMA</td>\n        <td>12</td>\n        <td>5</td>\n    </tr>\n    <tr>\n        <td>BBB</td>\n        <td>2014B</td>\n        <td>15009</td>\n        <td>TMA</td>\n        <td>40</td>\n        <td>18</td>\n    </tr>\n    <tr>\n        <td>BBB</td>\n        <td>2014B</td>\n        <td>15010</td>\n        <td>TMA</td>\n        <td>82</td>\n        <td>18</td>\n    </tr>\n    <tr>\n        <td>BBB</td>\n        <td>2014B</td>\n        <td>15011</td>\n        <td>TMA</td>\n        <td>117</td>\n        <td>18</td>\n    </tr>\n    <tr>\n        <td>BBB</td>\n        <td>2014B</td>\n        <td>15012</td>\n        <td>TMA</td>\n        <td>152</td>\n        <td>18</td>\n    </tr>\n    <tr>\n        <td>BBB</td>\n        <td>2014B</td>\n        <td>15013</td>\n        <td>TMA</td>\n        <td>194</td>\n        <td>18</td>\n    </tr>\n    <tr>\n        <td>BBB</td>\n        <td>2014B</td>\n        <td>15014</td>\n        <td>Exam</td>\n        <td>DEFAULT</td>\n        <td>100</td>\n    </tr>\n    <tr>\n        <td>BBB</td>\n        <td>2014J</td>\n        <td>15020</td>\n        <td>TMA</td>\n        <td>19</td>\n        <td>0</td>\n    </tr>\n    <tr>\n        <td>BBB</td>\n        <td>2014J</td>\n        <td>15021</td>\n        <td>TMA</td>\n        <td>54</td>\n        <td>10</td>\n    </tr>\n    <tr>\n        <td>BBB</td>\n        <td>2014J</td>\n        <td>15022</td>\n        <td>TMA</td>\n        <td>110</td>\n        <td>20</td>\n    </tr>\n    <tr>\n        <td>BBB</td>\n        <td>2014J</td>\n        <td>15023</td>\n        <td>TMA</td>\n        <td>152</td>\n        <td>35</td>\n    </tr>\n    <tr>\n        <td>BBB</td>\n        <td>2014J</td>\n        <td>15024</td>\n        <td>TMA</td>\n        <td>201</td>\n        <td>35</td>\n    </tr>\n    <tr>\n        <td>BBB</td>\n        <td>2014J</td>\n        <td>15025</td>\n        <td>Exam</td>\n        <td>DEFAULT</td>\n        <td>100</td>\n    </tr>\n    <tr>\n        <td>CCC</td>\n        <td>2014B</td>\n        <td>24286</td>\n        <td>CMA</td>\n        <td>18</td>\n        <td>2</td>\n    </tr>\n    <tr>\n        <td>CCC</td>\n        <td>2014B</td>\n        <td>24287</td>\n        <td>CMA</td>\n        <td>67</td>\n        <td>7</td>\n    </tr>\n    <tr>\n        <td>CCC</td>\n        <td>2014B</td>\n        <td>24288</td>\n        <td>CMA</td>\n        <td>137</td>\n        <td>8</td>\n    </tr>\n    <tr>\n        <td>CCC</td>\n        <td>2014B</td>\n        <td>24289</td>\n        <td>CMA</td>\n        <td>207</td>\n        <td>8</td>\n    </tr>\n    <tr>\n        <td>CCC</td>\n        <td>2014B</td>\n        <td>24282</td>\n        <td>TMA</td>\n        <td>32</td>\n        <td>9</td>\n    </tr>\n    <tr>\n        <td>CCC</td>\n        <td>2014B</td>\n        <td>24283</td>\n        <td>TMA</td>\n        <td>102</td>\n        <td>22</td>\n    </tr>\n    <tr>\n        <td>CCC</td>\n        <td>2014B</td>\n        <td>24284</td>\n        <td>TMA</td>\n        <td>151</td>\n        <td>22</td>\n    </tr>\n    <tr>\n        <td>CCC</td>\n        <td>2014B</td>\n        <td>24285</td>\n        <td>TMA</td>\n        <td>200</td>\n        <td>22</td>\n    </tr>\n    <tr>\n        <td>CCC</td>\n        <td>2014B</td>\n        <td>24290</td>\n        <td>Exam</td>\n        <td>DEFAULT</td>\n        <td>100</td>\n    </tr>\n    <tr>\n        <td>CCC</td>\n        <td>2014B</td>\n        <td>40087</td>\n        <td>Exam</td>\n        <td>DEFAULT</td>\n        <td>100</td>\n    </tr>\n    <tr>\n        <td>CCC</td>\n        <td>2014J</td>\n        <td>24295</td>\n        <td>CMA</td>\n        <td>18</td>\n        <td>2</td>\n    </tr>\n    <tr>\n        <td>CCC</td>\n        <td>2014J</td>\n        <td>24296</td>\n        <td>CMA</td>\n        <td>67</td>\n        <td>7</td>\n    </tr>\n    <tr>\n        <td>CCC</td>\n        <td>2014J</td>\n        <td>24297</td>\n        <td>CMA</td>\n        <td>144</td>\n        <td>8</td>\n    </tr>\n    <tr>\n        <td>CCC</td>\n        <td>2014J</td>\n        <td>24298</td>\n        <td>CMA</td>\n        <td>214</td>\n        <td>8</td>\n    </tr>\n    <tr>\n        <td>CCC</td>\n        <td>2014J</td>\n        <td>24291</td>\n        <td>TMA</td>\n        <td>32</td>\n        <td>9</td>\n    </tr>\n    <tr>\n        <td>CCC</td>\n        <td>2014J</td>\n        <td>24292</td>\n        <td>TMA</td>\n        <td>109</td>\n        <td>22</td>\n    </tr>\n    <tr>\n        <td>CCC</td>\n        <td>2014J</td>\n        <td>24293</td>\n        <td>TMA</td>\n        <td>158</td>\n        <td>22</td>\n    </tr>\n    <tr>\n        <td>CCC</td>\n        <td>2014J</td>\n        <td>24294</td>\n        <td>TMA</td>\n        <td>207</td>\n        <td>22</td>\n    </tr>\n    <tr>\n        <td>CCC</td>\n        <td>2014J</td>\n        <td>24299</td>\n        <td>Exam</td>\n        <td>DEFAULT</td>\n        <td>100</td>\n    </tr>\n    <tr>\n        <td>CCC</td>\n        <td>2014J</td>\n        <td>40088</td>\n        <td>Exam</td>\n        <td>DEFAULT</td>\n        <td>100</td>\n    </tr>\n    <tr>\n        <td>DDD</td>\n        <td>2013B</td>\n        <td>25341</td>\n        <td>CMA</td>\n        <td>23</td>\n        <td>2</td>\n    </tr>\n    <tr>\n        <td>DDD</td>\n        <td>2013B</td>\n        <td>25342</td>\n        <td>CMA</td>\n        <td>51</td>\n        <td>3</td>\n    </tr>\n    <tr>\n        <td>DDD</td>\n        <td>2013B</td>\n        <td>25343</td>\n        <td>CMA</td>\n        <td>79</td>\n        <td>3</td>\n    </tr>\n    <tr>\n        <td>DDD</td>\n        <td>2013B</td>\n        <td>25344</td>\n        <td>CMA</td>\n        <td>114</td>\n        <td>4</td>\n    </tr>\n    <tr>\n        <td>DDD</td>\n        <td>2013B</td>\n        <td>25345</td>\n        <td>CMA</td>\n        <td>149</td>\n        <td>4</td>\n    </tr>\n    <tr>\n        <td>DDD</td>\n        <td>2013B</td>\n        <td>25346</td>\n        <td>CMA</td>\n        <td>170</td>\n        <td>3</td>\n    </tr>\n    <tr>\n        <td>DDD</td>\n        <td>2013B</td>\n        <td>25347</td>\n        <td>CMA</td>\n        <td>206</td>\n        <td>6</td>\n    </tr>\n    <tr>\n        <td>DDD</td>\n        <td>2013B</td>\n        <td>25334</td>\n        <td>TMA</td>\n        <td>25</td>\n        <td>7.5</td>\n    </tr>\n    <tr>\n        <td>DDD</td>\n        <td>2013B</td>\n        <td>25335</td>\n        <td>TMA</td>\n        <td>53</td>\n        <td>10</td>\n    </tr>\n    <tr>\n        <td>DDD</td>\n        <td>2013B</td>\n        <td>25336</td>\n        <td>TMA</td>\n        <td>81</td>\n        <td>12.5</td>\n    </tr>\n    <tr>\n        <td>DDD</td>\n        <td>2013B</td>\n        <td>25337</td>\n        <td>TMA</td>\n        <td>116</td>\n        <td>15</td>\n    </tr>\n    <tr>\n        <td>DDD</td>\n        <td>2013B</td>\n        <td>25338</td>\n        <td>TMA</td>\n        <td>151</td>\n        <td>15</td>\n    </tr>\n    <tr>\n        <td>DDD</td>\n        <td>2013B</td>\n        <td>25339</td>\n        <td>TMA</td>\n        <td>200</td>\n        <td>15</td>\n    </tr>\n    <tr>\n        <td>DDD</td>\n        <td>2013B</td>\n        <td>25340</td>\n        <td>Exam</td>\n        <td>240</td>\n        <td>100</td>\n    </tr>\n    <tr>\n        <td>DDD</td>\n        <td>2013J</td>\n        <td>25348</td>\n        <td>TMA</td>\n        <td>25</td>\n        <td>10</td>\n    </tr>\n    <tr>\n        <td>DDD</td>\n        <td>2013J</td>\n        <td>25349</td>\n        <td>TMA</td>\n        <td>53</td>\n        <td>12.5</td>\n    </tr>\n    <tr>\n        <td>DDD</td>\n        <td>2013J</td>\n        <td>25350</td>\n        <td>TMA</td>\n        <td>88</td>\n        <td>17.5</td>\n    </tr>\n    <tr>\n        <td>DDD</td>\n        <td>2013J</td>\n        <td>25351</td>\n        <td>TMA</td>\n        <td>123</td>\n        <td>20</td>\n    </tr>\n    <tr>\n        <td>DDD</td>\n        <td>2013J</td>\n        <td>25352</td>\n        <td>TMA</td>\n        <td>165</td>\n        <td>20</td>\n    </tr>\n    <tr>\n        <td>DDD</td>\n        <td>2013J</td>\n        <td>25353</td>\n        <td>TMA</td>\n        <td>207</td>\n        <td>20</td>\n    </tr>\n    <tr>\n        <td>DDD</td>\n        <td>2013J</td>\n        <td>25354</td>\n        <td>Exam</td>\n        <td>261</td>\n        <td>100</td>\n    </tr>\n    <tr>\n        <td>DDD</td>\n        <td>2014B</td>\n        <td>25355</td>\n        <td>TMA</td>\n        <td>25</td>\n        <td>10</td>\n    </tr>\n    <tr>\n        <td>DDD</td>\n        <td>2014B</td>\n        <td>25356</td>\n        <td>TMA</td>\n        <td>53</td>\n        <td>12.5</td>\n    </tr>\n    <tr>\n        <td>DDD</td>\n        <td>2014B</td>\n        <td>25357</td>\n        <td>TMA</td>\n        <td>74</td>\n        <td>17.5</td>\n    </tr>\n    <tr>\n        <td>DDD</td>\n        <td>2014B</td>\n        <td>25358</td>\n        <td>TMA</td>\n        <td>116</td>\n        <td>20</td>\n    </tr>\n    <tr>\n        <td>DDD</td>\n        <td>2014B</td>\n        <td>25359</td>\n        <td>TMA</td>\n        <td>158</td>\n        <td>20</td>\n    </tr>\n    <tr>\n        <td>DDD</td>\n        <td>2014B</td>\n        <td>25360</td>\n        <td>TMA</td>\n        <td>200</td>\n        <td>20</td>\n    </tr>\n    <tr>\n        <td>DDD</td>\n        <td>2014B</td>\n        <td>25361</td>\n        <td>Exam</td>\n        <td>241</td>\n        <td>100</td>\n    </tr>\n    <tr>\n        <td>DDD</td>\n        <td>2014J</td>\n        <td>25362</td>\n        <td>TMA</td>\n        <td>20</td>\n        <td>5</td>\n    </tr>\n    <tr>\n        <td>DDD</td>\n        <td>2014J</td>\n        <td>25363</td>\n        <td>TMA</td>\n        <td>41</td>\n        <td>10</td>\n    </tr>\n    <tr>\n        <td>DDD</td>\n        <td>2014J</td>\n        <td>25364</td>\n        <td>TMA</td>\n        <td>62</td>\n        <td>10</td>\n    </tr>\n    <tr>\n        <td>DDD</td>\n        <td>2014J</td>\n        <td>25365</td>\n        <td>TMA</td>\n        <td>111</td>\n        <td>25</td>\n    </tr>\n    <tr>\n        <td>DDD</td>\n        <td>2014J</td>\n        <td>25366</td>\n        <td>TMA</td>\n        <td>146</td>\n        <td>25</td>\n    </tr>\n    <tr>\n        <td>DDD</td>\n        <td>2014J</td>\n        <td>25367</td>\n        <td>TMA</td>\n        <td>195</td>\n        <td>25</td>\n    </tr>\n    <tr>\n        <td>DDD</td>\n        <td>2014J</td>\n        <td>25368</td>\n        <td>Exam</td>\n        <td>DEFAULT</td>\n        <td>100</td>\n    </tr>\n    <tr>\n        <td>EEE</td>\n        <td>2013J</td>\n        <td>30709</td>\n        <td>TMA</td>\n        <td>33</td>\n        <td>16</td>\n    </tr>\n    <tr>\n        <td>EEE</td>\n        <td>2013J</td>\n        <td>30710</td>\n        <td>TMA</td>\n        <td>68</td>\n        <td>28</td>\n    </tr>\n    <tr>\n        <td>EEE</td>\n        <td>2013J</td>\n        <td>30711</td>\n        <td>TMA</td>\n        <td>124</td>\n        <td>28</td>\n    </tr>\n    <tr>\n        <td>EEE</td>\n        <td>2013J</td>\n        <td>30712</td>\n        <td>TMA</td>\n        <td>159</td>\n        <td>28</td>\n    </tr>\n    <tr>\n        <td>EEE</td>\n        <td>2013J</td>\n        <td>30713</td>\n        <td>Exam</td>\n        <td>235</td>\n        <td>100</td>\n    </tr>\n    <tr>\n        <td>EEE</td>\n        <td>2014B</td>\n        <td>30714</td>\n        <td>TMA</td>\n        <td>33</td>\n        <td>16</td>\n    </tr>\n    <tr>\n        <td>EEE</td>\n        <td>2014B</td>\n        <td>30715</td>\n        <td>TMA</td>\n        <td>68</td>\n        <td>28</td>\n    </tr>\n    <tr>\n        <td>EEE</td>\n        <td>2014B</td>\n        <td>30716</td>\n        <td>TMA</td>\n        <td>117</td>\n        <td>28</td>\n    </tr>\n    <tr>\n        <td>EEE</td>\n        <td>2014B</td>\n        <td>30717</td>\n        <td>TMA</td>\n        <td>152</td>\n        <td>28</td>\n    </tr>\n    <tr>\n        <td>EEE</td>\n        <td>2014B</td>\n        <td>30718</td>\n        <td>Exam</td>\n        <td>228</td>\n        <td>100</td>\n    </tr>\n    <tr>\n        <td>EEE</td>\n        <td>2014J</td>\n        <td>30719</td>\n        <td>TMA</td>\n        <td>33</td>\n        <td>16</td>\n    </tr>\n    <tr>\n        <td>EEE</td>\n        <td>2014J</td>\n        <td>30720</td>\n        <td>TMA</td>\n        <td>68</td>\n        <td>28</td>\n    </tr>\n    <tr>\n        <td>EEE</td>\n        <td>2014J</td>\n        <td>30721</td>\n        <td>TMA</td>\n        <td>131</td>\n        <td>28</td>\n    </tr>\n    <tr>\n        <td>EEE</td>\n        <td>2014J</td>\n        <td>30722</td>\n        <td>TMA</td>\n        <td>166</td>\n        <td>28</td>\n    </tr>\n    <tr>\n        <td>EEE</td>\n        <td>2014J</td>\n        <td>30723</td>\n        <td>Exam</td>\n        <td>235</td>\n        <td>100</td>\n    </tr>\n    <tr>\n        <td>FFF</td>\n        <td>2013B</td>\n        <td>34865</td>\n        <td>CMA</td>\n        <td>222</td>\n        <td>0</td>\n    </tr>\n    <tr>\n        <td>FFF</td>\n        <td>2013B</td>\n        <td>34866</td>\n        <td>CMA</td>\n        <td>222</td>\n        <td>0</td>\n    </tr>\n    <tr>\n        <td>FFF</td>\n        <td>2013B</td>\n        <td>34867</td>\n        <td>CMA</td>\n        <td>222</td>\n        <td>0</td>\n    </tr>\n    <tr>\n        <td>FFF</td>\n        <td>2013B</td>\n        <td>34868</td>\n        <td>CMA</td>\n        <td>222</td>\n        <td>0</td>\n    </tr>\n    <tr>\n        <td>FFF</td>\n        <td>2013B</td>\n        <td>34869</td>\n        <td>CMA</td>\n        <td>222</td>\n        <td>0</td>\n    </tr>\n    <tr>\n        <td>FFF</td>\n        <td>2013B</td>\n        <td>34871</td>\n        <td>CMA</td>\n        <td>222</td>\n        <td>0</td>\n    </tr>\n    <tr>\n        <td>FFF</td>\n        <td>2013B</td>\n        <td>34870</td>\n        <td>CMA</td>\n        <td>222</td>\n        <td>0</td>\n    </tr>\n    <tr>\n        <td>FFF</td>\n        <td>2013B</td>\n        <td>34860</td>\n        <td>TMA</td>\n        <td>19</td>\n        <td>12.5</td>\n    </tr>\n    <tr>\n        <td>FFF</td>\n        <td>2013B</td>\n        <td>34861</td>\n        <td>TMA</td>\n        <td>47</td>\n        <td>12.5</td>\n    </tr>\n    <tr>\n        <td>FFF</td>\n        <td>2013B</td>\n        <td>34862</td>\n        <td>TMA</td>\n        <td>89</td>\n        <td>25</td>\n    </tr>\n    <tr>\n        <td>FFF</td>\n        <td>2013B</td>\n        <td>34863</td>\n        <td>TMA</td>\n        <td>131</td>\n        <td>25</td>\n    </tr>\n    <tr>\n        <td>FFF</td>\n        <td>2013B</td>\n        <td>34864</td>\n        <td>TMA</td>\n        <td>166</td>\n        <td>25</td>\n    </tr>\n    <tr>\n        <td>FFF</td>\n        <td>2013B</td>\n        <td>34872</td>\n        <td>Exam</td>\n        <td>222</td>\n        <td>100</td>\n    </tr>\n    <tr>\n        <td>FFF</td>\n        <td>2013J</td>\n        <td>34878</td>\n        <td>CMA</td>\n        <td>236</td>\n        <td>0</td>\n    </tr>\n    <tr>\n        <td>FFF</td>\n        <td>2013J</td>\n        <td>34879</td>\n        <td>CMA</td>\n        <td>236</td>\n        <td>0</td>\n    </tr>\n    <tr>\n        <td>FFF</td>\n        <td>2013J</td>\n        <td>34880</td>\n        <td>CMA</td>\n        <td>236</td>\n        <td>0</td>\n    </tr>\n    <tr>\n        <td>FFF</td>\n        <td>2013J</td>\n        <td>34881</td>\n        <td>CMA</td>\n        <td>236</td>\n        <td>0</td>\n    </tr>\n    <tr>\n        <td>FFF</td>\n        <td>2013J</td>\n        <td>34882</td>\n        <td>CMA</td>\n        <td>236</td>\n        <td>0</td>\n    </tr>\n    <tr>\n        <td>FFF</td>\n        <td>2013J</td>\n        <td>34884</td>\n        <td>CMA</td>\n        <td>236</td>\n        <td>0</td>\n    </tr>\n    <tr>\n        <td>FFF</td>\n        <td>2013J</td>\n        <td>34883</td>\n        <td>CMA</td>\n        <td>236</td>\n        <td>0</td>\n    </tr>\n    <tr>\n        <td>FFF</td>\n        <td>2013J</td>\n        <td>34873</td>\n        <td>TMA</td>\n        <td>19</td>\n        <td>12.5</td>\n    </tr>\n    <tr>\n        <td>FFF</td>\n        <td>2013J</td>\n        <td>34874</td>\n        <td>TMA</td>\n        <td>47</td>\n        <td>12.5</td>\n    </tr>\n    <tr>\n        <td>FFF</td>\n        <td>2013J</td>\n        <td>34875</td>\n        <td>TMA</td>\n        <td>96</td>\n        <td>25</td>\n    </tr>\n    <tr>\n        <td>FFF</td>\n        <td>2013J</td>\n        <td>34876</td>\n        <td>TMA</td>\n        <td>131</td>\n        <td>25</td>\n    </tr>\n    <tr>\n        <td>FFF</td>\n        <td>2013J</td>\n        <td>34877</td>\n        <td>TMA</td>\n        <td>173</td>\n        <td>25</td>\n    </tr>\n    <tr>\n        <td>FFF</td>\n        <td>2013J</td>\n        <td>34885</td>\n        <td>Exam</td>\n        <td>236</td>\n        <td>100</td>\n    </tr>\n    <tr>\n        <td>FFF</td>\n        <td>2014B</td>\n        <td>34891</td>\n        <td>CMA</td>\n        <td>227</td>\n        <td>0</td>\n    </tr>\n    <tr>\n        <td>FFF</td>\n        <td>2014B</td>\n        <td>34892</td>\n        <td>CMA</td>\n        <td>227</td>\n        <td>0</td>\n    </tr>\n    <tr>\n        <td>FFF</td>\n        <td>2014B</td>\n        <td>34893</td>\n        <td>CMA</td>\n        <td>227</td>\n        <td>0</td>\n    </tr>\n    <tr>\n        <td>FFF</td>\n        <td>2014B</td>\n        <td>34894</td>\n        <td>CMA</td>\n        <td>227</td>\n        <td>0</td>\n    </tr>\n    <tr>\n        <td>FFF</td>\n        <td>2014B</td>\n        <td>34895</td>\n        <td>CMA</td>\n        <td>227</td>\n        <td>0</td>\n    </tr>\n    <tr>\n        <td>FFF</td>\n        <td>2014B</td>\n        <td>34897</td>\n        <td>CMA</td>\n        <td>227</td>\n        <td>0</td>\n    </tr>\n    <tr>\n        <td>FFF</td>\n        <td>2014B</td>\n        <td>34896</td>\n        <td>CMA</td>\n        <td>227</td>\n        <td>0</td>\n    </tr>\n    <tr>\n        <td>FFF</td>\n        <td>2014B</td>\n        <td>34886</td>\n        <td>TMA</td>\n        <td>24</td>\n        <td>12.5</td>\n    </tr>\n    <tr>\n        <td>FFF</td>\n        <td>2014B</td>\n        <td>34887</td>\n        <td>TMA</td>\n        <td>52</td>\n        <td>12.5</td>\n    </tr>\n    <tr>\n        <td>FFF</td>\n        <td>2014B</td>\n        <td>34888</td>\n        <td>TMA</td>\n        <td>87</td>\n        <td>25</td>\n    </tr>\n    <tr>\n        <td>FFF</td>\n        <td>2014B</td>\n        <td>34889</td>\n        <td>TMA</td>\n        <td>129</td>\n        <td>25</td>\n    </tr>\n    <tr>\n        <td>FFF</td>\n        <td>2014B</td>\n        <td>34890</td>\n        <td>TMA</td>\n        <td>171</td>\n        <td>25</td>\n    </tr>\n    <tr>\n        <td>FFF</td>\n        <td>2014B</td>\n        <td>34898</td>\n        <td>Exam</td>\n        <td>227</td>\n        <td>100</td>\n    </tr>\n    <tr>\n        <td>FFF</td>\n        <td>2014J</td>\n        <td>34904</td>\n        <td>CMA</td>\n        <td>241</td>\n        <td>0</td>\n    </tr>\n    <tr>\n        <td>FFF</td>\n        <td>2014J</td>\n        <td>34905</td>\n        <td>CMA</td>\n        <td>241</td>\n        <td>0</td>\n    </tr>\n    <tr>\n        <td>FFF</td>\n        <td>2014J</td>\n        <td>34906</td>\n        <td>CMA</td>\n        <td>241</td>\n        <td>0</td>\n    </tr>\n    <tr>\n        <td>FFF</td>\n        <td>2014J</td>\n        <td>34907</td>\n        <td>CMA</td>\n        <td>241</td>\n        <td>0</td>\n    </tr>\n    <tr>\n        <td>FFF</td>\n        <td>2014J</td>\n        <td>34908</td>\n        <td>CMA</td>\n        <td>241</td>\n        <td>0</td>\n    </tr>\n    <tr>\n        <td>FFF</td>\n        <td>2014J</td>\n        <td>34910</td>\n        <td>CMA</td>\n        <td>241</td>\n        <td>0</td>\n    </tr>\n    <tr>\n        <td>FFF</td>\n        <td>2014J</td>\n        <td>34909</td>\n        <td>CMA</td>\n        <td>241</td>\n        <td>0</td>\n    </tr>\n    <tr>\n        <td>FFF</td>\n        <td>2014J</td>\n        <td>34899</td>\n        <td>TMA</td>\n        <td>24</td>\n        <td>12.5</td>\n    </tr>\n    <tr>\n        <td>FFF</td>\n        <td>2014J</td>\n        <td>34900</td>\n        <td>TMA</td>\n        <td>52</td>\n        <td>12.5</td>\n    </tr>\n    <tr>\n        <td>FFF</td>\n        <td>2014J</td>\n        <td>34901</td>\n        <td>TMA</td>\n        <td>94</td>\n        <td>25</td>\n    </tr>\n    <tr>\n        <td>FFF</td>\n        <td>2014J</td>\n        <td>34902</td>\n        <td>TMA</td>\n        <td>136</td>\n        <td>25</td>\n    </tr>\n    <tr>\n        <td>FFF</td>\n        <td>2014J</td>\n        <td>34903</td>\n        <td>TMA</td>\n        <td>199</td>\n        <td>25</td>\n    </tr>\n    <tr>\n        <td>FFF</td>\n        <td>2014J</td>\n        <td>34911</td>\n        <td>Exam</td>\n        <td>241</td>\n        <td>100</td>\n    </tr>\n    <tr>\n        <td>GGG</td>\n        <td>2013J</td>\n        <td>37418</td>\n        <td>CMA</td>\n        <td>229</td>\n        <td>0</td>\n    </tr>\n    <tr>\n        <td>GGG</td>\n        <td>2013J</td>\n        <td>37419</td>\n        <td>CMA</td>\n        <td>229</td>\n        <td>0</td>\n    </tr>\n    <tr>\n        <td>GGG</td>\n        <td>2013J</td>\n        <td>37420</td>\n        <td>CMA</td>\n        <td>229</td>\n        <td>0</td>\n    </tr>\n    <tr>\n        <td>GGG</td>\n        <td>2013J</td>\n        <td>37421</td>\n        <td>CMA</td>\n        <td>229</td>\n        <td>0</td>\n    </tr>\n    <tr>\n        <td>GGG</td>\n        <td>2013J</td>\n        <td>37422</td>\n        <td>CMA</td>\n        <td>229</td>\n        <td>0</td>\n    </tr>\n    <tr>\n        <td>GGG</td>\n        <td>2013J</td>\n        <td>37423</td>\n        <td>CMA</td>\n        <td>229</td>\n        <td>0</td>\n    </tr>\n    <tr>\n        <td>GGG</td>\n        <td>2013J</td>\n        <td>37415</td>\n        <td>TMA</td>\n        <td>61</td>\n        <td>0</td>\n    </tr>\n    <tr>\n        <td>GGG</td>\n        <td>2013J</td>\n        <td>37416</td>\n        <td>TMA</td>\n        <td>124</td>\n        <td>0</td>\n    </tr>\n    <tr>\n        <td>GGG</td>\n        <td>2013J</td>\n        <td>37417</td>\n        <td>TMA</td>\n        <td>173</td>\n        <td>0</td>\n    </tr>\n    <tr>\n        <td>GGG</td>\n        <td>2013J</td>\n        <td>37424</td>\n        <td>Exam</td>\n        <td>229</td>\n        <td>100</td>\n    </tr>\n    <tr>\n        <td>GGG</td>\n        <td>2014B</td>\n        <td>37428</td>\n        <td>CMA</td>\n        <td>222</td>\n        <td>0</td>\n    </tr>\n    <tr>\n        <td>GGG</td>\n        <td>2014B</td>\n        <td>37429</td>\n        <td>CMA</td>\n        <td>222</td>\n        <td>0</td>\n    </tr>\n    <tr>\n        <td>GGG</td>\n        <td>2014B</td>\n        <td>37430</td>\n        <td>CMA</td>\n        <td>222</td>\n        <td>0</td>\n    </tr>\n    <tr>\n        <td>GGG</td>\n        <td>2014B</td>\n        <td>37431</td>\n        <td>CMA</td>\n        <td>222</td>\n        <td>0</td>\n    </tr>\n    <tr>\n        <td>GGG</td>\n        <td>2014B</td>\n        <td>37432</td>\n        <td>CMA</td>\n        <td>222</td>\n        <td>0</td>\n    </tr>\n    <tr>\n        <td>GGG</td>\n        <td>2014B</td>\n        <td>37433</td>\n        <td>CMA</td>\n        <td>222</td>\n        <td>0</td>\n    </tr>\n    <tr>\n        <td>GGG</td>\n        <td>2014B</td>\n        <td>37425</td>\n        <td>TMA</td>\n        <td>61</td>\n        <td>0</td>\n    </tr>\n    <tr>\n        <td>GGG</td>\n        <td>2014B</td>\n        <td>37426</td>\n        <td>TMA</td>\n        <td>117</td>\n        <td>0</td>\n    </tr>\n    <tr>\n        <td>GGG</td>\n        <td>2014B</td>\n        <td>37427</td>\n        <td>TMA</td>\n        <td>166</td>\n        <td>0</td>\n    </tr>\n    <tr>\n        <td>GGG</td>\n        <td>2014B</td>\n        <td>37434</td>\n        <td>Exam</td>\n        <td>222</td>\n        <td>100</td>\n    </tr>\n    <tr>\n        <td>GGG</td>\n        <td>2014J</td>\n        <td>37438</td>\n        <td>CMA</td>\n        <td>229</td>\n        <td>0</td>\n    </tr>\n    <tr>\n        <td>GGG</td>\n        <td>2014J</td>\n        <td>37439</td>\n        <td>CMA</td>\n        <td>229</td>\n        <td>0</td>\n    </tr>\n    <tr>\n        <td>GGG</td>\n        <td>2014J</td>\n        <td>37440</td>\n        <td>CMA</td>\n        <td>229</td>\n        <td>0</td>\n    </tr>\n    <tr>\n        <td>GGG</td>\n        <td>2014J</td>\n        <td>37441</td>\n        <td>CMA</td>\n        <td>229</td>\n        <td>0</td>\n    </tr>\n    <tr>\n        <td>GGG</td>\n        <td>2014J</td>\n        <td>37442</td>\n        <td>CMA</td>\n        <td>229</td>\n        <td>0</td>\n    </tr>\n    <tr>\n        <td>GGG</td>\n        <td>2014J</td>\n        <td>37443</td>\n        <td>CMA</td>\n        <td>229</td>\n        <td>0</td>\n    </tr>\n    <tr>\n        <td>GGG</td>\n        <td>2014J</td>\n        <td>37435</td>\n        <td>TMA</td>\n        <td>61</td>\n        <td>0</td>\n    </tr>\n    <tr>\n        <td>GGG</td>\n        <td>2014J</td>\n        <td>37436</td>\n        <td>TMA</td>\n        <td>124</td>\n        <td>0</td>\n    </tr>\n    <tr>\n        <td>GGG</td>\n        <td>2014J</td>\n        <td>37437</td>\n        <td>TMA</td>\n        <td>173</td>\n        <td>0</td>\n    </tr>\n    <tr>\n        <td>GGG</td>\n        <td>2014J</td>\n        <td>37444</td>\n        <td>Exam</td>\n        <td>229</td>\n        <td>100</td>\n    </tr>\n</table>"
     },
     "metadata": {},
     "execution_count": 46
    }
   ],
   "source": [
    "\n",
    "sqlres = %sql SELECT * from assessments;\n",
    "sqlres\n"
   ]
  },
  {
   "cell_type": "markdown",
   "metadata": {},
   "source": [
    "## We have reached the end of the demonstration section. Now it's your turn!\n",
    "See if you can create the structure for the other tables and populate the tables with the values from the CSV files using Python. Be warned, not all data types are obvious! We have some boolean types, some date representations and other challenging data types to map.\n",
    "\n",
    "If you find this easy then feel free to go ahead and try to take the exercise further. For example you could:\n",
    "- Produce summary statistics for the columns using COUNT, AVG, SUM etc.\n",
    "- Create some small visualisations of the data. We cover plotting later on in the course, so this might be a nice precursor to exploring tools like Matplotlib.\n",
    "- If you really want to explore more deeply you might want to look at some advanced SQL functions, for instance by  combining multiple queries using JOINS or UNIONS."
   ]
  },
  {
   "cell_type": "code",
   "execution_count": null,
   "metadata": {},
   "outputs": [],
   "source": [
    "# Let's get coding!"
   ]
  },
  {
   "cell_type": "code",
   "execution_count": null,
   "metadata": {},
   "outputs": [],
   "source": []
  }
 ],
 "metadata": {
  "kernelspec": {
   "name": "python391jvsc74a57bd0ac59ebe37160ed0dfa835113d9b8498d9f09ceb179beaac4002f036b9467c963",
   "display_name": "Python 3.9.1 64-bit"
  },
  "language_info": {
   "codemirror_mode": {
    "name": "ipython",
    "version": 3
   },
   "file_extension": ".py",
   "mimetype": "text/x-python",
   "name": "python",
   "nbconvert_exporter": "python",
   "pygments_lexer": "ipython3",
   "version": "3.9.1"
  },
  "metadata": {
   "interpreter": {
    "hash": "ac59ebe37160ed0dfa835113d9b8498d9f09ceb179beaac4002f036b9467c963"
   }
  }
 },
 "nbformat": 4,
 "nbformat_minor": 4
}