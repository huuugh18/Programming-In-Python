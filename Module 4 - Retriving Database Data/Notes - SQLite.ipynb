{
 "metadata": {
  "language_info": {
   "codemirror_mode": {
    "name": "ipython",
    "version": 3
   },
   "file_extension": ".py",
   "mimetype": "text/x-python",
   "name": "python",
   "nbconvert_exporter": "python",
   "pygments_lexer": "ipython3",
   "version": "3.9.1"
  },
  "orig_nbformat": 2,
  "kernelspec": {
   "name": "python391jvsc74a57bd0ac59ebe37160ed0dfa835113d9b8498d9f09ceb179beaac4002f036b9467c963",
   "display_name": "Python 3.9.1 64-bit"
  },
  "metadata": {
   "interpreter": {
    "hash": "ac59ebe37160ed0dfa835113d9b8498d9f09ceb179beaac4002f036b9467c963"
   }
  }
 },
 "nbformat": 4,
 "nbformat_minor": 2,
 "cells": [
  {
   "source": [
    "## SQLite tutorial using sqlite3\n",
    "\n",
    "[tutorialspoint.com]('https://www.tutorialspoint.com/sqlite/sqlite_python.htm')"
   ],
   "cell_type": "markdown",
   "metadata": {}
  },
  {
   "cell_type": "code",
   "execution_count": 14,
   "metadata": {},
   "outputs": [
    {
     "output_type": "stream",
     "name": "stdout",
     "text": [
      "opened db successfully\n"
     ]
    },
    {
     "output_type": "error",
     "ename": "OperationalError",
     "evalue": "table COMPANY already exists",
     "traceback": [
      "\u001b[1;31m---------------------------------------------------------------------------\u001b[0m",
      "\u001b[1;31mOperationalError\u001b[0m                          Traceback (most recent call last)",
      "\u001b[1;32m<ipython-input-14-3999f00c55f9>\u001b[0m in \u001b[0;36m<module>\u001b[1;34m\u001b[0m\n\u001b[0;32m      7\u001b[0m \u001b[0mprint\u001b[0m\u001b[1;33m(\u001b[0m\u001b[1;34m'opened db successfully'\u001b[0m\u001b[1;33m)\u001b[0m\u001b[1;33m\u001b[0m\u001b[1;33m\u001b[0m\u001b[0m\n\u001b[0;32m      8\u001b[0m \u001b[1;33m\u001b[0m\u001b[0m\n\u001b[1;32m----> 9\u001b[1;33m conn.execute('''CREATE TABLE COMPANY\n\u001b[0m\u001b[0;32m     10\u001b[0m          (ID INT PRIMARY KEY     NOT NULL,\n\u001b[0;32m     11\u001b[0m          \u001b[0mNAME\u001b[0m           \u001b[0mTEXT\u001b[0m    \u001b[0mNOT\u001b[0m \u001b[0mNULL\u001b[0m\u001b[1;33m,\u001b[0m\u001b[1;33m\u001b[0m\u001b[1;33m\u001b[0m\u001b[0m\n",
      "\u001b[1;31mOperationalError\u001b[0m: table COMPANY already exists"
     ]
    }
   ],
   "source": [
    "## CREATE A DB AND A TABLE IN THE DB\n",
    "\n",
    "import sqlite3\n",
    "\n",
    "conn = sqlite3.connect('test.db')\n",
    "\n",
    "print('opened db successfully')\n",
    "\n",
    "conn.execute('''CREATE TABLE COMPANY\n",
    "         (ID INT PRIMARY KEY     NOT NULL,\n",
    "         NAME           TEXT    NOT NULL,\n",
    "         AGE            INT     NOT NULL,\n",
    "         ADDRESS        CHAR(50),\n",
    "         SALARY         REAL);''')\n",
    "print (\"Table created successfully\");\n",
    "\n",
    "conn.close()"
   ]
  },
  {
   "cell_type": "code",
   "execution_count": 8,
   "metadata": {},
   "outputs": [
    {
     "output_type": "stream",
     "name": "stdout",
     "text": [
      "Opened database successfully\nRecords created successfully\n"
     ]
    }
   ],
   "source": [
    "# INSERT OPERATION\n",
    "\n",
    "conn = sqlite3.connect('test.db')\n",
    "print (\"Opened database successfully\");\n",
    "\n",
    "conn.execute(\"INSERT INTO COMPANY (ID,NAME,AGE,ADDRESS,SALARY) \\\n",
    "      VALUES (1, 'Paul', 32, 'California', 20000.00 )\");\n",
    "\n",
    "conn.execute(\"INSERT INTO COMPANY (ID,NAME,AGE,ADDRESS,SALARY) \\\n",
    "      VALUES (2, 'Allen', 25, 'Texas', 15000.00 )\");\n",
    "\n",
    "conn.execute(\"INSERT INTO COMPANY (ID,NAME,AGE,ADDRESS,SALARY) \\\n",
    "      VALUES (3, 'Teddy', 23, 'Norway', 20000.00 )\");\n",
    "\n",
    "conn.execute(\"INSERT INTO COMPANY (ID,NAME,AGE,ADDRESS,SALARY) \\\n",
    "      VALUES (4, 'Mark', 25, 'Rich-Mond ', 65000.00 )\");\n",
    "\n",
    "conn.commit()\n",
    "print (\"Records created successfully\");\n",
    "conn.close()"
   ]
  },
  {
   "cell_type": "code",
   "execution_count": 10,
   "metadata": {},
   "outputs": [
    {
     "output_type": "stream",
     "name": "stdout",
     "text": [
      "Opened database successfully\nID =  1\nNAME =  Paul\nADDRESS =  California\nSALARY =  20000.0 \n\nID =  2\nNAME =  Allen\nADDRESS =  Texas\nSALARY =  15000.0 \n\nID =  3\nNAME =  Teddy\nADDRESS =  Norway\nSALARY =  20000.0 \n\nID =  4\nNAME =  Mark\nADDRESS =  Rich-Mond \nSALARY =  65000.0 \n\nOperation done successfully\n"
     ]
    }
   ],
   "source": [
    "# SELECT OPERATION\n",
    "\n",
    "conn = sqlite3.connect('test.db')\n",
    "print (\"Opened database successfully\");\n",
    "\n",
    "cursor = conn.execute(\"SELECT id, name, address, salary from COMPANY\")\n",
    "for row in cursor:\n",
    "   print (\"ID = \", row[0])\n",
    "   print (\"NAME = \", row[1])\n",
    "   print (\"ADDRESS = \", row[2])\n",
    "   print (\"SALARY = \", row[3], \"\\n\")\n",
    "\n",
    "print (\"Operation done successfully\");\n",
    "conn.close()"
   ]
  },
  {
   "cell_type": "code",
   "execution_count": 12,
   "metadata": {},
   "outputs": [
    {
     "output_type": "stream",
     "name": "stdout",
     "text": [
      "Opened database successfully\nTotal number of rows updated : 1\nID =  1\nNAME =  Paul\nADDRESS =  California\nSALARY =  25000.0 \n\nID =  2\nNAME =  Allen\nADDRESS =  Texas\nSALARY =  15000.0 \n\nID =  3\nNAME =  Teddy\nADDRESS =  Norway\nSALARY =  20000.0 \n\nID =  4\nNAME =  Mark\nADDRESS =  Rich-Mond \nSALARY =  65000.0 \n\nOperation done successfully\n"
     ]
    }
   ],
   "source": [
    "# UPDATE OPERATION\n",
    "\n",
    "conn = sqlite3.connect('test.db')\n",
    "print (\"Opened database successfully\");\n",
    "\n",
    "conn.execute(\"UPDATE COMPANY set SALARY = 25000.00 where ID = 1\")\n",
    "conn.commit()\n",
    "print (\"Total number of rows updated :\", conn.total_changes)\n",
    "\n",
    "cursor = conn.execute(\"SELECT id, name, address, salary from COMPANY\")\n",
    "for row in cursor:\n",
    "   print (\"ID = \", row[0])\n",
    "   print (\"NAME = \", row[1])\n",
    "   print (\"ADDRESS = \", row[2])\n",
    "   print (\"SALARY = \", row[3], \"\\n\")\n",
    "\n",
    "print (\"Operation done successfully\");\n",
    "conn.close()"
   ]
  },
  {
   "cell_type": "code",
   "execution_count": 13,
   "metadata": {},
   "outputs": [
    {
     "output_type": "stream",
     "name": "stdout",
     "text": [
      "Opened database successfully\nTotal number of rows deleted : 1\nID =  1\nNAME =  Paul\nADDRESS =  California\nSALARY =  25000.0 \n\nID =  3\nNAME =  Teddy\nADDRESS =  Norway\nSALARY =  20000.0 \n\nID =  4\nNAME =  Mark\nADDRESS =  Rich-Mond \nSALARY =  65000.0 \n\nOperation done successfully\n"
     ]
    }
   ],
   "source": [
    "# DELETE OPERATION\n",
    "\n",
    "conn = sqlite3.connect('test.db')\n",
    "print( \"Opened database successfully\")\n",
    "\n",
    "conn.execute(\"DELETE from COMPANY where ID = 2;\")\n",
    "conn.commit()\n",
    "print( \"Total number of rows deleted :\", conn.total_changes)\n",
    "\n",
    "cursor = conn.execute(\"SELECT id, name, address, salary from COMPANY\")\n",
    "for row in cursor:\n",
    "   print( \"ID = \", row[0])\n",
    "   print( \"NAME = \", row[1])\n",
    "   print( \"ADDRESS = \", row[2])\n",
    "   print( \"SALARY = \", row[3], \"\\n\")\n",
    "\n",
    "print( \"Operation done successfully\")\n",
    "conn.close()"
   ]
  }
 ]
}