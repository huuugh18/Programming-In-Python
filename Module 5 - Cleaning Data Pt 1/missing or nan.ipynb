{
 "metadata": {
  "language_info": {
   "codemirror_mode": {
    "name": "ipython",
    "version": 3
   },
   "file_extension": ".py",
   "mimetype": "text/x-python",
   "name": "python",
   "nbconvert_exporter": "python",
   "pygments_lexer": "ipython3",
   "version": "3.9.1"
  },
  "orig_nbformat": 2,
  "kernelspec": {
   "name": "python391jvsc74a57bd0ac59ebe37160ed0dfa835113d9b8498d9f09ceb179beaac4002f036b9467c963",
   "display_name": "Python 3.9.1 64-bit"
  },
  "metadata": {
   "interpreter": {
    "hash": "ac59ebe37160ed0dfa835113d9b8498d9f09ceb179beaac4002f036b9467c963"
   }
  }
 },
 "nbformat": 4,
 "nbformat_minor": 2,
 "cells": [
  {
   "cell_type": "code",
   "execution_count": 2,
   "metadata": {},
   "outputs": [
    {
     "output_type": "execute_result",
     "data": {
      "text/plain": [
       "0    False\n",
       "1    False\n",
       "2     True\n",
       "3    False\n",
       "4     True\n",
       "5    False\n",
       "dtype: bool"
      ]
     },
     "metadata": {},
     "execution_count": 2
    }
   ],
   "source": [
    "import numpy as np \n",
    "import pandas as pd \n",
    "\n",
    "myseries = pd.Series(['one', 'two', np.nan, 'four', None, 'six'])\n",
    "#check for null values - true = a null value\n",
    "myseries.isnull()"
   ]
  },
  {
   "cell_type": "code",
   "execution_count": 4,
   "metadata": {},
   "outputs": [
    {
     "output_type": "execute_result",
     "data": {
      "text/plain": [
       "0     one\n",
       "1     two\n",
       "3    four\n",
       "5     six\n",
       "dtype: object"
      ]
     },
     "metadata": {},
     "execution_count": 4
    }
   ],
   "source": [
    "not_null = myseries[myseries.notnull()]\n",
    "# OR\n",
    "not_null2 = myseries.dropna()\n",
    "\n",
    "#not_null"
   ]
  },
  {
   "cell_type": "code",
   "execution_count": 109,
   "metadata": {},
   "outputs": [
    {
     "output_type": "execute_result",
     "data": {
      "text/plain": [
       "          0         1         2         3         4         5         6  \\\n",
       "0  0.587618  0.076195  0.475571  0.829146  0.916906  0.993331  0.303230   \n",
       "1  0.267397  0.538446  0.638075  0.969956  0.391095  0.355672  0.964287   \n",
       "2  0.897201  0.351348  0.681184  0.111238  0.535027  0.168709  0.960095   \n",
       "3  0.051868  0.830295  0.794653  0.453581  0.284494  0.303057  0.707674   \n",
       "4  0.818034  0.254707  0.870860  0.428552  0.534732  0.706591  0.934051   \n",
       "\n",
       "          7         8         9  \n",
       "0  0.602480  0.157112  0.088415  \n",
       "1  0.887517  0.041644  0.091943  \n",
       "2  0.641954  0.300010  0.947810  \n",
       "3  0.394436  0.133688  0.232331  \n",
       "4  0.344422  0.723124  0.488986  "
      ],
      "text/html": "<div>\n<style scoped>\n    .dataframe tbody tr th:only-of-type {\n        vertical-align: middle;\n    }\n\n    .dataframe tbody tr th {\n        vertical-align: top;\n    }\n\n    .dataframe thead th {\n        text-align: right;\n    }\n</style>\n<table border=\"1\" class=\"dataframe\">\n  <thead>\n    <tr style=\"text-align: right;\">\n      <th></th>\n      <th>0</th>\n      <th>1</th>\n      <th>2</th>\n      <th>3</th>\n      <th>4</th>\n      <th>5</th>\n      <th>6</th>\n      <th>7</th>\n      <th>8</th>\n      <th>9</th>\n    </tr>\n  </thead>\n  <tbody>\n    <tr>\n      <th>0</th>\n      <td>0.587618</td>\n      <td>0.076195</td>\n      <td>0.475571</td>\n      <td>0.829146</td>\n      <td>0.916906</td>\n      <td>0.993331</td>\n      <td>0.303230</td>\n      <td>0.602480</td>\n      <td>0.157112</td>\n      <td>0.088415</td>\n    </tr>\n    <tr>\n      <th>1</th>\n      <td>0.267397</td>\n      <td>0.538446</td>\n      <td>0.638075</td>\n      <td>0.969956</td>\n      <td>0.391095</td>\n      <td>0.355672</td>\n      <td>0.964287</td>\n      <td>0.887517</td>\n      <td>0.041644</td>\n      <td>0.091943</td>\n    </tr>\n    <tr>\n      <th>2</th>\n      <td>0.897201</td>\n      <td>0.351348</td>\n      <td>0.681184</td>\n      <td>0.111238</td>\n      <td>0.535027</td>\n      <td>0.168709</td>\n      <td>0.960095</td>\n      <td>0.641954</td>\n      <td>0.300010</td>\n      <td>0.947810</td>\n    </tr>\n    <tr>\n      <th>3</th>\n      <td>0.051868</td>\n      <td>0.830295</td>\n      <td>0.794653</td>\n      <td>0.453581</td>\n      <td>0.284494</td>\n      <td>0.303057</td>\n      <td>0.707674</td>\n      <td>0.394436</td>\n      <td>0.133688</td>\n      <td>0.232331</td>\n    </tr>\n    <tr>\n      <th>4</th>\n      <td>0.818034</td>\n      <td>0.254707</td>\n      <td>0.870860</td>\n      <td>0.428552</td>\n      <td>0.534732</td>\n      <td>0.706591</td>\n      <td>0.934051</td>\n      <td>0.344422</td>\n      <td>0.723124</td>\n      <td>0.488986</td>\n    </tr>\n  </tbody>\n</table>\n</div>"
     },
     "metadata": {},
     "execution_count": 109
    }
   ],
   "source": [
    "from numpy import nan as NA \n",
    "df = pd.DataFrame(np.random.rand(10,10))\n",
    "df.head()"
   ]
  },
  {
   "cell_type": "code",
   "execution_count": 110,
   "metadata": {},
   "outputs": [
    {
     "output_type": "stream",
     "name": "stdout",
     "text": [
      "0    0\n1    1\n2    0\n3    1\n4    1\n5    1\n6    4\n7    0\n8    1\n9    2\ndtype: int64\n"
     ]
    },
    {
     "output_type": "execute_result",
     "data": {
      "text/plain": [
       "          0         1         2         3         4         5         6  \\\n",
       "0  0.587618  0.076195  0.475571  0.829146       NaN       NaN  0.303230   \n",
       "1  0.267397  0.538446  0.638075       NaN  0.391095  0.355672       NaN   \n",
       "2  0.897201  0.351348  0.681184  0.111238  0.535027  0.168709       NaN   \n",
       "3  0.051868  0.830295  0.794653  0.453581  0.284494  0.303057  0.707674   \n",
       "4  0.818034  0.254707  0.870860  0.428552  0.534732  0.706591       NaN   \n",
       "\n",
       "          7         8         9  \n",
       "0  0.602480  0.157112  0.088415  \n",
       "1  0.887517  0.041644  0.091943  \n",
       "2  0.641954  0.300010       NaN  \n",
       "3  0.394436  0.133688  0.232331  \n",
       "4  0.344422  0.723124  0.488986  "
      ],
      "text/html": "<div>\n<style scoped>\n    .dataframe tbody tr th:only-of-type {\n        vertical-align: middle;\n    }\n\n    .dataframe tbody tr th {\n        vertical-align: top;\n    }\n\n    .dataframe thead th {\n        text-align: right;\n    }\n</style>\n<table border=\"1\" class=\"dataframe\">\n  <thead>\n    <tr style=\"text-align: right;\">\n      <th></th>\n      <th>0</th>\n      <th>1</th>\n      <th>2</th>\n      <th>3</th>\n      <th>4</th>\n      <th>5</th>\n      <th>6</th>\n      <th>7</th>\n      <th>8</th>\n      <th>9</th>\n    </tr>\n  </thead>\n  <tbody>\n    <tr>\n      <th>0</th>\n      <td>0.587618</td>\n      <td>0.076195</td>\n      <td>0.475571</td>\n      <td>0.829146</td>\n      <td>NaN</td>\n      <td>NaN</td>\n      <td>0.303230</td>\n      <td>0.602480</td>\n      <td>0.157112</td>\n      <td>0.088415</td>\n    </tr>\n    <tr>\n      <th>1</th>\n      <td>0.267397</td>\n      <td>0.538446</td>\n      <td>0.638075</td>\n      <td>NaN</td>\n      <td>0.391095</td>\n      <td>0.355672</td>\n      <td>NaN</td>\n      <td>0.887517</td>\n      <td>0.041644</td>\n      <td>0.091943</td>\n    </tr>\n    <tr>\n      <th>2</th>\n      <td>0.897201</td>\n      <td>0.351348</td>\n      <td>0.681184</td>\n      <td>0.111238</td>\n      <td>0.535027</td>\n      <td>0.168709</td>\n      <td>NaN</td>\n      <td>0.641954</td>\n      <td>0.300010</td>\n      <td>NaN</td>\n    </tr>\n    <tr>\n      <th>3</th>\n      <td>0.051868</td>\n      <td>0.830295</td>\n      <td>0.794653</td>\n      <td>0.453581</td>\n      <td>0.284494</td>\n      <td>0.303057</td>\n      <td>0.707674</td>\n      <td>0.394436</td>\n      <td>0.133688</td>\n      <td>0.232331</td>\n    </tr>\n    <tr>\n      <th>4</th>\n      <td>0.818034</td>\n      <td>0.254707</td>\n      <td>0.870860</td>\n      <td>0.428552</td>\n      <td>0.534732</td>\n      <td>0.706591</td>\n      <td>NaN</td>\n      <td>0.344422</td>\n      <td>0.723124</td>\n      <td>0.488986</td>\n    </tr>\n  </tbody>\n</table>\n</div>"
     },
     "metadata": {},
     "execution_count": 110
    }
   ],
   "source": [
    "# convert some values to nan\n",
    "df[df.iloc[:10] >= 0.9] = np.nan\n",
    "\n",
    "# find total null values in columns\n",
    "print(df[:].isnull().sum())\n",
    "df.head()"
   ]
  },
  {
   "cell_type": "code",
   "execution_count": 90,
   "metadata": {},
   "outputs": [
    {
     "output_type": "execute_result",
     "data": {
      "text/plain": [
       "          0         1         2         3         4         5         6  \\\n",
       "0  0.704894  0.830950  0.207935  0.000000  0.819313  0.705150  0.330730   \n",
       "1  0.000000  0.196073  0.641091  0.021722  0.649079  0.018475  0.538238   \n",
       "2  0.778562  0.386202  0.048813  0.801933  0.000000  0.737954  0.088101   \n",
       "3  0.174850  0.053098  0.741618  0.195393  0.179980  0.413402  0.753677   \n",
       "4  0.396409  0.279249  0.000000  0.311042  0.000000  0.269622  0.686821   \n",
       "\n",
       "          7         8         9  \n",
       "0  0.000000  0.887157  0.566184  \n",
       "1  0.864246  0.000000  0.373188  \n",
       "2  0.729174  0.431101  0.812246  \n",
       "3  0.690991  0.452842  0.760757  \n",
       "4  0.845420  0.823648  0.474266  "
      ],
      "text/html": "<div>\n<style scoped>\n    .dataframe tbody tr th:only-of-type {\n        vertical-align: middle;\n    }\n\n    .dataframe tbody tr th {\n        vertical-align: top;\n    }\n\n    .dataframe thead th {\n        text-align: right;\n    }\n</style>\n<table border=\"1\" class=\"dataframe\">\n  <thead>\n    <tr style=\"text-align: right;\">\n      <th></th>\n      <th>0</th>\n      <th>1</th>\n      <th>2</th>\n      <th>3</th>\n      <th>4</th>\n      <th>5</th>\n      <th>6</th>\n      <th>7</th>\n      <th>8</th>\n      <th>9</th>\n    </tr>\n  </thead>\n  <tbody>\n    <tr>\n      <th>0</th>\n      <td>0.704894</td>\n      <td>0.830950</td>\n      <td>0.207935</td>\n      <td>0.000000</td>\n      <td>0.819313</td>\n      <td>0.705150</td>\n      <td>0.330730</td>\n      <td>0.000000</td>\n      <td>0.887157</td>\n      <td>0.566184</td>\n    </tr>\n    <tr>\n      <th>1</th>\n      <td>0.000000</td>\n      <td>0.196073</td>\n      <td>0.641091</td>\n      <td>0.021722</td>\n      <td>0.649079</td>\n      <td>0.018475</td>\n      <td>0.538238</td>\n      <td>0.864246</td>\n      <td>0.000000</td>\n      <td>0.373188</td>\n    </tr>\n    <tr>\n      <th>2</th>\n      <td>0.778562</td>\n      <td>0.386202</td>\n      <td>0.048813</td>\n      <td>0.801933</td>\n      <td>0.000000</td>\n      <td>0.737954</td>\n      <td>0.088101</td>\n      <td>0.729174</td>\n      <td>0.431101</td>\n      <td>0.812246</td>\n    </tr>\n    <tr>\n      <th>3</th>\n      <td>0.174850</td>\n      <td>0.053098</td>\n      <td>0.741618</td>\n      <td>0.195393</td>\n      <td>0.179980</td>\n      <td>0.413402</td>\n      <td>0.753677</td>\n      <td>0.690991</td>\n      <td>0.452842</td>\n      <td>0.760757</td>\n    </tr>\n    <tr>\n      <th>4</th>\n      <td>0.396409</td>\n      <td>0.279249</td>\n      <td>0.000000</td>\n      <td>0.311042</td>\n      <td>0.000000</td>\n      <td>0.269622</td>\n      <td>0.686821</td>\n      <td>0.845420</td>\n      <td>0.823648</td>\n      <td>0.474266</td>\n    </tr>\n  </tbody>\n</table>\n</div>"
     },
     "metadata": {},
     "execution_count": 90
    }
   ],
   "source": [
    "#replace nan with 0's\n",
    "# df = df.replace(np.nan, 0)\n",
    "# df.head()"
   ]
  },
  {
   "source": [
    "## want to relpace 0's with a more middle ground value to not skew statistics\n",
    "## fill with mean of data\n",
    "\n"
   ],
   "cell_type": "markdown",
   "metadata": {}
  },
  {
   "cell_type": "code",
   "execution_count": 111,
   "metadata": {},
   "outputs": [
    {
     "output_type": "stream",
     "name": "stdout",
     "text": [
      "0.46254569452038813\n"
     ]
    }
   ],
   "source": [
    "average = df.mean()\n",
    "print(average.mean())\n",
    "df.fillna(average.mean(), inplace=True)\n"
   ]
  },
  {
   "cell_type": "code",
   "execution_count": 114,
   "metadata": {},
   "outputs": [],
   "source": [
    "#create array from df\n",
    "values = df.values\n",
    "# print(values)"
   ]
  },
  {
   "source": [
    "## Advanced Options - Using `SimpleImputer` to replace values in place\n",
    "Using SimpleImputer as a ML tool - other option would be KNN (K nearest neighbor) and others"
   ],
   "cell_type": "markdown",
   "metadata": {}
  },
  {
   "cell_type": "code",
   "execution_count": 119,
   "metadata": {},
   "outputs": [
    {
     "output_type": "stream",
     "name": "stdout",
     "text": [
      "[0.1096959  0.54460545 0.87674371        nan        nan 0.60834536\n 0.37324452 0.57731888 0.8725214  0.71256772]\n"
     ]
    },
    {
     "output_type": "execute_result",
     "data": {
      "text/plain": [
       "array([0.1096959 , 0.54460545, 0.87674371, 0.04509647, 0.08132353,\n",
       "       0.60834536, 0.37324452, 0.57731888, 0.8725214 , 0.71256772])"
      ]
     },
     "metadata": {},
     "execution_count": 119
    }
   ],
   "source": [
    "from numpy import isnan\n",
    "from numpy import nan\n",
    "from sklearn.impute import SimpleImputer\n",
    "\n",
    "df = pd.DataFrame(np.random.rand(10,10))\n",
    "\n",
    "# convert some values to nan\n",
    "df[df.iloc[:10] >= 0.9] = np.nan\n",
    "values = df.values\n",
    "#machine learning tools - other option is KNN (k nearest neighbor)\n",
    "print(values[0])\n",
    "#define missing values to replace\n",
    "#define strategy for replacement - in this case most frequent values\n",
    "imputer = SimpleImputer(missing_values=nan, strategy='most_frequent')\n",
    "transformed_values = imputer.fit_transform(values)\n",
    "transformed_values[0]"
   ]
  }
 ]
}