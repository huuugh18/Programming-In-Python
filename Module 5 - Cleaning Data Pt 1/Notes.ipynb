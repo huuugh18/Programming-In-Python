{
 "metadata": {
  "language_info": {
   "codemirror_mode": {
    "name": "ipython",
    "version": 3
   },
   "file_extension": ".py",
   "mimetype": "text/x-python",
   "name": "python",
   "nbconvert_exporter": "python",
   "pygments_lexer": "ipython3",
   "version": "3.9.1"
  },
  "orig_nbformat": 2,
  "kernelspec": {
   "name": "python391jvsc74a57bd0ac59ebe37160ed0dfa835113d9b8498d9f09ceb179beaac4002f036b9467c963",
   "display_name": "Python 3.9.1 64-bit"
  },
  "metadata": {
   "interpreter": {
    "hash": "ac59ebe37160ed0dfa835113d9b8498d9f09ceb179beaac4002f036b9467c963"
   }
  }
 },
 "nbformat": 4,
 "nbformat_minor": 2,
 "cells": [
  {
   "cell_type": "code",
   "execution_count": 8,
   "metadata": {},
   "outputs": [],
   "source": [
    "import pandas as pd \n",
    "import numpy as np "
   ]
  },
  {
   "cell_type": "code",
   "execution_count": 5,
   "metadata": {},
   "outputs": [
    {
     "output_type": "execute_result",
     "data": {
      "text/plain": [
       "   times_pregnant  plasma_glucose_concentration  diastolic_blood_pressure  \\\n",
       "0               6                           148                        72   \n",
       "1               1                            85                        66   \n",
       "2               8                           183                        64   \n",
       "3               1                            89                        66   \n",
       "4               0                           137                        40   \n",
       "\n",
       "   triceps_thickness  2-hour_serum_insulin   BMI  diabetes_pedigreen  age  \\\n",
       "0                 35                     0  33.6               0.627   50   \n",
       "1                 29                     0  26.6               0.351   31   \n",
       "2                  0                     0  23.3               0.672   32   \n",
       "3                 23                    94  28.1               0.167   21   \n",
       "4                 35                   168  43.1               2.288   33   \n",
       "\n",
       "   diabetes  \n",
       "0         1  \n",
       "1         0  \n",
       "2         1  \n",
       "3         0  \n",
       "4         1  "
      ],
      "text/html": "<div>\n<style scoped>\n    .dataframe tbody tr th:only-of-type {\n        vertical-align: middle;\n    }\n\n    .dataframe tbody tr th {\n        vertical-align: top;\n    }\n\n    .dataframe thead th {\n        text-align: right;\n    }\n</style>\n<table border=\"1\" class=\"dataframe\">\n  <thead>\n    <tr style=\"text-align: right;\">\n      <th></th>\n      <th>times_pregnant</th>\n      <th>plasma_glucose_concentration</th>\n      <th>diastolic_blood_pressure</th>\n      <th>triceps_thickness</th>\n      <th>2-hour_serum_insulin</th>\n      <th>BMI</th>\n      <th>diabetes_pedigreen</th>\n      <th>age</th>\n      <th>diabetes</th>\n    </tr>\n  </thead>\n  <tbody>\n    <tr>\n      <th>0</th>\n      <td>6</td>\n      <td>148</td>\n      <td>72</td>\n      <td>35</td>\n      <td>0</td>\n      <td>33.6</td>\n      <td>0.627</td>\n      <td>50</td>\n      <td>1</td>\n    </tr>\n    <tr>\n      <th>1</th>\n      <td>1</td>\n      <td>85</td>\n      <td>66</td>\n      <td>29</td>\n      <td>0</td>\n      <td>26.6</td>\n      <td>0.351</td>\n      <td>31</td>\n      <td>0</td>\n    </tr>\n    <tr>\n      <th>2</th>\n      <td>8</td>\n      <td>183</td>\n      <td>64</td>\n      <td>0</td>\n      <td>0</td>\n      <td>23.3</td>\n      <td>0.672</td>\n      <td>32</td>\n      <td>1</td>\n    </tr>\n    <tr>\n      <th>3</th>\n      <td>1</td>\n      <td>89</td>\n      <td>66</td>\n      <td>23</td>\n      <td>94</td>\n      <td>28.1</td>\n      <td>0.167</td>\n      <td>21</td>\n      <td>0</td>\n    </tr>\n    <tr>\n      <th>4</th>\n      <td>0</td>\n      <td>137</td>\n      <td>40</td>\n      <td>35</td>\n      <td>168</td>\n      <td>43.1</td>\n      <td>2.288</td>\n      <td>33</td>\n      <td>1</td>\n    </tr>\n  </tbody>\n</table>\n</div>"
     },
     "metadata": {},
     "execution_count": 5
    }
   ],
   "source": [
    "df = pd.read_csv('data/pima-indians-diabetes.csv')\n",
    "df.head()"
   ]
  },
  {
   "cell_type": "code",
   "execution_count": 6,
   "metadata": {},
   "outputs": [
    {
     "output_type": "execute_result",
     "data": {
      "text/plain": [
       "       times_pregnant  plasma_glucose_concentration  diastolic_blood_pressure  \\\n",
       "count      768.000000                    768.000000                768.000000   \n",
       "mean         3.845052                    120.894531                 69.105469   \n",
       "std          3.369578                     31.972618                 19.355807   \n",
       "min          0.000000                      0.000000                  0.000000   \n",
       "25%          1.000000                     99.000000                 62.000000   \n",
       "50%          3.000000                    117.000000                 72.000000   \n",
       "75%          6.000000                    140.250000                 80.000000   \n",
       "max         17.000000                    199.000000                122.000000   \n",
       "\n",
       "       triceps_thickness  2-hour_serum_insulin         BMI  \\\n",
       "count         768.000000            768.000000  768.000000   \n",
       "mean           20.536458             79.799479   31.992578   \n",
       "std            15.952218            115.244002    7.884160   \n",
       "min             0.000000              0.000000    0.000000   \n",
       "25%             0.000000              0.000000   27.300000   \n",
       "50%            23.000000             30.500000   32.000000   \n",
       "75%            32.000000            127.250000   36.600000   \n",
       "max            99.000000            846.000000   67.100000   \n",
       "\n",
       "       diabetes_pedigreen         age    diabetes  \n",
       "count          768.000000  768.000000  768.000000  \n",
       "mean             0.471876   33.240885    0.348958  \n",
       "std              0.331329   11.760232    0.476951  \n",
       "min              0.078000   21.000000    0.000000  \n",
       "25%              0.243750   24.000000    0.000000  \n",
       "50%              0.372500   29.000000    0.000000  \n",
       "75%              0.626250   41.000000    1.000000  \n",
       "max              2.420000   81.000000    1.000000  "
      ],
      "text/html": "<div>\n<style scoped>\n    .dataframe tbody tr th:only-of-type {\n        vertical-align: middle;\n    }\n\n    .dataframe tbody tr th {\n        vertical-align: top;\n    }\n\n    .dataframe thead th {\n        text-align: right;\n    }\n</style>\n<table border=\"1\" class=\"dataframe\">\n  <thead>\n    <tr style=\"text-align: right;\">\n      <th></th>\n      <th>times_pregnant</th>\n      <th>plasma_glucose_concentration</th>\n      <th>diastolic_blood_pressure</th>\n      <th>triceps_thickness</th>\n      <th>2-hour_serum_insulin</th>\n      <th>BMI</th>\n      <th>diabetes_pedigreen</th>\n      <th>age</th>\n      <th>diabetes</th>\n    </tr>\n  </thead>\n  <tbody>\n    <tr>\n      <th>count</th>\n      <td>768.000000</td>\n      <td>768.000000</td>\n      <td>768.000000</td>\n      <td>768.000000</td>\n      <td>768.000000</td>\n      <td>768.000000</td>\n      <td>768.000000</td>\n      <td>768.000000</td>\n      <td>768.000000</td>\n    </tr>\n    <tr>\n      <th>mean</th>\n      <td>3.845052</td>\n      <td>120.894531</td>\n      <td>69.105469</td>\n      <td>20.536458</td>\n      <td>79.799479</td>\n      <td>31.992578</td>\n      <td>0.471876</td>\n      <td>33.240885</td>\n      <td>0.348958</td>\n    </tr>\n    <tr>\n      <th>std</th>\n      <td>3.369578</td>\n      <td>31.972618</td>\n      <td>19.355807</td>\n      <td>15.952218</td>\n      <td>115.244002</td>\n      <td>7.884160</td>\n      <td>0.331329</td>\n      <td>11.760232</td>\n      <td>0.476951</td>\n    </tr>\n    <tr>\n      <th>min</th>\n      <td>0.000000</td>\n      <td>0.000000</td>\n      <td>0.000000</td>\n      <td>0.000000</td>\n      <td>0.000000</td>\n      <td>0.000000</td>\n      <td>0.078000</td>\n      <td>21.000000</td>\n      <td>0.000000</td>\n    </tr>\n    <tr>\n      <th>25%</th>\n      <td>1.000000</td>\n      <td>99.000000</td>\n      <td>62.000000</td>\n      <td>0.000000</td>\n      <td>0.000000</td>\n      <td>27.300000</td>\n      <td>0.243750</td>\n      <td>24.000000</td>\n      <td>0.000000</td>\n    </tr>\n    <tr>\n      <th>50%</th>\n      <td>3.000000</td>\n      <td>117.000000</td>\n      <td>72.000000</td>\n      <td>23.000000</td>\n      <td>30.500000</td>\n      <td>32.000000</td>\n      <td>0.372500</td>\n      <td>29.000000</td>\n      <td>0.000000</td>\n    </tr>\n    <tr>\n      <th>75%</th>\n      <td>6.000000</td>\n      <td>140.250000</td>\n      <td>80.000000</td>\n      <td>32.000000</td>\n      <td>127.250000</td>\n      <td>36.600000</td>\n      <td>0.626250</td>\n      <td>41.000000</td>\n      <td>1.000000</td>\n    </tr>\n    <tr>\n      <th>max</th>\n      <td>17.000000</td>\n      <td>199.000000</td>\n      <td>122.000000</td>\n      <td>99.000000</td>\n      <td>846.000000</td>\n      <td>67.100000</td>\n      <td>2.420000</td>\n      <td>81.000000</td>\n      <td>1.000000</td>\n    </tr>\n  </tbody>\n</table>\n</div>"
     },
     "metadata": {},
     "execution_count": 6
    }
   ],
   "source": [
    "df.describe()\n"
   ]
  },
  {
   "cell_type": "code",
   "execution_count": 7,
   "metadata": {},
   "outputs": [
    {
     "output_type": "execute_result",
     "data": {
      "text/plain": [
       "times_pregnant                    int64\n",
       "plasma_glucose_concentration      int64\n",
       "diastolic_blood_pressure          int64\n",
       "triceps_thickness                 int64\n",
       "2-hour_serum_insulin              int64\n",
       "BMI                             float64\n",
       "diabetes_pedigreen              float64\n",
       "age                               int64\n",
       "diabetes                          int64\n",
       "dtype: object"
      ]
     },
     "metadata": {},
     "execution_count": 7
    }
   ],
   "source": [
    "df.dtypes\n",
    "\n",
    "#to change types\n",
    "# df['diabetes'] = df['diabetes'].astype(int)"
   ]
  },
  {
   "source": [
    "## find that 0's are used for missing or empty values - convert to NaN\n",
    "## iterate through columns using numpy to replace 0's with NaN"
   ],
   "cell_type": "markdown",
   "metadata": {}
  },
  {
   "cell_type": "code",
   "execution_count": 9,
   "metadata": {},
   "outputs": [
    {
     "output_type": "execute_result",
     "data": {
      "text/plain": [
       "   times_pregnant  plasma_glucose_concentration  diastolic_blood_pressure  \\\n",
       "0               6                         148.0                      72.0   \n",
       "1               1                          85.0                      66.0   \n",
       "2               8                         183.0                      64.0   \n",
       "3               1                          89.0                      66.0   \n",
       "4               0                         137.0                      40.0   \n",
       "\n",
       "   triceps_thickness  2-hour_serum_insulin   BMI  diabetes_pedigreen  age  \\\n",
       "0               35.0                   NaN  33.6               0.627   50   \n",
       "1               29.0                   NaN  26.6               0.351   31   \n",
       "2                NaN                   NaN  23.3               0.672   32   \n",
       "3               23.0                  94.0  28.1               0.167   21   \n",
       "4               35.0                 168.0  43.1               2.288   33   \n",
       "\n",
       "   diabetes  \n",
       "0         1  \n",
       "1         0  \n",
       "2         1  \n",
       "3         0  \n",
       "4         1  "
      ],
      "text/html": "<div>\n<style scoped>\n    .dataframe tbody tr th:only-of-type {\n        vertical-align: middle;\n    }\n\n    .dataframe tbody tr th {\n        vertical-align: top;\n    }\n\n    .dataframe thead th {\n        text-align: right;\n    }\n</style>\n<table border=\"1\" class=\"dataframe\">\n  <thead>\n    <tr style=\"text-align: right;\">\n      <th></th>\n      <th>times_pregnant</th>\n      <th>plasma_glucose_concentration</th>\n      <th>diastolic_blood_pressure</th>\n      <th>triceps_thickness</th>\n      <th>2-hour_serum_insulin</th>\n      <th>BMI</th>\n      <th>diabetes_pedigreen</th>\n      <th>age</th>\n      <th>diabetes</th>\n    </tr>\n  </thead>\n  <tbody>\n    <tr>\n      <th>0</th>\n      <td>6</td>\n      <td>148.0</td>\n      <td>72.0</td>\n      <td>35.0</td>\n      <td>NaN</td>\n      <td>33.6</td>\n      <td>0.627</td>\n      <td>50</td>\n      <td>1</td>\n    </tr>\n    <tr>\n      <th>1</th>\n      <td>1</td>\n      <td>85.0</td>\n      <td>66.0</td>\n      <td>29.0</td>\n      <td>NaN</td>\n      <td>26.6</td>\n      <td>0.351</td>\n      <td>31</td>\n      <td>0</td>\n    </tr>\n    <tr>\n      <th>2</th>\n      <td>8</td>\n      <td>183.0</td>\n      <td>64.0</td>\n      <td>NaN</td>\n      <td>NaN</td>\n      <td>23.3</td>\n      <td>0.672</td>\n      <td>32</td>\n      <td>1</td>\n    </tr>\n    <tr>\n      <th>3</th>\n      <td>1</td>\n      <td>89.0</td>\n      <td>66.0</td>\n      <td>23.0</td>\n      <td>94.0</td>\n      <td>28.1</td>\n      <td>0.167</td>\n      <td>21</td>\n      <td>0</td>\n    </tr>\n    <tr>\n      <th>4</th>\n      <td>0</td>\n      <td>137.0</td>\n      <td>40.0</td>\n      <td>35.0</td>\n      <td>168.0</td>\n      <td>43.1</td>\n      <td>2.288</td>\n      <td>33</td>\n      <td>1</td>\n    </tr>\n  </tbody>\n</table>\n</div>"
     },
     "metadata": {},
     "execution_count": 9
    }
   ],
   "source": [
    "#create a df copy\n",
    "df2 = df.copy()\n",
    "for col in df2.columns[1:7]:\n",
    "    df2[col] = df2[col].replace(0, np.nan)\n",
    "\n",
    "df2.head()"
   ]
  },
  {
   "source": [
    "## Alternate replace - using inplace replacement"
   ],
   "cell_type": "markdown",
   "metadata": {}
  },
  {
   "cell_type": "code",
   "execution_count": 13,
   "metadata": {},
   "outputs": [
    {
     "output_type": "execute_result",
     "data": {
      "text/plain": [
       "   times_pregnant  plasma_glucose_concentration  diastolic_blood_pressure  \\\n",
       "0               6                         148.0                      72.0   \n",
       "1               1                          85.0                      66.0   \n",
       "2               8                         183.0                      64.0   \n",
       "3               1                          89.0                      66.0   \n",
       "4               0                         137.0                      40.0   \n",
       "\n",
       "   triceps_thickness  2-hour_serum_insulin   BMI  diabetes_pedigreen  age  \\\n",
       "0               35.0                     0  33.6               0.627   50   \n",
       "1               29.0                     0  26.6               0.351   31   \n",
       "2                NaN                     0  23.3               0.672   32   \n",
       "3               23.0                    94  28.1               0.167   21   \n",
       "4               35.0                   168  43.1               2.288   33   \n",
       "\n",
       "   diabetes  \n",
       "0         1  \n",
       "1         0  \n",
       "2         1  \n",
       "3         0  \n",
       "4         1  "
      ],
      "text/html": "<div>\n<style scoped>\n    .dataframe tbody tr th:only-of-type {\n        vertical-align: middle;\n    }\n\n    .dataframe tbody tr th {\n        vertical-align: top;\n    }\n\n    .dataframe thead th {\n        text-align: right;\n    }\n</style>\n<table border=\"1\" class=\"dataframe\">\n  <thead>\n    <tr style=\"text-align: right;\">\n      <th></th>\n      <th>times_pregnant</th>\n      <th>plasma_glucose_concentration</th>\n      <th>diastolic_blood_pressure</th>\n      <th>triceps_thickness</th>\n      <th>2-hour_serum_insulin</th>\n      <th>BMI</th>\n      <th>diabetes_pedigreen</th>\n      <th>age</th>\n      <th>diabetes</th>\n    </tr>\n  </thead>\n  <tbody>\n    <tr>\n      <th>0</th>\n      <td>6</td>\n      <td>148.0</td>\n      <td>72.0</td>\n      <td>35.0</td>\n      <td>0</td>\n      <td>33.6</td>\n      <td>0.627</td>\n      <td>50</td>\n      <td>1</td>\n    </tr>\n    <tr>\n      <th>1</th>\n      <td>1</td>\n      <td>85.0</td>\n      <td>66.0</td>\n      <td>29.0</td>\n      <td>0</td>\n      <td>26.6</td>\n      <td>0.351</td>\n      <td>31</td>\n      <td>0</td>\n    </tr>\n    <tr>\n      <th>2</th>\n      <td>8</td>\n      <td>183.0</td>\n      <td>64.0</td>\n      <td>NaN</td>\n      <td>0</td>\n      <td>23.3</td>\n      <td>0.672</td>\n      <td>32</td>\n      <td>1</td>\n    </tr>\n    <tr>\n      <th>3</th>\n      <td>1</td>\n      <td>89.0</td>\n      <td>66.0</td>\n      <td>23.0</td>\n      <td>94</td>\n      <td>28.1</td>\n      <td>0.167</td>\n      <td>21</td>\n      <td>0</td>\n    </tr>\n    <tr>\n      <th>4</th>\n      <td>0</td>\n      <td>137.0</td>\n      <td>40.0</td>\n      <td>35.0</td>\n      <td>168</td>\n      <td>43.1</td>\n      <td>2.288</td>\n      <td>33</td>\n      <td>1</td>\n    </tr>\n  </tbody>\n</table>\n</div>"
     },
     "metadata": {},
     "execution_count": 13
    }
   ],
   "source": [
    "df3 = df.copy()\n",
    "#have to specify the columns and values or else will replace every 0 with Nan and we want to keep the diabetes and times_pregnant 0 \n",
    "df3.replace({'plasma_glucose_concentration': 0, 'diastolic_blood_pressure': 0, 'triceps_thickness': 0}, np.nan, inplace=True)\n",
    "df3.head()"
   ]
  },
  {
   "source": [
    "## Outliers\n",
    "### can say that any value plus or minus some number of standard deviations away from the mean constitutes an outlier\n",
    "### in this case select 2.5 standard deviations to consider a data point an outlier\n",
    "What to do with values we find as outliers??\n",
    "- can remove it and replace with NaN\n",
    "- can replace it with original mean\n",
    "    - preserves the original mean\n",
    "- imputation (not covered in video)\n",
    "    - runs a model from non-missing data in order to predict the values of missing cells"
   ],
   "cell_type": "markdown",
   "metadata": {}
  },
  {
   "cell_type": "code",
   "execution_count": 14,
   "metadata": {},
   "outputs": [
    {
     "output_type": "execute_result",
     "data": {
      "text/plain": [
       "       times_pregnant  plasma_glucose_concentration  diastolic_blood_pressure  \\\n",
       "count      768.000000                    763.000000                733.000000   \n",
       "mean         3.845052                    121.686763                 72.405184   \n",
       "std          3.369578                     30.535641                 12.382158   \n",
       "min          0.000000                     44.000000                 24.000000   \n",
       "25%          1.000000                     99.000000                 64.000000   \n",
       "50%          3.000000                    117.000000                 72.000000   \n",
       "75%          6.000000                    141.000000                 80.000000   \n",
       "max         17.000000                    199.000000                122.000000   \n",
       "\n",
       "       triceps_thickness  2-hour_serum_insulin         BMI  \\\n",
       "count         541.000000            394.000000  757.000000   \n",
       "mean           29.153420            155.548223   32.457464   \n",
       "std            10.476982            118.775855    6.924988   \n",
       "min             7.000000             14.000000   18.200000   \n",
       "25%            22.000000             76.250000   27.500000   \n",
       "50%            29.000000            125.000000   32.300000   \n",
       "75%            36.000000            190.000000   36.600000   \n",
       "max            99.000000            846.000000   67.100000   \n",
       "\n",
       "       diabetes_pedigreen         age    diabetes  \n",
       "count          768.000000  768.000000  768.000000  \n",
       "mean             0.471876   33.240885    0.348958  \n",
       "std              0.331329   11.760232    0.476951  \n",
       "min              0.078000   21.000000    0.000000  \n",
       "25%              0.243750   24.000000    0.000000  \n",
       "50%              0.372500   29.000000    0.000000  \n",
       "75%              0.626250   41.000000    1.000000  \n",
       "max              2.420000   81.000000    1.000000  "
      ],
      "text/html": "<div>\n<style scoped>\n    .dataframe tbody tr th:only-of-type {\n        vertical-align: middle;\n    }\n\n    .dataframe tbody tr th {\n        vertical-align: top;\n    }\n\n    .dataframe thead th {\n        text-align: right;\n    }\n</style>\n<table border=\"1\" class=\"dataframe\">\n  <thead>\n    <tr style=\"text-align: right;\">\n      <th></th>\n      <th>times_pregnant</th>\n      <th>plasma_glucose_concentration</th>\n      <th>diastolic_blood_pressure</th>\n      <th>triceps_thickness</th>\n      <th>2-hour_serum_insulin</th>\n      <th>BMI</th>\n      <th>diabetes_pedigreen</th>\n      <th>age</th>\n      <th>diabetes</th>\n    </tr>\n  </thead>\n  <tbody>\n    <tr>\n      <th>count</th>\n      <td>768.000000</td>\n      <td>763.000000</td>\n      <td>733.000000</td>\n      <td>541.000000</td>\n      <td>394.000000</td>\n      <td>757.000000</td>\n      <td>768.000000</td>\n      <td>768.000000</td>\n      <td>768.000000</td>\n    </tr>\n    <tr>\n      <th>mean</th>\n      <td>3.845052</td>\n      <td>121.686763</td>\n      <td>72.405184</td>\n      <td>29.153420</td>\n      <td>155.548223</td>\n      <td>32.457464</td>\n      <td>0.471876</td>\n      <td>33.240885</td>\n      <td>0.348958</td>\n    </tr>\n    <tr>\n      <th>std</th>\n      <td>3.369578</td>\n      <td>30.535641</td>\n      <td>12.382158</td>\n      <td>10.476982</td>\n      <td>118.775855</td>\n      <td>6.924988</td>\n      <td>0.331329</td>\n      <td>11.760232</td>\n      <td>0.476951</td>\n    </tr>\n    <tr>\n      <th>min</th>\n      <td>0.000000</td>\n      <td>44.000000</td>\n      <td>24.000000</td>\n      <td>7.000000</td>\n      <td>14.000000</td>\n      <td>18.200000</td>\n      <td>0.078000</td>\n      <td>21.000000</td>\n      <td>0.000000</td>\n    </tr>\n    <tr>\n      <th>25%</th>\n      <td>1.000000</td>\n      <td>99.000000</td>\n      <td>64.000000</td>\n      <td>22.000000</td>\n      <td>76.250000</td>\n      <td>27.500000</td>\n      <td>0.243750</td>\n      <td>24.000000</td>\n      <td>0.000000</td>\n    </tr>\n    <tr>\n      <th>50%</th>\n      <td>3.000000</td>\n      <td>117.000000</td>\n      <td>72.000000</td>\n      <td>29.000000</td>\n      <td>125.000000</td>\n      <td>32.300000</td>\n      <td>0.372500</td>\n      <td>29.000000</td>\n      <td>0.000000</td>\n    </tr>\n    <tr>\n      <th>75%</th>\n      <td>6.000000</td>\n      <td>141.000000</td>\n      <td>80.000000</td>\n      <td>36.000000</td>\n      <td>190.000000</td>\n      <td>36.600000</td>\n      <td>0.626250</td>\n      <td>41.000000</td>\n      <td>1.000000</td>\n    </tr>\n    <tr>\n      <th>max</th>\n      <td>17.000000</td>\n      <td>199.000000</td>\n      <td>122.000000</td>\n      <td>99.000000</td>\n      <td>846.000000</td>\n      <td>67.100000</td>\n      <td>2.420000</td>\n      <td>81.000000</td>\n      <td>1.000000</td>\n    </tr>\n  </tbody>\n</table>\n</div>"
     },
     "metadata": {},
     "execution_count": 14
    }
   ],
   "source": [
    "df2.describe()"
   ]
  },
  {
   "source": [
    "### replace outliers with mean"
   ],
   "cell_type": "markdown",
   "metadata": {}
  },
  {
   "cell_type": "code",
   "execution_count": 18,
   "metadata": {},
   "outputs": [
    {
     "output_type": "stream",
     "name": "stdout",
     "text": [
      "121.6867627785059 30.515624262345657\nreplaced outlier:  62 44.0\nreplaced outlier:  561 198.0\nreplaced outlier:  661 199.0\n"
     ]
    }
   ],
   "source": [
    "plasma_mean = np.mean(df2['plasma_glucose_concentration'])\n",
    "plasma_std = np.std(df2['plasma_glucose_concentration'])\n",
    "print(plasma_mean,plasma_std)\n",
    "\n",
    "# replace outliers with original mean\n",
    "df4 = df2.copy()\n",
    "\n",
    "for (i,val) in enumerate(df3['plasma_glucose_concentration']):\n",
    "    if (val > plasma_mean + 2.5*plasma_std) or (val < plasma_mean - 2.5*plasma_std):\n",
    "        df4.at[i, 'plasma_glucose_concentration'] = plasma_mean\n",
    "        print('replaced outlier: ', i, val)\n"
   ]
  },
  {
   "cell_type": "code",
   "execution_count": 20,
   "metadata": {},
   "outputs": [
    {
     "output_type": "execute_result",
     "data": {
      "text/plain": [
       "       times_pregnant  plasma_glucose_concentration  diastolic_blood_pressure  \\\n",
       "count      768.000000                    763.000000                733.000000   \n",
       "mean         3.845052                    121.587235                 72.405184   \n",
       "std          3.369578                     30.149764                 12.382158   \n",
       "min          0.000000                     56.000000                 24.000000   \n",
       "25%          1.000000                     99.500000                 64.000000   \n",
       "50%          3.000000                    117.000000                 72.000000   \n",
       "75%          6.000000                    140.000000                 80.000000   \n",
       "max         17.000000                    197.000000                122.000000   \n",
       "\n",
       "       triceps_thickness  2-hour_serum_insulin         BMI  \\\n",
       "count         541.000000            394.000000  757.000000   \n",
       "mean           29.153420            155.548223   32.457464   \n",
       "std            10.476982            118.775855    6.924988   \n",
       "min             7.000000             14.000000   18.200000   \n",
       "25%            22.000000             76.250000   27.500000   \n",
       "50%            29.000000            125.000000   32.300000   \n",
       "75%            36.000000            190.000000   36.600000   \n",
       "max            99.000000            846.000000   67.100000   \n",
       "\n",
       "       diabetes_pedigreen         age    diabetes  \n",
       "count          768.000000  768.000000  768.000000  \n",
       "mean             0.471876   33.240885    0.348958  \n",
       "std              0.331329   11.760232    0.476951  \n",
       "min              0.078000   21.000000    0.000000  \n",
       "25%              0.243750   24.000000    0.000000  \n",
       "50%              0.372500   29.000000    0.000000  \n",
       "75%              0.626250   41.000000    1.000000  \n",
       "max              2.420000   81.000000    1.000000  "
      ],
      "text/html": "<div>\n<style scoped>\n    .dataframe tbody tr th:only-of-type {\n        vertical-align: middle;\n    }\n\n    .dataframe tbody tr th {\n        vertical-align: top;\n    }\n\n    .dataframe thead th {\n        text-align: right;\n    }\n</style>\n<table border=\"1\" class=\"dataframe\">\n  <thead>\n    <tr style=\"text-align: right;\">\n      <th></th>\n      <th>times_pregnant</th>\n      <th>plasma_glucose_concentration</th>\n      <th>diastolic_blood_pressure</th>\n      <th>triceps_thickness</th>\n      <th>2-hour_serum_insulin</th>\n      <th>BMI</th>\n      <th>diabetes_pedigreen</th>\n      <th>age</th>\n      <th>diabetes</th>\n    </tr>\n  </thead>\n  <tbody>\n    <tr>\n      <th>count</th>\n      <td>768.000000</td>\n      <td>763.000000</td>\n      <td>733.000000</td>\n      <td>541.000000</td>\n      <td>394.000000</td>\n      <td>757.000000</td>\n      <td>768.000000</td>\n      <td>768.000000</td>\n      <td>768.000000</td>\n    </tr>\n    <tr>\n      <th>mean</th>\n      <td>3.845052</td>\n      <td>121.587235</td>\n      <td>72.405184</td>\n      <td>29.153420</td>\n      <td>155.548223</td>\n      <td>32.457464</td>\n      <td>0.471876</td>\n      <td>33.240885</td>\n      <td>0.348958</td>\n    </tr>\n    <tr>\n      <th>std</th>\n      <td>3.369578</td>\n      <td>30.149764</td>\n      <td>12.382158</td>\n      <td>10.476982</td>\n      <td>118.775855</td>\n      <td>6.924988</td>\n      <td>0.331329</td>\n      <td>11.760232</td>\n      <td>0.476951</td>\n    </tr>\n    <tr>\n      <th>min</th>\n      <td>0.000000</td>\n      <td>56.000000</td>\n      <td>24.000000</td>\n      <td>7.000000</td>\n      <td>14.000000</td>\n      <td>18.200000</td>\n      <td>0.078000</td>\n      <td>21.000000</td>\n      <td>0.000000</td>\n    </tr>\n    <tr>\n      <th>25%</th>\n      <td>1.000000</td>\n      <td>99.500000</td>\n      <td>64.000000</td>\n      <td>22.000000</td>\n      <td>76.250000</td>\n      <td>27.500000</td>\n      <td>0.243750</td>\n      <td>24.000000</td>\n      <td>0.000000</td>\n    </tr>\n    <tr>\n      <th>50%</th>\n      <td>3.000000</td>\n      <td>117.000000</td>\n      <td>72.000000</td>\n      <td>29.000000</td>\n      <td>125.000000</td>\n      <td>32.300000</td>\n      <td>0.372500</td>\n      <td>29.000000</td>\n      <td>0.000000</td>\n    </tr>\n    <tr>\n      <th>75%</th>\n      <td>6.000000</td>\n      <td>140.000000</td>\n      <td>80.000000</td>\n      <td>36.000000</td>\n      <td>190.000000</td>\n      <td>36.600000</td>\n      <td>0.626250</td>\n      <td>41.000000</td>\n      <td>1.000000</td>\n    </tr>\n    <tr>\n      <th>max</th>\n      <td>17.000000</td>\n      <td>197.000000</td>\n      <td>122.000000</td>\n      <td>99.000000</td>\n      <td>846.000000</td>\n      <td>67.100000</td>\n      <td>2.420000</td>\n      <td>81.000000</td>\n      <td>1.000000</td>\n    </tr>\n  </tbody>\n</table>\n</div>"
     },
     "metadata": {},
     "execution_count": 20
    }
   ],
   "source": [
    "df4.describe()"
   ]
  },
  {
   "source": [
    "## Alternative - more robust approach to replacing outliers"
   ],
   "cell_type": "markdown",
   "metadata": {}
  },
  {
   "source": [
    "df5 = df2.copy()\n",
    "\n",
    "df5.loc[df5['plasma_glucose_concentration'] > (plasma_mean + ( plasma_std * 2.5 )), 'plasma_glucose_concentration'] = plasma_mean\n",
    "df5.loc[df5['plasma_glucose_concentration'] < (plasma_mean - ( plasma_std * 2.5 )), 'plasma_glucose_concentration'] = plasma_mean\n",
    "\n",
    "df5.describe()\n"
   ],
   "cell_type": "code",
   "metadata": {},
   "execution_count": 21,
   "outputs": [
    {
     "output_type": "execute_result",
     "data": {
      "text/plain": [
       "       times_pregnant  plasma_glucose_concentration  diastolic_blood_pressure  \\\n",
       "count      768.000000                    763.000000                733.000000   \n",
       "mean         3.845052                    121.587235                 72.405184   \n",
       "std          3.369578                     30.149764                 12.382158   \n",
       "min          0.000000                     56.000000                 24.000000   \n",
       "25%          1.000000                     99.500000                 64.000000   \n",
       "50%          3.000000                    117.000000                 72.000000   \n",
       "75%          6.000000                    140.000000                 80.000000   \n",
       "max         17.000000                    197.000000                122.000000   \n",
       "\n",
       "       triceps_thickness  2-hour_serum_insulin         BMI  \\\n",
       "count         541.000000            394.000000  757.000000   \n",
       "mean           29.153420            155.548223   32.457464   \n",
       "std            10.476982            118.775855    6.924988   \n",
       "min             7.000000             14.000000   18.200000   \n",
       "25%            22.000000             76.250000   27.500000   \n",
       "50%            29.000000            125.000000   32.300000   \n",
       "75%            36.000000            190.000000   36.600000   \n",
       "max            99.000000            846.000000   67.100000   \n",
       "\n",
       "       diabetes_pedigreen         age    diabetes  \n",
       "count          768.000000  768.000000  768.000000  \n",
       "mean             0.471876   33.240885    0.348958  \n",
       "std              0.331329   11.760232    0.476951  \n",
       "min              0.078000   21.000000    0.000000  \n",
       "25%              0.243750   24.000000    0.000000  \n",
       "50%              0.372500   29.000000    0.000000  \n",
       "75%              0.626250   41.000000    1.000000  \n",
       "max              2.420000   81.000000    1.000000  "
      ],
      "text/html": "<div>\n<style scoped>\n    .dataframe tbody tr th:only-of-type {\n        vertical-align: middle;\n    }\n\n    .dataframe tbody tr th {\n        vertical-align: top;\n    }\n\n    .dataframe thead th {\n        text-align: right;\n    }\n</style>\n<table border=\"1\" class=\"dataframe\">\n  <thead>\n    <tr style=\"text-align: right;\">\n      <th></th>\n      <th>times_pregnant</th>\n      <th>plasma_glucose_concentration</th>\n      <th>diastolic_blood_pressure</th>\n      <th>triceps_thickness</th>\n      <th>2-hour_serum_insulin</th>\n      <th>BMI</th>\n      <th>diabetes_pedigreen</th>\n      <th>age</th>\n      <th>diabetes</th>\n    </tr>\n  </thead>\n  <tbody>\n    <tr>\n      <th>count</th>\n      <td>768.000000</td>\n      <td>763.000000</td>\n      <td>733.000000</td>\n      <td>541.000000</td>\n      <td>394.000000</td>\n      <td>757.000000</td>\n      <td>768.000000</td>\n      <td>768.000000</td>\n      <td>768.000000</td>\n    </tr>\n    <tr>\n      <th>mean</th>\n      <td>3.845052</td>\n      <td>121.587235</td>\n      <td>72.405184</td>\n      <td>29.153420</td>\n      <td>155.548223</td>\n      <td>32.457464</td>\n      <td>0.471876</td>\n      <td>33.240885</td>\n      <td>0.348958</td>\n    </tr>\n    <tr>\n      <th>std</th>\n      <td>3.369578</td>\n      <td>30.149764</td>\n      <td>12.382158</td>\n      <td>10.476982</td>\n      <td>118.775855</td>\n      <td>6.924988</td>\n      <td>0.331329</td>\n      <td>11.760232</td>\n      <td>0.476951</td>\n    </tr>\n    <tr>\n      <th>min</th>\n      <td>0.000000</td>\n      <td>56.000000</td>\n      <td>24.000000</td>\n      <td>7.000000</td>\n      <td>14.000000</td>\n      <td>18.200000</td>\n      <td>0.078000</td>\n      <td>21.000000</td>\n      <td>0.000000</td>\n    </tr>\n    <tr>\n      <th>25%</th>\n      <td>1.000000</td>\n      <td>99.500000</td>\n      <td>64.000000</td>\n      <td>22.000000</td>\n      <td>76.250000</td>\n      <td>27.500000</td>\n      <td>0.243750</td>\n      <td>24.000000</td>\n      <td>0.000000</td>\n    </tr>\n    <tr>\n      <th>50%</th>\n      <td>3.000000</td>\n      <td>117.000000</td>\n      <td>72.000000</td>\n      <td>29.000000</td>\n      <td>125.000000</td>\n      <td>32.300000</td>\n      <td>0.372500</td>\n      <td>29.000000</td>\n      <td>0.000000</td>\n    </tr>\n    <tr>\n      <th>75%</th>\n      <td>6.000000</td>\n      <td>140.000000</td>\n      <td>80.000000</td>\n      <td>36.000000</td>\n      <td>190.000000</td>\n      <td>36.600000</td>\n      <td>0.626250</td>\n      <td>41.000000</td>\n      <td>1.000000</td>\n    </tr>\n    <tr>\n      <th>max</th>\n      <td>17.000000</td>\n      <td>197.000000</td>\n      <td>122.000000</td>\n      <td>99.000000</td>\n      <td>846.000000</td>\n      <td>67.100000</td>\n      <td>2.420000</td>\n      <td>81.000000</td>\n      <td>1.000000</td>\n    </tr>\n  </tbody>\n</table>\n</div>"
     },
     "metadata": {},
     "execution_count": 21
    }
   ]
  },
  {
   "source": [
    "## Alt - using a mask"
   ],
   "cell_type": "markdown",
   "metadata": {}
  },
  {
   "cell_type": "code",
   "execution_count": 23,
   "metadata": {},
   "outputs": [
    {
     "output_type": "execute_result",
     "data": {
      "text/plain": [
       "       times_pregnant  plasma_glucose_concentration  diastolic_blood_pressure  \\\n",
       "count      768.000000                    763.000000                733.000000   \n",
       "mean         3.845052                    121.686763                 72.405184   \n",
       "std          3.369578                     30.535641                 12.382158   \n",
       "min          0.000000                     44.000000                 24.000000   \n",
       "25%          1.000000                     99.000000                 64.000000   \n",
       "50%          3.000000                    117.000000                 72.000000   \n",
       "75%          6.000000                    141.000000                 80.000000   \n",
       "max         17.000000                    199.000000                122.000000   \n",
       "\n",
       "       triceps_thickness  2-hour_serum_insulin         BMI  \\\n",
       "count         541.000000            394.000000  757.000000   \n",
       "mean           29.153420            155.548223   32.457464   \n",
       "std            10.476982            118.775855    6.924988   \n",
       "min             7.000000             14.000000   18.200000   \n",
       "25%            22.000000             76.250000   27.500000   \n",
       "50%            29.000000            125.000000   32.300000   \n",
       "75%            36.000000            190.000000   36.600000   \n",
       "max            99.000000            846.000000   67.100000   \n",
       "\n",
       "       diabetes_pedigreen         age    diabetes  \n",
       "count          768.000000  768.000000  768.000000  \n",
       "mean             0.471876   33.240885    0.348958  \n",
       "std              0.331329   11.760232    0.476951  \n",
       "min              0.078000   21.000000    0.000000  \n",
       "25%              0.243750   24.000000    0.000000  \n",
       "50%              0.372500   29.000000    0.000000  \n",
       "75%              0.626250   41.000000    1.000000  \n",
       "max              2.420000   81.000000    1.000000  "
      ],
      "text/html": "<div>\n<style scoped>\n    .dataframe tbody tr th:only-of-type {\n        vertical-align: middle;\n    }\n\n    .dataframe tbody tr th {\n        vertical-align: top;\n    }\n\n    .dataframe thead th {\n        text-align: right;\n    }\n</style>\n<table border=\"1\" class=\"dataframe\">\n  <thead>\n    <tr style=\"text-align: right;\">\n      <th></th>\n      <th>times_pregnant</th>\n      <th>plasma_glucose_concentration</th>\n      <th>diastolic_blood_pressure</th>\n      <th>triceps_thickness</th>\n      <th>2-hour_serum_insulin</th>\n      <th>BMI</th>\n      <th>diabetes_pedigreen</th>\n      <th>age</th>\n      <th>diabetes</th>\n    </tr>\n  </thead>\n  <tbody>\n    <tr>\n      <th>count</th>\n      <td>768.000000</td>\n      <td>763.000000</td>\n      <td>733.000000</td>\n      <td>541.000000</td>\n      <td>394.000000</td>\n      <td>757.000000</td>\n      <td>768.000000</td>\n      <td>768.000000</td>\n      <td>768.000000</td>\n    </tr>\n    <tr>\n      <th>mean</th>\n      <td>3.845052</td>\n      <td>121.686763</td>\n      <td>72.405184</td>\n      <td>29.153420</td>\n      <td>155.548223</td>\n      <td>32.457464</td>\n      <td>0.471876</td>\n      <td>33.240885</td>\n      <td>0.348958</td>\n    </tr>\n    <tr>\n      <th>std</th>\n      <td>3.369578</td>\n      <td>30.535641</td>\n      <td>12.382158</td>\n      <td>10.476982</td>\n      <td>118.775855</td>\n      <td>6.924988</td>\n      <td>0.331329</td>\n      <td>11.760232</td>\n      <td>0.476951</td>\n    </tr>\n    <tr>\n      <th>min</th>\n      <td>0.000000</td>\n      <td>44.000000</td>\n      <td>24.000000</td>\n      <td>7.000000</td>\n      <td>14.000000</td>\n      <td>18.200000</td>\n      <td>0.078000</td>\n      <td>21.000000</td>\n      <td>0.000000</td>\n    </tr>\n    <tr>\n      <th>25%</th>\n      <td>1.000000</td>\n      <td>99.000000</td>\n      <td>64.000000</td>\n      <td>22.000000</td>\n      <td>76.250000</td>\n      <td>27.500000</td>\n      <td>0.243750</td>\n      <td>24.000000</td>\n      <td>0.000000</td>\n    </tr>\n    <tr>\n      <th>50%</th>\n      <td>3.000000</td>\n      <td>117.000000</td>\n      <td>72.000000</td>\n      <td>29.000000</td>\n      <td>125.000000</td>\n      <td>32.300000</td>\n      <td>0.372500</td>\n      <td>29.000000</td>\n      <td>0.000000</td>\n    </tr>\n    <tr>\n      <th>75%</th>\n      <td>6.000000</td>\n      <td>141.000000</td>\n      <td>80.000000</td>\n      <td>36.000000</td>\n      <td>190.000000</td>\n      <td>36.600000</td>\n      <td>0.626250</td>\n      <td>41.000000</td>\n      <td>1.000000</td>\n    </tr>\n    <tr>\n      <th>max</th>\n      <td>17.000000</td>\n      <td>199.000000</td>\n      <td>122.000000</td>\n      <td>99.000000</td>\n      <td>846.000000</td>\n      <td>67.100000</td>\n      <td>2.420000</td>\n      <td>81.000000</td>\n      <td>1.000000</td>\n    </tr>\n  </tbody>\n</table>\n</div>"
     },
     "metadata": {},
     "execution_count": 23
    }
   ],
   "source": [
    "df6 = df2.copy()\n",
    "\n",
    "threshold = plasma_std*2.5\n",
    "\n",
    "mask = (df5['plasma_glucose_concentration'] > ( plasma_mean + threshold)) | (df5['plasma_glucose_concentration'] < ( plasma_mean - threshold))\n",
    "\n",
    "df6.loc[mask, 'plasma_glucose_concentration'] = plasma_mean\n",
    "\n",
    "df6.describe()\n",
    "#broken - didn't remove "
   ]
  }
 ]
}