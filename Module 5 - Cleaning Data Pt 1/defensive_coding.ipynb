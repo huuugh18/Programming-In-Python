{
 "cells": [
  {
   "cell_type": "markdown",
   "metadata": {},
   "source": [
    "## Part 1: Checking inputs\n",
    "\n",
    "In this part of the exercise, there are many possible correct answers -- don't be afraid to try multiple solutions to the same problem.\n",
    "\n",
    "You may want to use Python's str.isnumeric() function: "
   ]
  },
  {
   "cell_type": "code",
   "execution_count": 65,
   "metadata": {},
   "outputs": [],
   "source": [
    "# Here, your task is to write a divide() function (or different \n",
    "# versions so that it meets the implied requirements of the \n",
    "# given series of calls in the next cell\n",
    "def divide(x,y=2):\n",
    "    try:\n",
    "        return float(x/y)\n",
    "    except TypeError:\n",
    "        return float(x)/float(y)\n",
    "    except ZeroDivisionError:\n",
    "        return 'cant divide by 0'\n",
    "    else:\n",
    "        print('Warning conversion failed: wrong types')\n",
    "        return None\n",
    "\n",
    "def zero_wrapper(func, x, y):\n",
    "    if y == 0:\n",
    "        return None\n",
    "    else: \n",
    "        return divide(x, y)\n",
    "\n",
    "zero_wrapper(divide, 8, 0)"
   ]
  },
  {
   "cell_type": "code",
   "execution_count": 64,
   "metadata": {},
   "outputs": [
    {
     "output_type": "stream",
     "name": "stdout",
     "text": [
      "4.0\n1.5\n2.0\n2.0\n3.0\n2.0\n2.0\n2.0\n"
     ]
    }
   ],
   "source": [
    "# Without changing these calls, make sure your divide() function \n",
    "# above works correctly and prints out values for each of these.\n",
    "print(divide(4,1))# -> 4.0\n",
    "print(divide(3,2))# -> 1.5\n",
    "print(divide(4,2))# -> 2.0\n",
    "print(divide(4))# -> 2.0\n",
    "print(divide(6))# -> 3.0\n",
    "print(divide(\"4\",\"2\"))# -> 2.0\n",
    "print(divide(\"4\"))# -> 2.0\n",
    "print(divide(4.0, 2.0))# -> 2.0"
   ]
  },
  {
   "cell_type": "code",
   "execution_count": 59,
   "metadata": {},
   "outputs": [],
   "source": [
    "# We may also want to check values, not just types when defining a function\n",
    "# Let's work with the modulo function. \n",
    "\n",
    "# Any positive number modulo a negative number is defined to be 0. \n",
    "\n",
    "# Write a function, pos_modulo(a,b) which returns a % b\n",
    "# But constraint that a > 0, otherwise it return None. \n",
    "# Also, when b = 0, return None. \n",
    "# Last, instead of computing the modulo of a when b < 0, simply return 0 when b < 0. \n",
    "\n",
    "# Make sure your function satisfies the implied constraints \n",
    "# given in calls to the function in the following cell.\n",
    "#\n",
    "# Performance Trick: try to design your if-elif-else statement in order of most to least\n",
    "# likely branches\n",
    "\n",
    "\n",
    "def pos_modulo(a,b):\n",
    "    if b > 0 and a >=0:\n",
    "        return a%b\n",
    "    elif b == 0 or a < 0: \n",
    "        return None\n",
    "    else:\n",
    "        return 0\n"
   ]
  },
  {
   "cell_type": "code",
   "execution_count": 60,
   "metadata": {},
   "outputs": [
    {
     "output_type": "stream",
     "name": "stdout",
     "text": [
      "1\n0\n0\nNone\n0\n0\nNone\n"
     ]
    }
   ],
   "source": [
    "print(pos_modulo(3,2)  ) # -> 1\n",
    "print(pos_modulo(3,1)  ) # -> 0\n",
    "print(pos_modulo(3,3)  ) # -> 0\n",
    "print(pos_modulo(3,0)  ) # -> None (b = 0)\n",
    "print(pos_modulo(3,-1) ) # -> 0\n",
    "print(pos_modulo(3,-2) ) # -> 0\n",
    "print(pos_modulo(-3,-2)) # -> None (a < 0)"
   ]
  },
  {
   "cell_type": "markdown",
   "metadata": {},
   "source": [
    "## Part 2: Exception Handling\n",
    "\n",
    "The Python documentation on Errors and Exceptions might be helpful for this exercise: https://docs.python.org/3/tutorial/errors.html"
   ]
  },
  {
   "cell_type": "code",
   "execution_count": null,
   "metadata": {},
   "outputs": [],
   "source": [
    "# Now let's revisit our divide function. Python's built in division will raise an \n",
    "# exception if you try to divide by 0. Write a \"wrapper\" function for division that,\n",
    "# will return None instead of raising an exception for dividing by zero.\n",
    "#\n",
    "# After you've finished that, add exception handling (not input checking) to test\n",
    "# whether the passed parameters are valid floats. If they aren't, try to convert them.\n",
    "# But if this conversion fails, print a warning and return None.\n",
    "\n"
   ]
  },
  {
   "cell_type": "code",
   "execution_count": 69,
   "metadata": {},
   "outputs": [],
   "source": [
    "# Now, let's re-write the divide function above to use assert() to check\n",
    "# the inputs. In this case, your function simply halt execution if the\n",
    "# input constraints are not met.\n",
    "#\n",
    "# Hint: assert() can accept a multi-part conditional, like an if statement.\n",
    "\n",
    "def divide(x,y=2):\n",
    "    assert type(x) == int or type(x) == str or type(x) == float, 'check type of x'\n",
    "    assert type(y) == int or type(y) == str or type(y) == float, ' check type of y'\n",
    "    try:\n",
    "        return float(x/y)\n",
    "    except TypeError:\n",
    "        return float(x)/float(y)\n",
    "    except ZeroDivisionError:\n",
    "        return 'cant divide by 0'\n",
    "    else:\n",
    "        print('Warning conversion failed: wrong types')\n",
    "        return None"
   ]
  },
  {
   "cell_type": "code",
   "execution_count": 70,
   "metadata": {},
   "outputs": [
    {
     "output_type": "stream",
     "name": "stdout",
     "text": [
      "4.0\n1.5\n2.0\n2.0\n3.0\n2.0\n2.0\n2.0\n"
     ]
    },
    {
     "output_type": "error",
     "ename": "AssertionError",
     "evalue": "check type of x",
     "traceback": [
      "\u001b[1;31m---------------------------------------------------------------------------\u001b[0m",
      "\u001b[1;31mAssertionError\u001b[0m                            Traceback (most recent call last)",
      "\u001b[1;32m<ipython-input-70-310b07029119>\u001b[0m in \u001b[0;36m<module>\u001b[1;34m\u001b[0m\n\u001b[0;32m      9\u001b[0m \u001b[0mprint\u001b[0m\u001b[1;33m(\u001b[0m\u001b[0mdivide\u001b[0m\u001b[1;33m(\u001b[0m\u001b[1;34m\"4\"\u001b[0m\u001b[1;33m)\u001b[0m\u001b[1;33m)\u001b[0m\u001b[1;31m# -> 2.0\u001b[0m\u001b[1;33m\u001b[0m\u001b[1;33m\u001b[0m\u001b[0m\n\u001b[0;32m     10\u001b[0m \u001b[0mprint\u001b[0m\u001b[1;33m(\u001b[0m\u001b[0mdivide\u001b[0m\u001b[1;33m(\u001b[0m\u001b[1;36m4.0\u001b[0m\u001b[1;33m,\u001b[0m \u001b[1;36m2.0\u001b[0m\u001b[1;33m)\u001b[0m\u001b[1;33m)\u001b[0m\u001b[1;31m# -> 2.0\u001b[0m\u001b[1;33m\u001b[0m\u001b[1;33m\u001b[0m\u001b[0m\n\u001b[1;32m---> 11\u001b[1;33m \u001b[0mprint\u001b[0m\u001b[1;33m(\u001b[0m\u001b[0mdivide\u001b[0m\u001b[1;33m(\u001b[0m\u001b[1;32mNone\u001b[0m\u001b[1;33m,\u001b[0m \u001b[1;36m3.0\u001b[0m\u001b[1;33m)\u001b[0m\u001b[1;33m)\u001b[0m\u001b[1;33m\u001b[0m\u001b[1;33m\u001b[0m\u001b[0m\n\u001b[0m",
      "\u001b[1;32m<ipython-input-69-2a8c7d121185>\u001b[0m in \u001b[0;36mdivide\u001b[1;34m(x, y)\u001b[0m\n\u001b[0;32m      6\u001b[0m \u001b[1;33m\u001b[0m\u001b[0m\n\u001b[0;32m      7\u001b[0m \u001b[1;32mdef\u001b[0m \u001b[0mdivide\u001b[0m\u001b[1;33m(\u001b[0m\u001b[0mx\u001b[0m\u001b[1;33m,\u001b[0m\u001b[0my\u001b[0m\u001b[1;33m=\u001b[0m\u001b[1;36m2\u001b[0m\u001b[1;33m)\u001b[0m\u001b[1;33m:\u001b[0m\u001b[1;33m\u001b[0m\u001b[1;33m\u001b[0m\u001b[0m\n\u001b[1;32m----> 8\u001b[1;33m     \u001b[1;32massert\u001b[0m \u001b[0mtype\u001b[0m\u001b[1;33m(\u001b[0m\u001b[0mx\u001b[0m\u001b[1;33m)\u001b[0m \u001b[1;33m==\u001b[0m \u001b[0mint\u001b[0m \u001b[1;32mor\u001b[0m \u001b[0mtype\u001b[0m\u001b[1;33m(\u001b[0m\u001b[0mx\u001b[0m\u001b[1;33m)\u001b[0m \u001b[1;33m==\u001b[0m \u001b[0mstr\u001b[0m \u001b[1;32mor\u001b[0m \u001b[0mtype\u001b[0m\u001b[1;33m(\u001b[0m\u001b[0mx\u001b[0m\u001b[1;33m)\u001b[0m \u001b[1;33m==\u001b[0m \u001b[0mfloat\u001b[0m\u001b[1;33m,\u001b[0m \u001b[1;34m'check type of x'\u001b[0m\u001b[1;33m\u001b[0m\u001b[1;33m\u001b[0m\u001b[0m\n\u001b[0m\u001b[0;32m      9\u001b[0m     \u001b[1;32massert\u001b[0m \u001b[0mtype\u001b[0m\u001b[1;33m(\u001b[0m\u001b[0my\u001b[0m\u001b[1;33m)\u001b[0m \u001b[1;33m==\u001b[0m \u001b[0mint\u001b[0m \u001b[1;32mor\u001b[0m \u001b[0mtype\u001b[0m\u001b[1;33m(\u001b[0m\u001b[0my\u001b[0m\u001b[1;33m)\u001b[0m \u001b[1;33m==\u001b[0m \u001b[0mstr\u001b[0m \u001b[1;32mor\u001b[0m \u001b[0mtype\u001b[0m\u001b[1;33m(\u001b[0m\u001b[0my\u001b[0m\u001b[1;33m)\u001b[0m \u001b[1;33m==\u001b[0m \u001b[0mfloat\u001b[0m\u001b[1;33m,\u001b[0m \u001b[1;34m' check type of y'\u001b[0m\u001b[1;33m\u001b[0m\u001b[1;33m\u001b[0m\u001b[0m\n\u001b[0;32m     10\u001b[0m     \u001b[1;32mtry\u001b[0m\u001b[1;33m:\u001b[0m\u001b[1;33m\u001b[0m\u001b[1;33m\u001b[0m\u001b[0m\n",
      "\u001b[1;31mAssertionError\u001b[0m: check type of x"
     ]
    }
   ],
   "source": [
    "# Without changing these calls, make sure your divide() function \n",
    "# above works correctly and prints out values for each of these.\n",
    "print(divide(4,1))# -> 4.0\n",
    "print(divide(3,2))# -> 1.5\n",
    "print(divide(4,2))# -> 2.0\n",
    "print(divide(4))# -> 2.0\n",
    "print(divide(6))# -> 3.0\n",
    "print(divide(\"4\",\"2\"))# -> 2.0\n",
    "print(divide(\"4\"))# -> 2.0\n",
    "print(divide(4.0, 2.0))# -> 2.0\n",
    "print(divide(None, 3.0))"
   ]
  }
 ],
 "metadata": {
  "kernelspec": {
   "name": "python391jvsc74a57bd0ac59ebe37160ed0dfa835113d9b8498d9f09ceb179beaac4002f036b9467c963",
   "display_name": "Python 3.9.1 64-bit"
  },
  "language_info": {
   "codemirror_mode": {
    "name": "ipython",
    "version": 3
   },
   "file_extension": ".py",
   "mimetype": "text/x-python",
   "name": "python",
   "nbconvert_exporter": "python",
   "pygments_lexer": "ipython3",
   "version": "3.9.1"
  },
  "metadata": {
   "interpreter": {
    "hash": "ac59ebe37160ed0dfa835113d9b8498d9f09ceb179beaac4002f036b9467c963"
   }
  }
 },
 "nbformat": 4,
 "nbformat_minor": 2
}