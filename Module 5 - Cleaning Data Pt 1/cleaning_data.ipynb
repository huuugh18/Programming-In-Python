{
 "cells": [
  {
   "cell_type": "markdown",
   "metadata": {},
   "source": [
    "### Throughout this exercise, you may need to refer to online documentation.\n",
    "\n",
    "Pandas: http://pandas.pydata.org/pandas-docs/stable/\n",
    "\n",
    "Numpy & Scipy: https://docs.scipy.org/doc/"
   ]
  },
  {
   "cell_type": "code",
   "execution_count": 1,
   "metadata": {},
   "outputs": [],
   "source": [
    "# First, import packages and load some data\n",
    "import pandas      as pd\n",
    "import numpy       as np\n",
    "import scipy       as sp\n",
    "import scipy.stats as stats\n",
    "from statistics import mean\n",
    "\n",
    "datafile = './data/pima-indians-diabetes.csv'\n",
    "\n",
    "df = pd.read_csv(datafile, header=0, index_col=None)\n",
    "# df.head()"
   ]
  },
  {
   "source": [
    "## Replace 0 with nan in appropriate columns "
   ],
   "cell_type": "markdown",
   "metadata": {}
  },
  {
   "cell_type": "code",
   "execution_count": 25,
   "metadata": {},
   "outputs": [
    {
     "output_type": "execute_result",
     "data": {
      "text/plain": [
       "       times_pregnant  plasma_glucose_concentration  ...         age    diabetes\n",
       "count      768.000000                    763.000000  ...  768.000000  768.000000\n",
       "mean         3.845052                    121.686763  ...   33.240885    0.348958\n",
       "std          3.369578                     30.535641  ...   11.760232    0.476951\n",
       "min          0.000000                     44.000000  ...   21.000000    0.000000\n",
       "25%          1.000000                     99.000000  ...   24.000000    0.000000\n",
       "50%          3.000000                    117.000000  ...   29.000000    0.000000\n",
       "75%          6.000000                    141.000000  ...   41.000000    1.000000\n",
       "max         17.000000                    199.000000  ...   81.000000    1.000000\n",
       "\n",
       "[8 rows x 9 columns]"
      ],
      "text/html": "<div>\n<style scoped>\n    .dataframe tbody tr th:only-of-type {\n        vertical-align: middle;\n    }\n\n    .dataframe tbody tr th {\n        vertical-align: top;\n    }\n\n    .dataframe thead th {\n        text-align: right;\n    }\n</style>\n<table border=\"1\" class=\"dataframe\">\n  <thead>\n    <tr style=\"text-align: right;\">\n      <th></th>\n      <th>times_pregnant</th>\n      <th>plasma_glucose_concentration</th>\n      <th>diastolic_blood_pressure</th>\n      <th>triceps_thickness</th>\n      <th>2-hour_serum_insulin</th>\n      <th>BMI</th>\n      <th>diabetes_pedigreen</th>\n      <th>age</th>\n      <th>diabetes</th>\n    </tr>\n  </thead>\n  <tbody>\n    <tr>\n      <th>count</th>\n      <td>768.000000</td>\n      <td>763.000000</td>\n      <td>733.000000</td>\n      <td>541.000000</td>\n      <td>394.000000</td>\n      <td>757.000000</td>\n      <td>768.000000</td>\n      <td>768.000000</td>\n      <td>768.000000</td>\n    </tr>\n    <tr>\n      <th>mean</th>\n      <td>3.845052</td>\n      <td>121.686763</td>\n      <td>72.405184</td>\n      <td>29.153420</td>\n      <td>155.548223</td>\n      <td>32.457464</td>\n      <td>0.471876</td>\n      <td>33.240885</td>\n      <td>0.348958</td>\n    </tr>\n    <tr>\n      <th>std</th>\n      <td>3.369578</td>\n      <td>30.535641</td>\n      <td>12.382158</td>\n      <td>10.476982</td>\n      <td>118.775855</td>\n      <td>6.924988</td>\n      <td>0.331329</td>\n      <td>11.760232</td>\n      <td>0.476951</td>\n    </tr>\n    <tr>\n      <th>min</th>\n      <td>0.000000</td>\n      <td>44.000000</td>\n      <td>24.000000</td>\n      <td>7.000000</td>\n      <td>14.000000</td>\n      <td>18.200000</td>\n      <td>0.078000</td>\n      <td>21.000000</td>\n      <td>0.000000</td>\n    </tr>\n    <tr>\n      <th>25%</th>\n      <td>1.000000</td>\n      <td>99.000000</td>\n      <td>64.000000</td>\n      <td>22.000000</td>\n      <td>76.250000</td>\n      <td>27.500000</td>\n      <td>0.243750</td>\n      <td>24.000000</td>\n      <td>0.000000</td>\n    </tr>\n    <tr>\n      <th>50%</th>\n      <td>3.000000</td>\n      <td>117.000000</td>\n      <td>72.000000</td>\n      <td>29.000000</td>\n      <td>125.000000</td>\n      <td>32.300000</td>\n      <td>0.372500</td>\n      <td>29.000000</td>\n      <td>0.000000</td>\n    </tr>\n    <tr>\n      <th>75%</th>\n      <td>6.000000</td>\n      <td>141.000000</td>\n      <td>80.000000</td>\n      <td>36.000000</td>\n      <td>190.000000</td>\n      <td>36.600000</td>\n      <td>0.626250</td>\n      <td>41.000000</td>\n      <td>1.000000</td>\n    </tr>\n    <tr>\n      <th>max</th>\n      <td>17.000000</td>\n      <td>199.000000</td>\n      <td>122.000000</td>\n      <td>99.000000</td>\n      <td>846.000000</td>\n      <td>67.100000</td>\n      <td>2.420000</td>\n      <td>81.000000</td>\n      <td>1.000000</td>\n    </tr>\n  </tbody>\n</table>\n</div>"
     },
     "metadata": {},
     "execution_count": 25
    }
   ],
   "source": [
    "replace_dict = {'plasma_glucose_concentration': 0, 'diastolic_blood_pressure': 0, 'triceps_thickness': 0, '2-hour_serum_insulin': 0, 'BMI': 0, 'diabetes_pedigreen': 0, 'age': 0}\n",
    "\n",
    "#replace 0 values with nan for columns in replace_dict\n",
    "df.replace(replace_dict, np.nan, inplace=True)\n",
    "\n",
    "#check min values for selected columns no longe 0.0\n",
    "df.describe()"
   ]
  },
  {
   "cell_type": "code",
   "execution_count": 111,
   "metadata": {},
   "outputs": [
    {
     "output_type": "execute_result",
     "data": {
      "text/plain": [
       "                times_pregnant  ...    diabetes\n",
       "Mean                  3.845052  ...    0.348958\n",
       "Median                3.000000  ...    0.000000\n",
       "Min                   0.000000  ...    0.000000\n",
       "Max                  17.000000  ...    1.000000\n",
       "Non NaN Values      768.000000  ...  768.000000\n",
       "Mode                  1.000000  ...    0.000000\n",
       "\n",
       "[6 rows x 9 columns]"
      ],
      "text/html": "<div>\n<style scoped>\n    .dataframe tbody tr th:only-of-type {\n        vertical-align: middle;\n    }\n\n    .dataframe tbody tr th {\n        vertical-align: top;\n    }\n\n    .dataframe thead th {\n        text-align: right;\n    }\n</style>\n<table border=\"1\" class=\"dataframe\">\n  <thead>\n    <tr style=\"text-align: right;\">\n      <th></th>\n      <th>times_pregnant</th>\n      <th>plasma_glucose_concentration</th>\n      <th>diastolic_blood_pressure</th>\n      <th>triceps_thickness</th>\n      <th>2-hour_serum_insulin</th>\n      <th>BMI</th>\n      <th>diabetes_pedigreen</th>\n      <th>age</th>\n      <th>diabetes</th>\n    </tr>\n  </thead>\n  <tbody>\n    <tr>\n      <th>Mean</th>\n      <td>3.845052</td>\n      <td>121.686763</td>\n      <td>72.405184</td>\n      <td>29.15342</td>\n      <td>155.548223</td>\n      <td>32.457464</td>\n      <td>0.471876</td>\n      <td>33.240885</td>\n      <td>0.348958</td>\n    </tr>\n    <tr>\n      <th>Median</th>\n      <td>3.000000</td>\n      <td>117.000000</td>\n      <td>72.000000</td>\n      <td>29.00000</td>\n      <td>125.000000</td>\n      <td>32.300000</td>\n      <td>0.372500</td>\n      <td>29.000000</td>\n      <td>0.000000</td>\n    </tr>\n    <tr>\n      <th>Min</th>\n      <td>0.000000</td>\n      <td>44.000000</td>\n      <td>24.000000</td>\n      <td>7.00000</td>\n      <td>14.000000</td>\n      <td>18.200000</td>\n      <td>0.078000</td>\n      <td>21.000000</td>\n      <td>0.000000</td>\n    </tr>\n    <tr>\n      <th>Max</th>\n      <td>17.000000</td>\n      <td>199.000000</td>\n      <td>122.000000</td>\n      <td>99.00000</td>\n      <td>846.000000</td>\n      <td>67.100000</td>\n      <td>2.420000</td>\n      <td>81.000000</td>\n      <td>1.000000</td>\n    </tr>\n    <tr>\n      <th>Non NaN Values</th>\n      <td>768.000000</td>\n      <td>763.000000</td>\n      <td>733.000000</td>\n      <td>541.00000</td>\n      <td>394.000000</td>\n      <td>757.000000</td>\n      <td>768.000000</td>\n      <td>768.000000</td>\n      <td>768.000000</td>\n    </tr>\n    <tr>\n      <th>Mode</th>\n      <td>1.000000</td>\n      <td>99.000000</td>\n      <td>70.000000</td>\n      <td>32.00000</td>\n      <td>105.000000</td>\n      <td>32.000000</td>\n      <td>0.254000</td>\n      <td>22.000000</td>\n      <td>0.000000</td>\n    </tr>\n  </tbody>\n</table>\n</div>"
     },
     "metadata": {},
     "execution_count": 111
    }
   ],
   "source": [
    "# Get the count (of all non-NaNs), min, max, mean, median and mode of each column.\n",
    "\n",
    "#set index and labels\n",
    "index = ['Mean', 'Median', 'Min', 'Max', 'Non NaN Values']\n",
    "labels = ['times_pregnant', 'plasma_glucose_concentration', 'diastolic_blood_pressure', 'triceps_thickness', '2-hour_serum_insulin', 'BMI', 'diabetes_pedigreen', 'age', 'diabetes']\n",
    "\n",
    "#get all stats values that we can with df built in funcs\n",
    "means = df.mean(axis=0, skipna=True) #=> describe already skips na\n",
    "medians = df.median(axis=0, skipna=True)\n",
    "mins = df.min(axis=0, skipna=True)\n",
    "maxs = df.max(axis=0, skipna=True)\n",
    "not_na_counts = df.notnull().sum()\n",
    "\n",
    "#create stats df\n",
    "statdf = pd.DataFrame([means, medians, mins, maxs, not_na_counts], index=index)\n",
    "\n",
    "#get mode using stats.mode function\n",
    "mode_result = stats.mode(df, nan_policy='omit')\n",
    "mode_arr = mode_result[0][0]\n",
    "\n",
    "# create mode df to add to other stats df\n",
    "modes = pd.DataFrame([[1, 99, 70, 32, 105, 32, 0.254, 22, 0]], columns=labels, index=['Mode'])\n",
    "\n",
    "#join mode df to stats df\n",
    "statdf.append(modes)\n",
    "\n",
    "# Which column has the most missing values?\n",
    "    # just look at non-null count and find min\n",
    "    # in this case the 2-hour serum insulin column has the most missing values\n"
   ]
  },
  {
   "source": [
    "## Calculate z-scores"
   ],
   "cell_type": "markdown",
   "metadata": {}
  },
  {
   "cell_type": "code",
   "execution_count": 3,
   "metadata": {},
   "outputs": [
    {
     "output_type": "stream",
     "name": "stdout",
     "text": [
      "Mean:  -0.0 \nStd:  1.0\n"
     ]
    }
   ],
   "source": [
    "def centre(col):\n",
    "    array_vals = col.to_numpy()\n",
    "    centered_vals = stats.zscore(array_vals, nan_policy='omit')\n",
    "    return centered_vals\n",
    "\n",
    "\n",
    "def check_z_transform(values):\n",
    "    values = np.array(values)\n",
    "    mean = round(np.nanmean(values), 2)\n",
    "    std = np.nanstd(values)\n",
    "    print('Mean: ', mean, '\\nStd: ', std)\n",
    "\n",
    "# run a test on a column to check mean and std of z-scores\n",
    "centered_plasma = centre(df['plasma_glucose_concentration'])\n",
    "check_z_transform(centered_plasma)\n"
   ]
  },
  {
   "source": [
    "## Apply center function to DataFrame"
   ],
   "cell_type": "markdown",
   "metadata": {}
  },
  {
   "cell_type": "code",
   "execution_count": 7,
   "metadata": {},
   "outputs": [
    {
     "output_type": "execute_result",
     "data": {
      "text/plain": [
       "       times_pregnant  plasma_glucose_concentration  diastolic_blood_pressure  \\\n",
       "count      768.000000                    768.000000                768.000000   \n",
       "mean        -0.000020                      0.000003                 -0.000046   \n",
       "std          1.000765                      1.000674                  1.000727   \n",
       "min         -1.142000                     -3.784000                 -3.573000   \n",
       "25%         -0.845000                     -0.685000                 -0.367000   \n",
       "50%         -0.251000                     -0.122000                  0.150000   \n",
       "75%          0.640000                      0.605750                  0.563000   \n",
       "max          3.907000                      2.444000                  2.735000   \n",
       "\n",
       "       triceps_thickness  2-hour_serum_insulin         BMI  \\\n",
       "count         768.000000            768.000000  768.000000   \n",
       "mean            0.000081             -0.000055   -0.000013   \n",
       "std             1.000570              1.000693    1.000620   \n",
       "min            -1.288000             -0.693000   -4.060000   \n",
       "25%            -1.288000             -0.693000   -0.596000   \n",
       "50%             0.155000             -0.428000    0.001000   \n",
       "75%             0.719000              0.412250    0.585000   \n",
       "max             4.922000              6.653000    4.456000   \n",
       "\n",
       "       diabetes_pedigreen         age    diabetes  \n",
       "count          768.000000  768.000000  768.000000  \n",
       "mean             0.000030    0.000046    0.000115  \n",
       "std              1.000651    1.000611    1.000644  \n",
       "min             -1.190000   -1.042000   -0.732000  \n",
       "25%             -0.688750   -0.786000   -0.732000  \n",
       "50%             -0.300500   -0.361000   -0.732000  \n",
       "75%              0.465750    0.660000    1.366000  \n",
       "max              5.884000    4.064000    1.366000  "
      ],
      "text/html": "<div>\n<style scoped>\n    .dataframe tbody tr th:only-of-type {\n        vertical-align: middle;\n    }\n\n    .dataframe tbody tr th {\n        vertical-align: top;\n    }\n\n    .dataframe thead th {\n        text-align: right;\n    }\n</style>\n<table border=\"1\" class=\"dataframe\">\n  <thead>\n    <tr style=\"text-align: right;\">\n      <th></th>\n      <th>times_pregnant</th>\n      <th>plasma_glucose_concentration</th>\n      <th>diastolic_blood_pressure</th>\n      <th>triceps_thickness</th>\n      <th>2-hour_serum_insulin</th>\n      <th>BMI</th>\n      <th>diabetes_pedigreen</th>\n      <th>age</th>\n      <th>diabetes</th>\n    </tr>\n  </thead>\n  <tbody>\n    <tr>\n      <th>count</th>\n      <td>768.000000</td>\n      <td>768.000000</td>\n      <td>768.000000</td>\n      <td>768.000000</td>\n      <td>768.000000</td>\n      <td>768.000000</td>\n      <td>768.000000</td>\n      <td>768.000000</td>\n      <td>768.000000</td>\n    </tr>\n    <tr>\n      <th>mean</th>\n      <td>-0.000020</td>\n      <td>0.000003</td>\n      <td>-0.000046</td>\n      <td>0.000081</td>\n      <td>-0.000055</td>\n      <td>-0.000013</td>\n      <td>0.000030</td>\n      <td>0.000046</td>\n      <td>0.000115</td>\n    </tr>\n    <tr>\n      <th>std</th>\n      <td>1.000765</td>\n      <td>1.000674</td>\n      <td>1.000727</td>\n      <td>1.000570</td>\n      <td>1.000693</td>\n      <td>1.000620</td>\n      <td>1.000651</td>\n      <td>1.000611</td>\n      <td>1.000644</td>\n    </tr>\n    <tr>\n      <th>min</th>\n      <td>-1.142000</td>\n      <td>-3.784000</td>\n      <td>-3.573000</td>\n      <td>-1.288000</td>\n      <td>-0.693000</td>\n      <td>-4.060000</td>\n      <td>-1.190000</td>\n      <td>-1.042000</td>\n      <td>-0.732000</td>\n    </tr>\n    <tr>\n      <th>25%</th>\n      <td>-0.845000</td>\n      <td>-0.685000</td>\n      <td>-0.367000</td>\n      <td>-1.288000</td>\n      <td>-0.693000</td>\n      <td>-0.596000</td>\n      <td>-0.688750</td>\n      <td>-0.786000</td>\n      <td>-0.732000</td>\n    </tr>\n    <tr>\n      <th>50%</th>\n      <td>-0.251000</td>\n      <td>-0.122000</td>\n      <td>0.150000</td>\n      <td>0.155000</td>\n      <td>-0.428000</td>\n      <td>0.001000</td>\n      <td>-0.300500</td>\n      <td>-0.361000</td>\n      <td>-0.732000</td>\n    </tr>\n    <tr>\n      <th>75%</th>\n      <td>0.640000</td>\n      <td>0.605750</td>\n      <td>0.563000</td>\n      <td>0.719000</td>\n      <td>0.412250</td>\n      <td>0.585000</td>\n      <td>0.465750</td>\n      <td>0.660000</td>\n      <td>1.366000</td>\n    </tr>\n    <tr>\n      <th>max</th>\n      <td>3.907000</td>\n      <td>2.444000</td>\n      <td>2.735000</td>\n      <td>4.922000</td>\n      <td>6.653000</td>\n      <td>4.456000</td>\n      <td>5.884000</td>\n      <td>4.064000</td>\n      <td>1.366000</td>\n    </tr>\n  </tbody>\n</table>\n</div>"
     },
     "metadata": {},
     "execution_count": 7
    }
   ],
   "source": [
    "# Make a Copy\n",
    "cdf = df.copy()\n",
    "# Apply the centre function to the dataset\n",
    "cdf = cdf.apply(centre)\n",
    "# round data to make describe easier to visually check that means and stds are about 0 and 1 respectively\n",
    "cdf.round(3).describe()"
   ]
  },
  {
   "source": [
    "## Get min and max of centered dataset"
   ],
   "cell_type": "markdown",
   "metadata": {}
  },
  {
   "cell_type": "code",
   "execution_count": 8,
   "metadata": {},
   "outputs": [
    {
     "output_type": "execute_result",
     "data": {
      "text/plain": [
       "      times_pregnant  plasma_glucose_concentration  diastolic_blood_pressure  \\\n",
       "Min    -1.141852e+00                 -3.783654e+00             -3.572597e+00   \n",
       "Max     3.906578e+00                  2.444478e+00              2.734528e+00   \n",
       "Mean   -6.476301e-17                 -9.251859e-18              1.503427e-17   \n",
       "\n",
       "      triceps_thickness  2-hour_serum_insulin           BMI  \\\n",
       "Min       -1.288212e+00         -6.928906e-01 -4.060474e+00   \n",
       "Max        4.921866e+00          6.652839e+00  4.455807e+00   \n",
       "Mean       1.006140e-16         -3.006854e-17  2.590520e-16   \n",
       "\n",
       "      diabetes_pedigreen           age      diabetes  \n",
       "Min        -1.189553e+00 -1.041549e+00 -7.321202e-01  \n",
       "Max         5.883565e+00  4.063716e+00  1.365896e+00  \n",
       "Mean        2.451743e-16  1.931325e-16  7.401487e-17  "
      ],
      "text/html": "<div>\n<style scoped>\n    .dataframe tbody tr th:only-of-type {\n        vertical-align: middle;\n    }\n\n    .dataframe tbody tr th {\n        vertical-align: top;\n    }\n\n    .dataframe thead th {\n        text-align: right;\n    }\n</style>\n<table border=\"1\" class=\"dataframe\">\n  <thead>\n    <tr style=\"text-align: right;\">\n      <th></th>\n      <th>times_pregnant</th>\n      <th>plasma_glucose_concentration</th>\n      <th>diastolic_blood_pressure</th>\n      <th>triceps_thickness</th>\n      <th>2-hour_serum_insulin</th>\n      <th>BMI</th>\n      <th>diabetes_pedigreen</th>\n      <th>age</th>\n      <th>diabetes</th>\n    </tr>\n  </thead>\n  <tbody>\n    <tr>\n      <th>Min</th>\n      <td>-1.141852e+00</td>\n      <td>-3.783654e+00</td>\n      <td>-3.572597e+00</td>\n      <td>-1.288212e+00</td>\n      <td>-6.928906e-01</td>\n      <td>-4.060474e+00</td>\n      <td>-1.189553e+00</td>\n      <td>-1.041549e+00</td>\n      <td>-7.321202e-01</td>\n    </tr>\n    <tr>\n      <th>Max</th>\n      <td>3.906578e+00</td>\n      <td>2.444478e+00</td>\n      <td>2.734528e+00</td>\n      <td>4.921866e+00</td>\n      <td>6.652839e+00</td>\n      <td>4.455807e+00</td>\n      <td>5.883565e+00</td>\n      <td>4.063716e+00</td>\n      <td>1.365896e+00</td>\n    </tr>\n    <tr>\n      <th>Mean</th>\n      <td>-6.476301e-17</td>\n      <td>-9.251859e-18</td>\n      <td>1.503427e-17</td>\n      <td>1.006140e-16</td>\n      <td>-3.006854e-17</td>\n      <td>2.590520e-16</td>\n      <td>2.451743e-16</td>\n      <td>1.931325e-16</td>\n      <td>7.401487e-17</td>\n    </tr>\n  </tbody>\n</table>\n</div>"
     },
     "metadata": {},
     "execution_count": 8
    }
   ],
   "source": [
    "# Finally! Let's look for outliers by getting the min and max in the new centred df:\n",
    "\n",
    "mins = cdf.min(axis=0, skipna=True)\n",
    "maxs = cdf.max(axis=0, skipna=True)\n",
    "means = cdf.mean(axis=0, skipna=True)\n",
    "statcdf = pd.DataFrame([mins, maxs, means], index=['Min', 'Max', 'Mean'])\n",
    "statcdf\n",
    "\n"
   ]
  },
  {
   "source": [
    "### trick question: What is the mean of cdf['times_pregnant']? Why isn't it zero?\n",
    "\n",
    "The mean of times_pregnant is -6.47e-17 which is approximately 0.   \n",
    "Not sure if this is what this question is getting at.\n"
   ],
   "cell_type": "markdown",
   "metadata": {}
  },
  {
   "cell_type": "code",
   "execution_count": 169,
   "metadata": {},
   "outputs": [],
   "source": []
  }
 ],
 "metadata": {
  "kernelspec": {
   "name": "python391jvsc74a57bd0ac59ebe37160ed0dfa835113d9b8498d9f09ceb179beaac4002f036b9467c963",
   "display_name": "Python 3.9.1 64-bit"
  },
  "language_info": {
   "codemirror_mode": {
    "name": "ipython",
    "version": 2
   },
   "file_extension": ".py",
   "mimetype": "text/x-python",
   "name": "python",
   "nbconvert_exporter": "python",
   "pygments_lexer": "ipython2",
   "version": "3.9.1"
  },
  "metadata": {
   "interpreter": {
    "hash": "ac59ebe37160ed0dfa835113d9b8498d9f09ceb179beaac4002f036b9467c963"
   }
  }
 },
 "nbformat": 4,
 "nbformat_minor": 2
}