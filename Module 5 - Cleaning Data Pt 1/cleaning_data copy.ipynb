{
 "cells": [
  {
   "cell_type": "markdown",
   "metadata": {},
   "source": [
    "### Throughout this exercise, you may need to refer to online documentation.\n",
    "\n",
    "Pandas: http://pandas.pydata.org/pandas-docs/stable/\n",
    "\n",
    "Numpy & Scipy: https://docs.scipy.org/doc/"
   ]
  },
  {
   "cell_type": "code",
   "execution_count": 2,
   "metadata": {},
   "outputs": [
    {
     "output_type": "execute_result",
     "data": {
      "text/plain": [
       "   times_pregnant  plasma_glucose_concentration  diastolic_blood_pressure  \\\n",
       "0               6                           148                        72   \n",
       "1               1                            85                        66   \n",
       "2               8                           183                        64   \n",
       "3               1                            89                        66   \n",
       "4               0                           137                        40   \n",
       "\n",
       "   triceps_thickness  2-hour_serum_insulin   BMI  diabetes_pedigreen  age  \\\n",
       "0                 35                     0  33.6               0.627   50   \n",
       "1                 29                     0  26.6               0.351   31   \n",
       "2                  0                     0  23.3               0.672   32   \n",
       "3                 23                    94  28.1               0.167   21   \n",
       "4                 35                   168  43.1               2.288   33   \n",
       "\n",
       "   diabetes  \n",
       "0         1  \n",
       "1         0  \n",
       "2         1  \n",
       "3         0  \n",
       "4         1  "
      ],
      "text/html": "<div>\n<style scoped>\n    .dataframe tbody tr th:only-of-type {\n        vertical-align: middle;\n    }\n\n    .dataframe tbody tr th {\n        vertical-align: top;\n    }\n\n    .dataframe thead th {\n        text-align: right;\n    }\n</style>\n<table border=\"1\" class=\"dataframe\">\n  <thead>\n    <tr style=\"text-align: right;\">\n      <th></th>\n      <th>times_pregnant</th>\n      <th>plasma_glucose_concentration</th>\n      <th>diastolic_blood_pressure</th>\n      <th>triceps_thickness</th>\n      <th>2-hour_serum_insulin</th>\n      <th>BMI</th>\n      <th>diabetes_pedigreen</th>\n      <th>age</th>\n      <th>diabetes</th>\n    </tr>\n  </thead>\n  <tbody>\n    <tr>\n      <th>0</th>\n      <td>6</td>\n      <td>148</td>\n      <td>72</td>\n      <td>35</td>\n      <td>0</td>\n      <td>33.6</td>\n      <td>0.627</td>\n      <td>50</td>\n      <td>1</td>\n    </tr>\n    <tr>\n      <th>1</th>\n      <td>1</td>\n      <td>85</td>\n      <td>66</td>\n      <td>29</td>\n      <td>0</td>\n      <td>26.6</td>\n      <td>0.351</td>\n      <td>31</td>\n      <td>0</td>\n    </tr>\n    <tr>\n      <th>2</th>\n      <td>8</td>\n      <td>183</td>\n      <td>64</td>\n      <td>0</td>\n      <td>0</td>\n      <td>23.3</td>\n      <td>0.672</td>\n      <td>32</td>\n      <td>1</td>\n    </tr>\n    <tr>\n      <th>3</th>\n      <td>1</td>\n      <td>89</td>\n      <td>66</td>\n      <td>23</td>\n      <td>94</td>\n      <td>28.1</td>\n      <td>0.167</td>\n      <td>21</td>\n      <td>0</td>\n    </tr>\n    <tr>\n      <th>4</th>\n      <td>0</td>\n      <td>137</td>\n      <td>40</td>\n      <td>35</td>\n      <td>168</td>\n      <td>43.1</td>\n      <td>2.288</td>\n      <td>33</td>\n      <td>1</td>\n    </tr>\n  </tbody>\n</table>\n</div>"
     },
     "metadata": {},
     "execution_count": 2
    }
   ],
   "source": [
    "# First, import packages and load some data\n",
    "import pandas      as pd\n",
    "import numpy       as np\n",
    "import scipy       as sp\n",
    "import scipy.stats as stats\n",
    "from statistics import mean\n",
    "\n",
    "datafile = './data/pima-indians-diabetes.csv'\n",
    "\n",
    "df = pd.read_csv(datafile, header=0, index_col=None)\n",
    "df.head()"
   ]
  },
  {
   "cell_type": "code",
   "execution_count": 27,
   "metadata": {},
   "outputs": [
    {
     "output_type": "execute_result",
     "data": {
      "text/plain": [
       "       times_pregnant  plasma_glucose_concentration  diastolic_blood_pressure  \\\n",
       "count      768.000000                    763.000000                733.000000   \n",
       "mean         3.845052                    121.686763                 72.405184   \n",
       "std          3.369578                     30.535641                 12.382158   \n",
       "min          0.000000                     44.000000                 24.000000   \n",
       "25%          1.000000                     99.000000                 64.000000   \n",
       "50%          3.000000                    117.000000                 72.000000   \n",
       "75%          6.000000                    141.000000                 80.000000   \n",
       "max         17.000000                    199.000000                122.000000   \n",
       "\n",
       "       triceps_thickness  2-hour_serum_insulin         BMI  \\\n",
       "count         541.000000            394.000000  757.000000   \n",
       "mean           29.153420            155.548223   32.457464   \n",
       "std            10.476982            118.775855    6.924988   \n",
       "min             7.000000             14.000000   18.200000   \n",
       "25%            22.000000             76.250000   27.500000   \n",
       "50%            29.000000            125.000000   32.300000   \n",
       "75%            36.000000            190.000000   36.600000   \n",
       "max            99.000000            846.000000   67.100000   \n",
       "\n",
       "       diabetes_pedigreen         age    diabetes  \n",
       "count          768.000000  768.000000  768.000000  \n",
       "mean             0.471876   33.240885    0.348958  \n",
       "std              0.331329   11.760232    0.476951  \n",
       "min              0.078000   21.000000    0.000000  \n",
       "25%              0.243750   24.000000    0.000000  \n",
       "50%              0.372500   29.000000    0.000000  \n",
       "75%              0.626250   41.000000    1.000000  \n",
       "max              2.420000   81.000000    1.000000  "
      ],
      "text/html": "<div>\n<style scoped>\n    .dataframe tbody tr th:only-of-type {\n        vertical-align: middle;\n    }\n\n    .dataframe tbody tr th {\n        vertical-align: top;\n    }\n\n    .dataframe thead th {\n        text-align: right;\n    }\n</style>\n<table border=\"1\" class=\"dataframe\">\n  <thead>\n    <tr style=\"text-align: right;\">\n      <th></th>\n      <th>times_pregnant</th>\n      <th>plasma_glucose_concentration</th>\n      <th>diastolic_blood_pressure</th>\n      <th>triceps_thickness</th>\n      <th>2-hour_serum_insulin</th>\n      <th>BMI</th>\n      <th>diabetes_pedigreen</th>\n      <th>age</th>\n      <th>diabetes</th>\n    </tr>\n  </thead>\n  <tbody>\n    <tr>\n      <th>count</th>\n      <td>768.000000</td>\n      <td>763.000000</td>\n      <td>733.000000</td>\n      <td>541.000000</td>\n      <td>394.000000</td>\n      <td>757.000000</td>\n      <td>768.000000</td>\n      <td>768.000000</td>\n      <td>768.000000</td>\n    </tr>\n    <tr>\n      <th>mean</th>\n      <td>3.845052</td>\n      <td>121.686763</td>\n      <td>72.405184</td>\n      <td>29.153420</td>\n      <td>155.548223</td>\n      <td>32.457464</td>\n      <td>0.471876</td>\n      <td>33.240885</td>\n      <td>0.348958</td>\n    </tr>\n    <tr>\n      <th>std</th>\n      <td>3.369578</td>\n      <td>30.535641</td>\n      <td>12.382158</td>\n      <td>10.476982</td>\n      <td>118.775855</td>\n      <td>6.924988</td>\n      <td>0.331329</td>\n      <td>11.760232</td>\n      <td>0.476951</td>\n    </tr>\n    <tr>\n      <th>min</th>\n      <td>0.000000</td>\n      <td>44.000000</td>\n      <td>24.000000</td>\n      <td>7.000000</td>\n      <td>14.000000</td>\n      <td>18.200000</td>\n      <td>0.078000</td>\n      <td>21.000000</td>\n      <td>0.000000</td>\n    </tr>\n    <tr>\n      <th>25%</th>\n      <td>1.000000</td>\n      <td>99.000000</td>\n      <td>64.000000</td>\n      <td>22.000000</td>\n      <td>76.250000</td>\n      <td>27.500000</td>\n      <td>0.243750</td>\n      <td>24.000000</td>\n      <td>0.000000</td>\n    </tr>\n    <tr>\n      <th>50%</th>\n      <td>3.000000</td>\n      <td>117.000000</td>\n      <td>72.000000</td>\n      <td>29.000000</td>\n      <td>125.000000</td>\n      <td>32.300000</td>\n      <td>0.372500</td>\n      <td>29.000000</td>\n      <td>0.000000</td>\n    </tr>\n    <tr>\n      <th>75%</th>\n      <td>6.000000</td>\n      <td>141.000000</td>\n      <td>80.000000</td>\n      <td>36.000000</td>\n      <td>190.000000</td>\n      <td>36.600000</td>\n      <td>0.626250</td>\n      <td>41.000000</td>\n      <td>1.000000</td>\n    </tr>\n    <tr>\n      <th>max</th>\n      <td>17.000000</td>\n      <td>199.000000</td>\n      <td>122.000000</td>\n      <td>99.000000</td>\n      <td>846.000000</td>\n      <td>67.100000</td>\n      <td>2.420000</td>\n      <td>81.000000</td>\n      <td>1.000000</td>\n    </tr>\n  </tbody>\n</table>\n</div>"
     },
     "metadata": {},
     "execution_count": 27
    }
   ],
   "source": [
    "# Missing data is coded as 0 in all but the first and last columns (where 0 is meaningful)\n",
    "# Change 0s in columns 1-7 to np.nan\n",
    "\n",
    "# Hint: you can conditionally assign slices of a dataframe to a new value:\n",
    "# eg. df[df[c]==x] = v  will change values in column c to v where they were originall x.\n",
    "# And remember you can slice multiple columns with as df[[0,1]] for the first two columns\n",
    "# You can also look at pandas' DataFrame.replace() function\n",
    "\n",
    "replace_dict = {'plasma_glucose_concentration': 0, 'diastolic_blood_pressure': 0, 'triceps_thickness': 0, '2-hour_serum_insulin': 0, 'BMI': 0, 'diabetes_pedigreen': 0, 'age': 0}\n",
    "\n",
    "df.replace(replace_dict, np.nan, inplace=True)\n",
    "#check min values for selected columns no longe 0.0\n",
    "df.describe()\n",
    "\n"
   ]
  },
  {
   "cell_type": "code",
   "execution_count": 4,
   "metadata": {},
   "outputs": [
    {
     "output_type": "execute_result",
     "data": {
      "text/plain": [
       "                times_pregnant  plasma_glucose_concentration  \\\n",
       "Mean                  3.845052                    121.686763   \n",
       "Median                3.000000                    117.000000   \n",
       "Min                   0.000000                     44.000000   \n",
       "Max                  17.000000                    199.000000   \n",
       "Non NaN Values      768.000000                    763.000000   \n",
       "Mode                  1.000000                     99.000000   \n",
       "\n",
       "                diastolic_blood_pressure  triceps_thickness  \\\n",
       "Mean                           72.405184           29.15342   \n",
       "Median                         72.000000           29.00000   \n",
       "Min                            24.000000            7.00000   \n",
       "Max                           122.000000           99.00000   \n",
       "Non NaN Values                733.000000          541.00000   \n",
       "Mode                           70.000000           32.00000   \n",
       "\n",
       "                2-hour_serum_insulin         BMI  diabetes_pedigreen  \\\n",
       "Mean                      155.548223   32.457464            0.471876   \n",
       "Median                    125.000000   32.300000            0.372500   \n",
       "Min                        14.000000   18.200000            0.078000   \n",
       "Max                       846.000000   67.100000            2.420000   \n",
       "Non NaN Values            394.000000  757.000000          768.000000   \n",
       "Mode                      105.000000   32.000000            0.254000   \n",
       "\n",
       "                       age    diabetes  \n",
       "Mean             33.240885    0.348958  \n",
       "Median           29.000000    0.000000  \n",
       "Min              21.000000    0.000000  \n",
       "Max              81.000000    1.000000  \n",
       "Non NaN Values  768.000000  768.000000  \n",
       "Mode             22.000000    0.000000  "
      ],
      "text/html": "<div>\n<style scoped>\n    .dataframe tbody tr th:only-of-type {\n        vertical-align: middle;\n    }\n\n    .dataframe tbody tr th {\n        vertical-align: top;\n    }\n\n    .dataframe thead th {\n        text-align: right;\n    }\n</style>\n<table border=\"1\" class=\"dataframe\">\n  <thead>\n    <tr style=\"text-align: right;\">\n      <th></th>\n      <th>times_pregnant</th>\n      <th>plasma_glucose_concentration</th>\n      <th>diastolic_blood_pressure</th>\n      <th>triceps_thickness</th>\n      <th>2-hour_serum_insulin</th>\n      <th>BMI</th>\n      <th>diabetes_pedigreen</th>\n      <th>age</th>\n      <th>diabetes</th>\n    </tr>\n  </thead>\n  <tbody>\n    <tr>\n      <th>Mean</th>\n      <td>3.845052</td>\n      <td>121.686763</td>\n      <td>72.405184</td>\n      <td>29.15342</td>\n      <td>155.548223</td>\n      <td>32.457464</td>\n      <td>0.471876</td>\n      <td>33.240885</td>\n      <td>0.348958</td>\n    </tr>\n    <tr>\n      <th>Median</th>\n      <td>3.000000</td>\n      <td>117.000000</td>\n      <td>72.000000</td>\n      <td>29.00000</td>\n      <td>125.000000</td>\n      <td>32.300000</td>\n      <td>0.372500</td>\n      <td>29.000000</td>\n      <td>0.000000</td>\n    </tr>\n    <tr>\n      <th>Min</th>\n      <td>0.000000</td>\n      <td>44.000000</td>\n      <td>24.000000</td>\n      <td>7.00000</td>\n      <td>14.000000</td>\n      <td>18.200000</td>\n      <td>0.078000</td>\n      <td>21.000000</td>\n      <td>0.000000</td>\n    </tr>\n    <tr>\n      <th>Max</th>\n      <td>17.000000</td>\n      <td>199.000000</td>\n      <td>122.000000</td>\n      <td>99.00000</td>\n      <td>846.000000</td>\n      <td>67.100000</td>\n      <td>2.420000</td>\n      <td>81.000000</td>\n      <td>1.000000</td>\n    </tr>\n    <tr>\n      <th>Non NaN Values</th>\n      <td>768.000000</td>\n      <td>763.000000</td>\n      <td>733.000000</td>\n      <td>541.00000</td>\n      <td>394.000000</td>\n      <td>757.000000</td>\n      <td>768.000000</td>\n      <td>768.000000</td>\n      <td>768.000000</td>\n    </tr>\n    <tr>\n      <th>Mode</th>\n      <td>1.000000</td>\n      <td>99.000000</td>\n      <td>70.000000</td>\n      <td>32.00000</td>\n      <td>105.000000</td>\n      <td>32.000000</td>\n      <td>0.254000</td>\n      <td>22.000000</td>\n      <td>0.000000</td>\n    </tr>\n  </tbody>\n</table>\n</div>"
     },
     "metadata": {},
     "execution_count": 4
    }
   ],
   "source": [
    "# The basics: counts, min, max, mean, median and mode\n",
    "# Get the count (of all non-NaNs), min, max, mean, median and mode of each column.\n",
    "\n",
    "#set index and labels\n",
    "index = ['Mean', 'Median', 'Min', 'Max', 'Non NaN Values']\n",
    "labels = ['times_pregnant', 'plasma_glucose_concentration', 'diastolic_blood_pressure', 'triceps_thickness', '2-hour_serum_insulin', 'BMI', 'diabetes_pedigreen', 'age', 'diabetes']\n",
    "\n",
    "#get all stats values that we can with df built in funcs\n",
    "means = df.mean(axis=0, skipna=True) #=> describe already skips na\n",
    "medians = df.median(axis=0, skipna=True)\n",
    "mins = df.min(axis=0, skipna=True)\n",
    "maxs = df.max(axis=0, skipna=True)\n",
    "not_na_counts = df.notnull().sum()\n",
    "\n",
    "#create stats df\n",
    "statdf = pd.DataFrame([means, medians, mins, maxs, not_na_counts], index=index)\n",
    "\n",
    "#get mode using stats.mode function\n",
    "mode_result = stats.mode(df, nan_policy='omit')\n",
    "mode_arr = mode_result[0][0]\n",
    "\n",
    "# create mode df to add to other stats df\n",
    "modes = pd.DataFrame([[1, 99, 70, 32, 105, 32, 0.254, 22, 0]], columns=labels, index=['Mode'])\n",
    "\n",
    "#join mode df to stats df\n",
    "statdf.append(modes)\n",
    "\n",
    "# Which column has the most missing values?\n",
    "    # just look at non-null count and find min\n"
   ]
  },
  {
   "cell_type": "code",
   "execution_count": 77,
   "metadata": {},
   "outputs": [
    {
     "output_type": "stream",
     "name": "stdout",
     "text": [
      "Mean:  0.0 \nStd:  1.0\n"
     ]
    }
   ],
   "source": [
    "# Now let's try to better characterize the column distributions.\n",
    "# First, we can \"centre\" each column (also called a z-transform) so that it has mean=0, variance=1\n",
    "# To center a value, we simply subtract the mean of the distribution, and divide that value \n",
    "#   by the standard deviation of the distribution:\n",
    "# for each value v in a distribution of values V:\n",
    "#    v = (v-mean(V)) / std(V)\n",
    "\n",
    "# Write a centre() function\n",
    "# Hint: centre([0,1,2,3,5,10]) => [-1.059, -0.757, -0.454, -0.151, 0.454, 1.967]\n",
    "\n",
    "# Remember to use np.nanmean() and np.nanstd() to deal with NaNs\n",
    "\n",
    "def centre(col):\n",
    "    mean_col = np.nanmean(col)\n",
    "    std_col = np.nanstd(col)\n",
    "    array_vals = col.to_numpy()\n",
    "    centered_vals = stats.zscore(array_vals, nan_policy='omit')\n",
    "    return centered_vals\n",
    "\n",
    "centered_plasma = centre(df['plasma_glucose_concentration'])\n",
    "\n",
    "def check_z_transform(values):\n",
    "    values = np.array(values)\n",
    "    mean = round(np.nanmean(values), 2)\n",
    "    std = np.nanstd(values)\n",
    "    print('Mean: ', mean, '\\nStd: ', std)\n",
    "\n",
    "check_z_transform(centered_plasma)\n",
    "\n",
    "\n"
   ]
  },
  {
   "cell_type": "code",
   "execution_count": 83,
   "metadata": {},
   "outputs": [
    {
     "output_type": "execute_result",
     "data": {
      "text/plain": [
       "       times_pregnant  plasma_glucose_concentration  diastolic_blood_pressure  \\\n",
       "count      768.000000                    763.000000                733.000000   \n",
       "mean         0.001003                      0.000197                 -0.000014   \n",
       "std          0.999467                      0.999918                  0.999702   \n",
       "min         -1.140000                     -2.540000                 -3.910000   \n",
       "25%         -0.840000                     -0.740000                 -0.680000   \n",
       "50%         -0.250000                     -0.150000                 -0.030000   \n",
       "75%          0.640000                      0.630000                  0.610000   \n",
       "max          3.900000                      2.530000                  4.010000   \n",
       "\n",
       "       triceps_thickness  2-hour_serum_insulin         BMI  \\\n",
       "count         541.000000            394.000000  757.000000   \n",
       "mean            0.000222             -0.000228   -0.000040   \n",
       "std             1.000039              1.000088    0.999924   \n",
       "min            -2.110000             -1.190000   -2.060000   \n",
       "25%            -0.680000             -0.667500   -0.720000   \n",
       "50%            -0.010000             -0.260000   -0.020000   \n",
       "75%             0.650000              0.290000    0.600000   \n",
       "max             6.670000              5.810000    5.000000   \n",
       "\n",
       "       diabetes_pedigreen         age    diabetes  \n",
       "count          768.000000  768.000000  768.000000  \n",
       "mean            -0.000104   -0.001263    0.002813  \n",
       "std              0.999958    1.000932    1.001598  \n",
       "min             -1.190000   -1.040000   -0.730000  \n",
       "25%             -0.690000   -0.790000   -0.730000  \n",
       "50%             -0.300000   -0.360000   -0.730000  \n",
       "75%              0.470000    0.660000    1.370000  \n",
       "max              5.880000    4.060000    1.370000  "
      ],
      "text/html": "<div>\n<style scoped>\n    .dataframe tbody tr th:only-of-type {\n        vertical-align: middle;\n    }\n\n    .dataframe tbody tr th {\n        vertical-align: top;\n    }\n\n    .dataframe thead th {\n        text-align: right;\n    }\n</style>\n<table border=\"1\" class=\"dataframe\">\n  <thead>\n    <tr style=\"text-align: right;\">\n      <th></th>\n      <th>times_pregnant</th>\n      <th>plasma_glucose_concentration</th>\n      <th>diastolic_blood_pressure</th>\n      <th>triceps_thickness</th>\n      <th>2-hour_serum_insulin</th>\n      <th>BMI</th>\n      <th>diabetes_pedigreen</th>\n      <th>age</th>\n      <th>diabetes</th>\n    </tr>\n  </thead>\n  <tbody>\n    <tr>\n      <th>count</th>\n      <td>768.000000</td>\n      <td>763.000000</td>\n      <td>733.000000</td>\n      <td>541.000000</td>\n      <td>394.000000</td>\n      <td>757.000000</td>\n      <td>768.000000</td>\n      <td>768.000000</td>\n      <td>768.000000</td>\n    </tr>\n    <tr>\n      <th>mean</th>\n      <td>0.001003</td>\n      <td>0.000197</td>\n      <td>-0.000014</td>\n      <td>0.000222</td>\n      <td>-0.000228</td>\n      <td>-0.000040</td>\n      <td>-0.000104</td>\n      <td>-0.001263</td>\n      <td>0.002813</td>\n    </tr>\n    <tr>\n      <th>std</th>\n      <td>0.999467</td>\n      <td>0.999918</td>\n      <td>0.999702</td>\n      <td>1.000039</td>\n      <td>1.000088</td>\n      <td>0.999924</td>\n      <td>0.999958</td>\n      <td>1.000932</td>\n      <td>1.001598</td>\n    </tr>\n    <tr>\n      <th>min</th>\n      <td>-1.140000</td>\n      <td>-2.540000</td>\n      <td>-3.910000</td>\n      <td>-2.110000</td>\n      <td>-1.190000</td>\n      <td>-2.060000</td>\n      <td>-1.190000</td>\n      <td>-1.040000</td>\n      <td>-0.730000</td>\n    </tr>\n    <tr>\n      <th>25%</th>\n      <td>-0.840000</td>\n      <td>-0.740000</td>\n      <td>-0.680000</td>\n      <td>-0.680000</td>\n      <td>-0.667500</td>\n      <td>-0.720000</td>\n      <td>-0.690000</td>\n      <td>-0.790000</td>\n      <td>-0.730000</td>\n    </tr>\n    <tr>\n      <th>50%</th>\n      <td>-0.250000</td>\n      <td>-0.150000</td>\n      <td>-0.030000</td>\n      <td>-0.010000</td>\n      <td>-0.260000</td>\n      <td>-0.020000</td>\n      <td>-0.300000</td>\n      <td>-0.360000</td>\n      <td>-0.730000</td>\n    </tr>\n    <tr>\n      <th>75%</th>\n      <td>0.640000</td>\n      <td>0.630000</td>\n      <td>0.610000</td>\n      <td>0.650000</td>\n      <td>0.290000</td>\n      <td>0.600000</td>\n      <td>0.470000</td>\n      <td>0.660000</td>\n      <td>1.370000</td>\n    </tr>\n    <tr>\n      <th>max</th>\n      <td>3.900000</td>\n      <td>2.530000</td>\n      <td>4.010000</td>\n      <td>6.670000</td>\n      <td>5.810000</td>\n      <td>5.000000</td>\n      <td>5.880000</td>\n      <td>4.060000</td>\n      <td>1.370000</td>\n    </tr>\n  </tbody>\n</table>\n</div>"
     },
     "metadata": {},
     "execution_count": 83
    }
   ],
   "source": [
    "\n",
    "df2 = df.copy()\n",
    "\n",
    "# print(np.nanmean(values[][1]))\n",
    "def centre2(df2):\n",
    "    values = df2.values\n",
    "    calc = (values - np.nanmean(values, axis=0)/np.nanstd(values, axis=0))\n",
    "    df3 = pd.DataFrame(calc, columns = labels)\n",
    "    return df3\n",
    "\n",
    "def centre3(df2):\n",
    "    # print(df2.mean(), df2.std())\n",
    "    return ((df2 - df2.mean())/df2.std())\n",
    "\n",
    "df3 = centre3(df2).round(2)\n",
    "\n",
    "df3.head()\n",
    "df3.describe()\n",
    "# new_vals = centre2(values)\n",
    "# # print(new_vals[1][:5])\n",
    "# # print(values[1][:5])\n",
    "# df3 = pd.DataFrame(new_vals, columns=labels)\n",
    "# # print(df3.iloc[1][:5])\n",
    "# df3.describe()\n"
   ]
  },
  {
   "cell_type": "code",
   "execution_count": 82,
   "metadata": {},
   "outputs": [
    {
     "output_type": "execute_result",
     "data": {
      "text/plain": [
       "       times_pregnant  plasma_glucose_concentration  diastolic_blood_pressure  \\\n",
       "count      768.000000                    763.000000                733.000000   \n",
       "mean         0.001042                      0.000079                  0.000314   \n",
       "std          0.999596                      1.000616                  1.000813   \n",
       "min         -1.140000                     -2.550000                 -3.910000   \n",
       "25%         -0.840000                     -0.740000                 -0.680000   \n",
       "50%         -0.250000                     -0.150000                 -0.030000   \n",
       "75%          0.640000                      0.630000                  0.610000   \n",
       "max          3.910000                      2.530000                  4.010000   \n",
       "\n",
       "       triceps_thickness  2-hour_serum_insulin         BMI  \\\n",
       "count         541.000000            394.000000  757.000000   \n",
       "mean            0.000018             -0.000178    0.000079   \n",
       "std             1.000781              1.001355    1.000823   \n",
       "min            -2.120000             -1.190000   -2.060000   \n",
       "25%            -0.680000             -0.667500   -0.720000   \n",
       "50%            -0.010000             -0.260000   -0.020000   \n",
       "75%             0.650000              0.290000    0.600000   \n",
       "max             6.670000              5.820000    5.010000   \n",
       "\n",
       "       diabetes_pedigreen         age    diabetes  \n",
       "count          768.000000  768.000000  768.000000  \n",
       "mean            -0.000065   -0.000586    0.002813  \n",
       "std              1.000559    1.001484    1.001598  \n",
       "min             -1.190000   -1.040000   -0.730000  \n",
       "25%             -0.690000   -0.790000   -0.730000  \n",
       "50%             -0.300000   -0.360000   -0.730000  \n",
       "75%              0.470000    0.660000    1.370000  \n",
       "max              5.880000    4.060000    1.370000  "
      ],
      "text/html": "<div>\n<style scoped>\n    .dataframe tbody tr th:only-of-type {\n        vertical-align: middle;\n    }\n\n    .dataframe tbody tr th {\n        vertical-align: top;\n    }\n\n    .dataframe thead th {\n        text-align: right;\n    }\n</style>\n<table border=\"1\" class=\"dataframe\">\n  <thead>\n    <tr style=\"text-align: right;\">\n      <th></th>\n      <th>times_pregnant</th>\n      <th>plasma_glucose_concentration</th>\n      <th>diastolic_blood_pressure</th>\n      <th>triceps_thickness</th>\n      <th>2-hour_serum_insulin</th>\n      <th>BMI</th>\n      <th>diabetes_pedigreen</th>\n      <th>age</th>\n      <th>diabetes</th>\n    </tr>\n  </thead>\n  <tbody>\n    <tr>\n      <th>count</th>\n      <td>768.000000</td>\n      <td>763.000000</td>\n      <td>733.000000</td>\n      <td>541.000000</td>\n      <td>394.000000</td>\n      <td>757.000000</td>\n      <td>768.000000</td>\n      <td>768.000000</td>\n      <td>768.000000</td>\n    </tr>\n    <tr>\n      <th>mean</th>\n      <td>0.001042</td>\n      <td>0.000079</td>\n      <td>0.000314</td>\n      <td>0.000018</td>\n      <td>-0.000178</td>\n      <td>0.000079</td>\n      <td>-0.000065</td>\n      <td>-0.000586</td>\n      <td>0.002813</td>\n    </tr>\n    <tr>\n      <th>std</th>\n      <td>0.999596</td>\n      <td>1.000616</td>\n      <td>1.000813</td>\n      <td>1.000781</td>\n      <td>1.001355</td>\n      <td>1.000823</td>\n      <td>1.000559</td>\n      <td>1.001484</td>\n      <td>1.001598</td>\n    </tr>\n    <tr>\n      <th>min</th>\n      <td>-1.140000</td>\n      <td>-2.550000</td>\n      <td>-3.910000</td>\n      <td>-2.120000</td>\n      <td>-1.190000</td>\n      <td>-2.060000</td>\n      <td>-1.190000</td>\n      <td>-1.040000</td>\n      <td>-0.730000</td>\n    </tr>\n    <tr>\n      <th>25%</th>\n      <td>-0.840000</td>\n      <td>-0.740000</td>\n      <td>-0.680000</td>\n      <td>-0.680000</td>\n      <td>-0.667500</td>\n      <td>-0.720000</td>\n      <td>-0.690000</td>\n      <td>-0.790000</td>\n      <td>-0.730000</td>\n    </tr>\n    <tr>\n      <th>50%</th>\n      <td>-0.250000</td>\n      <td>-0.150000</td>\n      <td>-0.030000</td>\n      <td>-0.010000</td>\n      <td>-0.260000</td>\n      <td>-0.020000</td>\n      <td>-0.300000</td>\n      <td>-0.360000</td>\n      <td>-0.730000</td>\n    </tr>\n    <tr>\n      <th>75%</th>\n      <td>0.640000</td>\n      <td>0.630000</td>\n      <td>0.610000</td>\n      <td>0.650000</td>\n      <td>0.290000</td>\n      <td>0.600000</td>\n      <td>0.470000</td>\n      <td>0.660000</td>\n      <td>1.370000</td>\n    </tr>\n    <tr>\n      <th>max</th>\n      <td>3.910000</td>\n      <td>2.530000</td>\n      <td>4.010000</td>\n      <td>6.670000</td>\n      <td>5.820000</td>\n      <td>5.010000</td>\n      <td>5.880000</td>\n      <td>4.060000</td>\n      <td>1.370000</td>\n    </tr>\n  </tbody>\n</table>\n</div>"
     },
     "metadata": {},
     "execution_count": 82
    }
   ],
   "source": [
    "# Let's make a copy of df, to hold the centred values:\n",
    "cdf = df.copy()\n",
    "\n",
    "cdf = cdf.apply(centre)\n",
    "cdf = cdf.round(2)\n",
    "\n",
    "cdf.head()\n",
    "cdf.describe()"
   ]
  },
  {
   "cell_type": "code",
   "execution_count": 24,
   "metadata": {},
   "outputs": [
    {
     "output_type": "execute_result",
     "data": {
      "text/plain": [
       "      times_pregnant  plasma_glucose_concentration  diastolic_blood_pressure  \\\n",
       "Min        -1.140000                     -2.550000                 -3.910000   \n",
       "Max         3.910000                      2.530000                  4.010000   \n",
       "Mean        0.001042                      0.000079                  0.000314   \n",
       "\n",
       "      triceps_thickness  2-hour_serum_insulin       BMI  diabetes_pedigreen  \\\n",
       "Min           -2.120000             -1.190000 -2.060000           -1.190000   \n",
       "Max            6.670000              5.820000  5.010000            5.880000   \n",
       "Mean           0.000018             -0.000178  0.000079           -0.000065   \n",
       "\n",
       "           age  diabetes  \n",
       "Min  -1.040000 -0.730000  \n",
       "Max   4.060000  1.370000  \n",
       "Mean -0.000586  0.002813  "
      ],
      "text/html": "<div>\n<style scoped>\n    .dataframe tbody tr th:only-of-type {\n        vertical-align: middle;\n    }\n\n    .dataframe tbody tr th {\n        vertical-align: top;\n    }\n\n    .dataframe thead th {\n        text-align: right;\n    }\n</style>\n<table border=\"1\" class=\"dataframe\">\n  <thead>\n    <tr style=\"text-align: right;\">\n      <th></th>\n      <th>times_pregnant</th>\n      <th>plasma_glucose_concentration</th>\n      <th>diastolic_blood_pressure</th>\n      <th>triceps_thickness</th>\n      <th>2-hour_serum_insulin</th>\n      <th>BMI</th>\n      <th>diabetes_pedigreen</th>\n      <th>age</th>\n      <th>diabetes</th>\n    </tr>\n  </thead>\n  <tbody>\n    <tr>\n      <th>Min</th>\n      <td>-1.140000</td>\n      <td>-2.550000</td>\n      <td>-3.910000</td>\n      <td>-2.120000</td>\n      <td>-1.190000</td>\n      <td>-2.060000</td>\n      <td>-1.190000</td>\n      <td>-1.040000</td>\n      <td>-0.730000</td>\n    </tr>\n    <tr>\n      <th>Max</th>\n      <td>3.910000</td>\n      <td>2.530000</td>\n      <td>4.010000</td>\n      <td>6.670000</td>\n      <td>5.820000</td>\n      <td>5.010000</td>\n      <td>5.880000</td>\n      <td>4.060000</td>\n      <td>1.370000</td>\n    </tr>\n    <tr>\n      <th>Mean</th>\n      <td>0.001042</td>\n      <td>0.000079</td>\n      <td>0.000314</td>\n      <td>0.000018</td>\n      <td>-0.000178</td>\n      <td>0.000079</td>\n      <td>-0.000065</td>\n      <td>-0.000586</td>\n      <td>0.002813</td>\n    </tr>\n  </tbody>\n</table>\n</div>"
     },
     "metadata": {},
     "execution_count": 24
    }
   ],
   "source": [
    "# Finally! Let's look for outliers by getting the min and max in the new centred df:\n",
    "# (You can re-use code from above!)\n",
    "\n",
    "mins = cdf.min(axis=0, skipna=True)\n",
    "maxs = cdf.max(axis=0, skipna=True)\n",
    "means = cdf.mean(axis=0, skipna=True)\n",
    "statcdf = pd.DataFrame([mins, maxs, means], index=['Min', 'Max', 'Mean'])\n",
    "statcdf\n",
    "\n"
   ]
  },
  {
   "cell_type": "code",
   "execution_count": 25,
   "metadata": {},
   "outputs": [],
   "source": [
    "# trick question:\n",
    "# What is the mean of cdf['times_pregnant']?\n",
    "# Why isn't it zero?\n",
    "\n",
    "something = [1, 2, 5, 4, 9, 15, 4, 2, 4, 9]\n",
    "zsomething = stats.zscore(something)\n",
    "zsomething = np.array(zsomething)\n",
    "\n",
    "# ???? \n",
    "# thought maybe somethig to do with all positive ints but no luck"
   ]
  },
  {
   "cell_type": "code",
   "execution_count": 26,
   "metadata": {},
   "outputs": [],
   "source": [
    "# need to adjust which columns - did the pregnent column replace value where 0 is a valid vaule"
   ]
  },
  {
   "cell_type": "code",
   "execution_count": 86,
   "metadata": {},
   "outputs": [
    {
     "output_type": "execute_result",
     "data": {
      "text/plain": [
       "       times_pregnant  plasma_glucose_concentration  diastolic_blood_pressure  \\\n",
       "count      768.000000                    763.000000                733.000000   \n",
       "mean        -0.000020                      0.000008                  0.000018   \n",
       "std          1.000765                      1.000672                  1.000694   \n",
       "min         -1.142000                     -2.546000                 -3.912000   \n",
       "25%         -0.845000                     -0.743000                 -0.679000   \n",
       "50%         -0.251000                     -0.154000                 -0.033000   \n",
       "75%          0.640000                      0.633000                  0.614000   \n",
       "max          3.907000                      2.534000                  4.008000   \n",
       "\n",
       "       triceps_thickness  2-hour_serum_insulin         BMI  \\\n",
       "count         541.000000            394.000000  757.000000   \n",
       "mean           -0.000002              0.000005   -0.000022   \n",
       "std             1.000935              1.001286    1.000660   \n",
       "min            -2.116000             -1.193000   -2.060000   \n",
       "25%            -0.683000             -0.668750   -0.716000   \n",
       "50%            -0.015000             -0.258000   -0.023000   \n",
       "75%             0.654000              0.290000    0.599000   \n",
       "max             6.673000              5.820000    5.006000   \n",
       "\n",
       "       diabetes_pedigreen         age    diabetes  \n",
       "count          768.000000  768.000000  768.000000  \n",
       "mean             0.000030    0.000046    0.000115  \n",
       "std              1.000651    1.000611    1.000644  \n",
       "min             -1.190000   -1.042000   -0.732000  \n",
       "25%             -0.688750   -0.786000   -0.732000  \n",
       "50%             -0.300500   -0.361000   -0.732000  \n",
       "75%              0.465750    0.660000    1.366000  \n",
       "max              5.884000    4.064000    1.366000  "
      ],
      "text/html": "<div>\n<style scoped>\n    .dataframe tbody tr th:only-of-type {\n        vertical-align: middle;\n    }\n\n    .dataframe tbody tr th {\n        vertical-align: top;\n    }\n\n    .dataframe thead th {\n        text-align: right;\n    }\n</style>\n<table border=\"1\" class=\"dataframe\">\n  <thead>\n    <tr style=\"text-align: right;\">\n      <th></th>\n      <th>times_pregnant</th>\n      <th>plasma_glucose_concentration</th>\n      <th>diastolic_blood_pressure</th>\n      <th>triceps_thickness</th>\n      <th>2-hour_serum_insulin</th>\n      <th>BMI</th>\n      <th>diabetes_pedigreen</th>\n      <th>age</th>\n      <th>diabetes</th>\n    </tr>\n  </thead>\n  <tbody>\n    <tr>\n      <th>count</th>\n      <td>768.000000</td>\n      <td>763.000000</td>\n      <td>733.000000</td>\n      <td>541.000000</td>\n      <td>394.000000</td>\n      <td>757.000000</td>\n      <td>768.000000</td>\n      <td>768.000000</td>\n      <td>768.000000</td>\n    </tr>\n    <tr>\n      <th>mean</th>\n      <td>-0.000020</td>\n      <td>0.000008</td>\n      <td>0.000018</td>\n      <td>-0.000002</td>\n      <td>0.000005</td>\n      <td>-0.000022</td>\n      <td>0.000030</td>\n      <td>0.000046</td>\n      <td>0.000115</td>\n    </tr>\n    <tr>\n      <th>std</th>\n      <td>1.000765</td>\n      <td>1.000672</td>\n      <td>1.000694</td>\n      <td>1.000935</td>\n      <td>1.001286</td>\n      <td>1.000660</td>\n      <td>1.000651</td>\n      <td>1.000611</td>\n      <td>1.000644</td>\n    </tr>\n    <tr>\n      <th>min</th>\n      <td>-1.142000</td>\n      <td>-2.546000</td>\n      <td>-3.912000</td>\n      <td>-2.116000</td>\n      <td>-1.193000</td>\n      <td>-2.060000</td>\n      <td>-1.190000</td>\n      <td>-1.042000</td>\n      <td>-0.732000</td>\n    </tr>\n    <tr>\n      <th>25%</th>\n      <td>-0.845000</td>\n      <td>-0.743000</td>\n      <td>-0.679000</td>\n      <td>-0.683000</td>\n      <td>-0.668750</td>\n      <td>-0.716000</td>\n      <td>-0.688750</td>\n      <td>-0.786000</td>\n      <td>-0.732000</td>\n    </tr>\n    <tr>\n      <th>50%</th>\n      <td>-0.251000</td>\n      <td>-0.154000</td>\n      <td>-0.033000</td>\n      <td>-0.015000</td>\n      <td>-0.258000</td>\n      <td>-0.023000</td>\n      <td>-0.300500</td>\n      <td>-0.361000</td>\n      <td>-0.732000</td>\n    </tr>\n    <tr>\n      <th>75%</th>\n      <td>0.640000</td>\n      <td>0.633000</td>\n      <td>0.614000</td>\n      <td>0.654000</td>\n      <td>0.290000</td>\n      <td>0.599000</td>\n      <td>0.465750</td>\n      <td>0.660000</td>\n      <td>1.366000</td>\n    </tr>\n    <tr>\n      <th>max</th>\n      <td>3.907000</td>\n      <td>2.534000</td>\n      <td>4.008000</td>\n      <td>6.673000</td>\n      <td>5.820000</td>\n      <td>5.006000</td>\n      <td>5.884000</td>\n      <td>4.064000</td>\n      <td>1.366000</td>\n    </tr>\n  </tbody>\n</table>\n</div>"
     },
     "metadata": {},
     "execution_count": 86
    }
   ],
   "source": [
    "def centre(col):\n",
    "    array_vals = col.to_numpy()\n",
    "    return stats.zscore(array_vals, nan_policy='omit')\n",
    "\n",
    "cdf = df.copy()\n",
    "cdf = cdf.apply(centre).round(3)\n",
    "cdf.describe()"
   ]
  }
 ],
 "metadata": {
  "kernelspec": {
   "name": "python391jvsc74a57bd0ac59ebe37160ed0dfa835113d9b8498d9f09ceb179beaac4002f036b9467c963",
   "display_name": "Python 3.9.1 64-bit"
  },
  "language_info": {
   "codemirror_mode": {
    "name": "ipython",
    "version": 2
   },
   "file_extension": ".py",
   "mimetype": "text/x-python",
   "name": "python",
   "nbconvert_exporter": "python",
   "pygments_lexer": "ipython2",
   "version": "3.9.1"
  },
  "metadata": {
   "interpreter": {
    "hash": "ac59ebe37160ed0dfa835113d9b8498d9f09ceb179beaac4002f036b9467c963"
   }
  }
 },
 "nbformat": 4,
 "nbformat_minor": 2
}