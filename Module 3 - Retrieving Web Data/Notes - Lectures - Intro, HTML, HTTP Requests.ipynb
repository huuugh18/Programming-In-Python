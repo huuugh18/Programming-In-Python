{
 "cells": [
  {
   "cell_type": "markdown",
   "metadata": {},
   "source": [
    "## 3.0 Introduction\n",
    "\n",
    "### Internet Protocol IP / Transport Control Protocol TCP\n",
    "\n",
    "**Servers:** Machines offering services\n",
    "\n",
    "**Client:** Machines connecting to services\n",
    "\n",
    "**Client server network**\n",
    "\n",
    "Internet Protocol: description of the things a machine needs to do and say to carry out a transaction\n",
    "\n",
    "Hypertext Transfer Protocol (HTTP): websites accessed via this\n",
    "\n",
    "Can use python to download websites automatically for processing\n",
    "\n",
    "Sometimes get access to website data in JSON format - easier to work with as no info on how data displayed\n",
    "\n",
    "API - Aplication Programming Interface: when json data provided can say its an API  \n",
    "RESTful API\n",
    "\n"
   ]
  },
  {
   "cell_type": "markdown",
   "metadata": {},
   "source": [
    "## 3.1 Web Technologies\n",
    "\n",
    "### HTTP\n",
    "- request a resource from a server\n",
    "- server offers a response / or ignores you\n",
    "\n",
    "**Anatomy of a request**  \n",
    "1. type url in browser\n",
    "2. check cache\n",
    "3. DNS lookup of IP\n",
    "4. Browser initiates TCP connection\n",
    "5. Browser sends a HTTP request\n",
    "6. Server handles request\n",
    "7. Browser recieves HTTP response\n",
    "8. Browser serves content\n",
    "\n",
    "### HTML - Hypertext Markup Language\n",
    "- Semantic markup fro the web\n",
    "- Elements and predefined tags\n",
    "- Hierarchical/ standardised\n",
    "\n",
    "Doctype declaration `<DOCTYPE html>`  \n",
    "Encoding: `<meta charset='utf-8' />`\n",
    "\n",
    "#### HTML Attributes\n",
    "Usually a name value pair  \n",
    "`<img src='myImg.png' alt='cute black cat playing' />`\n",
    "\n",
    "HTML doesnt do event handling (JS)\n",
    "HTML not great for styling either (CSS)\n",
    "\n",
    "Useful Because:  \n",
    "- offers meaningful structure\n",
    "- user-agents can understand it\n",
    "- makes content accessible\n",
    "- can handle media\n",
    "\n",
    "\n"
   ]
  },
  {
   "cell_type": "markdown",
   "metadata": {},
   "source": [
    "## 3.5 HTTP Requests\n",
    "\n",
    "Send a 'GET' request - ask for specific types of indo from server  \n",
    "Specify the format you expect request to come and version of HTTP using\n",
    "\n",
    "OR\n",
    "\n",
    "Send a 'POST' request - post some info/data to server like a form\n",
    "\n",
    "recieve a HTTP/Status Code\n",
    "- 200: Ok and is accessible, give content-type (ie. text/html)\n",
    "- 404: not found - content removed or info not found\n",
    "\n",
    "\n",
    "\n"
   ]
  }
 ],
 "metadata": {
  "kernelspec": {
   "display_name": "Python 3",
   "language": "python",
   "name": "python3"
  },
  "language_info": {
   "codemirror_mode": {
    "name": "ipython",
    "version": 3
   },
   "file_extension": ".py",
   "mimetype": "text/x-python",
   "name": "python",
   "nbconvert_exporter": "python",
   "pygments_lexer": "ipython3",
   "version": "3.8.5"
  }
 },
 "nbformat": 4,
 "nbformat_minor": 4
}
