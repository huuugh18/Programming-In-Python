{
 "metadata": {
  "language_info": {
   "codemirror_mode": {
    "name": "ipython",
    "version": 3
   },
   "file_extension": ".py",
   "mimetype": "text/x-python",
   "name": "python",
   "nbconvert_exporter": "python",
   "pygments_lexer": "ipython3",
   "version": "3.9.1"
  },
  "orig_nbformat": 2,
  "kernelspec": {
   "name": "python391jvsc74a57bd0ac59ebe37160ed0dfa835113d9b8498d9f09ceb179beaac4002f036b9467c963",
   "display_name": "Python 3.9.1 64-bit"
  },
  "metadata": {
   "interpreter": {
    "hash": "ac59ebe37160ed0dfa835113d9b8498d9f09ceb179beaac4002f036b9467c963"
   }
  }
 },
 "nbformat": 4,
 "nbformat_minor": 2,
 "cells": [
  {
   "cell_type": "code",
   "execution_count": 1,
   "metadata": {},
   "outputs": [],
   "source": [
    "from bs4 import BeautifulSoup\n",
    "import requests\n",
    "import pandas as pd\n",
    "\n",
    "url = 'https://london.ac.uk/'\n",
    "\n",
    "page = requests.get(url)\n",
    "\n",
    "soup = BeautifulSoup(page.content, 'html.parser')"
   ]
  },
  {
   "cell_type": "code",
   "execution_count": 7,
   "metadata": {},
   "outputs": [
    {
     "output_type": "execute_result",
     "data": {
      "text/plain": [
       "['Home',\n",
       " 'View of London city and river Thames',\n",
       " 'Two chess pieces representing the European Union and the United Kingdom on a chess board symbolising Brexit',\n",
       " 'Person Washing Hands',\n",
       " 'Man speaking into microphone in a meeting.',\n",
       " 'Presentation',\n",
       " 'Three students listening to the lecturer',\n",
       " 'A group of students studying Business Administration',\n",
       " 'Cyclists on a track',\n",
       " 'Ecopsychology books at Senate House Library']"
      ]
     },
     "metadata": {},
     "execution_count": 7
    }
   ],
   "source": [
    "alt_img_txt = soup.find_all('img')\n",
    "\n",
    "alt_txts = []\n",
    "for img in alt_img_txt:\n",
    "    alt_txts.append(img.get('alt'))\n",
    "    \n",
    "\n",
    "alt_txts\n"
   ]
  }
 ]
}