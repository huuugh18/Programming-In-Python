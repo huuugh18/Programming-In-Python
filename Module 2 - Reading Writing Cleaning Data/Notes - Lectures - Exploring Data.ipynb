{
 "cells": [
  {
   "cell_type": "markdown",
   "metadata": {},
   "source": [
    "Sources of Data\n",
    "- [data.gov.uk](data.gov.uk)\n",
    "- [europeandataportal](europeandataportal.eu)\n",
    "- [london gov](data.london.gov.uk)\n",
    "-[undata catalog](undatacatalag.org/#explore)\n",
    "- [data.gov](data.gov)\n",
    "- [data.gov.in](data.gov.in)\n",
    "\n",
    "\n",
    "### List Comprehension \n",
    "Short one line form of a for loop"
   ]
  },
  {
   "cell_type": "code",
   "execution_count": 18,
   "metadata": {},
   "outputs": [
    {
     "name": "stdout",
     "output_type": "stream",
     "text": [
      "12.0\n"
     ]
    }
   ],
   "source": [
    "import numpy as np\n",
    "\n",
    "x = [2, 4, 6, 8 , 10]\n",
    "data = [v*2 for v in x]\n",
    "print(np.mean(data))"
   ]
  },
  {
   "cell_type": "markdown",
   "metadata": {},
   "source": [
    "### Working with CSV"
   ]
  },
  {
   "cell_type": "code",
   "execution_count": 19,
   "metadata": {},
   "outputs": [
    {
     "name": "stdout",
     "output_type": "stream",
     "text": [
      "2359.6084507042256 2359.6084507042256\n"
     ]
    }
   ],
   "source": [
    "import csv\n",
    "\n",
    "#column 6 = total LTC deaths\n",
    "\n",
    "with open(\"Data/ltccovidsummary.csv\") as csvfile:\n",
    "    reader = csv.reader(csvfile, delimiter=',')\n",
    "    list = []\n",
    "    for column in reader:\n",
    "        list.append(column[5])\n",
    "\n",
    "#remove header title\n",
    "list = list[1:]\n",
    "\n",
    "#have to convert data to ints\n",
    "list = [int(i) for i in list]\n",
    "\n",
    "# Get Mean\n",
    "data_mean = sum(list) / len(list)\n",
    "#numpy mean\n",
    "numpy_mean = np.mean(list)\n",
    "print(data_mean, numpy_mean)"
   ]
  },
  {
   "cell_type": "markdown",
   "metadata": {},
   "source": [
    "### Working with JSON"
   ]
  },
  {
   "cell_type": "code",
   "execution_count": 26,
   "metadata": {},
   "outputs": [
    {
     "name": "stdout",
     "output_type": "stream",
     "text": [
      "{\"name\": \"Sean McGrath\", \"languages\": [\"Python\", \"JS\", \"PHP\", \"Pascal\"], \"qual\": [\"BSc\", \"PhD\"], \"students\": [{\"name\": \"jay\", \"qual\": [\"Bsc\", \"CCNA\"]}, {\"name\": \"Doug\", \"qual\": [\"AAA\", \"Bsc\"]}]}\n"
     ]
    },
    {
     "data": {
      "text/html": [
       "<div>\n",
       "<style scoped>\n",
       "    .dataframe tbody tr th:only-of-type {\n",
       "        vertical-align: middle;\n",
       "    }\n",
       "\n",
       "    .dataframe tbody tr th {\n",
       "        vertical-align: top;\n",
       "    }\n",
       "\n",
       "    .dataframe thead th {\n",
       "        text-align: right;\n",
       "    }\n",
       "</style>\n",
       "<table border=\"1\" class=\"dataframe\">\n",
       "  <thead>\n",
       "    <tr style=\"text-align: right;\">\n",
       "      <th></th>\n",
       "      <th>name</th>\n",
       "      <th>qual</th>\n",
       "    </tr>\n",
       "  </thead>\n",
       "  <tbody>\n",
       "    <tr>\n",
       "      <th>0</th>\n",
       "      <td>jay</td>\n",
       "      <td>[Bsc, CCNA]</td>\n",
       "    </tr>\n",
       "    <tr>\n",
       "      <th>1</th>\n",
       "      <td>Doug</td>\n",
       "      <td>[AAA, Bsc]</td>\n",
       "    </tr>\n",
       "  </tbody>\n",
       "</table>\n",
       "</div>"
      ],
      "text/plain": [
       "   name         qual\n",
       "0   jay  [Bsc, CCNA]\n",
       "1  Doug   [AAA, Bsc]"
      ]
     },
     "execution_count": 26,
     "metadata": {},
     "output_type": "execute_result"
    }
   ],
   "source": [
    "import json\n",
    "import pandas as pd\n",
    "sean_json = \"\"\"\n",
    "{\"name\": \"Sean McGrath\", \"languages\": [\"Python\", \"JS\", \"PHP\", \"Pascal\"], \"qual\": [\"BSc\", \"PhD\"], \"students\":[{\"name\": \"jay\", \"qual\": [\"Bsc\", \"CCNA\"]}, {\"name\":\"Doug\", \"qual\": [\"AAA\", \"Bsc\"]}]}\n",
    "\"\"\"\n",
    "\n",
    "# mydata = json.loads(sean_json)\n",
    "# mydata\n",
    "print(json.dumps(mydata))\n",
    "\n",
    "student_data = pd.DataFrame(mydata['students'], columns=['name', 'qual'])\n",
    "student_data\n",
    "\n",
    "# create a file\n",
    "#student_data.to_csv('students.csv')"
   ]
  },
  {
   "cell_type": "markdown",
   "metadata": {},
   "source": [
    "### Operating System (2.17)\n",
    "\n",
    "libraries os and shutil do similar things\n",
    "\n",
    "Change Dir => `os.chdir('path')`\n",
    "\n",
    "Remove Dir => `shutil.rmtree('dirName')`\n",
    "\n",
    "Create Dir => `os.mkdir('dirName')`\n",
    "\n",
    "Get current Dir => `os.getcwd()`"
   ]
  },
  {
   "cell_type": "code",
   "execution_count": 40,
   "metadata": {},
   "outputs": [
    {
     "name": "stdout",
     "output_type": "stream",
     "text": [
      "/home/hugh/secretCodes.txt\n",
      "C:\\Users\\hugho\\Documents\\MastersDataScience\\Programming In Python\\Module 2 - Reading Writing Cleaning Data\n",
      "file does not exist\n"
     ]
    }
   ],
   "source": [
    "import os\n",
    "import shutil\n",
    "\n",
    "#get os type name\n",
    "os.name\n",
    "\n",
    "filename = 'secretCodes.txt'\n",
    "print ( os.path.join('/home/hugh/', filename))\n",
    "\n",
    "\n",
    "# Get current working directory\n",
    "print(os.getcwd())\n",
    "\n",
    "if os.path.exists('demofile.text'):\n",
    "    os.remove('demofile.txt')\n",
    "else:\n",
    "    print('file does not exist')"
   ]
  },
  {
   "cell_type": "markdown",
   "metadata": {},
   "source": [
    "### Error Checking (2.18)"
   ]
  },
  {
   "cell_type": "code",
   "execution_count": 41,
   "metadata": {},
   "outputs": [
    {
     "name": "stdout",
     "output_type": "stream",
     "text": [
      "Error: temp - The system cannot find the path specified.\n"
     ]
    }
   ],
   "source": [
    "try:\n",
    "    shutil.rmtree('temp')\n",
    "except OSError as e:\n",
    "    print(\"Error: %s - %s.\" % (e.filename, e.strerror))"
   ]
  },
  {
   "cell_type": "markdown",
   "metadata": {},
   "source": [
    "### OS Final (2.19)"
   ]
  },
  {
   "cell_type": "code",
   "execution_count": 47,
   "metadata": {},
   "outputs": [
    {
     "name": "stdout",
     "output_type": "stream",
     "text": [
      "Current path is:  C:\\Users\\hugho\\Documents\\MastersDataScience\\Programming In Python\\Module 2 - Reading Writing Cleaning Data\n",
      "relative path is: Users\\hugho\\Documents\\MastersDataScience\\Programming In Python\n"
     ]
    },
    {
     "data": {
      "text/plain": [
       "4096"
      ]
     },
     "execution_count": 47,
     "metadata": {},
     "output_type": "execute_result"
    }
   ],
   "source": [
    "print(\"Current path is: \", os.getcwd())\n",
    "\n",
    "# ABSOLUTE PATH\n",
    "os.path.abspath('..')\n",
    "\n",
    "# RELATIVE PATH\n",
    "# 2nd arg = were to start from\n",
    "# in this  case the root directory\n",
    "cd = os.path.relpath('..', '/')\n",
    "print(\"relative path is:\", cd)\n",
    "\n",
    "# get size in bytes\n",
    "os.path.getsize(os.getcwd())"
   ]
  },
  {
   "cell_type": "code",
   "execution_count": 49,
   "metadata": {},
   "outputs": [
    {
     "data": {
      "text/plain": [
       "451"
      ]
     },
     "execution_count": 49,
     "metadata": {},
     "output_type": "execute_result"
    }
   ],
   "source": [
    "import sys\n",
    "thisfile = sys.argv[0]\n",
    "\n",
    "os.path.getsize(thisfile)"
   ]
  },
  {
   "cell_type": "code",
   "execution_count": 50,
   "metadata": {},
   "outputs": [
    {
     "name": "stdout",
     "output_type": "stream",
     "text": [
      "exam answers\n",
      "\n"
     ]
    }
   ],
   "source": [
    "f = open('data/answers.txt', 'r')\n",
    "answers = f.read()\n",
    "print(answers)\n",
    "f.close()"
   ]
  },
  {
   "cell_type": "code",
   "execution_count": 51,
   "metadata": {},
   "outputs": [
    {
     "ename": "SyntaxError",
     "evalue": "(unicode error) 'unicodeescape' codec can't decode bytes in position 2-3: truncated \\UXXXXXXXX escape (<ipython-input-51-55b61c485665>, line 1)",
     "output_type": "error",
     "traceback": [
      "\u001b[1;36m  File \u001b[1;32m\"<ipython-input-51-55b61c485665>\"\u001b[1;36m, line \u001b[1;32m1\u001b[0m\n\u001b[1;33m    os.chdir('C:\\Users\\hugho\\Documents\\MastersDataScience\\Programming In Python\\Module 2 - Reading Writing Cleaning Data')\u001b[0m\n\u001b[1;37m             ^\u001b[0m\n\u001b[1;31mSyntaxError\u001b[0m\u001b[1;31m:\u001b[0m (unicode error) 'unicodeescape' codec can't decode bytes in position 2-3: truncated \\UXXXXXXXX escape\n"
     ]
    }
   ],
   "source": [
    "os.chdir('C:\\Users\\hugho\\Documents\\MastersDataScience\\Programming In Python\\Module 2 - Reading Writing Cleaning Data')\n",
    "\n",
    "##error with \\U in \\Users path - https://s-nako.work/2020/06/errorunicodeescape-codec-cant-decode-bytes/ \n",
    "for root, firs, files in os.walk(\".\"):\n",
    "    for name in files: \n",
    "        print(os.path.join(root, name))\n",
    "    for name in dirs:\n",
    "        print(os.path.join(root, name))"
   ]
  }
 ],
 "metadata": {
  "kernelspec": {
   "display_name": "Python 3",
   "language": "python",
   "name": "python3"
  },
  "language_info": {
   "codemirror_mode": {
    "name": "ipython",
    "version": 3
   },
   "file_extension": ".py",
   "mimetype": "text/x-python",
   "name": "python",
   "nbconvert_exporter": "python",
   "pygments_lexer": "ipython3",
   "version": "3.8.5"
  }
 },
 "nbformat": 4,
 "nbformat_minor": 4
}
