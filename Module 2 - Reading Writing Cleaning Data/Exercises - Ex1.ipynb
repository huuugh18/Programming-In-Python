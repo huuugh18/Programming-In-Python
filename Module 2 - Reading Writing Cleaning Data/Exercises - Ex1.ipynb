{
 "cells": [
  {
   "cell_type": "markdown",
   "metadata": {},
   "source": [
    "#### Find yourself a data file from an open data repository. \n",
    "#### Select an interesting table of data and convert it into a CSV if necessary. \n",
    "#### Then load it into a Python program and examine the data that comes in. \n",
    "#### Can you do some basic statistics on it with numpy?"
   ]
  },
  {
   "cell_type": "code",
   "execution_count": 2,
   "metadata": {},
   "outputs": [
    {
     "name": "stdout",
     "output_type": "stream",
     "text": [
      "['4111.5', '4212.4', '3135.7', '4578.4', '3909.1', '3180.9']\n"
     ]
    }
   ],
   "source": [
    "import csv\n",
    "with open('Data/COVID-19_cases__per_100_000_population__in_Alberta_and_by_zone.csv') as csvfile:\n",
    "    reader = csv.reader(csvfile, delimiter=',')\n",
    "    list = []\n",
    "    for column in reader:\n",
    "        list.append(column[1])\n",
    "\n",
    "list = list[1:]\n",
    "\n",
    "print(list)\n",
    "    "
   ]
  },
  {
   "cell_type": "markdown",
   "metadata": {},
   "source": [
    "Data Source\n",
    "\n",
    "[https://data.edmonton.ca/Community-Services/COVID-19-in-Alberta-Current-cases-by-local-geograp/ix8f-s9xp](https://data.edmonton.ca/Community-Services/COVID-19-in-Alberta-Current-cases-by-local-geograp/ix8f-s9xp)\n",
    "\n",
    "\n",
    "This data is from the province of Alberta in Canada describing the current COVID-19 cases by local geographic area.\n",
    "\n"
   ]
  },
  {
   "cell_type": "code",
   "execution_count": 18,
   "metadata": {},
   "outputs": [
    {
     "name": "stdout",
     "output_type": "stream",
     "text": [
      "Max Active Cases: \n",
      " Fort Mcmurray\n",
      "Min Active Cases: \n",
      " Viking (Beaver County East)\n",
      "Max Total Cases: \n",
      " Calgary - Upper Ne\n",
      "Min Total Cases: \n",
      " Swan Hills (South Big Lakes County)\n"
     ]
    },
    {
     "data": {
      "text/html": [
       "<div>\n",
       "<style scoped>\n",
       "    .dataframe tbody tr th:only-of-type {\n",
       "        vertical-align: middle;\n",
       "    }\n",
       "\n",
       "    .dataframe tbody tr th {\n",
       "        vertical-align: top;\n",
       "    }\n",
       "\n",
       "    .dataframe thead th {\n",
       "        text-align: right;\n",
       "    }\n",
       "</style>\n",
       "<table border=\"1\" class=\"dataframe\">\n",
       "  <thead>\n",
       "    <tr style=\"text-align: right;\">\n",
       "      <th></th>\n",
       "      <th>Total Cases</th>\n",
       "      <th>Active Cases</th>\n",
       "      <th>Recovered Cases</th>\n",
       "      <th>Deaths</th>\n",
       "    </tr>\n",
       "  </thead>\n",
       "  <tbody>\n",
       "    <tr>\n",
       "      <th>count</th>\n",
       "      <td>131.000000</td>\n",
       "      <td>131.000000</td>\n",
       "      <td>131.000000</td>\n",
       "      <td>131.000000</td>\n",
       "    </tr>\n",
       "    <tr>\n",
       "      <th>mean</th>\n",
       "      <td>1309.480916</td>\n",
       "      <td>138.847328</td>\n",
       "      <td>1155.183206</td>\n",
       "      <td>15.450382</td>\n",
       "    </tr>\n",
       "    <tr>\n",
       "      <th>std</th>\n",
       "      <td>1679.773063</td>\n",
       "      <td>167.855087</td>\n",
       "      <td>1524.566182</td>\n",
       "      <td>24.683602</td>\n",
       "    </tr>\n",
       "    <tr>\n",
       "      <th>min</th>\n",
       "      <td>9.000000</td>\n",
       "      <td>0.000000</td>\n",
       "      <td>9.000000</td>\n",
       "      <td>0.000000</td>\n",
       "    </tr>\n",
       "    <tr>\n",
       "      <th>25%</th>\n",
       "      <td>189.500000</td>\n",
       "      <td>23.000000</td>\n",
       "      <td>160.000000</td>\n",
       "      <td>1.000000</td>\n",
       "    </tr>\n",
       "    <tr>\n",
       "      <th>50%</th>\n",
       "      <td>609.000000</td>\n",
       "      <td>76.000000</td>\n",
       "      <td>513.000000</td>\n",
       "      <td>6.000000</td>\n",
       "    </tr>\n",
       "    <tr>\n",
       "      <th>75%</th>\n",
       "      <td>1623.500000</td>\n",
       "      <td>204.500000</td>\n",
       "      <td>1459.500000</td>\n",
       "      <td>17.500000</td>\n",
       "    </tr>\n",
       "    <tr>\n",
       "      <th>max</th>\n",
       "      <td>11261.000000</td>\n",
       "      <td>833.000000</td>\n",
       "      <td>10410.000000</td>\n",
       "      <td>133.000000</td>\n",
       "    </tr>\n",
       "  </tbody>\n",
       "</table>\n",
       "</div>"
      ],
      "text/plain": [
       "        Total Cases  Active Cases  Recovered Cases      Deaths\n",
       "count    131.000000    131.000000       131.000000  131.000000\n",
       "mean    1309.480916    138.847328      1155.183206   15.450382\n",
       "std     1679.773063    167.855087      1524.566182   24.683602\n",
       "min        9.000000      0.000000         9.000000    0.000000\n",
       "25%      189.500000     23.000000       160.000000    1.000000\n",
       "50%      609.000000     76.000000       513.000000    6.000000\n",
       "75%     1623.500000    204.500000      1459.500000   17.500000\n",
       "max    11261.000000    833.000000     10410.000000  133.000000"
      ]
     },
     "execution_count": 18,
     "metadata": {},
     "output_type": "execute_result"
    }
   ],
   "source": [
    "import pandas as pd\n",
    "# df = pd.read_csv('Data/COVID-19_cases__per_100_000_population__in_Alberta_and_by_zone.csv')\n",
    "df = pd.read_csv('Data/COVID-19_in_Alberta__Current_cases_by_local_geographic_area.csv')\n",
    "\n",
    "#get max and min active cases\n",
    "max_active = df.loc[df['Active Cases'].idxmax()]['Location']\n",
    "min_active = df.loc[df['Active Cases'].idxmin()]['Location']\n",
    "\n",
    "print('Max Active Cases: \\n', max_active)\n",
    "print('Min Active Cases: \\n', min_active)\n",
    "\n",
    "#get max and min total cases\n",
    "max_total = df.loc[df['Total Cases'].idxmax()]['Location']\n",
    "min_total = df.loc[df['Total Cases'].idxmin()]['Location']\n",
    "\n",
    "print('Max Total Cases: \\n', max_total)\n",
    "print('Min Total Cases: \\n', min_total)\n",
    "\n",
    "df.describe()\n",
    "\n"
   ]
  },
  {
   "cell_type": "markdown",
   "metadata": {},
   "source": [
    "The average amount of **Active Cases** in each region is 139 with a standard deviation of 167.\n",
    "The max active cases is 833 in Fort Mcmurray and the min is 0. in Viking. Being 0 there is a possibility there are other areas that also have 0.\n",
    "\n",
    "The average amount of **Total Cases** in each region is 1309 with a standard deviation of 1680.\n",
    "The max total cases is 11261 in Calgary Upper NE and min is 9 in Swan Hills.\n",
    "\n",
    "\n"
   ]
  }
 ],
 "metadata": {
  "kernelspec": {
   "display_name": "Python 3",
   "language": "python",
   "name": "python3"
  },
  "language_info": {
   "codemirror_mode": {
    "name": "ipython",
    "version": 3
   },
   "file_extension": ".py",
   "mimetype": "text/x-python",
   "name": "python",
   "nbconvert_exporter": "python",
   "pygments_lexer": "ipython3",
   "version": "3.8.5"
  }
 },
 "nbformat": 4,
 "nbformat_minor": 4
}
