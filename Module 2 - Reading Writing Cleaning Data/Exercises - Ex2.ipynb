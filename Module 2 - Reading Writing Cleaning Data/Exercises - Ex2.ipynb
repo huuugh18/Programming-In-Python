{
 "cells": [
  {
   "cell_type": "markdown",
   "metadata": {},
   "source": [
    "#### Write a program that works out which of the local authorities has the **most polluted educational institution** \n",
    "#### and which has the **least polluted** educational institution. \n",
    "#### You can find a sample dataset here or use a different dataset if you wish."
   ]
  },
  {
   "cell_type": "code",
   "execution_count": 43,
   "metadata": {},
   "outputs": [
    {
     "name": "stdout",
     "output_type": "stream",
     "text": [
      "\u001b[1m Most Polluted Institution:\u001b[0m \n",
      "\n",
      "Courtauld Institute of Art in the Local Authoritiy:  Tower Hamlets  -  73.1  NO2ug/m3 \n",
      "\n",
      "\u001b[1m Least Polluted Institution:\u001b[0m \n",
      "\n",
      "Dycorts School in the Local Authoritiy:  Havering  -  22.4  NO2ug/m3 \n",
      "\n"
     ]
    }
   ],
   "source": [
    "import pandas as pd\n",
    "import numpy as np\n",
    "\n",
    "# read in data\n",
    "data = pd.read_csv('Data/no2_schools.csv', index_col=0)\n",
    "df = pd.DataFrame(data)\n",
    "\n",
    "#set var name for NO2 emmisions\n",
    "no2_var = 'NO2ug/m3 mean 2013'\n",
    "\n",
    "# define funcs to get max and min of a column\n",
    "def find_col_max(df, col_name):\n",
    "    return df.loc[df[col_name].idxmax()]\n",
    "\n",
    "def find_col_min(df, col_name):\n",
    "    return df.loc[df[col_name].idxmin()]\n",
    "\n",
    "#define func to print results\n",
    "def print_result(most_or_least, row):\n",
    "    # get local authority / establishment / pollution\n",
    "    local_auth = row['Local Authority name']\n",
    "    estab = row['Establisment name']\n",
    "    pollution = row[no2_var]\n",
    "    \n",
    "    # print results\n",
    "    print('\\033[1m', most_or_least, 'Polluted Institution:\\033[0m \\n')\n",
    "    print(estab, 'in the Local Authoritiy: ',local_auth, ' - ', pollution, ' NO2ug/m3 \\n')\n",
    "\n",
    "print_result('Most', find_col_max(df, no2))\n",
    "print_result('Least', find_col_min(df, no2))\n"
   ]
  },
  {
   "cell_type": "markdown",
   "metadata": {},
   "source": [
    "These results were verified by looking at the data set in a sortable spreadsheet."
   ]
  }
 ],
 "metadata": {
  "kernelspec": {
   "display_name": "Python 3",
   "language": "python",
   "name": "python3"
  },
  "language_info": {
   "codemirror_mode": {
    "name": "ipython",
    "version": 3
   },
   "file_extension": ".py",
   "mimetype": "text/x-python",
   "name": "python",
   "nbconvert_exporter": "python",
   "pygments_lexer": "ipython3",
   "version": "3.8.5"
  }
 },
 "nbformat": 4,
 "nbformat_minor": 4
}
